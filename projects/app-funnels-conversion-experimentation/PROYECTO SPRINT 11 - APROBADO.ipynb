{
 "cells": [
  {
   "cell_type": "markdown",
   "metadata": {},
   "source": [
    "Hola **Duver**!\n",
    "\n",
    "Soy **Patricio Requena** 👋. Es un placer ser el revisor de tu proyecto el día de hoy!\n",
    "\n",
    "Revisaré tu proyecto detenidamente con el objetivo de ayudarte a mejorar y perfeccionar tus habilidades. Durante mi revisión, identificaré áreas donde puedas hacer mejoras en tu código, señalando específicamente qué y cómo podrías ajustar para optimizar el rendimiento y la claridad de tu proyecto. Además, es importante para mí destacar los aspectos que has manejado excepcionalmente bien. Reconocer tus fortalezas te ayudará a entender qué técnicas y métodos están funcionando a tu favor y cómo puedes aplicarlos en futuras tareas. \n",
    "\n",
    "_**Recuerda que al final de este notebook encontrarás un comentario general de mi parte**_, empecemos!\n",
    "\n",
    "Encontrarás mis comentarios dentro de cajas verdes, amarillas o rojas, ⚠️ **por favor, no muevas, modifiques o borres mis comentarios** ⚠️:\n",
    "\n",
    "\n",
    "<div class=\"alert alert-block alert-success\">\n",
    "<b>Comentario del revisor</b> <a class=“tocSkip”></a>\n",
    "Si todo está perfecto.\n",
    "</div>\n",
    "\n",
    "<div class=\"alert alert-block alert-warning\">\n",
    "<b>Comentario del revisor</b> <a class=“tocSkip”></a>\n",
    "Si tu código está bien pero se puede mejorar o hay algún detalle que le hace falta.\n",
    "</div>\n",
    "\n",
    "<div class=\"alert alert-block alert-danger\">\n",
    "<b>Comentario del revisor</b> <a class=“tocSkip”></a>\n",
    "Si de pronto hace falta algo o existe algún problema con tu código o conclusiones.\n",
    "</div>\n",
    "\n",
    "Puedes responderme de esta forma:\n",
    "<div class=\"alert alert-block alert-info\">\n",
    "<b>Respuesta del estudiante</b> <a class=“tocSkip”></a>\n",
    "</div>"
   ]
  },
  {
   "cell_type": "markdown",
   "metadata": {},
   "source": [
    "<center>\n",
    "    <h1>PROYECTO SPRINT 11</h1>\n",
    "</center>"
   ]
  },
  {
   "cell_type": "markdown",
   "metadata": {},
   "source": [
    "# DESCRIPCIÓN"
   ]
  },
  {
   "cell_type": "markdown",
   "metadata": {},
   "source": [
    "Se trata de en una empresa emergente que vende productos alimenticios. Debes investigar el comportamiento del usuario para la aplicación de la empresa.\n",
    "\n",
    "Primero, estudia el embudo de ventas. Descubre cómo los usuarios llegan a la etapa de compra. ¿Cuántos usuarios realmente llegan a esta etapa? ¿Cuántos se atascan en etapas anteriores? ¿Qué etapas en particular?\n",
    "\n",
    "Luego, observa los resultados de un test A/A/B (sigue leyendo para obtener más información sobre los test A/A/B). Al equipo de diseño le gustaría cambiar las fuentes de toda la aplicación, pero la gerencia teme que los usuarios piensen que el nuevo diseño es intimidante. Por ello, deciden tomar una decisión basada en los resultados de un test A/A/B.\n",
    "\n",
    "Los usuarios se dividen en tres grupos: dos grupos de control obtienen las fuentes antiguas y un grupo de prueba obtiene las nuevas. Descubre qué conjunto de fuentes produce mejores resultados.\n",
    "\n",
    "Crear dos grupos A tiene ciertas ventajas. Podemos establecer el principio de que solo confiaremos en la exactitud de nuestras pruebas cuando los dos grupos de control sean similares. Si hay diferencias significativas entre los grupos A, esto puede ayudarnos a descubrir factores que pueden estar distorsionando los resultados. La comparación de grupos de control también nos dice cuánto tiempo y datos necesitaremos cuando realicemos más tests.\n",
    "\n",
    "Utilizarás el mismo dataset para el análisis general y para el análisis A/A/B. En proyectos reales, los experimentos se llevan a cabo constantemente. El equipo de análisis estudia la calidad de una aplicación utilizando datos generales, sin prestar atención a si los usuarios participan en experimentos.\n",
    "Descripción de los datos\n",
    "\n",
    "Cada entrada de registro es una acción de usuario o un evento.\n",
    "\n",
    "    EventName: nombre del evento.\n",
    "    DeviceIDHash: identificador de usuario unívoco.\n",
    "    EventTimestamp: hora del evento.\n",
    "    ExpId: número de experimento. 246 y 247 son los grupos de control, y 248 es el grupo de prueba."
   ]
  },
  {
   "cell_type": "markdown",
   "metadata": {},
   "source": [
    "# OBJETIVOS"
   ]
  },
  {
   "cell_type": "markdown",
   "metadata": {},
   "source": [
    "Comprender el flujo de usuarios a través de la aplicación de la empresa de venta de productos alimenticios, identificando las etapas de mayor abandono y la proporción de usuarios que completan el proceso de compra.\n",
    "\n",
    "Evaluar el impacto de un cambio de fuentes en la aplicación sobre el comportamiento del usuario, comparando un grupo de prueba con dos grupos de control para determinar qué diseño de fuente produce mejores resultados, y validar la correcta división de los grupos experimentales."
   ]
  },
  {
   "cell_type": "markdown",
   "metadata": {},
   "source": [
    "# Paso 1: Abrir el archivo de datos y leer la información general."
   ]
  },
  {
   "cell_type": "code",
   "execution_count": 1,
   "metadata": {},
   "outputs": [
    {
     "name": "stdout",
     "output_type": "stream",
     "text": [
      "\n",
      "Primeras 5 filas del DataFrame:\n",
      "      EventName\\tDeviceIDHash\\tEventTimestamp\\tExpId\n",
      "0  MainScreenAppear\\t4575588528974610257\\t1564029...\n",
      "1  MainScreenAppear\\t7416695313311560658\\t1564053...\n",
      "2  PaymentScreenSuccessful\\t3518123091307005509\\t...\n",
      "3  CartScreenAppear\\t3518123091307005509\\t1564054...\n",
      "4  PaymentScreenSuccessful\\t6217807653094995999\\t...\n",
      "\n",
      "Información general del DataFrame:\n",
      "<class 'pandas.core.frame.DataFrame'>\n",
      "RangeIndex: 244126 entries, 0 to 244125\n",
      "Data columns (total 1 columns):\n",
      " #   Column                                       Non-Null Count   Dtype \n",
      "---  ------                                       --------------   ----- \n",
      " 0   EventName\tDeviceIDHash\tEventTimestamp\tExpId  244126 non-null  object\n",
      "dtypes: object(1)\n",
      "memory usage: 1.9+ MB\n",
      "\n",
      "Estadísticas descriptivas del DataFrame:\n",
      "           EventName\\tDeviceIDHash\\tEventTimestamp\\tExpId\n",
      "count                                              244126\n",
      "unique                                             243713\n",
      "top     PaymentScreenSuccessful\\t636437379427729086\\t1...\n",
      "freq                                                    5\n"
     ]
    }
   ],
   "source": [
    "import pandas as pd\n",
    "import matplotlib.pyplot as plt\n",
    "import seaborn as sns\n",
    "from scipy import stats as st\n",
    "import numpy as np\n",
    "import math as mth \n",
    "\n",
    "# Paso 1. Abrir el archivo de datos y leer la información general\n",
    "\n",
    "df = pd.read_csv('/datasets/logs_exp_us.csv')\n",
    "\n",
    "# Mostrar las primeras 5 filas del DataFrame\n",
    "print(\"\\nPrimeras 5 filas del DataFrame:\")\n",
    "print(df.head())\n",
    "\n",
    "# Mostrar la información general del DataFrame (tipos de datos, valores no nulos)\n",
    "print(\"\\nInformación general del DataFrame:\")\n",
    "df.info()\n",
    "\n",
    "# Mostrar estadísticas descriptivas de las columnas numéricas\n",
    "print(\"\\nEstadísticas descriptivas del DataFrame:\")\n",
    "print(df.describe())"
   ]
  },
  {
   "cell_type": "markdown",
   "metadata": {},
   "source": [
    "**OBSERVACIÓN:**\n",
    "\n",
    "Necesitamos especificar que el delimitador es una tabulación (\\t) al leer el CSV."
   ]
  },
  {
   "cell_type": "code",
   "execution_count": 2,
   "metadata": {},
   "outputs": [
    {
     "name": "stdout",
     "output_type": "stream",
     "text": [
      "\n",
      "Primeras 5 filas del DataFrame:\n",
      "                 EventName         DeviceIDHash  EventTimestamp  ExpId\n",
      "0         MainScreenAppear  4575588528974610257      1564029816    246\n",
      "1         MainScreenAppear  7416695313311560658      1564053102    246\n",
      "2  PaymentScreenSuccessful  3518123091307005509      1564054127    248\n",
      "3         CartScreenAppear  3518123091307005509      1564054127    248\n",
      "4  PaymentScreenSuccessful  6217807653094995999      1564055322    248\n",
      "\n",
      "Información general del DataFrame:\n",
      "<class 'pandas.core.frame.DataFrame'>\n",
      "RangeIndex: 244126 entries, 0 to 244125\n",
      "Data columns (total 4 columns):\n",
      " #   Column          Non-Null Count   Dtype \n",
      "---  ------          --------------   ----- \n",
      " 0   EventName       244126 non-null  object\n",
      " 1   DeviceIDHash    244126 non-null  int64 \n",
      " 2   EventTimestamp  244126 non-null  int64 \n",
      " 3   ExpId           244126 non-null  int64 \n",
      "dtypes: int64(3), object(1)\n",
      "memory usage: 7.5+ MB\n",
      "\n",
      "Estadísticas descriptivas del DataFrame:\n",
      "       DeviceIDHash  EventTimestamp          ExpId\n",
      "count  2.441260e+05    2.441260e+05  244126.000000\n",
      "mean   4.627568e+18    1.564914e+09     247.022296\n",
      "std    2.642425e+18    1.771343e+05       0.824434\n",
      "min    6.888747e+15    1.564030e+09     246.000000\n",
      "25%    2.372212e+18    1.564757e+09     246.000000\n",
      "50%    4.623192e+18    1.564919e+09     247.000000\n",
      "75%    6.932517e+18    1.565075e+09     248.000000\n",
      "max    9.222603e+18    1.565213e+09     248.000000\n"
     ]
    }
   ],
   "source": [
    "# Especificamos el delimitador como una tabulación ('\\t')\n",
    "df = pd.read_csv('/datasets/logs_exp_us.csv', sep='\\t')\n",
    "   \n",
    "# Mostrar las primeras 5 filas del DataFrame para verificar\n",
    "print(\"\\nPrimeras 5 filas del DataFrame:\")\n",
    "print(df.head())\n",
    "\n",
    "# Mostrar la información general del DataFrame para verificar tipos de datos\n",
    "print(\"\\nInformación general del DataFrame:\")\n",
    "df.info()\n",
    "\n",
    "# Mostrar estadísticas descriptivas del DataFrame\n",
    "print(\"\\nEstadísticas descriptivas del DataFrame:\")\n",
    "print(df.describe())"
   ]
  },
  {
   "cell_type": "markdown",
   "metadata": {},
   "source": [
    "# Paso 2. Preparar los datos para el análisis"
   ]
  },
  {
   "cell_type": "markdown",
   "metadata": {},
   "source": [
    "Ahora que los datos están cargados correctamente, vamos a realizar las preparaciones necesarias:\n",
    "\n",
    "- Cambiar el nombre de las columnas para que sean más fáciles de usar.\n",
    "\n",
    "- Comprobar y corregir los tipos de datos (especialmente la columna de tiempo).\n",
    "\n",
    "- Agregar columnas de fecha y hora útiles para el análisis."
   ]
  },
  {
   "cell_type": "code",
   "execution_count": 3,
   "metadata": {},
   "outputs": [
    {
     "name": "stdout",
     "output_type": "stream",
     "text": [
      "\n",
      "Columnas renombradas:\n",
      "                event_name            device_id   timestamp  exp_id\n",
      "0         MainScreenAppear  4575588528974610257  1564029816     246\n",
      "1         MainScreenAppear  7416695313311560658  1564053102     246\n",
      "2  PaymentScreenSuccessful  3518123091307005509  1564054127     248\n",
      "3         CartScreenAppear  3518123091307005509  1564054127     248\n",
      "4  PaymentScreenSuccessful  6217807653094995999  1564055322     248\n",
      "\n",
      "Verificación de valores nulos antes de la conversión:\n",
      "event_name    0\n",
      "device_id     0\n",
      "timestamp     0\n",
      "exp_id        0\n",
      "dtype: int64\n",
      "\n",
      "Información del DataFrame después de la preparación de datos:\n",
      "<class 'pandas.core.frame.DataFrame'>\n",
      "RangeIndex: 244126 entries, 0 to 244125\n",
      "Data columns (total 6 columns):\n",
      " #   Column          Non-Null Count   Dtype         \n",
      "---  ------          --------------   -----         \n",
      " 0   event_name      244126 non-null  object        \n",
      " 1   device_id       244126 non-null  int64         \n",
      " 2   timestamp       244126 non-null  int64         \n",
      " 3   exp_id          244126 non-null  int64         \n",
      " 4   event_datetime  244126 non-null  datetime64[ns]\n",
      " 5   event_date      244126 non-null  object        \n",
      "dtypes: datetime64[ns](1), int64(3), object(2)\n",
      "memory usage: 11.2+ MB\n",
      "\n",
      "Primeras 5 filas con las nuevas columnas 'event_datetime' y 'event_date':\n",
      "                event_name            device_id   timestamp  exp_id  \\\n",
      "0         MainScreenAppear  4575588528974610257  1564029816     246   \n",
      "1         MainScreenAppear  7416695313311560658  1564053102     246   \n",
      "2  PaymentScreenSuccessful  3518123091307005509  1564054127     248   \n",
      "3         CartScreenAppear  3518123091307005509  1564054127     248   \n",
      "4  PaymentScreenSuccessful  6217807653094995999  1564055322     248   \n",
      "\n",
      "       event_datetime  event_date  \n",
      "0 2019-07-25 04:43:36  2019-07-25  \n",
      "1 2019-07-25 11:11:42  2019-07-25  \n",
      "2 2019-07-25 11:28:47  2019-07-25  \n",
      "3 2019-07-25 11:28:47  2019-07-25  \n",
      "4 2019-07-25 11:48:42  2019-07-25  \n"
     ]
    }
   ],
   "source": [
    "# Renombrar las columnas\n",
    "df.columns = ['event_name', 'device_id', 'timestamp', 'exp_id']\n",
    "print(\"\\nColumnas renombradas:\")\n",
    "print(df.head())\n",
    "\n",
    "# Comprobar los tipos de datos y valores ausentes\n",
    "print(\"\\nVerificación de valores nulos antes de la conversión:\")\n",
    "print(df.isnull().sum())\n",
    "\n",
    "# Convertir 'timestamp' a formato datetime\n",
    "df['event_datetime'] = pd.to_datetime(df['timestamp'], unit='s')\n",
    "\n",
    "# Crear una columna separada para las fechas (sin la hora)\n",
    "df['event_date'] = df['event_datetime'].dt.date\n",
    "\n",
    "# Comprobar los tipos de datos después de la conversión\n",
    "print(\"\\nInformación del DataFrame después de la preparación de datos:\")\n",
    "df.info()\n",
    "\n",
    "# Mostrar las primeras filas con las nuevas columnas\n",
    "print(\"\\nPrimeras 5 filas con las nuevas columnas 'event_datetime' y 'event_date':\")\n",
    "print(df.head())"
   ]
  },
  {
   "cell_type": "markdown",
   "metadata": {},
   "source": [
    "<div class=\"alert alert-block alert-success\">\n",
    "<b>Comentario del revisor (1ra Iteracion)</b> <a class=“tocSkip”></a>\n",
    "\n",
    "Muy bien hecha la revisión inicial de los datos para tu análisis, siempre es importante revisar la calidad de tus datos y realizar las transformaciones necesarias \n",
    "</div>"
   ]
  },
  {
   "cell_type": "markdown",
   "metadata": {},
   "source": [
    "# Paso 3. Estudiar y comprobar los datos"
   ]
  },
  {
   "cell_type": "markdown",
   "metadata": {},
   "source": [
    "**¿Cuántos eventos hay en los registros?**"
   ]
  },
  {
   "cell_type": "code",
   "execution_count": 4,
   "metadata": {},
   "outputs": [
    {
     "name": "stdout",
     "output_type": "stream",
     "text": [
      "Total de eventos en los registros: 244126\n"
     ]
    }
   ],
   "source": [
    "total_events = df.shape[0]\n",
    "print(f\"Total de eventos en los registros: {total_events}\")"
   ]
  },
  {
   "cell_type": "markdown",
   "metadata": {},
   "source": [
    "**¿Cuántos usuarios hay en los registros?**"
   ]
  },
  {
   "cell_type": "code",
   "execution_count": 5,
   "metadata": {},
   "outputs": [
    {
     "name": "stdout",
     "output_type": "stream",
     "text": [
      "Total de usuarios únicos en los registros: 7551\n"
     ]
    }
   ],
   "source": [
    "total_users = df['device_id'].nunique()\n",
    "print(f\"Total de usuarios únicos en los registros: {total_users}\")"
   ]
  },
  {
   "cell_type": "markdown",
   "metadata": {},
   "source": [
    "**¿Cuál es el promedio de eventos por usuario?**"
   ]
  },
  {
   "cell_type": "code",
   "execution_count": 6,
   "metadata": {},
   "outputs": [
    {
     "name": "stdout",
     "output_type": "stream",
     "text": [
      "Promedio de eventos por usuario: 32.33\n"
     ]
    }
   ],
   "source": [
    "avg_events_per_user = total_events / total_users\n",
    "print(f\"Promedio de eventos por usuario: {avg_events_per_user:.2f}\")"
   ]
  },
  {
   "cell_type": "markdown",
   "metadata": {},
   "source": [
    "**¿Qué periodo de tiempo cubren los datos? Encuentra la fecha máxima y mínima. Traza un histograma por fecha y hora. ¿Puedes tener seguridad de que tienes datos igualmente completos para todo el periodo? Los eventos más antiguos podrían terminar en los registros de algunos usuarios por razones técnicas y esto podría sesgar el panorama general. Encuentra el momento en el que los datos comienzan a estar completos e ignora la sección anterior. ¿Qué periodo representan realmente los datos?**"
   ]
  },
  {
   "cell_type": "code",
   "execution_count": 7,
   "metadata": {},
   "outputs": [
    {
     "name": "stdout",
     "output_type": "stream",
     "text": [
      "\n",
      "Periodo de tiempo cubierto por los datos:\n",
      "Fecha y hora mínima: 2019-07-25 04:43:36\n",
      "Fecha y hora máxima: 2019-08-07 21:15:17\n",
      "\n",
      "Conteo de eventos por día (primeros 5 y últimos 5):\n",
      "event_date\n",
      "2019-07-25      9\n",
      "2019-07-26     31\n",
      "2019-07-27     55\n",
      "2019-07-28    105\n",
      "2019-07-29    184\n",
      "dtype: int64\n",
      "...\n",
      "event_date\n",
      "2019-08-03    33351\n",
      "2019-08-04    33033\n",
      "2019-08-05    36113\n",
      "2019-08-06    35822\n",
      "2019-08-07    31144\n",
      "dtype: int64\n"
     ]
    },
    {
     "data": {
      "image/png": "[encoded data removed]",
      "text/plain": [
       "<Figure size 1200x600 with 1 Axes>"
      ]
     },
     "metadata": {},
     "output_type": "display_data"
    }
   ],
   "source": [
    "\n",
    "# ... (código previo) ...\n",
    "\n",
    "# ¿Qué periodo de tiempo cubren los datos?\n",
    "min_date = df['event_datetime'].min()\n",
    "max_date = df['event_datetime'].max()\n",
    "print(f\"\\nPeriodo de tiempo cubierto por los datos:\")\n",
    "print(f\"Fecha y hora mínima: {min_date}\")\n",
    "print(f\"Fecha y hora máxima: {max_date}\")\n",
    "\n",
    "# Hago una inspección más detallada de los datos por día\n",
    "events_per_date = df.groupby('event_date').size()\n",
    "print(\"\\nConteo de eventos por día (primeros 5 y últimos 5):\")\n",
    "print(events_per_date.head())\n",
    "print(\"...\")\n",
    "print(events_per_date.tail())\n",
    "\n",
    "# Trazar un histograma/gráfico de barras por fecha\n",
    "plt.figure(figsize=(12, 6))\n",
    "# Aquí se agrega la línea para plotear los datos\n",
    "events_per_date.plot(kind='bar', width=1.0) # Usamos kind='bar' con width=1.0 para que parezca un histograma de días\n",
    "plt.title('Distribución de Eventos a lo largo del Tiempo')\n",
    "plt.xlabel('Fecha y Hora')\n",
    "plt.ylabel('Número de Eventos')\n",
    "plt.grid(True)\n",
    "plt.xticks(rotation=45) # Para mejor legibilidad de las fechas\n",
    "plt.tight_layout()\n",
    "plt.show()\n"
   ]
  },
  {
   "cell_type": "markdown",
   "metadata": {},
   "source": [
    "**ANÁLISIS**\n",
    "\n",
    "Periodo Total: Los datos cubren desde el 2019-07-25 04:43:36 hasta el 2019-08-07 21:15:17.\n",
    "\n",
    "Datos Incompletos al Inicio: El histograma muestra claramente que hay un volumen de eventos muy bajo desde el 25 de julio hasta, aproximadamente, el 31 de julio. Los conteos diarios confirman esto: 9, 31, 55, 105, 184 eventos por día en los primeros días, lo cual es insignificante comparado con los miles de eventos diarios a partir de agosto.\n",
    "\n",
    "Datos Completos: A partir del 1 de agosto de 2019, el volumen de eventos aumenta drásticamente y se mantiene en un nivel mucho más alto y consistente (más de 30,000 eventos por día), lo que sugiere que es a partir de esta fecha que la recolección de datos es completa y confiable. Los picos semanales que se ven son normales y corresponden a días de mayor actividad.\n",
    "\n",
    "**Conclusión: los datos están completos y son representativos a partir del 1 de agosto de 2019. Ignoraremos los datos anteriores a esa fecha para evitar sesgos en el análisis**."
   ]
  },
  {
   "cell_type": "code",
   "execution_count": 8,
   "metadata": {},
   "outputs": [
    {
     "name": "stdout",
     "output_type": "stream",
     "text": [
      "\n",
      "Fecha de inicio para datos completos establecida en: 2019-08-01\n",
      "Datos filtrados comienzan desde: 2019-08-01 00:07:28\n",
      "Datos filtrados terminan en: 2019-08-07 21:15:17\n",
      "Periodo real de datos analizados: 2019-08-01 a 2019-08-07\n"
     ]
    }
   ],
   "source": [
    "# Defino la fecha de inicio para los datos \"completos\" basado en el histograma\n",
    "start_complete_data_date = pd.to_datetime('2019-08-01').date()\n",
    "\n",
    "# Filtro el DataFrame para incluir solo los datos a partir de la fecha identificada\n",
    "df_filtered = df[df['event_date'] >= start_complete_data_date].copy()\n",
    "\n",
    "print(f\"\\nFecha de inicio para datos completos establecida en: {start_complete_data_date}\")\n",
    "print(f\"Datos filtrados comienzan desde: {df_filtered['event_datetime'].min()}\")\n",
    "print(f\"Datos filtrados terminan en: {df_filtered['event_datetime'].max()}\")\n",
    "print(f\"Periodo real de datos analizados: {df_filtered['event_date'].min()} a {df_filtered['event_date'].max()}\")\n"
   ]
  },
  {
   "cell_type": "markdown",
   "metadata": {},
   "source": [
    "<div class=\"alert alert-block alert-success\">\n",
    "<b>Comentario del revisor (1ra Iteracion)</b> <a class=“tocSkip”></a>\n",
    "\n",
    "Correcto, con el filtro aplicado te aseguras que tienes datos consistentes para el análisis y así evitas ruido en las diferentes métricas\n",
    "</div>"
   ]
  },
  {
   "cell_type": "markdown",
   "metadata": {},
   "source": [
    "**¿Perdiste muchos eventos y usuarios al excluir los datos más antiguos?**"
   ]
  },
  {
   "cell_type": "code",
   "execution_count": 9,
   "metadata": {},
   "outputs": [
    {
     "name": "stdout",
     "output_type": "stream",
     "text": [
      "\n",
      "Eventos perdidos al excluir datos antiguos: 2828 (1.16%)\n",
      "Usuarios perdidos al excluir datos antiguos: 17 (0.23%)\n"
     ]
    }
   ],
   "source": [
    "\n",
    "# 6. ¿Perdiste muchos eventos y usuarios al excluir los datos más antiguos?\n",
    "events_lost = df.shape[0] - df_filtered.shape[0]\n",
    "users_lost = df['device_id'].nunique() - df_filtered['device_id'].nunique()\n",
    "\n",
    "print(f\"\\nEventos perdidos al excluir datos antiguos: {events_lost} ({events_lost / df.shape[0]:.2%})\")\n",
    "print(f\"Usuarios perdidos al excluir datos antiguos: {users_lost} ({users_lost / df['device_id'].nunique():.2%})\")\n"
   ]
  },
  {
   "cell_type": "markdown",
   "metadata": {},
   "source": [
    "**Asegúrate de tener usuarios de los tres grupos experimentales.**"
   ]
  },
  {
   "cell_type": "code",
   "execution_count": 10,
   "metadata": {},
   "outputs": [
    {
     "name": "stdout",
     "output_type": "stream",
     "text": [
      "\n",
      "Conteo de usuarios por grupo experimental (después del filtrado):\n",
      "exp_id\n",
      "246    2484\n",
      "247    2513\n",
      "248    2537\n",
      "Name: device_id, dtype: int64\n",
      "¡Confirmado! Se encontraron usuarios de los tres grupos experimentales (246, 247, 248) en los datos filtrados.\n"
     ]
    }
   ],
   "source": [
    "print(\"\\nConteo de usuarios por grupo experimental (después del filtrado):\")\n",
    "users_per_exp_group_filtered = df_filtered.groupby('exp_id')['device_id'].nunique()\n",
    "print(users_per_exp_group_filtered)\n",
    "\n",
    "if set(users_per_exp_group_filtered.index) == {246, 247, 248}:\n",
    "    print(\"¡Confirmado! Se encontraron usuarios de los tres grupos experimentales (246, 247, 248) en los datos filtrados.\")\n",
    "else:\n",
    "    print(\"Advertencia: No se encontraron usuarios de todos los grupos experimentales esperados después del filtrado.\")\n"
   ]
  },
  {
   "cell_type": "code",
   "execution_count": 11,
   "metadata": {},
   "outputs": [
    {
     "name": "stdout",
     "output_type": "stream",
     "text": [
      "\n",
      "Total de eventos en los datos filtrados: 241298\n",
      "Total de usuarios únicos en los datos filtrados: 7534\n"
     ]
    }
   ],
   "source": [
    "# Actualizo el total de usuarios y eventos para el DataFrame filtrado para futuros pasos\n",
    "total_events_filtered = df_filtered.shape[0]\n",
    "total_users_filtered = df_filtered['device_id'].nunique()\n",
    "print(f\"\\nTotal de eventos en los datos filtrados: {total_events_filtered}\")\n",
    "print(f\"Total de usuarios únicos en los datos filtrados: {total_users_filtered}\")"
   ]
  },
  {
   "cell_type": "markdown",
   "metadata": {},
   "source": [
    "**ANÁLISIS**\n",
    "\n",
    "**Periodo de Análisis Real:** Los datos consistentes y completos abarcan desde el 1 de agosto de 2019 hasta el 7 de agosto de 2019. Este es el periodo con el que trabajaremos para el resto del análisis.\n",
    "\n",
    "**Impacto del Filtrado:** Al excluir los datos anteriores al 1 de agosto, perdimos solo 1.16% de los eventos y un pequeño 0.23% de los usuarios. Esta es una pérdida insignificante que justifica la ganancia en la calidad y representatividad de los datos.\n",
    "\n",
    "**Grupos Experimentales Validados:** Después del filtrado, aún tenemos una distribución apropiada de usuarios en los tres grupos experimentales (exp_id 246, 247, 248), lo cual es importante para el análisis A/A/B.\n",
    "\n",
    "- Grupo 246: 2484 usuarios\n",
    "\n",
    "- Grupo 247: 2513 usuarios\n",
    "\n",
    "- Grupo 248: 2537 usuarios\n",
    "\n",
    "**Dataset para Análisis:** El DataFrame principal para los próximos pasos será **df_filtered**, que contiene 241,298 eventos de 7,534 usuarios únicos en el período del 1 al 7 de agosto de 2019.\n"
   ]
  },
  {
   "cell_type": "markdown",
   "metadata": {},
   "source": [
    "# Paso 4. Estudiar el embudo de eventos"
   ]
  },
  {
   "cell_type": "markdown",
   "metadata": {},
   "source": [
    "**Observa qué eventos hay en los registros y su frecuencia de suceso. Ordénalos por frecuencia.**"
   ]
  },
  {
   "cell_type": "code",
   "execution_count": 12,
   "metadata": {},
   "outputs": [
    {
     "name": "stdout",
     "output_type": "stream",
     "text": [
      "\n",
      "Frecuencia de cada tipo de evento (ordenado por ocurrencias):\n",
      "MainScreenAppear           117431\n",
      "OffersScreenAppear          46350\n",
      "CartScreenAppear            42365\n",
      "PaymentScreenSuccessful     34113\n",
      "Tutorial                     1039\n",
      "Name: event_name, dtype: int64\n"
     ]
    },
    {
     "data": {
      "image/png": "[encoded data removed]",
      "text/plain": [
       "<Figure size 1000x600 with 1 Axes>"
      ]
     },
     "metadata": {},
     "output_type": "display_data"
    }
   ],
   "source": [
    "event_frequency = df_filtered['event_name'].value_counts()\n",
    "print(\"\\nFrecuencia de cada tipo de evento (ordenado por ocurrencias):\")\n",
    "print(event_frequency)\n",
    "\n",
    "# Visualizo de la frecuencia de eventos\n",
    "plt.figure(figsize=(10, 6))\n",
    "sns.barplot(x=event_frequency.index, y=event_frequency.values)\n",
    "plt.title('Frecuencia de Tipos de Eventos')\n",
    "plt.xlabel('Tipo de Evento')\n",
    "plt.ylabel('Número de Ocurrencias')\n",
    "plt.xticks(rotation=45, ha='right') # Rotar etiquetas para mejor legibilidad\n",
    "plt.tight_layout()\n",
    "plt.show()"
   ]
  },
  {
   "cell_type": "markdown",
   "metadata": {},
   "source": [
    "**ANÁLISIS**\n",
    "\n",
    "MainScreenAppear es el evento más frecuente, lo cual tiene lógica ya que representa la visualización de la pantalla principal y es el punto de entrada más común.\n",
    "\n",
    "Le siguen OffersScreenAppear (pantalla de ofertas), CartScreenAppear (pantalla del carrito) y PaymentScreenSuccessful (pago exitoso).\n",
    "\n",
    "El evento Tutorial tiene una frecuencia muy baja en comparación con los demás. Esto podría significar que pocos usuarios completan el tutorial, o que el tutorial solo se muestra una vez al principio (lo cual es lo más probable).\n",
    "\n",
    "Estos eventos describen un flujo típico de un usuario en una aplicación de comercio electrónico: llega a la pantalla principal, explora ofertas/productos, agrega al carrito y finalmente realiza un pago.\n",
    "\n"
   ]
  },
  {
   "cell_type": "code",
   "execution_count": null,
   "metadata": {},
   "outputs": [],
   "source": []
  },
  {
   "cell_type": "markdown",
   "metadata": {},
   "source": [
    "**Encuentra la cantidad de usuarios que realizaron cada una de estas acciones. Ordena los eventos por el número de usuarios. Calcula la proporción de usuarios que realizaron la acción al menos una vez.**"
   ]
  },
  {
   "cell_type": "code",
   "execution_count": 13,
   "metadata": {},
   "outputs": [
    {
     "name": "stdout",
     "output_type": "stream",
     "text": [
      "\n",
      "Número de usuarios únicos por tipo de evento (ordenado por cantidad de usuarios):\n",
      "event_name\n",
      "MainScreenAppear           7419\n",
      "OffersScreenAppear         4593\n",
      "CartScreenAppear           3734\n",
      "PaymentScreenSuccessful    3539\n",
      "Tutorial                    840\n",
      "Name: device_id, dtype: int64\n",
      "\n",
      "Proporción de usuarios únicos que realizaron cada evento (sobre el total de 7534 usuarios):\n",
      "event_name\n",
      "MainScreenAppear           0.984736\n",
      "OffersScreenAppear         0.609636\n",
      "CartScreenAppear           0.495620\n",
      "PaymentScreenSuccessful    0.469737\n",
      "Tutorial                   0.111495\n",
      "Name: device_id, dtype: float64\n"
     ]
    },
    {
     "data": {
      "image/png": "[encoded data removed]",
      "text/plain": [
       "<Figure size 1200x700 with 1 Axes>"
      ]
     },
     "metadata": {},
     "output_type": "display_data"
    },
    {
     "data": {
      "image/png": "[encoded data removed]",
      "text/plain": [
       "<Figure size 1200x700 with 1 Axes>"
      ]
     },
     "metadata": {},
     "output_type": "display_data"
    }
   ],
   "source": [
    "users_per_event = df_filtered.groupby('event_name')['device_id'].nunique().sort_values(ascending=False)\n",
    "print(\"\\nNúmero de usuarios únicos por tipo de evento (ordenado por cantidad de usuarios):\")\n",
    "print(users_per_event)\n",
    "\n",
    "# Calculo la proporción de usuarios que realizaron la acción al menos una vez\n",
    "total_users_filtered = df_filtered['device_id'].nunique() # Ya calculado. lo pongo nuevamente para claridad al revisar\n",
    "proportion_users_per_event = users_per_event / total_users_filtered\n",
    "print(f\"\\nProporción de usuarios únicos que realizaron cada evento (sobre el total de {total_users_filtered} usuarios):\")\n",
    "print(proportion_users_per_event)\n",
    "\n",
    "# Visualizo los usuarios únicos por evento y su proporción\n",
    "plt.figure(figsize=(12, 7))\n",
    "sns.barplot(x=users_per_event.index, y=users_per_event.values, palette='viridis')\n",
    "plt.title('Número de Usuarios Únicos por Tipo de Evento')\n",
    "plt.xlabel('Tipo de Evento')\n",
    "plt.ylabel('Número de Usuarios Únicos')\n",
    "plt.xticks(rotation=45, ha='right')\n",
    "plt.tight_layout()\n",
    "plt.show()\n",
    "\n",
    "plt.figure(figsize=(12, 7))\n",
    "sns.barplot(x=proportion_users_per_event.index, y=proportion_users_per_event.values, palette='plasma')\n",
    "plt.title('Proporción de Usuarios Únicos por Tipo de Evento')\n",
    "plt.xlabel('Tipo de Evento')\n",
    "plt.ylabel('Proporción de Usuarios Únicos')\n",
    "plt.xticks(rotation=45, ha='right')\n",
    "plt.ylim(0, 1) # Aseguramos que el eje Y vaya de 0 a 1 para proporciones\n",
    "plt.tight_layout()\n",
    "plt.show()"
   ]
  },
  {
   "cell_type": "markdown",
   "metadata": {},
   "source": [
    "**ANÁLISIS**\n",
    "\n",
    "MainScreenAppear: Casi todos los usuarios (7419 de 7534, lo que representa un 98.47%) ven la pantalla principal. Esto es esperado, ya que es la puerta de entrada a la aplicación.\n",
    "\n",
    "OffersScreenAppear: Un porcentaje significativo de usuarios (4593, es decir, un 60.96%) llega a la pantalla de ofertas. Aquí ya vemos una primera caída.\n",
    "\n",
    "CartScreenAppear: Menos de la mitad de los usuarios originales (3734, o un 49.56%) llega a la pantalla del carrito. Esta es una caída importante desde la pantalla de ofertas.\n",
    "\n",
    "PaymentScreenSuccessful: Un número similar de usuarios (3539, o un 46.97%) llega a la pantalla de pago exitoso. Esto es crucial, ya que representa el objetivo final: la compra. La caída de \"Carrito\" a \"Pago Exitoso\" es relativamente pequeña, lo que sugiere que una vez que un usuario está en el carrito, es muy probable que complete la compra.\n",
    "\n",
    "Tutorial: El tutorial es el evento con menos usuarios únicos (840, o un 11.15%). Esto ratifica que no es un paso principal en el flujo de compra."
   ]
  },
  {
   "cell_type": "markdown",
   "metadata": {},
   "source": [
    "<div class=\"alert alert-block alert-success\">\n",
    "<b>Comentario del revisor (1ra Iteracion)</b> <a class=“tocSkip”></a>\n",
    "\n",
    "Perfecto! Esta gráfica es súper clara para analizar el embudo de eventos y ver el paso a paso que se debe seguir\n",
    "</div>"
   ]
  },
  {
   "cell_type": "markdown",
   "metadata": {},
   "source": [
    "**¿En qué orden crees que ocurrieron las acciones? ¿Todas son parte de una sola secuencia? No es necesario tenerlas en cuenta al calcular el embudo.**"
   ]
  },
  {
   "cell_type": "markdown",
   "metadata": {},
   "source": [
    "Basándonos en la lógica de una aplicación de venta de alimentos y en las proporciones de usuarios que encontradas, podemos inferir un orden para el embudo de ventas:\n",
    "\n",
    "\n",
    "1. MainScreenAppear: Es el punto de entrada. Casi todos los usuarios lo ven.\n",
    "\n",
    "2. OffersScreenAppear: Después de la pantalla principal, los usuarios suelen explorar productos u ofertas. Es la segunda pantalla más visitada por usuarios únicos.\n",
    "\n",
    "3. CartScreenAppear: Una vez que un usuario ha explorado ofertas, el siguiente paso lógico hacia la compra es agregar un producto al carrito y ver la pantalla del carrito.\n",
    "\n",
    "5. PaymentScreenSuccessful: Este es el último paso del embudo de compra, donde se confirma la transacción.\n",
    "\n",
    "El evento Tutorial no encaja en esta secuencia principal de \"compra\". Es una acción secundaria, probablemente realizada al inicio de la experiencia de un usuario o de forma esporádica. Por lo tanto, lo excluiremos del cálculo del embudo de ventas, ya que no es parte del camino directo hacia la compra."
   ]
  },
  {
   "cell_type": "markdown",
   "metadata": {},
   "source": [
    "**Utiliza el embudo de eventos para encontrar la proporción de usuarios que pasan de una etapa a la siguiente. Por ejemplo, para la secuencia de eventos A → B → C, calcula la proporción de usuarios en la etapa B a la cantidad de usuarios en la etapa A y la proporción de usuarios en la etapa C a la cantidad en la etapa B.**"
   ]
  },
  {
   "cell_type": "code",
   "execution_count": 14,
   "metadata": {},
   "outputs": [
    {
     "name": "stdout",
     "output_type": "stream",
     "text": [
      "\n",
      "--- Análisis del Embudo de Ventas ---\n",
      "\n",
      "Etapa: MainScreenAppear\n",
      "Usuarios únicos: 7419\n",
      "Proporción de usuarios desde el total (7534 usuarios): 98.47%\n",
      "\n",
      "Etapa: OffersScreenAppear\n",
      "Usuarios únicos: 4593\n",
      "Tasa de conversión de la etapa anterior 'MainScreenAppear' a 'OffersScreenAppear': 61.91%\n",
      "\n",
      "Etapa: CartScreenAppear\n",
      "Usuarios únicos: 3734\n",
      "Tasa de conversión de la etapa anterior 'OffersScreenAppear' a 'CartScreenAppear': 81.30%\n",
      "\n",
      "Etapa: PaymentScreenSuccessful\n",
      "Usuarios únicos: 3539\n",
      "Tasa de conversión de la etapa anterior 'CartScreenAppear' a 'PaymentScreenSuccessful': 94.78%\n"
     ]
    }
   ],
   "source": [
    "# Defino el orden del embudo\n",
    "# Excluyo 'Tutorial' ya que no es parte del flujo de compra principal\n",
    "funnel_steps = [\n",
    "    'MainScreenAppear',\n",
    "    'OffersScreenAppear',\n",
    "    'CartScreenAppear',\n",
    "    'PaymentScreenSuccessful'\n",
    "]\n",
    "\n",
    "print(\"\\n--- Análisis del Embudo de Ventas ---\")\n",
    "previous_step_users = 0\n",
    "for i, step in enumerate(funnel_steps):\n",
    "    # Cuento los usuarios únicos para el paso actual\n",
    "    current_step_users = df_filtered[df_filtered['event_name'] == step]['device_id'].nunique()\n",
    "\n",
    "    # Imprimo el número de usuarios para cada paso\n",
    "    print(f\"\\nEtapa: {step}\")\n",
    "    print(f\"Usuarios únicos: {current_step_users}\")\n",
    "\n",
    "    # Calculo la proporción de usuarios que pasan de la etapa anterior a la actual (conversión paso a paso)\n",
    "    if i == 0:\n",
    "        # Para la primera etapa, calculamos la proporción respecto al total de usuarios en el dataset filtrado\n",
    "        conversion_from_start = current_step_users / total_users_filtered\n",
    "        print(f\"Proporción de usuarios desde el total ({total_users_filtered} usuarios): {conversion_from_start:.2%}\")\n",
    "    else:\n",
    "        # Para las etapas siguientes, calculamos la proporción respecto a la etapa anterior\n",
    "        if previous_step_users > 0:\n",
    "            conversion_rate = current_step_users / previous_step_users\n",
    "            print(f\"Tasa de conversión de la etapa anterior '{funnel_steps[i-1]}' a '{step}': {conversion_rate:.2%}\")\n",
    "        else:\n",
    "            print(f\"No hay usuarios en la etapa anterior para calcular la conversión.\")\n",
    "\n",
    "    # Actualizo para la siguiente iteración\n",
    "    previous_step_users = current_step_users"
   ]
  },
  {
   "cell_type": "markdown",
   "metadata": {},
   "source": [
    "**ANÁLISIS**\n",
    "\n",
    "Tasas de conversión paso a paso:\n",
    "\n",
    "- MainScreenAppear:\n",
    "\n",
    "        Usuarios únicos: 7419\n",
    "\n",
    "        Proporción desde el total de usuarios: 98.47% (Casi todos los usuarios llegan a la pantalla principal, como se esperaba).\n",
    "\n",
    "- OffersScreenAppear:\n",
    "\n",
    "        Usuarios únicos: 4593\n",
    "\n",
    "        Tasa de conversión desde MainScreenAppear: 61.91%\n",
    "\n",
    "Esta es la primera caída significativa. Aproximadamente el 38% de los usuarios que ven la pantalla principal no llegan a la pantalla de ofertas. Esto podría indicar que la forma de acceder a las ofertas no es clara, que no las encuentran atractivas, o que abandonan rápidamente la aplicación.\n",
    "\n",
    "- CartScreenAppear:\n",
    "\n",
    "        Usuarios únicos: 3734\n",
    "\n",
    "        Tasa de conversión desde OffersScreenAppear: 81.30%\n",
    "\n",
    "Hay otra caída considerable aquí. Un 18.7% de los usuarios que vieron ofertas no llegaron al carrito. Esto podría ser porque no encontraron un producto que les interesara lo suficiente para agregar al carrito, o el proceso de agregar al carrito es complicado.\n",
    "\n",
    "- PaymentScreenSuccessful:\n",
    "\n",
    "        Usuarios únicos: 3539\n",
    "\n",
    "        Tasa de conversión desde CartScreenAppear: 94.78%\n",
    "\n",
    "Esta es una tasa de conversión muy alta. Una vez que los usuarios llegan a la pantalla del carrito, la gran mayoría (casi el 95%) completa la compra. Esto sugiere que el proceso de pago en sí es bastante eficiente y no representa un cuello de botella importante."
   ]
  },
  {
   "cell_type": "markdown",
   "metadata": {},
   "source": [
    "**¿En qué etapa pierdes más usuarios?**"
   ]
  },
  {
   "cell_type": "markdown",
   "metadata": {},
   "source": [
    "Basado en las tasas de conversión que acabamos de calcular, La mayor caída de usuarios ocurre entre MainScreenAppear y OffersScreenAppear, donde se pierde el 38.09% de los usuarios que estaban en la pantalla principal (100).\n",
    "\n",
    "La segunda mayor caída es entre OffersScreenAppear y CartScreenAppear, donde se pierde el 18.70% de los usuarios que estaban en la pantalla de ofertas (100).\n",
    "\n",
    "**Conclusión: La etapa donde se pierde la mayor cantidad de usuarios es la transición de la pantalla principal a la pantalla de ofertas. Este es el cuello de botella más crítico en el embudo de ventas actual.**"
   ]
  },
  {
   "cell_type": "code",
   "execution_count": null,
   "metadata": {},
   "outputs": [],
   "source": []
  },
  {
   "cell_type": "markdown",
   "metadata": {},
   "source": [
    "**¿Qué porcentaje de usuarios hace todo el viaje desde su primer evento hasta el pago?**"
   ]
  },
  {
   "cell_type": "code",
   "execution_count": 15,
   "metadata": {},
   "outputs": [
    {
     "name": "stdout",
     "output_type": "stream",
     "text": [
      "\n",
      "Número de usuarios que completaron el pago: 3539\n",
      "Total de usuarios únicos en el dataset: 7534\n",
      "Porcentaje de usuarios que hacen todo el viaje desde su primer evento hasta el pago: 46.97%\n"
     ]
    }
   ],
   "source": [
    "# Número de usuarios que llegaron a PaymentScreenSuccessful\n",
    "payment_successful_users = df_filtered[df_filtered['event_name'] == 'PaymentScreenSuccessful']['device_id'].nunique()\n",
    "\n",
    "# Total de usuarios únicos en el dataset filtrado\n",
    "total_users_filtered = df_filtered['device_id'].nunique()\n",
    "\n",
    "# Porcentaje de usuarios que completaron todo el viaje\n",
    "percentage_full_journey = (payment_successful_users / total_users_filtered) * 100\n",
    "\n",
    "print(f\"\\nNúmero de usuarios que completaron el pago: {payment_successful_users}\")\n",
    "print(f\"Total de usuarios únicos en el dataset: {total_users_filtered}\")\n",
    "print(f\"Porcentaje de usuarios que hacen todo el viaje desde su primer evento hasta el pago: {percentage_full_journey:.2f}%\")"
   ]
  },
  {
   "cell_type": "markdown",
   "metadata": {},
   "source": [
    "**ANÁLISIS**\n",
    "\n",
    "De los 7534 usuarios que interactuaron con la aplicación en el periodo de datos completos, aproximadamente el 47% de ellos llegó a completar una compra.\n",
    "\n",
    "El principal cuello de botella en el embudo se encuentra en la transición de la MainScreenAppear a la OffersScreenAppear, donde se pierde la mayor cantidad de usuarios (aproximadamente el 38%). Esto sugiere que mejorar la visibilidad, atractivo o facilidad de acceso a las ofertas desde la pantalla principal podría tener un impacto significativo en la tasa de conversión global.\n",
    "\n",
    "Una vez que los usuarios llegan al carrito, la probabilidad de que completen la compra es muy alta (casi el 95%), lo que indica que el proceso de pago es eficiente."
   ]
  },
  {
   "cell_type": "markdown",
   "metadata": {},
   "source": [
    "# Paso 5. Estudiar los resultados del experimento"
   ]
  },
  {
   "cell_type": "markdown",
   "metadata": {},
   "source": [
    "**¿Cuántos usuarios hay en cada grupo?**"
   ]
  },
  {
   "cell_type": "code",
   "execution_count": 16,
   "metadata": {},
   "outputs": [
    {
     "name": "stdout",
     "output_type": "stream",
     "text": [
      "\n",
      "Número de usuarios únicos en cada grupo experimental:\n",
      "exp_id\n",
      "246    2484\n",
      "247    2513\n",
      "248    2537\n",
      "Name: device_id, dtype: int64\n",
      "\n",
      "Grupo 246 (Control A): 2484 usuarios\n",
      "Grupo 247 (Control A): 2513 usuarios\n",
      "Grupo 248 (Prueba B): 2537 usuarios\n"
     ]
    }
   ],
   "source": [
    "users_in_each_group = df_filtered.groupby('exp_id')['device_id'].nunique()\n",
    "print(\"\\nNúmero de usuarios únicos en cada grupo experimental:\")\n",
    "print(users_in_each_group)\n",
    "\n",
    "# Guardo estos números en variables para facilitar su uso posterior\n",
    "group_246_users = users_in_each_group.loc[246]\n",
    "group_247_users = users_in_each_group.loc[247]\n",
    "group_248_users = users_in_each_group.loc[248]\n",
    "\n",
    "print(f\"\\nGrupo 246 (Control A): {group_246_users} usuarios\")\n",
    "print(f\"Grupo 247 (Control A): {group_247_users} usuarios\")\n",
    "print(f\"Grupo 248 (Prueba B): {group_248_users} usuarios\")"
   ]
  },
  {
   "cell_type": "code",
   "execution_count": null,
   "metadata": {},
   "outputs": [],
   "source": []
  },
  {
   "cell_type": "markdown",
   "metadata": {},
   "source": [
    "**Tenemos dos grupos de control en el test A/A, donde comprobamos nuestros mecanismos y cálculos. Observa si hay una diferencia estadísticamente significativa entre las muestras 246 y 247.**"
   ]
  },
  {
   "cell_type": "markdown",
   "metadata": {},
   "source": [
    "Para hacer esto, vamos a realizar una prueba A/A. El objetivo es verificar si la división de los grupos de control fue aleatoria y si no hay diferencias preexistentes significativas entre ellos. Si los grupos de control son significativamente diferentes, significaría que nuestro mecanismo de asignación de usuarios no es aleatorio o que hay algún otro factor que sesga los resultados, lo que comprometería la validez de cualquier comparación con el grupo de prueba.\n",
    "\n",
    "Para comparar las proporciones de usuarios que realizaron un evento específico entre dos grupos, podemos usar una prueba Z para proporciones. Esta prueba es adecuada para comparar la frecuencia de éxito (en este caso, la proporción de usuarios que realizan un evento) entre dos grupos independientes de gran tamaño.\n",
    "\n",
    "Vamos a aplicar esto al evento más popular, que identificamos anteriormente como MainScreenAppear."
   ]
  },
  {
   "cell_type": "code",
   "execution_count": 17,
   "metadata": {},
   "outputs": [
    {
     "name": "stdout",
     "output_type": "stream",
     "text": [
      "\n",
      "--- Test A/A: Comparación de Grupos de Control (246 vs 247) ---\n",
      "Nivel de significancia (alpha): 0.05\n",
      "\n",
      "Evento: 'MainScreenAppear'\n",
      "Usuarios únicos en Grupo 246 que realizaron 'MainScreenAppear': 2450 de 2484\n",
      "Usuarios únicos en Grupo 247 que realizaron 'MainScreenAppear': 2476 de 2513\n",
      "\n",
      "Estadístico Z para 'MainScreenAppear': 0.309\n",
      "Valor p para 'MainScreenAppear': 0.757\n",
      "No se pudo rechazar la hipótesis nula: No hay diferencia estadísticamente significativa en la proporción de usuarios que realizaron 'MainScreenAppear' entre el Grupo 246 y el Grupo 247 (p-value >= 0.05).\n"
     ]
    }
   ],
   "source": [
    "# Observo si hay una diferencia estadísticamente significativa entre las muestras 246 y 247 (Test A/A)\n",
    "\n",
    "# Nivel de significancia establecido\n",
    "alpha = 0.05 # Usaremos 0.05 por ahora. Lo discutiremos en el punto 5.5.\n",
    "\n",
    "print(f\"\\n--- Test A/A: Comparación de Grupos de Control (246 vs 247) ---\")\n",
    "print(f\"Nivel de significancia (alpha): {alpha}\")\n",
    "\n",
    "# Selecciono el evento más popular (MainScreenAppear)\n",
    "event_to_test = 'MainScreenAppear'\n",
    "\n",
    "# Encuentro la cantidad de usuarios únicos que realizaron este evento en cada grupo de control\n",
    "successes_246 = df_filtered[(df_filtered['exp_id'] == 246) & \\\n",
    "                            (df_filtered['event_name'] == event_to_test)]['device_id'].nunique()\n",
    "successes_247 = df_filtered[(df_filtered['exp_id'] == 247) & \\\n",
    "                            (df_filtered['event_name'] == event_to_test)]['device_id'].nunique()\n",
    "\n",
    "# Obtengo el número total de usuarios en cada grupo (tamaños de muestra)\n",
    "trials_246 = users_in_each_group.loc[246]\n",
    "trials_247 = users_in_each_group.loc[247]\n",
    "\n",
    "# Imprimo los conteos para referencia\n",
    "print(f\"\\nEvento: '{event_to_test}'\")\n",
    "print(f\"Usuarios únicos en Grupo 246 que realizaron '{event_to_test}': {successes_246} de {trials_246}\")\n",
    "print(f\"Usuarios únicos en Grupo 247 que realizaron '{event_to_test}': {successes_247} de {trials_247}\")\n",
    "\n",
    "# --- Calculo la prueba Z  ---\n",
    "\n",
    "# Proporción de éxito en el primer grupo (Grupo 246)\n",
    "p1 = successes_246 / trials_246\n",
    "# Proporción de éxito en el segundo grupo (Grupo 247)\n",
    "p2 = successes_247 / trials_247\n",
    "\n",
    "# Proporción de éxito en el dataset unido (combinado)\n",
    "p_combined = (successes_246 + successes_247) / (trials_246 + trials_247)\n",
    "\n",
    "# La diferencia entre las proporciones de los datasets\n",
    "difference = p1 - p2\n",
    "\n",
    "# Calculo el estadístico Z\n",
    "z_value = difference / mth.sqrt(p_combined * (1 - p_combined) * (1/trials_246 + 1/trials_247))\n",
    "\n",
    "# Establezco la distribución normal estándar (media 0, desviación estándar 1)\n",
    "distr = st.norm(0, 1)\n",
    "\n",
    "# Calculo el valor p para una prueba bilateral\n",
    "p_value = (1 - distr.cdf(abs(z_value))) * 2\n",
    "\n",
    "print(f\"\\nEstadístico Z para '{event_to_test}': {z_value:.3f}\")\n",
    "print(f\"Valor p para '{event_to_test}': {p_value:.3f}\")\n",
    "\n",
    "if (p_value < alpha):\n",
    "    print(f\"Rechazar la hipótesis nula: Hay una diferencia estadísticamente significativa en la proporción de usuarios que realizaron '{event_to_test}' entre el Grupo 246 y el Grupo 247 (p-value < {alpha}).\")\n",
    "else:\n",
    "    print(f\"No se pudo rechazar la hipótesis nula: No hay diferencia estadísticamente significativa en la proporción de usuarios que realizaron '{event_to_test}' entre el Grupo 246 y el Grupo 247 (p-value >= {alpha}).\")"
   ]
  },
  {
   "cell_type": "markdown",
   "metadata": {},
   "source": [
    "**ANÁLISIS**\n",
    "\n",
    "Estadístico Z: 0.309\n",
    "\n",
    "Valor p: 0.757\n",
    "\n",
    "Conclusión: Dado que el p-value (0.757) es mucho mayor que nuestro nivel de significancia alpha (0.05), no podemos rechazar la hipótesis nula. Esto significa que no hay una diferencia estadísticamente significativa en la proporción de usuarios que vieron la MainScreenAppear entre el Grupo 246 y el Grupo 247.\n",
    "\n",
    "Esto indica que los dos grupos de control (246 y 247) son comparables en su comportamiento inicial para el evento más popular. Esto nos da confianza en que el sistema de división de usuarios en los experimentos está funcionando correctamente y que cualquier diferencia significativa que encontremos más adelante entre los grupos de control y el grupo de prueba (248) probablemente se deba al cambio de fuentes, y no a una asignación sesgada de usuarios."
   ]
  },
  {
   "cell_type": "markdown",
   "metadata": {},
   "source": [
    "<div class=\"alert alert-block alert-success\">\n",
    "<b>Comentario del revisor (1ra Iteracion)</b> <a class=“tocSkip”></a>\n",
    "\n",
    "Muy bien! Siempre es bueno aplicar pruebas estadísticas a cada etapa del embudo para entender si en alguna parte el comportamiento de los usuarios ha cambiado \n",
    "</div>"
   ]
  },
  {
   "cell_type": "markdown",
   "metadata": {},
   "source": [
    "**Selecciona el evento más popular. En cada uno de los grupos de control, encuentra la cantidad de usuarios que realizaron esta acción. Encuentra su proporción. Comprueba si la diferencia entre los grupos es estadísticamente significativa. Repite el procedimiento para todos los demás eventos (ahorrarás tiempo si creas una función especial para esta prueba). ¿Puedes confirmar que los grupos se dividieron correctamente?**"
   ]
  },
  {
   "cell_type": "code",
   "execution_count": 18,
   "metadata": {},
   "outputs": [
    {
     "name": "stdout",
     "output_type": "stream",
     "text": [
      "\n",
      "--- Ejecutando Test A/A para TODOS los eventos (Grupos 246 vs 247) ---\n",
      "Nivel de significancia (alpha) para cada prueba: 0.05\n",
      "----------------------------------------------------------------------\n",
      "\n",
      "Saltando el evento 'Tutorial' para la prueba A/A por ser marginal.\n",
      "\n",
      "Evento: 'MainScreenAppear'\n",
      "  Grupo 246: 2450 de 2484 (98.63%)\n",
      "  Grupo 247: 2476 de 2513 (98.53%)\n",
      "  Estadístico Z: 0.309\n",
      "  Valor p: 0.757\n",
      "  Conclusión: No se pudo rechazar H0: NO hay diferencia estadísticamente significativa (p=0.757 >= 0.05).\n",
      "\n",
      "Evento: 'OffersScreenAppear'\n",
      "  Grupo 246: 1542 de 2484 (62.08%)\n",
      "  Grupo 247: 1520 de 2513 (60.49%)\n",
      "  Estadístico Z: 1.155\n",
      "  Valor p: 0.248\n",
      "  Conclusión: No se pudo rechazar H0: NO hay diferencia estadísticamente significativa (p=0.248 >= 0.05).\n",
      "\n",
      "Evento: 'CartScreenAppear'\n",
      "  Grupo 246: 1266 de 2484 (50.97%)\n",
      "  Grupo 247: 1238 de 2513 (49.26%)\n",
      "  Estadístico Z: 1.203\n",
      "  Valor p: 0.229\n",
      "  Conclusión: No se pudo rechazar H0: NO hay diferencia estadísticamente significativa (p=0.229 >= 0.05).\n",
      "\n",
      "Evento: 'PaymentScreenSuccessful'\n",
      "  Grupo 246: 1200 de 2484 (48.31%)\n",
      "  Grupo 247: 1158 de 2513 (46.08%)\n",
      "  Estadístico Z: 1.578\n",
      "  Valor p: 0.115\n",
      "  Conclusión: No se pudo rechazar H0: NO hay diferencia estadísticamente significativa (p=0.115 >= 0.05).\n",
      "\n",
      "Total de pruebas de hipótesis A/A realizadas: 4\n",
      "\n",
      "--- Resumen de resultados de Test A/A (246 vs 247) ---\n",
      "Evento 'MainScreenAppear': p-value=0.757. No se pudo rechazar H0: NO hay diferencia estadísticamente significativa (p=0.757 >= 0.05).\n",
      "Evento 'OffersScreenAppear': p-value=0.248. No se pudo rechazar H0: NO hay diferencia estadísticamente significativa (p=0.248 >= 0.05).\n",
      "Evento 'CartScreenAppear': p-value=0.229. No se pudo rechazar H0: NO hay diferencia estadísticamente significativa (p=0.229 >= 0.05).\n",
      "Evento 'PaymentScreenSuccessful': p-value=0.115. No se pudo rechazar H0: NO hay diferencia estadísticamente significativa (p=0.115 >= 0.05).\n",
      "\n",
      "CONFIRMADO: Los grupos A/A (246 y 247) parecen haberse dividido correctamente, ya que no se encontraron diferencias estadísticamente significativas en ninguno de los eventos probados con el alpha establecido.\n"
     ]
    }
   ],
   "source": [
    "\n",
    "def check_proportions_significance(event_name, group_a_id, group_b_id, df_data, alpha_level):\n",
    "    \"\"\"\n",
    "    Realiza una prueba Z para comparar las proporciones de usuarios que realizaron un evento\n",
    "    específico entre dos grupos.\n",
    "\n",
    "    Parámetros:\n",
    "    event_name (str): El nombre del evento a probar.\n",
    "    group_a_id (int): ID del primer grupo.\n",
    "    group_b_id (int): ID del segundo grupo.\n",
    "    df_data (pd.DataFrame): El DataFrame con los datos filtrados.\n",
    "    alpha_level (float): El nivel de significancia para la prueba.\n",
    "\n",
    "    Retorna:\n",
    "    tuple: (p_value, z_stat, conclusion_message)\n",
    "    \"\"\"\n",
    "    # 1. Conteo de usuarios únicos que realizaron el evento en cada grupo\n",
    "    successes_a = df_data[(df_data['exp_id'] == group_a_id) & \\\n",
    "                          (df_data['event_name'] == event_name)]['device_id'].nunique()\n",
    "    successes_b = df_data[(df_data['exp_id'] == group_b_id) & \\\n",
    "                          (df_data['event_name'] == event_name)]['device_id'].nunique()\n",
    "\n",
    "    # 2. Obtener el número total de usuarios en cada grupo\n",
    "    # Me aseguro de que 'users_in_each_group' esté disponible en el entorno global o lo paso como parámetro\n",
    "    total_users_a = users_in_each_group.loc[group_a_id]\n",
    "    total_users_b = users_in_each_group.loc[group_b_id]\n",
    "\n",
    "    # Calculo las proporciones\n",
    "    p_a = successes_a / total_users_a\n",
    "    p_b = successes_b / total_users_b\n",
    "\n",
    "    # Calculo la proporción combinada\n",
    "    p_combined = (successes_a + successes_b) / (total_users_a + total_users_b)\n",
    "\n",
    "    # Calculo la diferencia\n",
    "    difference = p_a - p_b\n",
    "\n",
    "    # Evito división por cero o log de cero si p_combined es 0 o 1\n",
    "    # Esto ocurre si uno de los grupos no tiene éxitos y p_combined se vuelve 0 o 1\n",
    "    if p_combined == 0 or p_combined == 1:\n",
    "        # En estos casos, no hay variabilidad para la prueba Z de proporciones\n",
    "        # y la diferencia es 0 (o bien 0/0). Un p-value de 1.0 es apropiado.\n",
    "        z_value = np.nan # No se puede calcular\n",
    "        p_value = 1.0\n",
    "    else:\n",
    "        # Calcular el estadístico Z\n",
    "        denominator = mth.sqrt(p_combined * (1 - p_combined) * (1/total_users_a + 1/total_users_b))\n",
    "        if denominator == 0: # Para casos raros donde el denominador pueda ser 0 (ej. tamaños de muestra muy grandes o proporciones extremas)\n",
    "             z_value = np.nan\n",
    "             p_value = 1.0\n",
    "        else:\n",
    "            z_value = difference / denominator\n",
    "\n",
    "        # Establezco la distribución normal estándar\n",
    "        distr = st.norm(0, 1)\n",
    "\n",
    "        # Calculo el valor p para una prueba bilateral\n",
    "        if not np.isnan(z_value):\n",
    "            p_value = (1 - distr.cdf(abs(z_value))) * 2\n",
    "        else:\n",
    "            p_value = 1.0 # Si Z no se puede calcular, asume no significancia\n",
    "\n",
    "    conclusion = \"\"\n",
    "    if p_value < alpha_level:\n",
    "        conclusion = f\"Rechazar H0: Diferencia ESTADÍSTICAMENTE SIGNIFICATIVA (p={p_value:.3f} < {alpha_level}).\"\n",
    "    else:\n",
    "        conclusion = f\"No se pudo rechazar H0: NO hay diferencia estadísticamente significativa (p={p_value:.3f} >= {alpha_level}).\"\n",
    "\n",
    "    return p_value, z_value, conclusion, successes_a, total_users_a, successes_b, total_users_b\n",
    "\n",
    "# Uso todos los eventos que hemos identificado en el Paso 4.1, sin el Tutorial por su baja ocurrencia\n",
    "# y porque no es parte del embudo principal.\n",
    "event_names = df_filtered['event_name'].unique()\n",
    "\n",
    "\n",
    "# Nivel de significancia para este conjunto de pruebas\n",
    "alpha = 0.05 \n",
    "\n",
    "print(f\"\\n--- Ejecutando Test A/A para TODOS los eventos (Grupos 246 vs 247) ---\")\n",
    "print(f\"Nivel de significancia (alpha) para cada prueba: {alpha}\")\n",
    "print(\"----------------------------------------------------------------------\")\n",
    "\n",
    "# Almaceno resultados para un resumen\n",
    "aa_test_results = []\n",
    "num_hyp_tests = 0\n",
    "\n",
    "for event in event_names:\n",
    "    if event == 'Tutorial': # Podemos decidir si incluir o excluir el tutorial\n",
    "        print(f\"\\nSaltando el evento '{event}' para la prueba A/A por ser marginal.\")\n",
    "        continue\n",
    "\n",
    "    num_hyp_tests += 1\n",
    "    print(f\"\\nEvento: '{event}'\")\n",
    "    p_value, z_stat, conclusion, s_a, n_a, s_b, n_b = check_proportions_significance(\n",
    "        event, 246, 247, df_filtered, alpha\n",
    "    )\n",
    "    print(f\"  Grupo {246}: {s_a} de {n_a} ({s_a/n_a:.2%})\")\n",
    "    print(f\"  Grupo {247}: {s_b} de {n_b} ({s_b/n_b:.2%})\")\n",
    "    print(f\"  Estadístico Z: {z_stat:.3f}\")\n",
    "    print(f\"  Valor p: {p_value:.3f}\")\n",
    "    print(f\"  Conclusión: {conclusion}\")\n",
    "    aa_test_results.append({\n",
    "        'event': event,\n",
    "        'group_a': 246,\n",
    "        'group_b': 247,\n",
    "        'p_value': p_value,\n",
    "        'z_stat': z_stat,\n",
    "        'conclusion': conclusion\n",
    "    })\n",
    "\n",
    "print(f\"\\nTotal de pruebas de hipótesis A/A realizadas: {num_hyp_tests}\")\n",
    "\n",
    "print(\"\\n--- Resumen de resultados de Test A/A (246 vs 247) ---\")\n",
    "for result in aa_test_results:\n",
    "    print(f\"Evento '{result['event']}': p-value={result['p_value']:.3f}. {result['conclusion']}\")\n",
    "\n",
    "# Confirmación de la correcta división de grupos A/A\n",
    "significant_diffs_aa = [res for res in aa_test_results if res['p_value'] < alpha]\n",
    "if not significant_diffs_aa:\n",
    "    print(\"\\nCONFIRMADO: Los grupos A/A (246 y 247) parecen haberse dividido correctamente, ya que no se encontraron diferencias estadísticamente significativas en ninguno de los eventos probados con el alpha establecido.\")\n",
    "else:\n",
    "    print(f\"\\nADVERTENCIA: Se encontraron diferencias estadísticamente significativas en {len(significant_diffs_aa)} eventos entre los grupos A/A (246 y 247). Esto podría indicar un problema con la división de los grupos o un falso positivo.\")\n",
    "    for res in significant_diffs_aa:\n",
    "        print(f\"  - Evento '{res['event']}' tiene p-value={res['p_value']:.3f}\")"
   ]
  },
  {
   "cell_type": "markdown",
   "metadata": {},
   "source": [
    "**ANÁLISIS**\n",
    "\n",
    "- MainScreenAppear (p=0.757): No hay diferencia significativa.\n",
    "\n",
    "- OffersScreenAppear (p=0.248): No hay diferencia significativa.\n",
    "\n",
    "- CartScreenAppear (p=0.229): No hay diferencia significativa.\n",
    "\n",
    "- PaymentScreenSuccessful (p=0.115): No hay diferencia significativa.\n",
    "\n",
    "Como se resume al final, se confirma que los grupos de control 246 y 247 se dividieron correctamente. En ninguna de las cuatro pruebas realizadas para los eventos principales encontramos una diferencia estadísticamente significativa en la proporción de usuarios que realizaron cada acción entre estos dos grupos de control. Esto significa que la aleatorización de usuarios en estos grupos fue efectiva, y podemos confiar en que las diferencias que observemos entre el grupo de prueba y los grupos de control no se deberán a un sesgo en la asignación inicial de usuarios, sino a los efectos del cambio de fuentes.\n"
   ]
  },
  {
   "cell_type": "code",
   "execution_count": null,
   "metadata": {},
   "outputs": [],
   "source": []
  },
  {
   "cell_type": "markdown",
   "metadata": {},
   "source": [
    "**Haz lo mismo para el grupo con fuentes alteradas. Compara los resultados con los de cada uno de los grupos de control para cada evento de forma aislada. Compara los resultados con los resultados combinados de los grupos de control. ¿Qué conclusiones puedes sacar del experimento?**"
   ]
  },
  {
   "cell_type": "markdown",
   "metadata": {},
   "source": [
    "Vamos a reutilizar nuestra función check_proportions_significance para comparar el grupo de prueba (248) con cada uno de los grupos de control (246 y 247), y luego con un grupo de control combinado."
   ]
  },
  {
   "cell_type": "code",
   "execution_count": 19,
   "metadata": {},
   "outputs": [
    {
     "name": "stdout",
     "output_type": "stream",
     "text": [
      "\n",
      "--- Comparación del Grupo de Prueba (248) con los Grupos de Control ---\n",
      "Nivel de significancia (alpha) para cada prueba: 0.05\n",
      "-----------------------------------------------------------------------\n",
      "\n",
      "Saltando el evento 'Tutorial' para las pruebas A/B por ser marginal.\n",
      "\n",
      "--- Evento: 'MainScreenAppear' ---\n",
      "  Comparación: Grupo 248 (Test) vs Grupo 246 (Control A)\n",
      "    Grupo 248: 2493 de 2537 (98.27%)\n",
      "    Grupo 246: 2450 de 2484 (98.63%)\n",
      "    Valor p: 0.295. Conclusión: No se pudo rechazar H0: NO hay diferencia estadísticamente significativa (p=0.295 >= 0.05).\n",
      "  Comparación: Grupo 248 (Test) vs Grupo 247 (Control A)\n",
      "    Grupo 248: 2493 de 2537 (98.27%)\n",
      "    Grupo 247: 2476 de 2513 (98.53%)\n",
      "    Valor p: 0.459. Conclusión: No se pudo rechazar H0: NO hay diferencia estadísticamente significativa (p=0.459 >= 0.05).\n",
      "  Comparación: Grupo 248 (Test) vs Grupos de Control Combinados (246+247)\n",
      "    Grupo 248: 2493 de 2537 (98.27%)\n",
      "    Control Combinado: 4926 de 4997 (98.58%)\n",
      "    Valor p: 0.294. Conclusión: No se pudo rechazar H0: NO hay diferencia estadísticamente significativa (p=0.294 >= 0.05).\n",
      "\n",
      "--- Evento: 'OffersScreenAppear' ---\n",
      "  Comparación: Grupo 248 (Test) vs Grupo 246 (Control A)\n",
      "    Grupo 248: 1531 de 2537 (60.35%)\n",
      "    Grupo 246: 1542 de 2484 (62.08%)\n",
      "    Valor p: 0.208. Conclusión: No se pudo rechazar H0: NO hay diferencia estadísticamente significativa (p=0.208 >= 0.05).\n",
      "  Comparación: Grupo 248 (Test) vs Grupo 247 (Control A)\n",
      "    Grupo 248: 1531 de 2537 (60.35%)\n",
      "    Grupo 247: 1520 de 2513 (60.49%)\n",
      "    Valor p: 0.920. Conclusión: No se pudo rechazar H0: NO hay diferencia estadísticamente significativa (p=0.920 >= 0.05).\n",
      "  Comparación: Grupo 248 (Test) vs Grupos de Control Combinados (246+247)\n",
      "    Grupo 248: 1531 de 2537 (60.35%)\n",
      "    Control Combinado: 3062 de 4997 (61.28%)\n",
      "    Valor p: 0.434. Conclusión: No se pudo rechazar H0: NO hay diferencia estadísticamente significativa (p=0.434 >= 0.05).\n",
      "\n",
      "--- Evento: 'CartScreenAppear' ---\n",
      "  Comparación: Grupo 248 (Test) vs Grupo 246 (Control A)\n",
      "    Grupo 248: 1230 de 2537 (48.48%)\n",
      "    Grupo 246: 1266 de 2484 (50.97%)\n",
      "    Valor p: 0.078. Conclusión: No se pudo rechazar H0: NO hay diferencia estadísticamente significativa (p=0.078 >= 0.05).\n",
      "  Comparación: Grupo 248 (Test) vs Grupo 247 (Control A)\n",
      "    Grupo 248: 1230 de 2537 (48.48%)\n",
      "    Grupo 247: 1238 de 2513 (49.26%)\n",
      "    Valor p: 0.579. Conclusión: No se pudo rechazar H0: NO hay diferencia estadísticamente significativa (p=0.579 >= 0.05).\n",
      "  Comparación: Grupo 248 (Test) vs Grupos de Control Combinados (246+247)\n",
      "    Grupo 248: 1230 de 2537 (48.48%)\n",
      "    Control Combinado: 2504 de 4997 (50.11%)\n",
      "    Valor p: 0.182. Conclusión: No se pudo rechazar H0: NO hay diferencia estadísticamente significativa (p=0.182 >= 0.05).\n",
      "\n",
      "--- Evento: 'PaymentScreenSuccessful' ---\n",
      "  Comparación: Grupo 248 (Test) vs Grupo 246 (Control A)\n",
      "    Grupo 248: 1181 de 2537 (46.55%)\n",
      "    Grupo 246: 1200 de 2484 (48.31%)\n",
      "    Valor p: 0.212. Conclusión: No se pudo rechazar H0: NO hay diferencia estadísticamente significativa (p=0.212 >= 0.05).\n",
      "  Comparación: Grupo 248 (Test) vs Grupo 247 (Control A)\n",
      "    Grupo 248: 1181 de 2537 (46.55%)\n",
      "    Grupo 247: 1158 de 2513 (46.08%)\n",
      "    Valor p: 0.737. Conclusión: No se pudo rechazar H0: NO hay diferencia estadísticamente significativa (p=0.737 >= 0.05).\n",
      "  Comparación: Grupo 248 (Test) vs Grupos de Control Combinados (246+247)\n",
      "    Grupo 248: 1181 de 2537 (46.55%)\n",
      "    Control Combinado: 2358 de 4997 (47.19%)\n",
      "    Valor p: 0.600. Conclusión: No se pudo rechazar H0: NO hay diferencia estadísticamente significativa (p=0.600 >= 0.05).\n",
      "\n",
      "Total de pruebas de hipótesis A/B realizadas: 12\n",
      "\n",
      "--- Resumen de resultados de Test A/B ---\n",
      "Evento 'MainScreenAppear' (248 vs 246): p-value=0.295. No se pudo rechazar H0: NO hay diferencia estadísticamente significativa (p=0.295 >= 0.05).\n",
      "Evento 'MainScreenAppear' (248 vs 247): p-value=0.459. No se pudo rechazar H0: NO hay diferencia estadísticamente significativa (p=0.459 >= 0.05).\n",
      "Evento 'MainScreenAppear' (248 vs Combined Control): p-value=0.294. No se pudo rechazar H0: NO hay diferencia estadísticamente significativa (p=0.294 >= 0.05).\n",
      "Evento 'OffersScreenAppear' (248 vs 246): p-value=0.208. No se pudo rechazar H0: NO hay diferencia estadísticamente significativa (p=0.208 >= 0.05).\n",
      "Evento 'OffersScreenAppear' (248 vs 247): p-value=0.920. No se pudo rechazar H0: NO hay diferencia estadísticamente significativa (p=0.920 >= 0.05).\n",
      "Evento 'OffersScreenAppear' (248 vs Combined Control): p-value=0.434. No se pudo rechazar H0: NO hay diferencia estadísticamente significativa (p=0.434 >= 0.05).\n",
      "Evento 'CartScreenAppear' (248 vs 246): p-value=0.078. No se pudo rechazar H0: NO hay diferencia estadísticamente significativa (p=0.078 >= 0.05).\n",
      "Evento 'CartScreenAppear' (248 vs 247): p-value=0.579. No se pudo rechazar H0: NO hay diferencia estadísticamente significativa (p=0.579 >= 0.05).\n",
      "Evento 'CartScreenAppear' (248 vs Combined Control): p-value=0.182. No se pudo rechazar H0: NO hay diferencia estadísticamente significativa (p=0.182 >= 0.05).\n",
      "Evento 'PaymentScreenSuccessful' (248 vs 246): p-value=0.212. No se pudo rechazar H0: NO hay diferencia estadísticamente significativa (p=0.212 >= 0.05).\n",
      "Evento 'PaymentScreenSuccessful' (248 vs 247): p-value=0.737. No se pudo rechazar H0: NO hay diferencia estadísticamente significativa (p=0.737 >= 0.05).\n",
      "Evento 'PaymentScreenSuccessful' (248 vs Combined Control): p-value=0.600. No se pudo rechazar H0: NO hay diferencia estadísticamente significativa (p=0.600 >= 0.05).\n"
     ]
    }
   ],
   "source": [
    "# Nivel de significancia para estas pruebas\n",
    "alpha = 0.05 \n",
    "\n",
    "print(f\"\\n--- Comparación del Grupo de Prueba (248) con los Grupos de Control ---\")\n",
    "print(f\"Nivel de significancia (alpha) para cada prueba: {alpha}\")\n",
    "print(\"-----------------------------------------------------------------------\")\n",
    "\n",
    "# Vamos a realizar 3 tipos de comparaciones para cada evento:\n",
    "# 1. Grupo 248 (Test) vs Grupo 246 (Control A)\n",
    "# 2. Grupo 248 (Test) vs Grupo 247 (Control A)\n",
    "# 3. Grupo 248 (Test) vs Grupos de Control Combinados (246 + 247)\n",
    "\n",
    "ab_test_results = []\n",
    "num_ab_hyp_tests = 0\n",
    "\n",
    "# Crear un grupo de control combinado para la tercera comparación\n",
    "# Necesitamos el conteo de éxitos y totales para cada evento en el grupo combinado\n",
    "combined_control_users_total = users_in_each_group.loc[246] + users_in_each_group.loc[247]\n",
    "\n",
    "# Para cada evento, realizaremos las comparaciones\n",
    "for event in event_names:\n",
    "    if event == 'Tutorial':\n",
    "        print(f\"\\nSaltando el evento '{event}' para las pruebas A/B por ser marginal.\")\n",
    "        continue\n",
    "\n",
    "    print(f\"\\n--- Evento: '{event}' ---\")\n",
    "\n",
    "    # Comparación 1: Grupo 248 (Test) vs Grupo 246 (Control A)\n",
    "    num_ab_hyp_tests += 1\n",
    "    p_value_246, z_stat_246, conclusion_246, s_248_a, n_248_a, s_246_a, n_246_a = check_proportions_significance(\n",
    "        event, 248, 246, df_filtered, alpha\n",
    "    )\n",
    "    print(f\"  Comparación: Grupo 248 (Test) vs Grupo 246 (Control A)\")\n",
    "    print(f\"    Grupo {248}: {s_248_a} de {n_248_a} ({s_248_a/n_248_a:.2%})\")\n",
    "    print(f\"    Grupo {246}: {s_246_a} de {n_246_a} ({s_246_a/n_246_a:.2%})\")\n",
    "    print(f\"    Valor p: {p_value_246:.3f}. Conclusión: {conclusion_246}\")\n",
    "    ab_test_results.append({\n",
    "        'event': event,\n",
    "        'comparison': '248 vs 246',\n",
    "        'p_value': p_value_246,\n",
    "        'z_stat': z_stat_246,\n",
    "        'conclusion': conclusion_246\n",
    "    })\n",
    "\n",
    "    # Comparación 2: Grupo 248 (Test) vs Grupo 247 (Control A)\n",
    "    num_ab_hyp_tests += 1\n",
    "    p_value_247, z_stat_247, conclusion_247, s_248_b, n_248_b, s_247_b, n_247_b = check_proportions_significance(\n",
    "        event, 248, 247, df_filtered, alpha\n",
    "    )\n",
    "    print(f\"  Comparación: Grupo 248 (Test) vs Grupo 247 (Control A)\")\n",
    "    print(f\"    Grupo {248}: {s_248_b} de {n_248_b} ({s_248_b/n_248_b:.2%})\")\n",
    "    print(f\"    Grupo {247}: {s_247_b} de {n_247_b} ({s_247_b/n_247_b:.2%})\")\n",
    "    print(f\"    Valor p: {p_value_247:.3f}. Conclusión: {conclusion_247}\")\n",
    "    ab_test_results.append({\n",
    "        'event': event,\n",
    "        'comparison': '248 vs 247',\n",
    "        'p_value': p_value_247,\n",
    "        'z_stat': z_stat_247,\n",
    "        'conclusion': conclusion_247\n",
    "    })\n",
    "\n",
    "    # Comparación 3: Grupo 248 (Test) vs Grupos de Control Combinados (246 + 247)\n",
    "    num_ab_hyp_tests += 1\n",
    "    \n",
    "    # Calcular éxitos para el grupo combinado de control para este evento\n",
    "    successes_combined_control = df_filtered[(df_filtered['exp_id'].isin([246, 247])) & \\\n",
    "                                             (df_filtered['event_name'] == event)]['device_id'].nunique()\n",
    "    \n",
    "    # Éxitos del grupo de prueba (248) para este evento\n",
    "    successes_248_test = df_filtered[(df_filtered['exp_id'] == 248) & \\\n",
    "                                     (df_filtered['event_name'] == event)]['device_id'].nunique()\n",
    "    \n",
    "    # Proporciones\n",
    "    p_test_248 = successes_248_test / group_248_users # group_248_users ya fue calculado\n",
    "    p_control_combined = successes_combined_control / combined_control_users_total\n",
    "\n",
    "    # Diferencia de proporciones\n",
    "    difference_combined = p_test_248 - p_control_combined\n",
    "\n",
    "    # Proporción combinada total\n",
    "    p_combined_overall = (successes_248_test + successes_combined_control) / (group_248_users + combined_control_users_total)\n",
    "\n",
    "    # Calcular Z-value y p-value para la comparación combinada\n",
    "    z_value_combined = np.nan\n",
    "    p_value_combined = 1.0\n",
    "\n",
    "    if p_combined_overall == 0 or p_combined_overall == 1:\n",
    "        # P-value ya es 1.0 si no hay variabilidad\n",
    "        pass\n",
    "    else:\n",
    "        denominator_combined = mth.sqrt(p_combined_overall * (1 - p_combined_overall) * (1/group_248_users + 1/combined_control_users_total))\n",
    "        if denominator_combined != 0:\n",
    "            z_value_combined = difference_combined / denominator_combined\n",
    "            distr = st.norm(0, 1)\n",
    "            p_value_combined = (1 - distr.cdf(abs(z_value_combined))) * 2\n",
    "\n",
    "    conclusion_combined = \"\"\n",
    "    if p_value_combined < alpha:\n",
    "        conclusion_combined = f\"Rechazar H0: Diferencia ESTADÍSTICAMENTE SIGNIFICATIVA (p={p_value_combined:.3f} < {alpha}).\"\n",
    "    else:\n",
    "        conclusion_combined = f\"No se pudo rechazar H0: NO hay diferencia estadísticamente significativa (p={p_value_combined:.3f} >= {alpha}).\"\n",
    "\n",
    "    print(f\"  Comparación: Grupo 248 (Test) vs Grupos de Control Combinados (246+247)\")\n",
    "    print(f\"    Grupo {248}: {successes_248_test} de {group_248_users} ({p_test_248:.2%})\")\n",
    "    print(f\"    Control Combinado: {successes_combined_control} de {combined_control_users_total} ({p_control_combined:.2%})\")\n",
    "    print(f\"    Valor p: {p_value_combined:.3f}. Conclusión: {conclusion_combined}\")\n",
    "    ab_test_results.append({\n",
    "        'event': event,\n",
    "        'comparison': '248 vs Combined Control',\n",
    "        'p_value': p_value_combined,\n",
    "        'z_stat': z_value_combined,\n",
    "        'conclusion': conclusion_combined\n",
    "    })\n",
    "\n",
    "print(f\"\\nTotal de pruebas de hipótesis A/B realizadas: {num_ab_hyp_tests}\")\n",
    "\n",
    "print(\"\\n--- Resumen de resultados de Test A/B ---\")\n",
    "for result in ab_test_results:\n",
    "    print(f\"Evento '{result['event']}' ({result['comparison']}): p-value={result['p_value']:.3f}. {result['conclusion']}\")"
   ]
  },
  {
   "cell_type": "markdown",
   "metadata": {},
   "source": [
    "**ANÁLISIS**\n",
    "\n",
    "- Para el evento 'MainScreenAppear': Todos los p-values son altos (0.295, 0.459, 0.294), lo que indica que no hay diferencias estadísticamente significativas entre el grupo de prueba (248) y cualquiera de los grupos de control (246, 247 o combinados) para la vista de la pantalla principal.\n",
    "\n",
    "- Para el evento 'OffersScreenAppear': De manera similar, todos los p-values son altos (0.208, 0.920, 0.434), lo que sugiere que no hay un impacto significativo en la proporción de usuarios que visitan la pantalla de ofertas.\n",
    "\n",
    "- Para el evento 'CartScreenAppear': Los p-values son 0.078 (vs 246), 0.579 (vs 247) y 0.182 (vs Combinado). Si bien 0.078 es más bajo que los demás, sigue siendo mayor que nuestro alpha de 0.05. Por lo tanto, no se encuentran diferencias estadísticamente significativas con el nivel de significancia actual.\n",
    "\n",
    "- Para el evento 'PaymentScreenSuccessful': Todos los p-values son altos (0.212, 0.737, 0.600), lo que indica que no hay un impacto significativo en la proporción de usuarios que completan el pago.\n",
    "\n",
    "Basado en un alpha de 0.05, no se observa una diferencia estadísticamente significativa en la proporción de usuarios que realizan ninguno de los eventos clave (pantalla principal, ofertas, carrito, pago exitoso) entre el grupo de prueba (con las fuentes alteradas) y los grupos de control.\n",
    "\n",
    "Esto podría sugerir que:\n",
    "\n",
    "- El cambio en las fuentes de marketing para el grupo 248 no tuvo un impacto significativo (ni positivo ni negativo) en el comportamiento de los usuarios medido por la proporción de usuarios que realizan estos eventos.\n",
    "\n",
    "- O bien, que nuestro alpha de 0.05 es demasiado conservador, o que el tamaño de la muestra no es suficiente para detectar una diferencia pequeña, si es que existe."
   ]
  },
  {
   "cell_type": "markdown",
   "metadata": {},
   "source": [
    "**¿Qué nivel de significancia has establecido para probar las hipótesis estadísticas mencionadas anteriormente? Calcula cuántas pruebas de hipótesis estadísticas has realizado. Con un nivel de significancia estadística de 0.1, uno de cada 10 resultados podría ser falso. ¿Cuál debería ser el nivel de significancia? Si deseas cambiarlo, vuelve a ejecutar los pasos anteriores y comprueba tus conclusiones.**"
   ]
  },
  {
   "cell_type": "markdown",
   "metadata": {},
   "source": [
    "Actualmente hemos usado alpha = 0.05 para todas las pruebas.\n",
    "\n",
    "    Nivel de significancia establecido: alpha=0.05\n",
    "\n",
    "    Número total de pruebas de hipótesis realizadas:\n",
    "\n",
    "        Test A/A (246 vs 247): 4 pruebas\n",
    "\n",
    "        Test A/B (248 vs 246): 4 pruebas\n",
    "\n",
    "        Test A/B (248 vs 247): 4 pruebas\n",
    "\n",
    "        Test A/B (248 vs Control Combinado): 4 pruebas\n",
    "\n",
    "        Total de pruebas = 4 + 4 + 4 + 4 = 16 pruebas\n",
    "\n",
    "El problema de las comparaciones múltiples (también conocido como el problema de la \"tasa de error de tipo I en la familia\") surge cuando se realizan varias pruebas de hipótesis sobre el mismo conjunto de datos. Si se realizan 16 pruebas con un alpha=0.05, la probabilidad de obtener al menos un falso positivo (un resultado significativo por pura casualidad cuando en realidad no hay efecto) aumenta considerablemente.\n",
    "\n",
    "La probabilidad de no cometer un error de Tipo I en una sola prueba es 1−alpha.\n",
    "La probabilidad de no cometer ningún error de Tipo I en N pruebas independientes es (1−alpha)N.\n",
    "Por lo tanto, la probabilidad de cometer al menos un error de Tipo I es 1−(1−alpha)N.\n",
    "\n",
    "Para nuestro caso: 1−(1−0.05)16approx1−0.9516approx1−0.440=0.56 (o 56%). Esto significa que hay una probabilidad del 56% de encontrar al menos un falso positivo si no ajustamos nuestro alpha. Esto es demasiado alto.\n",
    "\n",
    "Para corregir esto, vamos a usar la corrección de Bonferroni: se divide el alpha original entre el número total de pruebas realizadas.\n",
    "\n",
    "Nuevo nivel de significancia (Bonferroni ajustado):\n",
    "\n",
    "$\\alpha_{\\text{ajustado}} = \\frac{\\alpha_{\\text{original}}}{\\text{Número total de pruebas}} = \\frac{0.05}{16} \\approx 0.003125$\n",
    "\n",
    "Si el problema sugiere empezar con 0.1 y luego ajustar, podríamos usar 0.1/16=0.00625. Pero para ser más estrictos, usaré a 0.05/16.\n",
    "\n",
    "**Discusión sobre el nivel de significancia:**\n",
    "\n",
    "El nivel de significancia de 0.1 que se menciona en el problema es a menudo más flexible en etapas tempranas de exploración, pero para decisiones de negocio importantes, 0.05 es más común. Para múltiples pruebas, es casi imperativo un ajuste.\n",
    "\n",
    "Si usáramos alpha=0.1 sin ajuste, la probabilidad de un falso positivo sería aún mayor: $1 - (1 - 0.1)^{16} \\approx 1 - 0.916 \\approx 1 - 0.185 = 0.815$\n",
    "(o 81.5%). Esto es extremadamente alto y llevaría a muchas conclusiones erróneas.\n",
    "\n",
    "Por lo tanto, es esencial usar un nivel de significancia ajustado. Vamos a usar el **alpha_ajustado = 0.003125.**\n",
    "\n",
    "Vamos a re-ejecutar todas las pruebas A/B con este nuevo nivel de significancia ajustado para ver si nuestras conclusiones cambian."
   ]
  },
  {
   "cell_type": "code",
   "execution_count": 20,
   "metadata": {},
   "outputs": [
    {
     "name": "stdout",
     "output_type": "stream",
     "text": [
      "\n",
      "--- Re-ejecutando Comparación del Grupo de Prueba (248) con los Grupos de Control ---\n",
      "Nuevo Nivel de significancia (alpha ajustado por Bonferroni): 0.00313\n",
      "-----------------------------------------------------------------------\n",
      "\n",
      "--- Evento: 'MainScreenAppear' ---\n",
      "  Comparación: Grupo 248 (Test) vs Grupo 246 (Control A)\n",
      "    Grupo 248: 2493 de 2537 (98.27%)\n",
      "    Grupo 246: 2450 de 2484 (98.63%)\n",
      "    Valor p: 0.29497. Conclusión: No se pudo rechazar H0: NO hay diferencia estadísticamente significativa (p=0.295 >= 0.003125).\n",
      "  Comparación: Grupo 248 (Test) vs Grupo 247 (Control A)\n",
      "    Grupo 248: 2493 de 2537 (98.27%)\n",
      "    Grupo 247: 2476 de 2513 (98.53%)\n",
      "    Valor p: 0.45871. Conclusión: No se pudo rechazar H0: NO hay diferencia estadísticamente significativa (p=0.459 >= 0.003125).\n",
      "  Comparación: Grupo 248 (Test) vs Grupos de Control Combinados (246+247)\n",
      "    Grupo 248: 2493 de 2537 (98.27%)\n",
      "    Control Combinado: 4926 de 4997 (98.58%)\n",
      "    Valor p: 0.29425. Conclusión: No se pudo rechazar H0: NO hay diferencia estadísticamente significativa (p=0.29425 >= 0.00313).\n",
      "\n",
      "--- Evento: 'OffersScreenAppear' ---\n",
      "  Comparación: Grupo 248 (Test) vs Grupo 246 (Control A)\n",
      "    Grupo 248: 1531 de 2537 (60.35%)\n",
      "    Grupo 246: 1542 de 2484 (62.08%)\n",
      "    Valor p: 0.20836. Conclusión: No se pudo rechazar H0: NO hay diferencia estadísticamente significativa (p=0.208 >= 0.003125).\n",
      "  Comparación: Grupo 248 (Test) vs Grupo 247 (Control A)\n",
      "    Grupo 248: 1531 de 2537 (60.35%)\n",
      "    Grupo 247: 1520 de 2513 (60.49%)\n",
      "    Valor p: 0.91978. Conclusión: No se pudo rechazar H0: NO hay diferencia estadísticamente significativa (p=0.920 >= 0.003125).\n",
      "  Comparación: Grupo 248 (Test) vs Grupos de Control Combinados (246+247)\n",
      "    Grupo 248: 1531 de 2537 (60.35%)\n",
      "    Control Combinado: 3062 de 4997 (61.28%)\n",
      "    Valor p: 0.43426. Conclusión: No se pudo rechazar H0: NO hay diferencia estadísticamente significativa (p=0.43426 >= 0.00313).\n",
      "\n",
      "--- Evento: 'CartScreenAppear' ---\n",
      "  Comparación: Grupo 248 (Test) vs Grupo 246 (Control A)\n",
      "    Grupo 248: 1230 de 2537 (48.48%)\n",
      "    Grupo 246: 1266 de 2484 (50.97%)\n",
      "    Valor p: 0.07843. Conclusión: No se pudo rechazar H0: NO hay diferencia estadísticamente significativa (p=0.078 >= 0.003125).\n",
      "  Comparación: Grupo 248 (Test) vs Grupo 247 (Control A)\n",
      "    Grupo 248: 1230 de 2537 (48.48%)\n",
      "    Grupo 247: 1238 de 2513 (49.26%)\n",
      "    Valor p: 0.57862. Conclusión: No se pudo rechazar H0: NO hay diferencia estadísticamente significativa (p=0.579 >= 0.003125).\n",
      "  Comparación: Grupo 248 (Test) vs Grupos de Control Combinados (246+247)\n",
      "    Grupo 248: 1230 de 2537 (48.48%)\n",
      "    Control Combinado: 2504 de 4997 (50.11%)\n",
      "    Valor p: 0.18176. Conclusión: No se pudo rechazar H0: NO hay diferencia estadísticamente significativa (p=0.18176 >= 0.00313).\n",
      "\n",
      "--- Evento: 'PaymentScreenSuccessful' ---\n",
      "  Comparación: Grupo 248 (Test) vs Grupo 246 (Control A)\n",
      "    Grupo 248: 1181 de 2537 (46.55%)\n",
      "    Grupo 246: 1200 de 2484 (48.31%)\n",
      "    Valor p: 0.21226. Conclusión: No se pudo rechazar H0: NO hay diferencia estadísticamente significativa (p=0.212 >= 0.003125).\n",
      "  Comparación: Grupo 248 (Test) vs Grupo 247 (Control A)\n",
      "    Grupo 248: 1181 de 2537 (46.55%)\n",
      "    Grupo 247: 1158 de 2513 (46.08%)\n",
      "    Valor p: 0.73734. Conclusión: No se pudo rechazar H0: NO hay diferencia estadísticamente significativa (p=0.737 >= 0.003125).\n",
      "  Comparación: Grupo 248 (Test) vs Grupos de Control Combinados (246+247)\n",
      "    Grupo 248: 1181 de 2537 (46.55%)\n",
      "    Control Combinado: 2358 de 4997 (47.19%)\n",
      "    Valor p: 0.60043. Conclusión: No se pudo rechazar H0: NO hay diferencia estadísticamente significativa (p=0.60043 >= 0.00313).\n",
      "\n",
      "Total de pruebas de hipótesis A/B realizadas: 12\n",
      "\n",
      "--- Resumen de resultados de Test A/B (con alpha ajustado) ---\n",
      "Evento 'MainScreenAppear' (248 vs 246): p-value=0.29497. No se pudo rechazar H0: NO hay diferencia estadísticamente significativa (p=0.295 >= 0.003125).\n",
      "Evento 'MainScreenAppear' (248 vs 247): p-value=0.45871. No se pudo rechazar H0: NO hay diferencia estadísticamente significativa (p=0.459 >= 0.003125).\n",
      "Evento 'MainScreenAppear' (248 vs Combined Control): p-value=0.29425. No se pudo rechazar H0: NO hay diferencia estadísticamente significativa (p=0.29425 >= 0.00313).\n",
      "Evento 'OffersScreenAppear' (248 vs 246): p-value=0.20836. No se pudo rechazar H0: NO hay diferencia estadísticamente significativa (p=0.208 >= 0.003125).\n",
      "Evento 'OffersScreenAppear' (248 vs 247): p-value=0.91978. No se pudo rechazar H0: NO hay diferencia estadísticamente significativa (p=0.920 >= 0.003125).\n",
      "Evento 'OffersScreenAppear' (248 vs Combined Control): p-value=0.43426. No se pudo rechazar H0: NO hay diferencia estadísticamente significativa (p=0.43426 >= 0.00313).\n",
      "Evento 'CartScreenAppear' (248 vs 246): p-value=0.07843. No se pudo rechazar H0: NO hay diferencia estadísticamente significativa (p=0.078 >= 0.003125).\n",
      "Evento 'CartScreenAppear' (248 vs 247): p-value=0.57862. No se pudo rechazar H0: NO hay diferencia estadísticamente significativa (p=0.579 >= 0.003125).\n",
      "Evento 'CartScreenAppear' (248 vs Combined Control): p-value=0.18176. No se pudo rechazar H0: NO hay diferencia estadísticamente significativa (p=0.18176 >= 0.00313).\n",
      "Evento 'PaymentScreenSuccessful' (248 vs 246): p-value=0.21226. No se pudo rechazar H0: NO hay diferencia estadísticamente significativa (p=0.212 >= 0.003125).\n",
      "Evento 'PaymentScreenSuccessful' (248 vs 247): p-value=0.73734. No se pudo rechazar H0: NO hay diferencia estadísticamente significativa (p=0.737 >= 0.003125).\n",
      "Evento 'PaymentScreenSuccessful' (248 vs Combined Control): p-value=0.60043. No se pudo rechazar H0: NO hay diferencia estadísticamente significativa (p=0.60043 >= 0.00313).\n"
     ]
    }
   ],
   "source": [
    "# Re-ejecuto las pruebas A/B con el nivel de significancia ajustado\n",
    "\n",
    "# Nivel de significancia ajustado usando Bonferroni\n",
    "alpha_adjusted = 0.05 / 16 # Total de 16 pruebas (4 A/A + 12 A/B)\n",
    "\n",
    "print(f\"\\n--- Re-ejecutando Comparación del Grupo de Prueba (248) con los Grupos de Control ---\")\n",
    "print(f\"Nuevo Nivel de significancia (alpha ajustado por Bonferroni): {alpha_adjusted:.5f}\")\n",
    "print(\"-----------------------------------------------------------------------\")\n",
    "\n",
    "ab_test_results_adjusted = []\n",
    "\n",
    "# Para cada evento, realizaremos las comparaciones con el nuevo alpha\n",
    "for event in event_names:\n",
    "    if event == 'Tutorial':\n",
    "        continue # Seguir saltando el tutorial\n",
    "\n",
    "    print(f\"\\n--- Evento: '{event}' ---\")\n",
    "\n",
    "    # Comparación 1: Grupo 248 (Test) vs Grupo 246 (Control A)\n",
    "    p_value_246, z_stat_246, conclusion_246, s_248_a, n_248_a, s_246_a, n_246_a = check_proportions_significance(\n",
    "        event, 248, 246, df_filtered, alpha_adjusted # Usamos alpha_adjusted\n",
    "    )\n",
    "    print(f\"  Comparación: Grupo 248 (Test) vs Grupo 246 (Control A)\")\n",
    "    print(f\"    Grupo {248}: {s_248_a} de {n_248_a} ({s_248_a/n_248_a:.2%})\")\n",
    "    print(f\"    Grupo {246}: {s_246_a} de {n_246_a} ({s_246_a/n_246_a:.2%})\")\n",
    "    print(f\"    Valor p: {p_value_246:.5f}. Conclusión: {conclusion_246.replace(str(alpha), str(alpha_adjusted))}\") # Ajustar mensaje\n",
    "    ab_test_results_adjusted.append({\n",
    "        'event': event,\n",
    "        'comparison': '248 vs 246',\n",
    "        'p_value': p_value_246,\n",
    "        'z_stat': z_stat_246,\n",
    "        'conclusion': conclusion_246 # Almacenar la conclusión original de la función, el mensaje se ajusta arriba\n",
    "    })\n",
    "\n",
    "    # Comparación 2: Grupo 248 (Test) vs Grupo 247 (Control A)\n",
    "    p_value_247, z_stat_247, conclusion_247, s_248_b, n_248_b, s_247_b, n_247_b = check_proportions_significance(\n",
    "        event, 248, 247, df_filtered, alpha_adjusted # Usamos alpha_adjusted\n",
    "    )\n",
    "    print(f\"  Comparación: Grupo 248 (Test) vs Grupo 247 (Control A)\")\n",
    "    print(f\"    Grupo {248}: {s_248_b} de {n_248_b} ({s_248_b/n_248_b:.2%})\")\n",
    "    print(f\"    Grupo {247}: {s_247_b} de {n_247_b} ({s_247_b/n_247_b:.2%})\")\n",
    "    print(f\"    Valor p: {p_value_247:.5f}. Conclusión: {conclusion_247.replace(str(alpha), str(alpha_adjusted))}\") # Ajustar mensaje\n",
    "    ab_test_results_adjusted.append({\n",
    "        'event': event,\n",
    "        'comparison': '248 vs 247',\n",
    "        'p_value': p_value_247,\n",
    "        'z_stat': z_stat_247,\n",
    "        'conclusion': conclusion_247\n",
    "    })\n",
    "\n",
    "    # Comparación 3: Grupo 248 (Test) vs Grupos de Control Combinados (246 + 247)\n",
    "    successes_combined_control = df_filtered[(df_filtered['exp_id'].isin([246, 247])) & \\\n",
    "                                             (df_filtered['event_name'] == event)]['device_id'].nunique()\n",
    "    successes_248_test = df_filtered[(df_filtered['exp_id'] == 248) & \\\n",
    "                                     (df_filtered['event_name'] == event)]['device_id'].nunique()\n",
    "    \n",
    "    p_test_248 = successes_248_test / group_248_users\n",
    "    p_control_combined = successes_combined_control / combined_control_users_total\n",
    "    difference_combined = p_test_248 - p_control_combined\n",
    "\n",
    "    p_combined_overall = (successes_248_test + successes_combined_control) / (group_248_users + combined_control_users_total)\n",
    "\n",
    "    z_value_combined = np.nan\n",
    "    p_value_combined = 1.0\n",
    "\n",
    "    if p_combined_overall == 0 or p_combined_overall == 1:\n",
    "        pass\n",
    "    else:\n",
    "        denominator_combined = mth.sqrt(p_combined_overall * (1 - p_combined_overall) * (1/group_248_users + 1/combined_control_users_total))\n",
    "        if denominator_combined != 0:\n",
    "            z_value_combined = difference_combined / denominator_combined\n",
    "            distr = st.norm(0, 1)\n",
    "            p_value_combined = (1 - distr.cdf(abs(z_value_combined))) * 2\n",
    "    \n",
    "    conclusion_combined_adjusted = \"\"\n",
    "    if p_value_combined < alpha_adjusted: # Comparar con alpha_adjusted\n",
    "        conclusion_combined_adjusted = f\"Rechazar H0: Diferencia ESTADÍSTICAMENTE SIGNIFICATIVA (p={p_value_combined:.5f} < {alpha_adjusted:.5f}).\"\n",
    "    else:\n",
    "        conclusion_combined_adjusted = f\"No se pudo rechazar H0: NO hay diferencia estadísticamente significativa (p={p_value_combined:.5f} >= {alpha_adjusted:.5f}).\"\n",
    "\n",
    "    print(f\"  Comparación: Grupo 248 (Test) vs Grupos de Control Combinados (246+247)\")\n",
    "    print(f\"    Grupo {248}: {successes_248_test} de {group_248_users} ({p_test_248:.2%})\")\n",
    "    print(f\"    Control Combinado: {successes_combined_control} de {combined_control_users_total} ({p_control_combined:.2%})\")\n",
    "    print(f\"    Valor p: {p_value_combined:.5f}. Conclusión: {conclusion_combined_adjusted}\")\n",
    "    ab_test_results_adjusted.append({\n",
    "        'event': event,\n",
    "        'comparison': '248 vs Combined Control',\n",
    "        'p_value': p_value_combined,\n",
    "        'z_stat': z_value_combined,\n",
    "        'conclusion': conclusion_combined_adjusted # Esta es la conclusión ya con el alpha_adjusted\n",
    "    })\n",
    "\n",
    "print(f\"\\nTotal de pruebas de hipótesis A/B realizadas: {num_ab_hyp_tests}\")\n",
    "\n",
    "print(\"\\n--- Resumen de resultados de Test A/B (con alpha ajustado) ---\")\n",
    "for result in ab_test_results_adjusted:\n",
    "    print(f\"Evento '{result['event']}' ({result['comparison']}): p-value={result['p_value']:.5f}. {result['conclusion']}\")"
   ]
  },
  {
   "cell_type": "code",
   "execution_count": null,
   "metadata": {},
   "outputs": [],
   "source": []
  },
  {
   "cell_type": "markdown",
   "metadata": {},
   "source": [
    "**ANÁLISIS**\n",
    "\n",
    "Al usar un umbral de significancia mucho más estricto (0.00313), ninguno de los p-values obtenidos en las pruebas de comparación entre el grupo de prueba (248) y los grupos de control (246, 247, o combinados) está por debajo de este nuevo umbral.\n",
    "\n",
    "Todos los p-values son significativamente mayores que 0.00313. Por ejemplo:\n",
    "\n",
    "    Para MainScreenAppear (248 vs 246), el p-value es 0.29497, que es >> 0.00313.\n",
    "\n",
    "    Para CartScreenAppear (248 vs 246), que fue el p-value más bajo en la ronda anterior (0.078), sigue siendo mucho mayor que 0.00313.\n",
    "\n",
    "**Conclusiones finales del experimento:**\n",
    "\n",
    "Fiabilidad de la división de grupos (Test A/A): Las pruebas A/A entre los grupos de control (246 y 247) mostraron que no había diferencias estadísticamente significativas en la proporción de usuarios que realizaron ninguno de los eventos clave. Esto valida la aleatorización del experimento, indicando que cualquier diferencia observada en el grupo de prueba probablemente se deba a la variable experimental y no a un sesgo en la asignación.\n",
    "\n",
    "Impacto del cambio de fuentes (Test A/B): Tras comparar el grupo de prueba (248) con los grupos de control (246, 247, y el combinado) para todos los eventos principales, y utilizando un nivel de significancia ajustado para corregir el problema de las comparaciones múltiples (Bonferroni), no se encontró ninguna diferencia estadísticamente significativa en la proporción de usuarios que realizaron cada uno de los eventos.\n",
    "\n",
    "Resultado del experimento: Basado en el análisis de los datos proporcionados, el cambio en las fuentes de marketing para el grupo 248 no ha tenido un impacto estadísticamente significativo (ni positivo ni negativo) en el comportamiento de los usuarios en ninguna de las etapas clave del embudo de ventas (desde la aparición de la pantalla principal hasta el pago exitoso)."
   ]
  },
  {
   "cell_type": "markdown",
   "metadata": {},
   "source": [
    "**CONCLUSIÓN GENERAL**\n",
    "\n",
    "**Dado que no hay una diferencia significativa en las métricas clave, no hay evidencia estadística que sugiera que el cambio en las fuentes de marketing haya mejorado o empeorado el rendimiento de la aplicación en términos de la proporción de usuarios que completan las acciones importantes. Por lo tanto, no hay una razón clara para implementar masivamente el nuevo conjunto de fuentes basándose únicamente en este experimento. Se podrían considerar otros factores cualitativos o económicos si los hubiera, o ejecutar el experimento por más tiempo para ver si emergen diferencias pequeñas pero significativas.**"
   ]
  },
  {
   "cell_type": "markdown",
   "metadata": {},
   "source": [
    "<div class=\"alert alert-block alert-success\">\n",
    "<b>Comentario general (1ra Iteracion)</b> <a class=“tocSkip”></a>\n",
    "\n",
    "Te felicito Duver! Realizaste un muy buen análisis de los grupos de tratamiento entre los cambios obtenidos entre uno y otro respecto al funnel que el usuario debe seguir, tus conclusiones son muy acertadas y siempre argumentadas con los datos obtenidos a partir de tus cálculos. \n",
    "    \n",
    "No cabe duda que vas por excelente camino para convertirte en Data Analyst, saludos!\n",
    "</div>"
   ]
  }
 ],
 "metadata": {
  "kernelspec": {
   "display_name": "Python 3 (ipykernel)",
   "language": "python",
   "name": "python3"
  },
  "language_info": {
   "codemirror_mode": {
    "name": "ipython",
    "version": 3
   },
   "file_extension": ".py",
   "mimetype": "text/x-python",
   "name": "python",
   "nbconvert_exporter": "python",
   "pygments_lexer": "ipython3",
   "version": "3.9.23"
  }
 },
 "nbformat": 4,
 "nbformat_minor": 4
}

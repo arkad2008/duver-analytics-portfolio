{
 "cells": [
  {
   "cell_type": "markdown",
   "metadata": {},
   "source": [
    "**¡Hola Duver! 😊**\n",
    "\n",
    "Mi nombre es **Alejandro Castellanos** y hoy tengo el placer de ser el revisor de tu proyecto.\n",
    "\n",
    "Voy a revisar todo tu código con detalle, buscando tanto los puntos fuertes como aquellos en los que podrías mejorar. Te dejaré comentarios a lo largo del notebook, destacando lo que has hecho bien y sugiriendo ajustes donde sea necesario. Si encuentro algún error, no te preocupes, te lo haré saber de forma clara y te daré información útil para que puedas corregirlo en la próxima iteración. Si en algún punto tienes comentarios, siéntete libre de dejarlos también.\n",
    "\n",
    "\n",
    "Encontrarás mis comentarios específicos dentro de cajas verdes, amarillas o rojas, es muy importante que no muevas, modifiques o borres mis comentarios, con el fin de tener un seguimiento adecuado de tu proceso:\n",
    "\n",
    "\n",
    "<div class=\"alert alert-block alert-success\">\n",
    "<b>Comentario del revisor</b> <a class=“tocSkip”></a>\n",
    "Si todo está perfecto.\n",
    "</div>\n",
    "\n",
    "<div class=\"alert alert-block alert-warning\">\n",
    "<b>Comentario del revisor</b> <a class=“tocSkip”></a>\n",
    "Si tu código está bien pero se puede mejorar o hay algún detalle que le hace falta.\n",
    "</div>\n",
    "\n",
    "<div class=\"alert alert-block alert-danger\">\n",
    "<b>Comentario del revisor</b> <a class=“tocSkip”></a>\n",
    "Si de pronto hace falta algo o existe algún problema con tu código o conclusiones.\n",
    "</div>\n",
    "\n",
    "Puedes responderme de esta forma:\n",
    "<div class=\"alert alert-block alert-info\">\n",
    "<b>Respuesta del estudiante</b> <a class=“tocSkip”></a>\n",
    "</div>\n",
    "\n",
    "A continuación te dejaré un comentario general con mi valoración del proyecto. **¡Mi objetivo es que sigas aprendiendo y mejorando con cada paso!**"
   ]
  },
  {
   "cell_type": "markdown",
   "metadata": {},
   "source": [
    "----"
   ]
  },
  {
   "cell_type": "markdown",
   "metadata": {},
   "source": [
    "<div class=\"alert alert-block alert-warning\">\n",
    "<b>Comentario General del revisor (1ra Iteración)</b> <a class=“tocSkip”></a>\n",
    "\n",
    "Duver has realizado un EDA muy cuidadoso, preparando meticulosamente la información y asegurando un estudio riguroso, lo que demuestra tu compromiso con la calidad metodológica. En el apartado de visualización, utilizaste herramientas efectivas para comprender el comportamiento de consumo de los usuarios en diferentes planes, mostrando habilidad para representar datos complejos.\n",
    "    \n",
    "Sin embargo, es necesario ajustar el cálculo del consumo de minutos e internet para determinar con mayor precisión el cobro mensual por usuario, un aspecto clave para la validez de tus conclusiones. Adicionalmente, debes hacer unos ajustes en las pruebas de . ¡No te preocupes! Cada ajuste que haces es una oportunidad para aprender y mejorar. Vas por buen camino, y estoy seguro de que en la siguiente versión harás un gran trabajo y lograrás completar el proyecto con éxito. ¡Sigue adelante! \n",
    "\n",
    "Estaré atento a tu próxima iteración 👀\n",
    "\n",
    "\n",
    "</div>"
   ]
  },
  {
   "cell_type": "markdown",
   "metadata": {},
   "source": [
    "<div style=\"background-color: lightblue; padding: 10px;\">\n",
    "    Respuesta estudiante: Gracias Alejandro. Se realizaron los ajustes requeridos\n",
    "   </div>"
   ]
  },
  {
   "cell_type": "markdown",
   "metadata": {},
   "source": [
    "<div class=\"alert alert-block alert-success\">\n",
    "<b>Comentario General del revisor (2da Iteración)</b> <a class=“tocSkip”></a>\n",
    "\n",
    "¡Duver excelente trabajo con los ajustes! Tu proyecto ahora cumple con todos los objetivos propuestos. Estoy seguro de que lo que aprendiste aquí te será muy útil en futuros proyectos. ¡Éxito en tu próximo sprint! 🚀\n",
    "\n",
    "*Estado del Proyecto:* **Aprobado**\n",
    "\n",
    "</div>"
   ]
  },
  {
   "cell_type": "markdown",
   "metadata": {},
   "source": [
    "-----"
   ]
  },
  {
   "cell_type": "markdown",
   "metadata": {
    "id": "3rYiDeEH0q0f"
   },
   "source": [
    "# ¿Cuál es la mejor tarifa?\n",
    "\n",
    "Trabajas como analista para el operador de telecomunicaciones Megaline. La empresa ofrece a sus clientes dos tarifas de prepago, Surf y Ultimate. El departamento comercial quiere saber cuál de las tarifas genera más ingresos para poder ajustar el presupuesto de publicidad.\n",
    "\n",
    "Vas a realizar un análisis preliminar de las tarifas basado en una selección de clientes relativamente pequeña. Tendrás los datos de 500 clientes de Megaline: quiénes son los clientes, de dónde son, qué tarifa usan, así como la cantidad de llamadas que hicieron y los mensajes de texto que enviaron en 2018. Tu trabajo es analizar el comportamiento de los clientes y determinar qué tarifa de prepago genera más ingresos."
   ]
  },
  {
   "cell_type": "markdown",
   "metadata": {},
   "source": [
    "Con el desarrollo del presente proyecto se busca analizar la información suministrada por la empresa de telecomunicaciones Megaline, relacionada con sus clientes, sus planes prepago, sus tarifas y el uso de sus servicios, con el objetivo de determinar cuál de sus planes genera mayores ingresos. \n",
    "\n",
    "Para ello, vamos a proceder con el cargue de los datos, su preparación, corrección y complementación.\n",
    "\n",
    "Esto se hará en cada DataFrame por separado, para después unificar la información en un solo Dataframe.\n",
    "\n",
    "Luego, haremos un análisis los consumos y tarifas mediante estadígrafos y gráficas, para finalizar con las respectivas pruebas de hipótesis.\n",
    "\n"
   ]
  },
  {
   "cell_type": "markdown",
   "metadata": {
    "id": "MQi4IPy70q0y"
   },
   "source": [
    "## Inicialización"
   ]
  },
  {
   "cell_type": "code",
   "execution_count": 1,
   "metadata": {
    "id": "MtYIuBxu0q0z"
   },
   "outputs": [],
   "source": [
    "# Cargar todas las librerías\n",
    "from scipy import stats as st\n",
    "import numpy as np\n",
    "import pandas as pd\n",
    "from matplotlib import pyplot as plt\n",
    "import seaborn as sns\n"
   ]
  },
  {
   "cell_type": "markdown",
   "metadata": {
    "id": "4ysWWC5i0q00"
   },
   "source": [
    "## Cargar datos"
   ]
  },
  {
   "cell_type": "code",
   "execution_count": 2,
   "metadata": {
    "id": "CCqPW7rS0q01"
   },
   "outputs": [],
   "source": [
    "# Carga los archivos de datos en diferentes DataFrames\n",
    "df_calls = pd.read_csv('/datasets/megaline_calls.csv')\n",
    "\n",
    "df_internet = pd.read_csv('/datasets/megaline_internet.csv')\n",
    "\n",
    "df_messages = pd.read_csv('/datasets/megaline_messages.csv')\n",
    "\n",
    "df_plans = pd.read_csv('/datasets/megaline_plans.csv')\n",
    "\n",
    "df_users = pd.read_csv('/datasets/megaline_users.csv')\n"
   ]
  },
  {
   "cell_type": "markdown",
   "metadata": {
    "id": "69qqoJ3r0q01"
   },
   "source": [
    "## Preparar los datos"
   ]
  },
  {
   "cell_type": "code",
   "execution_count": 3,
   "metadata": {},
   "outputs": [
    {
     "data": {
      "text/html": [
       "<div>\n",
       "<style scoped>\n",
       "    .dataframe tbody tr th:only-of-type {\n",
       "        vertical-align: middle;\n",
       "    }\n",
       "\n",
       "    .dataframe tbody tr th {\n",
       "        vertical-align: top;\n",
       "    }\n",
       "\n",
       "    .dataframe thead th {\n",
       "        text-align: right;\n",
       "    }\n",
       "</style>\n",
       "<table border=\"1\" class=\"dataframe\">\n",
       "  <thead>\n",
       "    <tr style=\"text-align: right;\">\n",
       "      <th></th>\n",
       "      <th>id</th>\n",
       "      <th>user_id</th>\n",
       "      <th>call_date</th>\n",
       "      <th>duration</th>\n",
       "    </tr>\n",
       "  </thead>\n",
       "  <tbody>\n",
       "    <tr>\n",
       "      <th>0</th>\n",
       "      <td>1000_93</td>\n",
       "      <td>1000</td>\n",
       "      <td>2018-12-27</td>\n",
       "      <td>8.52</td>\n",
       "    </tr>\n",
       "    <tr>\n",
       "      <th>1</th>\n",
       "      <td>1000_145</td>\n",
       "      <td>1000</td>\n",
       "      <td>2018-12-27</td>\n",
       "      <td>13.66</td>\n",
       "    </tr>\n",
       "    <tr>\n",
       "      <th>2</th>\n",
       "      <td>1000_247</td>\n",
       "      <td>1000</td>\n",
       "      <td>2018-12-27</td>\n",
       "      <td>14.48</td>\n",
       "    </tr>\n",
       "    <tr>\n",
       "      <th>3</th>\n",
       "      <td>1000_309</td>\n",
       "      <td>1000</td>\n",
       "      <td>2018-12-28</td>\n",
       "      <td>5.76</td>\n",
       "    </tr>\n",
       "    <tr>\n",
       "      <th>4</th>\n",
       "      <td>1000_380</td>\n",
       "      <td>1000</td>\n",
       "      <td>2018-12-30</td>\n",
       "      <td>4.22</td>\n",
       "    </tr>\n",
       "  </tbody>\n",
       "</table>\n",
       "</div>"
      ],
      "text/plain": [
       "         id  user_id   call_date  duration\n",
       "0   1000_93     1000  2018-12-27      8.52\n",
       "1  1000_145     1000  2018-12-27     13.66\n",
       "2  1000_247     1000  2018-12-27     14.48\n",
       "3  1000_309     1000  2018-12-28      5.76\n",
       "4  1000_380     1000  2018-12-30      4.22"
      ]
     },
     "execution_count": 3,
     "metadata": {},
     "output_type": "execute_result"
    }
   ],
   "source": [
    "df_calls.head()\n",
    "\n"
   ]
  },
  {
   "cell_type": "markdown",
   "metadata": {},
   "source": [
    "### Encuentro valores duplicados y ausentes el DataFrame 'calls'"
   ]
  },
  {
   "cell_type": "code",
   "execution_count": 4,
   "metadata": {},
   "outputs": [
    {
     "name": "stdout",
     "output_type": "stream",
     "text": [
      "Número de filas duplicadas: 0\n",
      "\n"
     ]
    },
    {
     "data": {
      "text/html": [
       "<div>\n",
       "<style scoped>\n",
       "    .dataframe tbody tr th:only-of-type {\n",
       "        vertical-align: middle;\n",
       "    }\n",
       "\n",
       "    .dataframe tbody tr th {\n",
       "        vertical-align: top;\n",
       "    }\n",
       "\n",
       "    .dataframe thead th {\n",
       "        text-align: right;\n",
       "    }\n",
       "</style>\n",
       "<table border=\"1\" class=\"dataframe\">\n",
       "  <thead>\n",
       "    <tr style=\"text-align: right;\">\n",
       "      <th></th>\n",
       "      <th>id</th>\n",
       "      <th>user_id</th>\n",
       "      <th>call_date</th>\n",
       "      <th>duration</th>\n",
       "    </tr>\n",
       "  </thead>\n",
       "  <tbody>\n",
       "  </tbody>\n",
       "</table>\n",
       "</div>"
      ],
      "text/plain": [
       "Empty DataFrame\n",
       "Columns: [id, user_id, call_date, duration]\n",
       "Index: []"
      ]
     },
     "metadata": {},
     "output_type": "display_data"
    }
   ],
   "source": [
    "# Reviso si hay registros duplicados en el DataFrame Calls\n",
    "\n",
    "duplicated_df_calls = df_calls[df_calls.duplicated()] #genero una variable que almacene los valores duplicados de orders\n",
    "\n",
    "print(\"Número de filas duplicadas:\", df_calls.duplicated().sum()) #imprimo la suma de duplicados\n",
    "\n",
    "print() #genero un espacio en blanco entre prints (solo para mejorar la visualización)\n",
    "\n",
    "display((duplicated_df_calls)) #imprimo las filas duplicadas"
   ]
  },
  {
   "cell_type": "code",
   "execution_count": 5,
   "metadata": {},
   "outputs": [
    {
     "name": "stdout",
     "output_type": "stream",
     "text": [
      "Número de valores ausentes en 'id': 0\n",
      "\n",
      "\n"
     ]
    },
    {
     "data": {
      "text/html": [
       "<div>\n",
       "<style scoped>\n",
       "    .dataframe tbody tr th:only-of-type {\n",
       "        vertical-align: middle;\n",
       "    }\n",
       "\n",
       "    .dataframe tbody tr th {\n",
       "        vertical-align: top;\n",
       "    }\n",
       "\n",
       "    .dataframe thead th {\n",
       "        text-align: right;\n",
       "    }\n",
       "</style>\n",
       "<table border=\"1\" class=\"dataframe\">\n",
       "  <thead>\n",
       "    <tr style=\"text-align: right;\">\n",
       "      <th></th>\n",
       "      <th>id</th>\n",
       "      <th>user_id</th>\n",
       "      <th>call_date</th>\n",
       "      <th>duration</th>\n",
       "    </tr>\n",
       "  </thead>\n",
       "  <tbody>\n",
       "  </tbody>\n",
       "</table>\n",
       "</div>"
      ],
      "text/plain": [
       "Empty DataFrame\n",
       "Columns: [id, user_id, call_date, duration]\n",
       "Index: []"
      ]
     },
     "metadata": {},
     "output_type": "display_data"
    }
   ],
   "source": [
    "# Encuentro los valores ausentes en la columna 'id'\n",
    "\n",
    "# Filtro las filas donde el valor de 'id' es nulo\n",
    "missing_id = df_calls[df_calls['id'].isnull()]\n",
    "\n",
    "# Imprimir el número de valores ausentes en la columna 'id'\n",
    "print(\"Número de valores ausentes en 'id':\", df_calls['id'].isnull().sum())\n",
    "\n",
    "# Genero un espacio en blanco entre prints (solo para mejorar la visualización)\n",
    "print(\"\\n\")\n",
    "\n",
    "# Imprimir las filas donde 'id' es nulo\n",
    "display(missing_id)\n"
   ]
  },
  {
   "cell_type": "code",
   "execution_count": 6,
   "metadata": {},
   "outputs": [
    {
     "data": {
      "text/html": [
       "<div>\n",
       "<style scoped>\n",
       "    .dataframe tbody tr th:only-of-type {\n",
       "        vertical-align: middle;\n",
       "    }\n",
       "\n",
       "    .dataframe tbody tr th {\n",
       "        vertical-align: top;\n",
       "    }\n",
       "\n",
       "    .dataframe thead th {\n",
       "        text-align: right;\n",
       "    }\n",
       "</style>\n",
       "<table border=\"1\" class=\"dataframe\">\n",
       "  <thead>\n",
       "    <tr style=\"text-align: right;\">\n",
       "      <th></th>\n",
       "      <th>id</th>\n",
       "      <th>user_id</th>\n",
       "      <th>session_date</th>\n",
       "      <th>mb_used</th>\n",
       "    </tr>\n",
       "  </thead>\n",
       "  <tbody>\n",
       "    <tr>\n",
       "      <th>0</th>\n",
       "      <td>1000_13</td>\n",
       "      <td>1000</td>\n",
       "      <td>2018-12-29</td>\n",
       "      <td>89.86</td>\n",
       "    </tr>\n",
       "    <tr>\n",
       "      <th>1</th>\n",
       "      <td>1000_204</td>\n",
       "      <td>1000</td>\n",
       "      <td>2018-12-31</td>\n",
       "      <td>0.00</td>\n",
       "    </tr>\n",
       "    <tr>\n",
       "      <th>2</th>\n",
       "      <td>1000_379</td>\n",
       "      <td>1000</td>\n",
       "      <td>2018-12-28</td>\n",
       "      <td>660.40</td>\n",
       "    </tr>\n",
       "    <tr>\n",
       "      <th>3</th>\n",
       "      <td>1000_413</td>\n",
       "      <td>1000</td>\n",
       "      <td>2018-12-26</td>\n",
       "      <td>270.99</td>\n",
       "    </tr>\n",
       "    <tr>\n",
       "      <th>4</th>\n",
       "      <td>1000_442</td>\n",
       "      <td>1000</td>\n",
       "      <td>2018-12-27</td>\n",
       "      <td>880.22</td>\n",
       "    </tr>\n",
       "  </tbody>\n",
       "</table>\n",
       "</div>"
      ],
      "text/plain": [
       "         id  user_id session_date  mb_used\n",
       "0   1000_13     1000   2018-12-29    89.86\n",
       "1  1000_204     1000   2018-12-31     0.00\n",
       "2  1000_379     1000   2018-12-28   660.40\n",
       "3  1000_413     1000   2018-12-26   270.99\n",
       "4  1000_442     1000   2018-12-27   880.22"
      ]
     },
     "execution_count": 6,
     "metadata": {},
     "output_type": "execute_result"
    }
   ],
   "source": [
    "df_internet.head()"
   ]
  },
  {
   "cell_type": "code",
   "execution_count": 7,
   "metadata": {},
   "outputs": [
    {
     "name": "stdout",
     "output_type": "stream",
     "text": [
      "Número de filas duplicadas: 0\n",
      "\n"
     ]
    },
    {
     "data": {
      "text/html": [
       "<div>\n",
       "<style scoped>\n",
       "    .dataframe tbody tr th:only-of-type {\n",
       "        vertical-align: middle;\n",
       "    }\n",
       "\n",
       "    .dataframe tbody tr th {\n",
       "        vertical-align: top;\n",
       "    }\n",
       "\n",
       "    .dataframe thead th {\n",
       "        text-align: right;\n",
       "    }\n",
       "</style>\n",
       "<table border=\"1\" class=\"dataframe\">\n",
       "  <thead>\n",
       "    <tr style=\"text-align: right;\">\n",
       "      <th></th>\n",
       "      <th>id</th>\n",
       "      <th>user_id</th>\n",
       "      <th>session_date</th>\n",
       "      <th>mb_used</th>\n",
       "    </tr>\n",
       "  </thead>\n",
       "  <tbody>\n",
       "  </tbody>\n",
       "</table>\n",
       "</div>"
      ],
      "text/plain": [
       "Empty DataFrame\n",
       "Columns: [id, user_id, session_date, mb_used]\n",
       "Index: []"
      ]
     },
     "metadata": {},
     "output_type": "display_data"
    }
   ],
   "source": [
    "# Reviso si hay registros duplicados en el DataFrame Internet\n",
    "\n",
    "duplicated_internet = df_internet[df_internet.duplicated()] #genero una variable que almacene los valores duplicados de orders\n",
    "\n",
    "print(\"Número de filas duplicadas:\", df_internet.duplicated().sum()) #imprimo la suma de duplicados\n",
    "\n",
    "print() #genero un espacio en blanco entre prints (solo para mejorar la visualización)\n",
    "\n",
    "display((duplicated_internet)) #imprimo las filas duplicadas"
   ]
  },
  {
   "cell_type": "code",
   "execution_count": 8,
   "metadata": {},
   "outputs": [
    {
     "name": "stdout",
     "output_type": "stream",
     "text": [
      "Número de valores ausentes en 'id': 0\n",
      "\n",
      "\n"
     ]
    },
    {
     "data": {
      "text/html": [
       "<div>\n",
       "<style scoped>\n",
       "    .dataframe tbody tr th:only-of-type {\n",
       "        vertical-align: middle;\n",
       "    }\n",
       "\n",
       "    .dataframe tbody tr th {\n",
       "        vertical-align: top;\n",
       "    }\n",
       "\n",
       "    .dataframe thead th {\n",
       "        text-align: right;\n",
       "    }\n",
       "</style>\n",
       "<table border=\"1\" class=\"dataframe\">\n",
       "  <thead>\n",
       "    <tr style=\"text-align: right;\">\n",
       "      <th></th>\n",
       "      <th>id</th>\n",
       "      <th>user_id</th>\n",
       "      <th>session_date</th>\n",
       "      <th>mb_used</th>\n",
       "    </tr>\n",
       "  </thead>\n",
       "  <tbody>\n",
       "  </tbody>\n",
       "</table>\n",
       "</div>"
      ],
      "text/plain": [
       "Empty DataFrame\n",
       "Columns: [id, user_id, session_date, mb_used]\n",
       "Index: []"
      ]
     },
     "metadata": {},
     "output_type": "display_data"
    }
   ],
   "source": [
    "# Encuentro los valores ausentes en la columna 'id'\n",
    "\n",
    "# Filtro las filas donde el valor de 'id' es nulo\n",
    "missing_id = df_internet[df_internet['id'].isnull()]\n",
    "\n",
    "# Imprimir el número de valores ausentes en la columna 'id'\n",
    "print(\"Número de valores ausentes en 'id':\", df_internet['id'].isnull().sum())\n",
    "\n",
    "# Genero un espacio en blanco entre prints (solo para mejorar la visualización)\n",
    "print(\"\\n\")\n",
    "\n",
    "# Imprimir las filas donde 'id' es nulo\n",
    "display(missing_id)\n"
   ]
  },
  {
   "cell_type": "code",
   "execution_count": 9,
   "metadata": {},
   "outputs": [
    {
     "data": {
      "text/html": [
       "<div>\n",
       "<style scoped>\n",
       "    .dataframe tbody tr th:only-of-type {\n",
       "        vertical-align: middle;\n",
       "    }\n",
       "\n",
       "    .dataframe tbody tr th {\n",
       "        vertical-align: top;\n",
       "    }\n",
       "\n",
       "    .dataframe thead th {\n",
       "        text-align: right;\n",
       "    }\n",
       "</style>\n",
       "<table border=\"1\" class=\"dataframe\">\n",
       "  <thead>\n",
       "    <tr style=\"text-align: right;\">\n",
       "      <th></th>\n",
       "      <th>id</th>\n",
       "      <th>user_id</th>\n",
       "      <th>message_date</th>\n",
       "    </tr>\n",
       "  </thead>\n",
       "  <tbody>\n",
       "    <tr>\n",
       "      <th>0</th>\n",
       "      <td>1000_125</td>\n",
       "      <td>1000</td>\n",
       "      <td>2018-12-27</td>\n",
       "    </tr>\n",
       "    <tr>\n",
       "      <th>1</th>\n",
       "      <td>1000_160</td>\n",
       "      <td>1000</td>\n",
       "      <td>2018-12-31</td>\n",
       "    </tr>\n",
       "    <tr>\n",
       "      <th>2</th>\n",
       "      <td>1000_223</td>\n",
       "      <td>1000</td>\n",
       "      <td>2018-12-31</td>\n",
       "    </tr>\n",
       "    <tr>\n",
       "      <th>3</th>\n",
       "      <td>1000_251</td>\n",
       "      <td>1000</td>\n",
       "      <td>2018-12-27</td>\n",
       "    </tr>\n",
       "    <tr>\n",
       "      <th>4</th>\n",
       "      <td>1000_255</td>\n",
       "      <td>1000</td>\n",
       "      <td>2018-12-26</td>\n",
       "    </tr>\n",
       "  </tbody>\n",
       "</table>\n",
       "</div>"
      ],
      "text/plain": [
       "         id  user_id message_date\n",
       "0  1000_125     1000   2018-12-27\n",
       "1  1000_160     1000   2018-12-31\n",
       "2  1000_223     1000   2018-12-31\n",
       "3  1000_251     1000   2018-12-27\n",
       "4  1000_255     1000   2018-12-26"
      ]
     },
     "execution_count": 9,
     "metadata": {},
     "output_type": "execute_result"
    }
   ],
   "source": [
    "df_messages.head()"
   ]
  },
  {
   "cell_type": "code",
   "execution_count": 10,
   "metadata": {},
   "outputs": [
    {
     "name": "stdout",
     "output_type": "stream",
     "text": [
      "Número de filas duplicadas: 0\n",
      "\n"
     ]
    },
    {
     "data": {
      "text/html": [
       "<div>\n",
       "<style scoped>\n",
       "    .dataframe tbody tr th:only-of-type {\n",
       "        vertical-align: middle;\n",
       "    }\n",
       "\n",
       "    .dataframe tbody tr th {\n",
       "        vertical-align: top;\n",
       "    }\n",
       "\n",
       "    .dataframe thead th {\n",
       "        text-align: right;\n",
       "    }\n",
       "</style>\n",
       "<table border=\"1\" class=\"dataframe\">\n",
       "  <thead>\n",
       "    <tr style=\"text-align: right;\">\n",
       "      <th></th>\n",
       "      <th>id</th>\n",
       "      <th>user_id</th>\n",
       "      <th>message_date</th>\n",
       "    </tr>\n",
       "  </thead>\n",
       "  <tbody>\n",
       "  </tbody>\n",
       "</table>\n",
       "</div>"
      ],
      "text/plain": [
       "Empty DataFrame\n",
       "Columns: [id, user_id, message_date]\n",
       "Index: []"
      ]
     },
     "metadata": {},
     "output_type": "display_data"
    }
   ],
   "source": [
    "# Reviso si hay pedidos duplicados en el DataFrame messages\n",
    "\n",
    "duplicated_messages = df_messages[df_messages.duplicated()] #genero una variable que almacene los valores duplicados de orders\n",
    "\n",
    "print(\"Número de filas duplicadas:\", df_messages.duplicated().sum()) #imprimo la suma de duplicados\n",
    "\n",
    "print() #genero un espacio en blanco entre prints (solo para mejorar la visualización)\n",
    "\n",
    "display((duplicated_messages)) #imprimo las filas duplicadas"
   ]
  },
  {
   "cell_type": "code",
   "execution_count": 11,
   "metadata": {},
   "outputs": [
    {
     "name": "stdout",
     "output_type": "stream",
     "text": [
      "Número de valores ausentes en 'id': 0\n",
      "\n",
      "\n"
     ]
    },
    {
     "data": {
      "text/html": [
       "<div>\n",
       "<style scoped>\n",
       "    .dataframe tbody tr th:only-of-type {\n",
       "        vertical-align: middle;\n",
       "    }\n",
       "\n",
       "    .dataframe tbody tr th {\n",
       "        vertical-align: top;\n",
       "    }\n",
       "\n",
       "    .dataframe thead th {\n",
       "        text-align: right;\n",
       "    }\n",
       "</style>\n",
       "<table border=\"1\" class=\"dataframe\">\n",
       "  <thead>\n",
       "    <tr style=\"text-align: right;\">\n",
       "      <th></th>\n",
       "      <th>id</th>\n",
       "      <th>user_id</th>\n",
       "      <th>message_date</th>\n",
       "    </tr>\n",
       "  </thead>\n",
       "  <tbody>\n",
       "  </tbody>\n",
       "</table>\n",
       "</div>"
      ],
      "text/plain": [
       "Empty DataFrame\n",
       "Columns: [id, user_id, message_date]\n",
       "Index: []"
      ]
     },
     "metadata": {},
     "output_type": "display_data"
    }
   ],
   "source": [
    "# Encuentro los valores ausentes en la columna 'id'\n",
    "\n",
    "# Filtro las filas donde el valor de 'id' es nulo\n",
    "missing_id = df_messages[df_messages['id'].isnull()]\n",
    "\n",
    "# Imprimir el número de valores ausentes en la columna 'id'\n",
    "print(\"Número de valores ausentes en 'id':\", df_messages['id'].isnull().sum())\n",
    "\n",
    "# Genero un espacio en blanco entre prints (solo para mejorar la visualización)\n",
    "print(\"\\n\")\n",
    "\n",
    "# Imprimir las filas donde 'id' es nulo\n",
    "display(missing_id)"
   ]
  },
  {
   "cell_type": "code",
   "execution_count": 12,
   "metadata": {},
   "outputs": [
    {
     "data": {
      "text/html": [
       "<div>\n",
       "<style scoped>\n",
       "    .dataframe tbody tr th:only-of-type {\n",
       "        vertical-align: middle;\n",
       "    }\n",
       "\n",
       "    .dataframe tbody tr th {\n",
       "        vertical-align: top;\n",
       "    }\n",
       "\n",
       "    .dataframe thead th {\n",
       "        text-align: right;\n",
       "    }\n",
       "</style>\n",
       "<table border=\"1\" class=\"dataframe\">\n",
       "  <thead>\n",
       "    <tr style=\"text-align: right;\">\n",
       "      <th></th>\n",
       "      <th>messages_included</th>\n",
       "      <th>mb_per_month_included</th>\n",
       "      <th>minutes_included</th>\n",
       "      <th>usd_monthly_pay</th>\n",
       "      <th>usd_per_gb</th>\n",
       "      <th>usd_per_message</th>\n",
       "      <th>usd_per_minute</th>\n",
       "      <th>plan_name</th>\n",
       "    </tr>\n",
       "  </thead>\n",
       "  <tbody>\n",
       "    <tr>\n",
       "      <th>0</th>\n",
       "      <td>50</td>\n",
       "      <td>15360</td>\n",
       "      <td>500</td>\n",
       "      <td>20</td>\n",
       "      <td>10</td>\n",
       "      <td>0.03</td>\n",
       "      <td>0.03</td>\n",
       "      <td>surf</td>\n",
       "    </tr>\n",
       "    <tr>\n",
       "      <th>1</th>\n",
       "      <td>1000</td>\n",
       "      <td>30720</td>\n",
       "      <td>3000</td>\n",
       "      <td>70</td>\n",
       "      <td>7</td>\n",
       "      <td>0.01</td>\n",
       "      <td>0.01</td>\n",
       "      <td>ultimate</td>\n",
       "    </tr>\n",
       "  </tbody>\n",
       "</table>\n",
       "</div>"
      ],
      "text/plain": [
       "   messages_included  mb_per_month_included  minutes_included  \\\n",
       "0                 50                  15360               500   \n",
       "1               1000                  30720              3000   \n",
       "\n",
       "   usd_monthly_pay  usd_per_gb  usd_per_message  usd_per_minute plan_name  \n",
       "0               20          10             0.03            0.03      surf  \n",
       "1               70           7             0.01            0.01  ultimate  "
      ]
     },
     "execution_count": 12,
     "metadata": {},
     "output_type": "execute_result"
    }
   ],
   "source": [
    "df_plans.head()"
   ]
  },
  {
   "cell_type": "code",
   "execution_count": 13,
   "metadata": {},
   "outputs": [
    {
     "data": {
      "text/html": [
       "<div>\n",
       "<style scoped>\n",
       "    .dataframe tbody tr th:only-of-type {\n",
       "        vertical-align: middle;\n",
       "    }\n",
       "\n",
       "    .dataframe tbody tr th {\n",
       "        vertical-align: top;\n",
       "    }\n",
       "\n",
       "    .dataframe thead th {\n",
       "        text-align: right;\n",
       "    }\n",
       "</style>\n",
       "<table border=\"1\" class=\"dataframe\">\n",
       "  <thead>\n",
       "    <tr style=\"text-align: right;\">\n",
       "      <th></th>\n",
       "      <th>user_id</th>\n",
       "      <th>first_name</th>\n",
       "      <th>last_name</th>\n",
       "      <th>age</th>\n",
       "      <th>city</th>\n",
       "      <th>reg_date</th>\n",
       "      <th>plan</th>\n",
       "      <th>churn_date</th>\n",
       "    </tr>\n",
       "  </thead>\n",
       "  <tbody>\n",
       "    <tr>\n",
       "      <th>0</th>\n",
       "      <td>1000</td>\n",
       "      <td>Anamaria</td>\n",
       "      <td>Bauer</td>\n",
       "      <td>45</td>\n",
       "      <td>Atlanta-Sandy Springs-Roswell, GA MSA</td>\n",
       "      <td>2018-12-24</td>\n",
       "      <td>ultimate</td>\n",
       "      <td>NaN</td>\n",
       "    </tr>\n",
       "    <tr>\n",
       "      <th>1</th>\n",
       "      <td>1001</td>\n",
       "      <td>Mickey</td>\n",
       "      <td>Wilkerson</td>\n",
       "      <td>28</td>\n",
       "      <td>Seattle-Tacoma-Bellevue, WA MSA</td>\n",
       "      <td>2018-08-13</td>\n",
       "      <td>surf</td>\n",
       "      <td>NaN</td>\n",
       "    </tr>\n",
       "    <tr>\n",
       "      <th>2</th>\n",
       "      <td>1002</td>\n",
       "      <td>Carlee</td>\n",
       "      <td>Hoffman</td>\n",
       "      <td>36</td>\n",
       "      <td>Las Vegas-Henderson-Paradise, NV MSA</td>\n",
       "      <td>2018-10-21</td>\n",
       "      <td>surf</td>\n",
       "      <td>NaN</td>\n",
       "    </tr>\n",
       "    <tr>\n",
       "      <th>3</th>\n",
       "      <td>1003</td>\n",
       "      <td>Reynaldo</td>\n",
       "      <td>Jenkins</td>\n",
       "      <td>52</td>\n",
       "      <td>Tulsa, OK MSA</td>\n",
       "      <td>2018-01-28</td>\n",
       "      <td>surf</td>\n",
       "      <td>NaN</td>\n",
       "    </tr>\n",
       "    <tr>\n",
       "      <th>4</th>\n",
       "      <td>1004</td>\n",
       "      <td>Leonila</td>\n",
       "      <td>Thompson</td>\n",
       "      <td>40</td>\n",
       "      <td>Seattle-Tacoma-Bellevue, WA MSA</td>\n",
       "      <td>2018-05-23</td>\n",
       "      <td>surf</td>\n",
       "      <td>NaN</td>\n",
       "    </tr>\n",
       "  </tbody>\n",
       "</table>\n",
       "</div>"
      ],
      "text/plain": [
       "   user_id first_name  last_name  age                                   city  \\\n",
       "0     1000   Anamaria      Bauer   45  Atlanta-Sandy Springs-Roswell, GA MSA   \n",
       "1     1001     Mickey  Wilkerson   28        Seattle-Tacoma-Bellevue, WA MSA   \n",
       "2     1002     Carlee    Hoffman   36   Las Vegas-Henderson-Paradise, NV MSA   \n",
       "3     1003   Reynaldo    Jenkins   52                          Tulsa, OK MSA   \n",
       "4     1004    Leonila   Thompson   40        Seattle-Tacoma-Bellevue, WA MSA   \n",
       "\n",
       "     reg_date      plan churn_date  \n",
       "0  2018-12-24  ultimate        NaN  \n",
       "1  2018-08-13      surf        NaN  \n",
       "2  2018-10-21      surf        NaN  \n",
       "3  2018-01-28      surf        NaN  \n",
       "4  2018-05-23      surf        NaN  "
      ]
     },
     "execution_count": 13,
     "metadata": {},
     "output_type": "execute_result"
    }
   ],
   "source": [
    "df_users.head()"
   ]
  },
  {
   "cell_type": "code",
   "execution_count": 14,
   "metadata": {},
   "outputs": [
    {
     "name": "stdout",
     "output_type": "stream",
     "text": [
      "Número de filas duplicadas: 0\n",
      "\n"
     ]
    },
    {
     "data": {
      "text/html": [
       "<div>\n",
       "<style scoped>\n",
       "    .dataframe tbody tr th:only-of-type {\n",
       "        vertical-align: middle;\n",
       "    }\n",
       "\n",
       "    .dataframe tbody tr th {\n",
       "        vertical-align: top;\n",
       "    }\n",
       "\n",
       "    .dataframe thead th {\n",
       "        text-align: right;\n",
       "    }\n",
       "</style>\n",
       "<table border=\"1\" class=\"dataframe\">\n",
       "  <thead>\n",
       "    <tr style=\"text-align: right;\">\n",
       "      <th></th>\n",
       "      <th>user_id</th>\n",
       "      <th>first_name</th>\n",
       "      <th>last_name</th>\n",
       "      <th>age</th>\n",
       "      <th>city</th>\n",
       "      <th>reg_date</th>\n",
       "      <th>plan</th>\n",
       "      <th>churn_date</th>\n",
       "    </tr>\n",
       "  </thead>\n",
       "  <tbody>\n",
       "  </tbody>\n",
       "</table>\n",
       "</div>"
      ],
      "text/plain": [
       "Empty DataFrame\n",
       "Columns: [user_id, first_name, last_name, age, city, reg_date, plan, churn_date]\n",
       "Index: []"
      ]
     },
     "metadata": {},
     "output_type": "display_data"
    }
   ],
   "source": [
    "# Reviso si hay pedidos duplicados en el DataFrame users\n",
    "\n",
    "duplicated_users = df_users[df_users.duplicated()] #genero una variable que almacene los valores duplicados de orders\n",
    "\n",
    "print(\"Número de filas duplicadas:\", df_users.duplicated().sum()) #imprimo la suma de duplicados\n",
    "\n",
    "print() #genero un espacio en blanco entre prints (solo para mejorar la visualización)\n",
    "\n",
    "display((duplicated_users)) #imprimo las filas duplicadas"
   ]
  },
  {
   "cell_type": "code",
   "execution_count": 15,
   "metadata": {},
   "outputs": [
    {
     "name": "stdout",
     "output_type": "stream",
     "text": [
      "Número de valores ausentes en 'user_id': 0\n",
      "\n",
      "\n"
     ]
    },
    {
     "data": {
      "text/html": [
       "<div>\n",
       "<style scoped>\n",
       "    .dataframe tbody tr th:only-of-type {\n",
       "        vertical-align: middle;\n",
       "    }\n",
       "\n",
       "    .dataframe tbody tr th {\n",
       "        vertical-align: top;\n",
       "    }\n",
       "\n",
       "    .dataframe thead th {\n",
       "        text-align: right;\n",
       "    }\n",
       "</style>\n",
       "<table border=\"1\" class=\"dataframe\">\n",
       "  <thead>\n",
       "    <tr style=\"text-align: right;\">\n",
       "      <th></th>\n",
       "      <th>user_id</th>\n",
       "      <th>first_name</th>\n",
       "      <th>last_name</th>\n",
       "      <th>age</th>\n",
       "      <th>city</th>\n",
       "      <th>reg_date</th>\n",
       "      <th>plan</th>\n",
       "      <th>churn_date</th>\n",
       "    </tr>\n",
       "  </thead>\n",
       "  <tbody>\n",
       "  </tbody>\n",
       "</table>\n",
       "</div>"
      ],
      "text/plain": [
       "Empty DataFrame\n",
       "Columns: [user_id, first_name, last_name, age, city, reg_date, plan, churn_date]\n",
       "Index: []"
      ]
     },
     "metadata": {},
     "output_type": "display_data"
    }
   ],
   "source": [
    "# Encuentro los valores ausentes en la columna 'user_id'\n",
    "\n",
    "# Filtro las filas donde el valor de 'id' es nulo\n",
    "missing_user_id = df_users[df_users['user_id'].isnull()]\n",
    "\n",
    "# Imprimir el número de valores ausentes en la columna 'user_id'\n",
    "print(\"Número de valores ausentes en 'user_id':\", df_messages['user_id'].isnull().sum())\n",
    "\n",
    "# Genero un espacio en blanco entre prints (solo para mejorar la visualización)\n",
    "print(\"\\n\")\n",
    "\n",
    "# Imprimir las filas donde 'user_id' es nulo\n",
    "display(missing_user_id)"
   ]
  },
  {
   "cell_type": "markdown",
   "metadata": {
    "id": "ohBhimvH0q01"
   },
   "source": [
    "## Tarifas"
   ]
  },
  {
   "cell_type": "code",
   "execution_count": 16,
   "metadata": {
    "id": "GptqP3Q40q02"
   },
   "outputs": [
    {
     "name": "stdout",
     "output_type": "stream",
     "text": [
      "<class 'pandas.core.frame.DataFrame'>\n",
      "RangeIndex: 2 entries, 0 to 1\n",
      "Data columns (total 8 columns):\n",
      " #   Column                 Non-Null Count  Dtype  \n",
      "---  ------                 --------------  -----  \n",
      " 0   messages_included      2 non-null      int64  \n",
      " 1   mb_per_month_included  2 non-null      int64  \n",
      " 2   minutes_included       2 non-null      int64  \n",
      " 3   usd_monthly_pay        2 non-null      int64  \n",
      " 4   usd_per_gb             2 non-null      int64  \n",
      " 5   usd_per_message        2 non-null      float64\n",
      " 6   usd_per_minute         2 non-null      float64\n",
      " 7   plan_name              2 non-null      object \n",
      "dtypes: float64(2), int64(5), object(1)\n",
      "memory usage: 256.0+ bytes\n",
      "None\n"
     ]
    }
   ],
   "source": [
    "# Imprime la información general/resumida sobre el DataFrame de las tarifas\n",
    "\n",
    "print(df_plans.info())"
   ]
  },
  {
   "cell_type": "code",
   "execution_count": 17,
   "metadata": {
    "id": "64xzjwL70q02"
   },
   "outputs": [
    {
     "data": {
      "text/html": [
       "<div>\n",
       "<style scoped>\n",
       "    .dataframe tbody tr th:only-of-type {\n",
       "        vertical-align: middle;\n",
       "    }\n",
       "\n",
       "    .dataframe tbody tr th {\n",
       "        vertical-align: top;\n",
       "    }\n",
       "\n",
       "    .dataframe thead th {\n",
       "        text-align: right;\n",
       "    }\n",
       "</style>\n",
       "<table border=\"1\" class=\"dataframe\">\n",
       "  <thead>\n",
       "    <tr style=\"text-align: right;\">\n",
       "      <th></th>\n",
       "      <th>messages_included</th>\n",
       "      <th>mb_per_month_included</th>\n",
       "      <th>minutes_included</th>\n",
       "      <th>usd_monthly_pay</th>\n",
       "      <th>usd_per_gb</th>\n",
       "      <th>usd_per_message</th>\n",
       "      <th>usd_per_minute</th>\n",
       "      <th>plan_name</th>\n",
       "    </tr>\n",
       "  </thead>\n",
       "  <tbody>\n",
       "    <tr>\n",
       "      <th>1</th>\n",
       "      <td>1000</td>\n",
       "      <td>30720</td>\n",
       "      <td>3000</td>\n",
       "      <td>70</td>\n",
       "      <td>7</td>\n",
       "      <td>0.01</td>\n",
       "      <td>0.01</td>\n",
       "      <td>ultimate</td>\n",
       "    </tr>\n",
       "    <tr>\n",
       "      <th>0</th>\n",
       "      <td>50</td>\n",
       "      <td>15360</td>\n",
       "      <td>500</td>\n",
       "      <td>20</td>\n",
       "      <td>10</td>\n",
       "      <td>0.03</td>\n",
       "      <td>0.03</td>\n",
       "      <td>surf</td>\n",
       "    </tr>\n",
       "  </tbody>\n",
       "</table>\n",
       "</div>"
      ],
      "text/plain": [
       "   messages_included  mb_per_month_included  minutes_included  \\\n",
       "1               1000                  30720              3000   \n",
       "0                 50                  15360               500   \n",
       "\n",
       "   usd_monthly_pay  usd_per_gb  usd_per_message  usd_per_minute plan_name  \n",
       "1               70           7             0.01            0.01  ultimate  \n",
       "0               20          10             0.03            0.03      surf  "
      ]
     },
     "execution_count": 17,
     "metadata": {},
     "output_type": "execute_result"
    }
   ],
   "source": [
    "# Imprime una muestra de los datos para las tarifas\n",
    "\n",
    "df_plans.sample(2)\n"
   ]
  },
  {
   "cell_type": "markdown",
   "metadata": {},
   "source": [
    "El DataFrame df_plans tiene:\n",
    "\n",
    "2 entradas (registros) y 8 columnas.\n",
    "\n",
    "No hay valores ausentes en ninguna de las columnas (todos tienen un non-null count igual a 2).\n",
    "\n",
    "Los tipos de datos parecen adecuados: la mayoría son int64 (enteros), excepto por usd_per_message y usd_per_minute que son float64 (flotantes), y plan_name que es object (texto).\n",
    "\n",
    "No parece haber ningún problema con los tipos de datos.\n",
    "\n",
    "No hay datos ausentes.\n"
   ]
  },
  {
   "cell_type": "markdown",
   "metadata": {
    "id": "R3C05i1l0q03"
   },
   "source": [
    "## Corregir datos"
   ]
  },
  {
   "cell_type": "markdown",
   "metadata": {
    "id": "Y7SVmjGn0q03"
   },
   "source": [
    "En este DataFrame no encuentro ningún dato para corregir. Por lo tanto, se deja sin modificación."
   ]
  },
  {
   "cell_type": "markdown",
   "metadata": {
    "id": "LJir7bml0q03"
   },
   "source": [
    "## Enriquecer los datos"
   ]
  },
  {
   "cell_type": "markdown",
   "metadata": {},
   "source": [
    "En este DataFrame no considero neceario incluir más datos."
   ]
  },
  {
   "cell_type": "markdown",
   "metadata": {
    "id": "1n2X6WXf0q04"
   },
   "source": [
    "## Usuarios/as"
   ]
  },
  {
   "cell_type": "code",
   "execution_count": 18,
   "metadata": {
    "id": "2NgjWFqx0q05"
   },
   "outputs": [
    {
     "name": "stdout",
     "output_type": "stream",
     "text": [
      "<class 'pandas.core.frame.DataFrame'>\n",
      "RangeIndex: 500 entries, 0 to 499\n",
      "Data columns (total 8 columns):\n",
      " #   Column      Non-Null Count  Dtype \n",
      "---  ------      --------------  ----- \n",
      " 0   user_id     500 non-null    int64 \n",
      " 1   first_name  500 non-null    object\n",
      " 2   last_name   500 non-null    object\n",
      " 3   age         500 non-null    int64 \n",
      " 4   city        500 non-null    object\n",
      " 5   reg_date    500 non-null    object\n",
      " 6   plan        500 non-null    object\n",
      " 7   churn_date  34 non-null     object\n",
      "dtypes: int64(2), object(6)\n",
      "memory usage: 31.4+ KB\n",
      "None\n"
     ]
    }
   ],
   "source": [
    "# Imprime la información general/resumida sobre el DataFrame de usuarios\n",
    "\n",
    "print(df_users.info())"
   ]
  },
  {
   "cell_type": "code",
   "execution_count": 19,
   "metadata": {
    "id": "1IN1L9uh0q05"
   },
   "outputs": [
    {
     "data": {
      "text/html": [
       "<div>\n",
       "<style scoped>\n",
       "    .dataframe tbody tr th:only-of-type {\n",
       "        vertical-align: middle;\n",
       "    }\n",
       "\n",
       "    .dataframe tbody tr th {\n",
       "        vertical-align: top;\n",
       "    }\n",
       "\n",
       "    .dataframe thead th {\n",
       "        text-align: right;\n",
       "    }\n",
       "</style>\n",
       "<table border=\"1\" class=\"dataframe\">\n",
       "  <thead>\n",
       "    <tr style=\"text-align: right;\">\n",
       "      <th></th>\n",
       "      <th>user_id</th>\n",
       "      <th>first_name</th>\n",
       "      <th>last_name</th>\n",
       "      <th>age</th>\n",
       "      <th>city</th>\n",
       "      <th>reg_date</th>\n",
       "      <th>plan</th>\n",
       "      <th>churn_date</th>\n",
       "    </tr>\n",
       "  </thead>\n",
       "  <tbody>\n",
       "    <tr>\n",
       "      <th>271</th>\n",
       "      <td>1271</td>\n",
       "      <td>Darrin</td>\n",
       "      <td>Rose</td>\n",
       "      <td>48</td>\n",
       "      <td>New York-Newark-Jersey City, NY-NJ-PA MSA</td>\n",
       "      <td>2018-06-24</td>\n",
       "      <td>surf</td>\n",
       "      <td>NaN</td>\n",
       "    </tr>\n",
       "    <tr>\n",
       "      <th>282</th>\n",
       "      <td>1282</td>\n",
       "      <td>Annice</td>\n",
       "      <td>Calhoun</td>\n",
       "      <td>61</td>\n",
       "      <td>San Francisco-Oakland-Berkeley, CA MSA</td>\n",
       "      <td>2018-11-01</td>\n",
       "      <td>ultimate</td>\n",
       "      <td>NaN</td>\n",
       "    </tr>\n",
       "    <tr>\n",
       "      <th>491</th>\n",
       "      <td>1491</td>\n",
       "      <td>Terina</td>\n",
       "      <td>Jensen</td>\n",
       "      <td>22</td>\n",
       "      <td>Grand Rapids-Kentwood, MI MSA</td>\n",
       "      <td>2018-04-27</td>\n",
       "      <td>surf</td>\n",
       "      <td>2018-09-18</td>\n",
       "    </tr>\n",
       "    <tr>\n",
       "      <th>176</th>\n",
       "      <td>1176</td>\n",
       "      <td>Terrance</td>\n",
       "      <td>Shaffer</td>\n",
       "      <td>75</td>\n",
       "      <td>New York-Newark-Jersey City, NY-NJ-PA MSA</td>\n",
       "      <td>2018-10-03</td>\n",
       "      <td>surf</td>\n",
       "      <td>NaN</td>\n",
       "    </tr>\n",
       "    <tr>\n",
       "      <th>117</th>\n",
       "      <td>1117</td>\n",
       "      <td>Hank</td>\n",
       "      <td>Taylor</td>\n",
       "      <td>49</td>\n",
       "      <td>Dallas-Fort Worth-Arlington, TX MSA</td>\n",
       "      <td>2018-01-24</td>\n",
       "      <td>surf</td>\n",
       "      <td>NaN</td>\n",
       "    </tr>\n",
       "  </tbody>\n",
       "</table>\n",
       "</div>"
      ],
      "text/plain": [
       "     user_id first_name last_name  age  \\\n",
       "271     1271     Darrin      Rose   48   \n",
       "282     1282     Annice   Calhoun   61   \n",
       "491     1491     Terina    Jensen   22   \n",
       "176     1176   Terrance   Shaffer   75   \n",
       "117     1117       Hank    Taylor   49   \n",
       "\n",
       "                                          city    reg_date      plan  \\\n",
       "271  New York-Newark-Jersey City, NY-NJ-PA MSA  2018-06-24      surf   \n",
       "282     San Francisco-Oakland-Berkeley, CA MSA  2018-11-01  ultimate   \n",
       "491              Grand Rapids-Kentwood, MI MSA  2018-04-27      surf   \n",
       "176  New York-Newark-Jersey City, NY-NJ-PA MSA  2018-10-03      surf   \n",
       "117        Dallas-Fort Worth-Arlington, TX MSA  2018-01-24      surf   \n",
       "\n",
       "     churn_date  \n",
       "271         NaN  \n",
       "282         NaN  \n",
       "491  2018-09-18  \n",
       "176         NaN  \n",
       "117         NaN  "
      ]
     },
     "execution_count": 19,
     "metadata": {},
     "output_type": "execute_result"
    }
   ],
   "source": [
    "# Imprime una muestra de datos para usuarios\n",
    "\n",
    "df_users.sample(5)\n",
    "\n"
   ]
  },
  {
   "cell_type": "markdown",
   "metadata": {},
   "source": [
    "El DataFrame df_users tiene 500 entradas (registros) y 8 columnas.\n",
    "\n",
    "Las columnas user_id y age son int64 (enteros).\n",
    "\n",
    "Las columnas first_name, last_name, city, reg_date, plan, y churn_date son object (texto).\n",
    "\n",
    "La columna churn_date tiene valores ausentes en 466 de las 500 entradas.\n",
    "\n",
    "La columna reg_date debería ser de tipo datetime para facilitar el análisis temporal.\n",
    "\n",
    "La columna churn_date, que actualmente es de tipo object y tiene valores ausentes, también debería convertirse a tipo datetime.\n",
    "\n",
    "La columna churn_date tiene muchos valores ausentes (466 de 500). Sin embargo, esto corresponde a la fecha en la que el usuario dejó de usar el servicio (si el valor es ausente, la tarifa se estaba usando cuando fue extraída esta base de datos), por lo tanto no necesitan ser reemplazados.\n",
    "\n"
   ]
  },
  {
   "cell_type": "markdown",
   "metadata": {
    "id": "BX5FQh_I0q06"
   },
   "source": [
    "### Corregir los datos"
   ]
  },
  {
   "cell_type": "code",
   "execution_count": 20,
   "metadata": {
    "id": "yUqX-K0C0q07"
   },
   "outputs": [
    {
     "name": "stdout",
     "output_type": "stream",
     "text": [
      "<class 'pandas.core.frame.DataFrame'>\n",
      "RangeIndex: 500 entries, 0 to 499\n",
      "Data columns (total 8 columns):\n",
      " #   Column      Non-Null Count  Dtype         \n",
      "---  ------      --------------  -----         \n",
      " 0   user_id     500 non-null    int64         \n",
      " 1   first_name  500 non-null    object        \n",
      " 2   last_name   500 non-null    object        \n",
      " 3   age         500 non-null    int64         \n",
      " 4   city        500 non-null    object        \n",
      " 5   reg_date    500 non-null    datetime64[ns]\n",
      " 6   plan        500 non-null    object        \n",
      " 7   churn_date  34 non-null     datetime64[ns]\n",
      "dtypes: datetime64[ns](2), int64(2), object(4)\n",
      "memory usage: 31.4+ KB\n",
      "None\n"
     ]
    },
    {
     "data": {
      "text/html": [
       "<div>\n",
       "<style scoped>\n",
       "    .dataframe tbody tr th:only-of-type {\n",
       "        vertical-align: middle;\n",
       "    }\n",
       "\n",
       "    .dataframe tbody tr th {\n",
       "        vertical-align: top;\n",
       "    }\n",
       "\n",
       "    .dataframe thead th {\n",
       "        text-align: right;\n",
       "    }\n",
       "</style>\n",
       "<table border=\"1\" class=\"dataframe\">\n",
       "  <thead>\n",
       "    <tr style=\"text-align: right;\">\n",
       "      <th></th>\n",
       "      <th>user_id</th>\n",
       "      <th>first_name</th>\n",
       "      <th>last_name</th>\n",
       "      <th>age</th>\n",
       "      <th>city</th>\n",
       "      <th>reg_date</th>\n",
       "      <th>plan</th>\n",
       "      <th>churn_date</th>\n",
       "    </tr>\n",
       "  </thead>\n",
       "  <tbody>\n",
       "    <tr>\n",
       "      <th>194</th>\n",
       "      <td>1194</td>\n",
       "      <td>Robert</td>\n",
       "      <td>Mclean</td>\n",
       "      <td>40</td>\n",
       "      <td>San Jose-Sunnyvale-Santa Clara, CA MSA</td>\n",
       "      <td>2018-05-31</td>\n",
       "      <td>surf</td>\n",
       "      <td>NaT</td>\n",
       "    </tr>\n",
       "    <tr>\n",
       "      <th>202</th>\n",
       "      <td>1202</td>\n",
       "      <td>Osvaldo</td>\n",
       "      <td>Mayer</td>\n",
       "      <td>36</td>\n",
       "      <td>Minneapolis-St. Paul-Bloomington, MN-WI MSA</td>\n",
       "      <td>2018-09-30</td>\n",
       "      <td>ultimate</td>\n",
       "      <td>NaT</td>\n",
       "    </tr>\n",
       "    <tr>\n",
       "      <th>122</th>\n",
       "      <td>1122</td>\n",
       "      <td>Lashay</td>\n",
       "      <td>Reese</td>\n",
       "      <td>57</td>\n",
       "      <td>Miami-Fort Lauderdale-West Palm Beach, FL MSA</td>\n",
       "      <td>2018-03-04</td>\n",
       "      <td>surf</td>\n",
       "      <td>NaT</td>\n",
       "    </tr>\n",
       "    <tr>\n",
       "      <th>73</th>\n",
       "      <td>1073</td>\n",
       "      <td>Grady</td>\n",
       "      <td>Crawford</td>\n",
       "      <td>30</td>\n",
       "      <td>Chicago-Naperville-Elgin, IL-IN-WI MSA</td>\n",
       "      <td>2018-04-06</td>\n",
       "      <td>surf</td>\n",
       "      <td>NaT</td>\n",
       "    </tr>\n",
       "    <tr>\n",
       "      <th>358</th>\n",
       "      <td>1358</td>\n",
       "      <td>Vaughn</td>\n",
       "      <td>Maldonado</td>\n",
       "      <td>20</td>\n",
       "      <td>New York-Newark-Jersey City, NY-NJ-PA MSA</td>\n",
       "      <td>2018-04-26</td>\n",
       "      <td>surf</td>\n",
       "      <td>2018-10-22</td>\n",
       "    </tr>\n",
       "  </tbody>\n",
       "</table>\n",
       "</div>"
      ],
      "text/plain": [
       "     user_id first_name  last_name  age  \\\n",
       "194     1194     Robert     Mclean   40   \n",
       "202     1202    Osvaldo      Mayer   36   \n",
       "122     1122     Lashay      Reese   57   \n",
       "73      1073      Grady   Crawford   30   \n",
       "358     1358     Vaughn  Maldonado   20   \n",
       "\n",
       "                                              city   reg_date      plan  \\\n",
       "194         San Jose-Sunnyvale-Santa Clara, CA MSA 2018-05-31      surf   \n",
       "202    Minneapolis-St. Paul-Bloomington, MN-WI MSA 2018-09-30  ultimate   \n",
       "122  Miami-Fort Lauderdale-West Palm Beach, FL MSA 2018-03-04      surf   \n",
       "73          Chicago-Naperville-Elgin, IL-IN-WI MSA 2018-04-06      surf   \n",
       "358      New York-Newark-Jersey City, NY-NJ-PA MSA 2018-04-26      surf   \n",
       "\n",
       "    churn_date  \n",
       "194        NaT  \n",
       "202        NaT  \n",
       "122        NaT  \n",
       "73         NaT  \n",
       "358 2018-10-22  "
      ]
     },
     "execution_count": 20,
     "metadata": {},
     "output_type": "execute_result"
    }
   ],
   "source": [
    "df_users['reg_date'] = pd.to_datetime(df_users['reg_date'], format='%Y-%m-%dT%H:%M:%S') #convierto 'reg_date'a tipo datetime\n",
    "\n",
    "df_users['churn_date'] = pd.to_datetime(df_users['churn_date'], format='%Y-%m-%dT%H:%M:%S', errors='coerce')\n",
    "\n",
    "    #convierto 'churn_date' a tipo datetime. Uso errors='coerce', así cualquier valor que no pueda convertirse a un formato de \n",
    "\n",
    "    #fecha y hora válido se convertirá en NaT (Not a Time), en lugar de generar un error.\n",
    "    \n",
    "\n",
    "#imprimo nuevamente la info del df para verificar la conversión del tipo de datos, y nuevamemente una muestra para verificar \n",
    "#el manejo de errorres.\n",
    "\n",
    "print(df_users.info())\n",
    "\n",
    "df_users.sample(5)"
   ]
  },
  {
   "cell_type": "markdown",
   "metadata": {
    "id": "ycwuARJp0q07"
   },
   "source": [
    "### Enriquecer los datos"
   ]
  },
  {
   "cell_type": "markdown",
   "metadata": {},
   "source": [
    "Dado que en las instrucciones del proyecto se nos pide encontrar los minutos, SMS y volumen de datos que requieren los usuarios de cada tarifa POR MES, es necesario agregar una columna que contenga el mes."
   ]
  },
  {
   "cell_type": "code",
   "execution_count": 21,
   "metadata": {
    "id": "iq0AaBS90q08"
   },
   "outputs": [
    {
     "data": {
      "text/html": [
       "<div>\n",
       "<style scoped>\n",
       "    .dataframe tbody tr th:only-of-type {\n",
       "        vertical-align: middle;\n",
       "    }\n",
       "\n",
       "    .dataframe tbody tr th {\n",
       "        vertical-align: top;\n",
       "    }\n",
       "\n",
       "    .dataframe thead th {\n",
       "        text-align: right;\n",
       "    }\n",
       "</style>\n",
       "<table border=\"1\" class=\"dataframe\">\n",
       "  <thead>\n",
       "    <tr style=\"text-align: right;\">\n",
       "      <th></th>\n",
       "      <th>user_id</th>\n",
       "      <th>first_name</th>\n",
       "      <th>last_name</th>\n",
       "      <th>age</th>\n",
       "      <th>city</th>\n",
       "      <th>reg_date</th>\n",
       "      <th>plan</th>\n",
       "      <th>churn_date</th>\n",
       "      <th>month</th>\n",
       "    </tr>\n",
       "  </thead>\n",
       "  <tbody>\n",
       "    <tr>\n",
       "      <th>409</th>\n",
       "      <td>1409</td>\n",
       "      <td>Elvis</td>\n",
       "      <td>Vargas</td>\n",
       "      <td>38</td>\n",
       "      <td>Charlotte-Concord-Gastonia, NC-SC MSA</td>\n",
       "      <td>2018-10-04</td>\n",
       "      <td>ultimate</td>\n",
       "      <td>NaT</td>\n",
       "      <td>10</td>\n",
       "    </tr>\n",
       "    <tr>\n",
       "      <th>26</th>\n",
       "      <td>1026</td>\n",
       "      <td>Meggan</td>\n",
       "      <td>Hamilton</td>\n",
       "      <td>49</td>\n",
       "      <td>Houston-The Woodlands-Sugar Land, TX MSA</td>\n",
       "      <td>2018-07-20</td>\n",
       "      <td>ultimate</td>\n",
       "      <td>NaT</td>\n",
       "      <td>7</td>\n",
       "    </tr>\n",
       "    <tr>\n",
       "      <th>491</th>\n",
       "      <td>1491</td>\n",
       "      <td>Terina</td>\n",
       "      <td>Jensen</td>\n",
       "      <td>22</td>\n",
       "      <td>Grand Rapids-Kentwood, MI MSA</td>\n",
       "      <td>2018-04-27</td>\n",
       "      <td>surf</td>\n",
       "      <td>2018-09-18</td>\n",
       "      <td>4</td>\n",
       "    </tr>\n",
       "    <tr>\n",
       "      <th>207</th>\n",
       "      <td>1207</td>\n",
       "      <td>Samuel</td>\n",
       "      <td>Porter</td>\n",
       "      <td>63</td>\n",
       "      <td>Omaha-Council Bluffs, NE-IA MSA</td>\n",
       "      <td>2018-12-22</td>\n",
       "      <td>surf</td>\n",
       "      <td>NaT</td>\n",
       "      <td>12</td>\n",
       "    </tr>\n",
       "    <tr>\n",
       "      <th>245</th>\n",
       "      <td>1245</td>\n",
       "      <td>Quinn</td>\n",
       "      <td>David</td>\n",
       "      <td>30</td>\n",
       "      <td>New York-Newark-Jersey City, NY-NJ-PA MSA</td>\n",
       "      <td>2018-06-19</td>\n",
       "      <td>surf</td>\n",
       "      <td>NaT</td>\n",
       "      <td>6</td>\n",
       "    </tr>\n",
       "  </tbody>\n",
       "</table>\n",
       "</div>"
      ],
      "text/plain": [
       "     user_id first_name last_name  age  \\\n",
       "409     1409      Elvis    Vargas   38   \n",
       "26      1026     Meggan  Hamilton   49   \n",
       "491     1491     Terina    Jensen   22   \n",
       "207     1207     Samuel    Porter   63   \n",
       "245     1245      Quinn     David   30   \n",
       "\n",
       "                                          city   reg_date      plan  \\\n",
       "409      Charlotte-Concord-Gastonia, NC-SC MSA 2018-10-04  ultimate   \n",
       "26    Houston-The Woodlands-Sugar Land, TX MSA 2018-07-20  ultimate   \n",
       "491              Grand Rapids-Kentwood, MI MSA 2018-04-27      surf   \n",
       "207            Omaha-Council Bluffs, NE-IA MSA 2018-12-22      surf   \n",
       "245  New York-Newark-Jersey City, NY-NJ-PA MSA 2018-06-19      surf   \n",
       "\n",
       "    churn_date  month  \n",
       "409        NaT     10  \n",
       "26         NaT      7  \n",
       "491 2018-09-18      4  \n",
       "207        NaT     12  \n",
       "245        NaT      6  "
      ]
     },
     "execution_count": 21,
     "metadata": {},
     "output_type": "execute_result"
    }
   ],
   "source": [
    "\n",
    "\n",
    "df_users['month'] = df_users['reg_date'].dt.month #creo la columna mes (month)\n",
    "\n",
    "#verifico la creación de la columna imprimiendo nuevamente una muestra\n",
    "\n",
    "df_users.sample(5)\n",
    "\n"
   ]
  },
  {
   "cell_type": "markdown",
   "metadata": {
    "id": "o7MeKCid0q08"
   },
   "source": [
    "## Llamadas"
   ]
  },
  {
   "cell_type": "code",
   "execution_count": 22,
   "metadata": {
    "id": "6dDlnoDm0q08"
   },
   "outputs": [
    {
     "name": "stdout",
     "output_type": "stream",
     "text": [
      "<class 'pandas.core.frame.DataFrame'>\n",
      "RangeIndex: 137735 entries, 0 to 137734\n",
      "Data columns (total 4 columns):\n",
      " #   Column     Non-Null Count   Dtype  \n",
      "---  ------     --------------   -----  \n",
      " 0   id         137735 non-null  object \n",
      " 1   user_id    137735 non-null  int64  \n",
      " 2   call_date  137735 non-null  object \n",
      " 3   duration   137735 non-null  float64\n",
      "dtypes: float64(1), int64(1), object(2)\n",
      "memory usage: 4.2+ MB\n",
      "None\n"
     ]
    }
   ],
   "source": [
    "# Imprime la información general/resumida sobre el DataFrame de las llamadas\n",
    "\n",
    "print(df_calls.info())\n"
   ]
  },
  {
   "cell_type": "code",
   "execution_count": 23,
   "metadata": {
    "id": "kuh1vlNB0q09"
   },
   "outputs": [
    {
     "data": {
      "text/html": [
       "<div>\n",
       "<style scoped>\n",
       "    .dataframe tbody tr th:only-of-type {\n",
       "        vertical-align: middle;\n",
       "    }\n",
       "\n",
       "    .dataframe tbody tr th {\n",
       "        vertical-align: top;\n",
       "    }\n",
       "\n",
       "    .dataframe thead th {\n",
       "        text-align: right;\n",
       "    }\n",
       "</style>\n",
       "<table border=\"1\" class=\"dataframe\">\n",
       "  <thead>\n",
       "    <tr style=\"text-align: right;\">\n",
       "      <th></th>\n",
       "      <th>id</th>\n",
       "      <th>user_id</th>\n",
       "      <th>call_date</th>\n",
       "      <th>duration</th>\n",
       "    </tr>\n",
       "  </thead>\n",
       "  <tbody>\n",
       "    <tr>\n",
       "      <th>52134</th>\n",
       "      <td>1187_327</td>\n",
       "      <td>1187</td>\n",
       "      <td>2018-06-11</td>\n",
       "      <td>17.62</td>\n",
       "    </tr>\n",
       "    <tr>\n",
       "      <th>92143</th>\n",
       "      <td>1331_34</td>\n",
       "      <td>1331</td>\n",
       "      <td>2018-09-18</td>\n",
       "      <td>3.38</td>\n",
       "    </tr>\n",
       "    <tr>\n",
       "      <th>27736</th>\n",
       "      <td>1105_287</td>\n",
       "      <td>1105</td>\n",
       "      <td>2018-10-21</td>\n",
       "      <td>2.59</td>\n",
       "    </tr>\n",
       "    <tr>\n",
       "      <th>82001</th>\n",
       "      <td>1295_447</td>\n",
       "      <td>1295</td>\n",
       "      <td>2018-09-22</td>\n",
       "      <td>0.00</td>\n",
       "    </tr>\n",
       "    <tr>\n",
       "      <th>74139</th>\n",
       "      <td>1263_123</td>\n",
       "      <td>1263</td>\n",
       "      <td>2018-07-15</td>\n",
       "      <td>3.19</td>\n",
       "    </tr>\n",
       "  </tbody>\n",
       "</table>\n",
       "</div>"
      ],
      "text/plain": [
       "             id  user_id   call_date  duration\n",
       "52134  1187_327     1187  2018-06-11     17.62\n",
       "92143   1331_34     1331  2018-09-18      3.38\n",
       "27736  1105_287     1105  2018-10-21      2.59\n",
       "82001  1295_447     1295  2018-09-22      0.00\n",
       "74139  1263_123     1263  2018-07-15      3.19"
      ]
     },
     "execution_count": 23,
     "metadata": {},
     "output_type": "execute_result"
    }
   ],
   "source": [
    "# Imprime una muestra de datos para las llamadas\n",
    "\n",
    "df_calls.sample(5)"
   ]
  },
  {
   "cell_type": "markdown",
   "metadata": {},
   "source": [
    "El DataFrame df_calls tiene 137,735 entradas (registros) y 4 columnas.\n",
    "\n",
    "No hay valores ausentes en ninguna de las columnas (todas tienen un non-null count igual a 137,735).\n",
    "\n",
    "Los tipos de datos son object (texto) para las columnas id y call_date, int64 (entero) para la columna user_id, y \n",
    "float64 (flotante) para la columna duration.\n",
    "\n",
    "Las llamadas tienen un identificador único (id), un user_id, una fecha de llamada (call_date) y una duración \n",
    "en minutos (duration).\n",
    "\n",
    "Tipos de Datos:\n",
    "\n",
    "La columna call_date debería ser de tipo datetime para facilitar el análisis temporal.\n",
    "\n",
    "La columna id está bien como object, ya que es un identificador único.\n",
    "\n"
   ]
  },
  {
   "cell_type": "markdown",
   "metadata": {
    "id": "S7hzxmbX0q0-"
   },
   "source": [
    "### Corregir los datos"
   ]
  },
  {
   "cell_type": "code",
   "execution_count": 24,
   "metadata": {
    "id": "S2r8xA4f0q0-"
   },
   "outputs": [
    {
     "name": "stdout",
     "output_type": "stream",
     "text": [
      "<class 'pandas.core.frame.DataFrame'>\n",
      "RangeIndex: 137735 entries, 0 to 137734\n",
      "Data columns (total 4 columns):\n",
      " #   Column     Non-Null Count   Dtype         \n",
      "---  ------     --------------   -----         \n",
      " 0   id         137735 non-null  object        \n",
      " 1   user_id    137735 non-null  int64         \n",
      " 2   call_date  137735 non-null  datetime64[ns]\n",
      " 3   duration   137735 non-null  float64       \n",
      "dtypes: datetime64[ns](1), float64(1), int64(1), object(1)\n",
      "memory usage: 4.2+ MB\n",
      "None\n"
     ]
    }
   ],
   "source": [
    "df_calls['call_date'] = pd.to_datetime(df_calls['call_date'], format='%Y-%m-%dT%H:%M:%S')\n",
    "\n",
    "\n",
    "#imprimo nuevamente la info del df para verificar la conversión del tipo de datos\n",
    "\n",
    "print(df_calls.info())"
   ]
  },
  {
   "cell_type": "markdown",
   "metadata": {
    "id": "KrMgTrlG0q0_"
   },
   "source": [
    "### Enriquecer los datos"
   ]
  },
  {
   "cell_type": "markdown",
   "metadata": {},
   "source": [
    "Dado que en las instrucciones del proyecto se nos pide encontrar los minutos, SMS y volumen de datos que requieren los usuarios de cada tarifa POR MES, es necesario agregar una columna que contenga el mes."
   ]
  },
  {
   "cell_type": "code",
   "execution_count": 25,
   "metadata": {
    "id": "iZ1avpA_0q0_"
   },
   "outputs": [
    {
     "data": {
      "text/html": [
       "<div>\n",
       "<style scoped>\n",
       "    .dataframe tbody tr th:only-of-type {\n",
       "        vertical-align: middle;\n",
       "    }\n",
       "\n",
       "    .dataframe tbody tr th {\n",
       "        vertical-align: top;\n",
       "    }\n",
       "\n",
       "    .dataframe thead th {\n",
       "        text-align: right;\n",
       "    }\n",
       "</style>\n",
       "<table border=\"1\" class=\"dataframe\">\n",
       "  <thead>\n",
       "    <tr style=\"text-align: right;\">\n",
       "      <th></th>\n",
       "      <th>id</th>\n",
       "      <th>user_id</th>\n",
       "      <th>call_date</th>\n",
       "      <th>duration</th>\n",
       "      <th>month</th>\n",
       "    </tr>\n",
       "  </thead>\n",
       "  <tbody>\n",
       "    <tr>\n",
       "      <th>51150</th>\n",
       "      <td>1185_188</td>\n",
       "      <td>1185</td>\n",
       "      <td>2018-12-15</td>\n",
       "      <td>15.92</td>\n",
       "      <td>12</td>\n",
       "    </tr>\n",
       "    <tr>\n",
       "      <th>82755</th>\n",
       "      <td>1299_413</td>\n",
       "      <td>1299</td>\n",
       "      <td>2018-10-09</td>\n",
       "      <td>6.18</td>\n",
       "      <td>10</td>\n",
       "    </tr>\n",
       "    <tr>\n",
       "      <th>6250</th>\n",
       "      <td>1030_24</td>\n",
       "      <td>1030</td>\n",
       "      <td>2018-10-06</td>\n",
       "      <td>6.32</td>\n",
       "      <td>10</td>\n",
       "    </tr>\n",
       "    <tr>\n",
       "      <th>91778</th>\n",
       "      <td>1329_1112</td>\n",
       "      <td>1329</td>\n",
       "      <td>2018-10-31</td>\n",
       "      <td>0.00</td>\n",
       "      <td>10</td>\n",
       "    </tr>\n",
       "    <tr>\n",
       "      <th>23496</th>\n",
       "      <td>1085_288</td>\n",
       "      <td>1085</td>\n",
       "      <td>2018-09-07</td>\n",
       "      <td>5.36</td>\n",
       "      <td>9</td>\n",
       "    </tr>\n",
       "  </tbody>\n",
       "</table>\n",
       "</div>"
      ],
      "text/plain": [
       "              id  user_id  call_date  duration  month\n",
       "51150   1185_188     1185 2018-12-15     15.92     12\n",
       "82755   1299_413     1299 2018-10-09      6.18     10\n",
       "6250     1030_24     1030 2018-10-06      6.32     10\n",
       "91778  1329_1112     1329 2018-10-31      0.00     10\n",
       "23496   1085_288     1085 2018-09-07      5.36      9"
      ]
     },
     "execution_count": 25,
     "metadata": {},
     "output_type": "execute_result"
    }
   ],
   "source": [
    "df_calls['month'] = df_calls['call_date'].dt.month #creo la columna mes (month)\n",
    "\n",
    "#verifico la creación de la columna imprimiendo nuevamente una muestra\n",
    "\n",
    "df_calls.sample(5)\n"
   ]
  },
  {
   "cell_type": "markdown",
   "metadata": {
    "id": "mOUZSi180q0_"
   },
   "source": [
    "## Mensajes"
   ]
  },
  {
   "cell_type": "code",
   "execution_count": 26,
   "metadata": {
    "id": "R-bYJpdV0q1A"
   },
   "outputs": [
    {
     "name": "stdout",
     "output_type": "stream",
     "text": [
      "<class 'pandas.core.frame.DataFrame'>\n",
      "RangeIndex: 76051 entries, 0 to 76050\n",
      "Data columns (total 3 columns):\n",
      " #   Column        Non-Null Count  Dtype \n",
      "---  ------        --------------  ----- \n",
      " 0   id            76051 non-null  object\n",
      " 1   user_id       76051 non-null  int64 \n",
      " 2   message_date  76051 non-null  object\n",
      "dtypes: int64(1), object(2)\n",
      "memory usage: 1.7+ MB\n",
      "None\n"
     ]
    }
   ],
   "source": [
    "# Imprime la información general/resumida sobre el DataFrame de los mensajes\n",
    "\n",
    "print(df_messages.info())\n"
   ]
  },
  {
   "cell_type": "code",
   "execution_count": 27,
   "metadata": {
    "id": "mCEl2iGE0q1A"
   },
   "outputs": [
    {
     "data": {
      "text/html": [
       "<div>\n",
       "<style scoped>\n",
       "    .dataframe tbody tr th:only-of-type {\n",
       "        vertical-align: middle;\n",
       "    }\n",
       "\n",
       "    .dataframe tbody tr th {\n",
       "        vertical-align: top;\n",
       "    }\n",
       "\n",
       "    .dataframe thead th {\n",
       "        text-align: right;\n",
       "    }\n",
       "</style>\n",
       "<table border=\"1\" class=\"dataframe\">\n",
       "  <thead>\n",
       "    <tr style=\"text-align: right;\">\n",
       "      <th></th>\n",
       "      <th>id</th>\n",
       "      <th>user_id</th>\n",
       "      <th>message_date</th>\n",
       "    </tr>\n",
       "  </thead>\n",
       "  <tbody>\n",
       "    <tr>\n",
       "      <th>55192</th>\n",
       "      <td>1347_229</td>\n",
       "      <td>1347</td>\n",
       "      <td>2018-10-28</td>\n",
       "    </tr>\n",
       "    <tr>\n",
       "      <th>54434</th>\n",
       "      <td>1343_535</td>\n",
       "      <td>1343</td>\n",
       "      <td>2018-09-29</td>\n",
       "    </tr>\n",
       "    <tr>\n",
       "      <th>70904</th>\n",
       "      <td>1462_12</td>\n",
       "      <td>1462</td>\n",
       "      <td>2018-10-28</td>\n",
       "    </tr>\n",
       "    <tr>\n",
       "      <th>180</th>\n",
       "      <td>1001_350</td>\n",
       "      <td>1001</td>\n",
       "      <td>2018-10-29</td>\n",
       "    </tr>\n",
       "    <tr>\n",
       "      <th>18842</th>\n",
       "      <td>1122_71</td>\n",
       "      <td>1122</td>\n",
       "      <td>2018-05-21</td>\n",
       "    </tr>\n",
       "  </tbody>\n",
       "</table>\n",
       "</div>"
      ],
      "text/plain": [
       "             id  user_id message_date\n",
       "55192  1347_229     1347   2018-10-28\n",
       "54434  1343_535     1343   2018-09-29\n",
       "70904   1462_12     1462   2018-10-28\n",
       "180    1001_350     1001   2018-10-29\n",
       "18842   1122_71     1122   2018-05-21"
      ]
     },
     "execution_count": 27,
     "metadata": {},
     "output_type": "execute_result"
    }
   ],
   "source": [
    "# Imprime una muestra de datos para los mensajes\n",
    "\n",
    "df_messages.sample(5)"
   ]
  },
  {
   "cell_type": "markdown",
   "metadata": {},
   "source": [
    "El DataFrame df_messages tiene 76,051 entradas (registros) y 3 columnas.\n",
    "\n",
    "No hay valores ausentes en ninguna de las columnas (todas tienen un non-null count igual a 76,051).\n",
    "\n",
    "Los tipos de datos son object (texto) para las columnas id y message_date, y int64 (entero) para la columna user_id.\n",
    "\n",
    "Los mensajes tienen un identificador único (id), un user_id y una fecha de mensaje (message_date).\n",
    "\n",
    "La columna message_date debería ser de tipo datetime para facilitar el análisis temporal.\n",
    "\n",
    "La columna id está bien como object, ya que es un identificador único."
   ]
  },
  {
   "cell_type": "markdown",
   "metadata": {
    "id": "Sprfak900q1B"
   },
   "source": [
    "### Corregir los datos"
   ]
  },
  {
   "cell_type": "code",
   "execution_count": 28,
   "metadata": {
    "id": "vsllvkoa0q1B"
   },
   "outputs": [
    {
     "name": "stdout",
     "output_type": "stream",
     "text": [
      "<class 'pandas.core.frame.DataFrame'>\n",
      "RangeIndex: 76051 entries, 0 to 76050\n",
      "Data columns (total 3 columns):\n",
      " #   Column        Non-Null Count  Dtype         \n",
      "---  ------        --------------  -----         \n",
      " 0   id            76051 non-null  object        \n",
      " 1   user_id       76051 non-null  int64         \n",
      " 2   message_date  76051 non-null  datetime64[ns]\n",
      "dtypes: datetime64[ns](1), int64(1), object(1)\n",
      "memory usage: 1.7+ MB\n",
      "None\n"
     ]
    }
   ],
   "source": [
    "df_messages['message_date'] = pd.to_datetime(df_messages['message_date'], format='%Y-%m-%dT%H:%M:%S')\n",
    "\n",
    "\n",
    "#imprimo nuevamente la info del df para verificar la conversión del tipo de datos\n",
    "\n",
    "print(df_messages.info())"
   ]
  },
  {
   "cell_type": "markdown",
   "metadata": {
    "id": "HvLid7iD0q1B"
   },
   "source": [
    "### Enriquecer los datos"
   ]
  },
  {
   "cell_type": "markdown",
   "metadata": {},
   "source": [
    "Dado que en las instrucciones del proyecto se nos pide encontrar los minutos, SMS y volumen de datos que requieren los usuarios de cada tarifa POR MES, es necesario agregar una columna que contenga el mes."
   ]
  },
  {
   "cell_type": "code",
   "execution_count": 29,
   "metadata": {
    "id": "zYEXZac10q1C"
   },
   "outputs": [
    {
     "data": {
      "text/html": [
       "<div>\n",
       "<style scoped>\n",
       "    .dataframe tbody tr th:only-of-type {\n",
       "        vertical-align: middle;\n",
       "    }\n",
       "\n",
       "    .dataframe tbody tr th {\n",
       "        vertical-align: top;\n",
       "    }\n",
       "\n",
       "    .dataframe thead th {\n",
       "        text-align: right;\n",
       "    }\n",
       "</style>\n",
       "<table border=\"1\" class=\"dataframe\">\n",
       "  <thead>\n",
       "    <tr style=\"text-align: right;\">\n",
       "      <th></th>\n",
       "      <th>id</th>\n",
       "      <th>user_id</th>\n",
       "      <th>message_date</th>\n",
       "      <th>month</th>\n",
       "    </tr>\n",
       "  </thead>\n",
       "  <tbody>\n",
       "    <tr>\n",
       "      <th>56571</th>\n",
       "      <td>1357_233</td>\n",
       "      <td>1357</td>\n",
       "      <td>2018-09-02</td>\n",
       "      <td>9</td>\n",
       "    </tr>\n",
       "    <tr>\n",
       "      <th>61981</th>\n",
       "      <td>1387_55</td>\n",
       "      <td>1387</td>\n",
       "      <td>2018-10-13</td>\n",
       "      <td>10</td>\n",
       "    </tr>\n",
       "    <tr>\n",
       "      <th>42210</th>\n",
       "      <td>1273_205</td>\n",
       "      <td>1273</td>\n",
       "      <td>2018-11-06</td>\n",
       "      <td>11</td>\n",
       "    </tr>\n",
       "    <tr>\n",
       "      <th>46712</th>\n",
       "      <td>1318_101</td>\n",
       "      <td>1318</td>\n",
       "      <td>2018-12-02</td>\n",
       "      <td>12</td>\n",
       "    </tr>\n",
       "    <tr>\n",
       "      <th>59002</th>\n",
       "      <td>1374_176</td>\n",
       "      <td>1374</td>\n",
       "      <td>2018-06-16</td>\n",
       "      <td>6</td>\n",
       "    </tr>\n",
       "  </tbody>\n",
       "</table>\n",
       "</div>"
      ],
      "text/plain": [
       "             id  user_id message_date  month\n",
       "56571  1357_233     1357   2018-09-02      9\n",
       "61981   1387_55     1387   2018-10-13     10\n",
       "42210  1273_205     1273   2018-11-06     11\n",
       "46712  1318_101     1318   2018-12-02     12\n",
       "59002  1374_176     1374   2018-06-16      6"
      ]
     },
     "execution_count": 29,
     "metadata": {},
     "output_type": "execute_result"
    }
   ],
   "source": [
    "df_messages['month'] = df_messages['message_date'].dt.month #creo la columna mes (month)\n",
    "\n",
    "#verifico la creación de la columna imprimiendo nuevamente una muestra\n",
    "\n",
    "df_messages.sample(5)"
   ]
  },
  {
   "cell_type": "markdown",
   "metadata": {
    "id": "bStkaxn40q1C"
   },
   "source": [
    "## Internet"
   ]
  },
  {
   "cell_type": "code",
   "execution_count": 30,
   "metadata": {
    "id": "e-Uz5qyn0q1C"
   },
   "outputs": [
    {
     "name": "stdout",
     "output_type": "stream",
     "text": [
      "<class 'pandas.core.frame.DataFrame'>\n",
      "RangeIndex: 104825 entries, 0 to 104824\n",
      "Data columns (total 4 columns):\n",
      " #   Column        Non-Null Count   Dtype  \n",
      "---  ------        --------------   -----  \n",
      " 0   id            104825 non-null  object \n",
      " 1   user_id       104825 non-null  int64  \n",
      " 2   session_date  104825 non-null  object \n",
      " 3   mb_used       104825 non-null  float64\n",
      "dtypes: float64(1), int64(1), object(2)\n",
      "memory usage: 3.2+ MB\n",
      "None\n"
     ]
    }
   ],
   "source": [
    "# Imprime la información general/resumida sobre el DataFrame de internet\n",
    "\n",
    "print(df_internet.info())"
   ]
  },
  {
   "cell_type": "code",
   "execution_count": 31,
   "metadata": {
    "id": "9r3x_XLw0q1C"
   },
   "outputs": [
    {
     "data": {
      "text/html": [
       "<div>\n",
       "<style scoped>\n",
       "    .dataframe tbody tr th:only-of-type {\n",
       "        vertical-align: middle;\n",
       "    }\n",
       "\n",
       "    .dataframe tbody tr th {\n",
       "        vertical-align: top;\n",
       "    }\n",
       "\n",
       "    .dataframe thead th {\n",
       "        text-align: right;\n",
       "    }\n",
       "</style>\n",
       "<table border=\"1\" class=\"dataframe\">\n",
       "  <thead>\n",
       "    <tr style=\"text-align: right;\">\n",
       "      <th></th>\n",
       "      <th>id</th>\n",
       "      <th>user_id</th>\n",
       "      <th>session_date</th>\n",
       "      <th>mb_used</th>\n",
       "    </tr>\n",
       "  </thead>\n",
       "  <tbody>\n",
       "    <tr>\n",
       "      <th>20092</th>\n",
       "      <td>1090_330</td>\n",
       "      <td>1090</td>\n",
       "      <td>2018-05-21</td>\n",
       "      <td>681.08</td>\n",
       "    </tr>\n",
       "    <tr>\n",
       "      <th>70429</th>\n",
       "      <td>1328_388</td>\n",
       "      <td>1328</td>\n",
       "      <td>2018-05-06</td>\n",
       "      <td>450.53</td>\n",
       "    </tr>\n",
       "    <tr>\n",
       "      <th>57506</th>\n",
       "      <td>1260_1</td>\n",
       "      <td>1260</td>\n",
       "      <td>2018-12-26</td>\n",
       "      <td>842.26</td>\n",
       "    </tr>\n",
       "    <tr>\n",
       "      <th>32698</th>\n",
       "      <td>1147_332</td>\n",
       "      <td>1147</td>\n",
       "      <td>2018-08-12</td>\n",
       "      <td>1070.53</td>\n",
       "    </tr>\n",
       "    <tr>\n",
       "      <th>83405</th>\n",
       "      <td>1389_324</td>\n",
       "      <td>1389</td>\n",
       "      <td>2018-10-04</td>\n",
       "      <td>589.23</td>\n",
       "    </tr>\n",
       "  </tbody>\n",
       "</table>\n",
       "</div>"
      ],
      "text/plain": [
       "             id  user_id session_date  mb_used\n",
       "20092  1090_330     1090   2018-05-21   681.08\n",
       "70429  1328_388     1328   2018-05-06   450.53\n",
       "57506    1260_1     1260   2018-12-26   842.26\n",
       "32698  1147_332     1147   2018-08-12  1070.53\n",
       "83405  1389_324     1389   2018-10-04   589.23"
      ]
     },
     "execution_count": 31,
     "metadata": {},
     "output_type": "execute_result"
    }
   ],
   "source": [
    "# Imprime una muestra de datos para el tráfico de internet\n",
    "\n",
    "df_internet.sample(5)\n"
   ]
  },
  {
   "cell_type": "markdown",
   "metadata": {},
   "source": [
    "El DataFrame df_internet tiene 104,825 entradas (registros) y 4 columnas.\n",
    "\n",
    "No hay valores ausentes en ninguna de las columnas (todas tienen un non-null count igual a 104,825).\n",
    "\n",
    "Los tipos de datos son object (texto) para las columnas id y session_date, int64 (entero) para la columna user_id, y float64 (flotante) para la columna mb_used.\n",
    "\n",
    "Cada sesión de internet tiene un identificador único (id), un user_id, una fecha de sesión (session_date) y la cantidad de MB utilizados (mb_used).\n",
    "\n",
    "La columna session_date debería ser de tipo datetime para facilitar el análisis temporal.\n",
    "\n",
    "La columna id está bien como object, ya que es un identificador único.\n",
    "\n"
   ]
  },
  {
   "cell_type": "markdown",
   "metadata": {
    "id": "yA0tkPFg0q1D"
   },
   "source": [
    "### Corregir los datos"
   ]
  },
  {
   "cell_type": "code",
   "execution_count": 32,
   "metadata": {
    "id": "zVeanzdd0q1E"
   },
   "outputs": [
    {
     "name": "stdout",
     "output_type": "stream",
     "text": [
      "<class 'pandas.core.frame.DataFrame'>\n",
      "RangeIndex: 104825 entries, 0 to 104824\n",
      "Data columns (total 4 columns):\n",
      " #   Column        Non-Null Count   Dtype         \n",
      "---  ------        --------------   -----         \n",
      " 0   id            104825 non-null  object        \n",
      " 1   user_id       104825 non-null  int64         \n",
      " 2   session_date  104825 non-null  datetime64[ns]\n",
      " 3   mb_used       104825 non-null  float64       \n",
      "dtypes: datetime64[ns](1), float64(1), int64(1), object(1)\n",
      "memory usage: 3.2+ MB\n",
      "None\n"
     ]
    }
   ],
   "source": [
    "df_internet['session_date'] = pd.to_datetime(df_internet['session_date'], format='%Y-%m-%dT%H:%M:%S')\n",
    "\n",
    "\n",
    "#imprimo nuevamente la info del df para verificar la conversión del tipo de datos\n",
    "\n",
    "print(df_internet.info())"
   ]
  },
  {
   "cell_type": "markdown",
   "metadata": {
    "id": "e8_mLF4a0q1E"
   },
   "source": [
    "### Enriquecer los datos"
   ]
  },
  {
   "cell_type": "markdown",
   "metadata": {},
   "source": [
    "Dado que en las instrucciones del proyecto se nos pide encontrar los minutos, SMS y volumen de datos que requieren los usuarios de cada tarifa POR MES, es necesario agregar una columna que contenga el mes."
   ]
  },
  {
   "cell_type": "code",
   "execution_count": 33,
   "metadata": {
    "id": "ESiYPIEK0q1E"
   },
   "outputs": [
    {
     "data": {
      "text/html": [
       "<div>\n",
       "<style scoped>\n",
       "    .dataframe tbody tr th:only-of-type {\n",
       "        vertical-align: middle;\n",
       "    }\n",
       "\n",
       "    .dataframe tbody tr th {\n",
       "        vertical-align: top;\n",
       "    }\n",
       "\n",
       "    .dataframe thead th {\n",
       "        text-align: right;\n",
       "    }\n",
       "</style>\n",
       "<table border=\"1\" class=\"dataframe\">\n",
       "  <thead>\n",
       "    <tr style=\"text-align: right;\">\n",
       "      <th></th>\n",
       "      <th>id</th>\n",
       "      <th>user_id</th>\n",
       "      <th>session_date</th>\n",
       "      <th>mb_used</th>\n",
       "      <th>month</th>\n",
       "    </tr>\n",
       "  </thead>\n",
       "  <tbody>\n",
       "    <tr>\n",
       "      <th>100927</th>\n",
       "      <td>1478_78</td>\n",
       "      <td>1478</td>\n",
       "      <td>2018-12-31</td>\n",
       "      <td>222.92</td>\n",
       "      <td>12</td>\n",
       "    </tr>\n",
       "    <tr>\n",
       "      <th>68401</th>\n",
       "      <td>1320_65</td>\n",
       "      <td>1320</td>\n",
       "      <td>2018-11-17</td>\n",
       "      <td>552.47</td>\n",
       "      <td>11</td>\n",
       "    </tr>\n",
       "    <tr>\n",
       "      <th>16336</th>\n",
       "      <td>1073_256</td>\n",
       "      <td>1073</td>\n",
       "      <td>2018-09-10</td>\n",
       "      <td>663.20</td>\n",
       "      <td>9</td>\n",
       "    </tr>\n",
       "    <tr>\n",
       "      <th>69446</th>\n",
       "      <td>1324_162</td>\n",
       "      <td>1324</td>\n",
       "      <td>2018-07-01</td>\n",
       "      <td>571.54</td>\n",
       "      <td>7</td>\n",
       "    </tr>\n",
       "    <tr>\n",
       "      <th>84786</th>\n",
       "      <td>1396_112</td>\n",
       "      <td>1396</td>\n",
       "      <td>2018-08-15</td>\n",
       "      <td>469.28</td>\n",
       "      <td>8</td>\n",
       "    </tr>\n",
       "  </tbody>\n",
       "</table>\n",
       "</div>"
      ],
      "text/plain": [
       "              id  user_id session_date  mb_used  month\n",
       "100927   1478_78     1478   2018-12-31   222.92     12\n",
       "68401    1320_65     1320   2018-11-17   552.47     11\n",
       "16336   1073_256     1073   2018-09-10   663.20      9\n",
       "69446   1324_162     1324   2018-07-01   571.54      7\n",
       "84786   1396_112     1396   2018-08-15   469.28      8"
      ]
     },
     "execution_count": 33,
     "metadata": {},
     "output_type": "execute_result"
    }
   ],
   "source": [
    "df_internet['month'] = df_internet['session_date'].dt.month #creo la columna mes (month)\n",
    "\n",
    "#verifico la creación de la columna imprimiendo nuevamente una muestra\n",
    "\n",
    "df_internet.sample(5)"
   ]
  },
  {
   "cell_type": "markdown",
   "metadata": {},
   "source": [
    "<div class=\"alert alert-block alert-success\">\n",
    "<b>Comentario del revisor (1ra Iteración)</b> <a class=“tocSkip”></a>\n",
    "\n",
    "¡Excelente trabajo en el análisis exploratorio de datos! Usaste correctamente las funciones `info` y `sample` para revisar la estructura y el contenido de los datos, lo que te permitió realizar los ajustes necesarios. Esto facilitará el análisis de los datos y el desarrollo de las demás etapas del proyecto.\n",
    "\n",
    "\n",
    "</div>"
   ]
  },
  {
   "cell_type": "markdown",
   "metadata": {
    "id": "3UA2cqIW0q1E"
   },
   "source": [
    "## Estudiar las condiciones de las tarifas"
   ]
  },
  {
   "cell_type": "code",
   "execution_count": 34,
   "metadata": {
    "id": "i409op8p0q1F"
   },
   "outputs": [
    {
     "data": {
      "text/html": [
       "<div>\n",
       "<style scoped>\n",
       "    .dataframe tbody tr th:only-of-type {\n",
       "        vertical-align: middle;\n",
       "    }\n",
       "\n",
       "    .dataframe tbody tr th {\n",
       "        vertical-align: top;\n",
       "    }\n",
       "\n",
       "    .dataframe thead th {\n",
       "        text-align: right;\n",
       "    }\n",
       "</style>\n",
       "<table border=\"1\" class=\"dataframe\">\n",
       "  <thead>\n",
       "    <tr style=\"text-align: right;\">\n",
       "      <th></th>\n",
       "      <th>messages_included</th>\n",
       "      <th>mb_per_month_included</th>\n",
       "      <th>minutes_included</th>\n",
       "      <th>usd_monthly_pay</th>\n",
       "      <th>usd_per_gb</th>\n",
       "      <th>usd_per_message</th>\n",
       "      <th>usd_per_minute</th>\n",
       "      <th>plan_name</th>\n",
       "    </tr>\n",
       "  </thead>\n",
       "  <tbody>\n",
       "    <tr>\n",
       "      <th>0</th>\n",
       "      <td>50</td>\n",
       "      <td>15360</td>\n",
       "      <td>500</td>\n",
       "      <td>20</td>\n",
       "      <td>10</td>\n",
       "      <td>0.03</td>\n",
       "      <td>0.03</td>\n",
       "      <td>surf</td>\n",
       "    </tr>\n",
       "    <tr>\n",
       "      <th>1</th>\n",
       "      <td>1000</td>\n",
       "      <td>30720</td>\n",
       "      <td>3000</td>\n",
       "      <td>70</td>\n",
       "      <td>7</td>\n",
       "      <td>0.01</td>\n",
       "      <td>0.01</td>\n",
       "      <td>ultimate</td>\n",
       "    </tr>\n",
       "  </tbody>\n",
       "</table>\n",
       "</div>"
      ],
      "text/plain": [
       "   messages_included  mb_per_month_included  minutes_included  \\\n",
       "0                 50                  15360               500   \n",
       "1               1000                  30720              3000   \n",
       "\n",
       "   usd_monthly_pay  usd_per_gb  usd_per_message  usd_per_minute plan_name  \n",
       "0               20          10             0.03            0.03      surf  \n",
       "1               70           7             0.01            0.01  ultimate  "
      ]
     },
     "execution_count": 34,
     "metadata": {},
     "output_type": "execute_result"
    }
   ],
   "source": [
    "# Imprime las condiciones de la tarifa y asegúrate de que te quedan claras\n",
    "\n",
    "df_plans.head()"
   ]
  },
  {
   "cell_type": "code",
   "execution_count": 35,
   "metadata": {
    "id": "A332cedB0q1G"
   },
   "outputs": [
    {
     "data": {
      "text/html": [
       "<div>\n",
       "<style scoped>\n",
       "    .dataframe tbody tr th:only-of-type {\n",
       "        vertical-align: middle;\n",
       "    }\n",
       "\n",
       "    .dataframe tbody tr th {\n",
       "        vertical-align: top;\n",
       "    }\n",
       "\n",
       "    .dataframe thead th {\n",
       "        text-align: right;\n",
       "    }\n",
       "</style>\n",
       "<table border=\"1\" class=\"dataframe\">\n",
       "  <thead>\n",
       "    <tr style=\"text-align: right;\">\n",
       "      <th></th>\n",
       "      <th>user_id</th>\n",
       "      <th>month</th>\n",
       "      <th>num_calls</th>\n",
       "    </tr>\n",
       "  </thead>\n",
       "  <tbody>\n",
       "    <tr>\n",
       "      <th>0</th>\n",
       "      <td>1000</td>\n",
       "      <td>12</td>\n",
       "      <td>16</td>\n",
       "    </tr>\n",
       "    <tr>\n",
       "      <th>1</th>\n",
       "      <td>1001</td>\n",
       "      <td>8</td>\n",
       "      <td>27</td>\n",
       "    </tr>\n",
       "    <tr>\n",
       "      <th>2</th>\n",
       "      <td>1001</td>\n",
       "      <td>9</td>\n",
       "      <td>49</td>\n",
       "    </tr>\n",
       "    <tr>\n",
       "      <th>3</th>\n",
       "      <td>1001</td>\n",
       "      <td>10</td>\n",
       "      <td>65</td>\n",
       "    </tr>\n",
       "    <tr>\n",
       "      <th>4</th>\n",
       "      <td>1001</td>\n",
       "      <td>11</td>\n",
       "      <td>64</td>\n",
       "    </tr>\n",
       "  </tbody>\n",
       "</table>\n",
       "</div>"
      ],
      "text/plain": [
       "   user_id  month  num_calls\n",
       "0     1000     12         16\n",
       "1     1001      8         27\n",
       "2     1001      9         49\n",
       "3     1001     10         65\n",
       "4     1001     11         64"
      ]
     },
     "execution_count": 35,
     "metadata": {},
     "output_type": "execute_result"
    }
   ],
   "source": [
    "# Calcula el número de llamadas hechas por cada usuario al mes. Guarda el resultado.\n",
    "\n",
    "\n",
    "#usando la columna 'id' cuento la cantidad de llamadas reallizadas por cada usuario por mes\n",
    "\n",
    "calls_per_user = df_calls.groupby(['user_id', 'month'])['id'].count().reset_index() \n",
    "\n",
    "\n",
    "#cambio el nombre de la columna id por uno más claro y diciente como \"calls_por_month\"\n",
    "\n",
    "calls_per_user.rename(columns={'id': 'num_calls'}, inplace=True)\n",
    "\n",
    "# Verificar el cambio\n",
    "calls_per_user.head()\n"
   ]
  },
  {
   "cell_type": "code",
   "execution_count": 36,
   "metadata": {
    "id": "aw2cmuql0q1G"
   },
   "outputs": [
    {
     "data": {
      "text/html": [
       "<div>\n",
       "<style scoped>\n",
       "    .dataframe tbody tr th:only-of-type {\n",
       "        vertical-align: middle;\n",
       "    }\n",
       "\n",
       "    .dataframe tbody tr th {\n",
       "        vertical-align: top;\n",
       "    }\n",
       "\n",
       "    .dataframe thead th {\n",
       "        text-align: right;\n",
       "    }\n",
       "</style>\n",
       "<table border=\"1\" class=\"dataframe\">\n",
       "  <thead>\n",
       "    <tr style=\"text-align: right;\">\n",
       "      <th></th>\n",
       "      <th>user_id</th>\n",
       "      <th>month</th>\n",
       "      <th>total_minutes</th>\n",
       "    </tr>\n",
       "  </thead>\n",
       "  <tbody>\n",
       "    <tr>\n",
       "      <th>0</th>\n",
       "      <td>1000</td>\n",
       "      <td>12</td>\n",
       "      <td>124.0</td>\n",
       "    </tr>\n",
       "    <tr>\n",
       "      <th>1</th>\n",
       "      <td>1001</td>\n",
       "      <td>8</td>\n",
       "      <td>182.0</td>\n",
       "    </tr>\n",
       "    <tr>\n",
       "      <th>2</th>\n",
       "      <td>1001</td>\n",
       "      <td>9</td>\n",
       "      <td>315.0</td>\n",
       "    </tr>\n",
       "    <tr>\n",
       "      <th>3</th>\n",
       "      <td>1001</td>\n",
       "      <td>10</td>\n",
       "      <td>393.0</td>\n",
       "    </tr>\n",
       "    <tr>\n",
       "      <th>4</th>\n",
       "      <td>1001</td>\n",
       "      <td>11</td>\n",
       "      <td>426.0</td>\n",
       "    </tr>\n",
       "  </tbody>\n",
       "</table>\n",
       "</div>"
      ],
      "text/plain": [
       "   user_id  month  total_minutes\n",
       "0     1000     12          124.0\n",
       "1     1001      8          182.0\n",
       "2     1001      9          315.0\n",
       "3     1001     10          393.0\n",
       "4     1001     11          426.0"
      ]
     },
     "execution_count": 36,
     "metadata": {},
     "output_type": "execute_result"
    }
   ],
   "source": [
    "# Calcula la cantidad de minutos usados por cada usuario al mes. Guarda el resultado.\n",
    "\n",
    "# Según la descripción de las tarifas de las instucciones del proyecto Megaline redondea los segundos a minutos\n",
    "# y los megabytes a gigabytes. Para las llamadas, cada llamada individual se redondea: incluso si la llamada duró \n",
    "# solo un segundo, se contará como un minuto. Por esta razón debo redondear hacia arriba la duración de CADA LLAMADA INDIVIDUAL \n",
    "\n",
    "df_calls['duration'] = np.ceil(df_calls['duration']) #con este método redondeo hacia arriba\n",
    "\n",
    "#usando la columna 'duration' sumo la cantidad de minutos en llamadas reallizadas por cada usuario por mes\n",
    "\n",
    "minutes_per_user = df_calls.groupby(['user_id', 'month'])['duration'].sum().reset_index()\n",
    "\n",
    "#cambio el nombre de la columna duration por uno más claro y diciente como \"total_minutes\"\n",
    "\n",
    "minutes_per_user.rename(columns={'duration': 'total_minutes'}, inplace=True)\n",
    "\n",
    "# Verificar el cambio\n",
    "minutes_per_user.head()\n"
   ]
  },
  {
   "cell_type": "markdown",
   "metadata": {},
   "source": [
    "<div class=\"alert alert-block alert-success\">\n",
    "<b>Comentario del revisor (1ra Iteración)</b> <a class=“tocSkip”></a>\n",
    "\n",
    "¡Muy buen trabajo Duver! Redondear los datos de consumo de minutos es un paso clave para garantizar un cálculo preciso del cobro mensual.\n",
    "\n",
    "</div>"
   ]
  },
  {
   "cell_type": "code",
   "execution_count": 37,
   "metadata": {
    "id": "CcQvNHn60q1G"
   },
   "outputs": [
    {
     "data": {
      "text/html": [
       "<div>\n",
       "<style scoped>\n",
       "    .dataframe tbody tr th:only-of-type {\n",
       "        vertical-align: middle;\n",
       "    }\n",
       "\n",
       "    .dataframe tbody tr th {\n",
       "        vertical-align: top;\n",
       "    }\n",
       "\n",
       "    .dataframe thead th {\n",
       "        text-align: right;\n",
       "    }\n",
       "</style>\n",
       "<table border=\"1\" class=\"dataframe\">\n",
       "  <thead>\n",
       "    <tr style=\"text-align: right;\">\n",
       "      <th></th>\n",
       "      <th>user_id</th>\n",
       "      <th>month</th>\n",
       "      <th>total_messages</th>\n",
       "    </tr>\n",
       "  </thead>\n",
       "  <tbody>\n",
       "    <tr>\n",
       "      <th>0</th>\n",
       "      <td>1000</td>\n",
       "      <td>12</td>\n",
       "      <td>11</td>\n",
       "    </tr>\n",
       "    <tr>\n",
       "      <th>1</th>\n",
       "      <td>1001</td>\n",
       "      <td>8</td>\n",
       "      <td>30</td>\n",
       "    </tr>\n",
       "    <tr>\n",
       "      <th>2</th>\n",
       "      <td>1001</td>\n",
       "      <td>9</td>\n",
       "      <td>44</td>\n",
       "    </tr>\n",
       "    <tr>\n",
       "      <th>3</th>\n",
       "      <td>1001</td>\n",
       "      <td>10</td>\n",
       "      <td>53</td>\n",
       "    </tr>\n",
       "    <tr>\n",
       "      <th>4</th>\n",
       "      <td>1001</td>\n",
       "      <td>11</td>\n",
       "      <td>36</td>\n",
       "    </tr>\n",
       "  </tbody>\n",
       "</table>\n",
       "</div>"
      ],
      "text/plain": [
       "   user_id  month  total_messages\n",
       "0     1000     12              11\n",
       "1     1001      8              30\n",
       "2     1001      9              44\n",
       "3     1001     10              53\n",
       "4     1001     11              36"
      ]
     },
     "execution_count": 37,
     "metadata": {},
     "output_type": "execute_result"
    }
   ],
   "source": [
    "# Calcula el número de mensajes enviados por cada usuario al mes. Guarda el resultado.\n",
    "\n",
    "#usando la columna 'id' cuento la cantidad de mensajes enviados por cada usuario por mes\n",
    "\n",
    "messages_per_user = df_messages.groupby(['user_id', 'month'])['id'].count().reset_index()\n",
    "\n",
    "#cambio el nombre de la columna 'id' por uno más claro y diciente como \"total_messages\"\n",
    "\n",
    "messages_per_user.rename(columns={'id': 'total_messages'}, inplace=True)\n",
    "\n",
    "# Verificar el cambio\n",
    "messages_per_user.head()"
   ]
  },
  {
   "cell_type": "code",
   "execution_count": 38,
   "metadata": {
    "id": "H1AqN2eG0q1H"
   },
   "outputs": [
    {
     "data": {
      "text/html": [
       "<div>\n",
       "<style scoped>\n",
       "    .dataframe tbody tr th:only-of-type {\n",
       "        vertical-align: middle;\n",
       "    }\n",
       "\n",
       "    .dataframe tbody tr th {\n",
       "        vertical-align: top;\n",
       "    }\n",
       "\n",
       "    .dataframe thead th {\n",
       "        text-align: right;\n",
       "    }\n",
       "</style>\n",
       "<table border=\"1\" class=\"dataframe\">\n",
       "  <thead>\n",
       "    <tr style=\"text-align: right;\">\n",
       "      <th></th>\n",
       "      <th>user_id</th>\n",
       "      <th>month</th>\n",
       "      <th>total_internet_gb</th>\n",
       "    </tr>\n",
       "  </thead>\n",
       "  <tbody>\n",
       "    <tr>\n",
       "      <th>0</th>\n",
       "      <td>1000</td>\n",
       "      <td>12</td>\n",
       "      <td>2.0</td>\n",
       "    </tr>\n",
       "    <tr>\n",
       "      <th>1</th>\n",
       "      <td>1001</td>\n",
       "      <td>8</td>\n",
       "      <td>7.0</td>\n",
       "    </tr>\n",
       "    <tr>\n",
       "      <th>2</th>\n",
       "      <td>1001</td>\n",
       "      <td>9</td>\n",
       "      <td>14.0</td>\n",
       "    </tr>\n",
       "    <tr>\n",
       "      <th>3</th>\n",
       "      <td>1001</td>\n",
       "      <td>10</td>\n",
       "      <td>22.0</td>\n",
       "    </tr>\n",
       "    <tr>\n",
       "      <th>4</th>\n",
       "      <td>1001</td>\n",
       "      <td>11</td>\n",
       "      <td>19.0</td>\n",
       "    </tr>\n",
       "  </tbody>\n",
       "</table>\n",
       "</div>"
      ],
      "text/plain": [
       "   user_id  month  total_internet_gb\n",
       "0     1000     12                2.0\n",
       "1     1001      8                7.0\n",
       "2     1001      9               14.0\n",
       "3     1001     10               22.0\n",
       "4     1001     11               19.0"
      ]
     },
     "execution_count": 38,
     "metadata": {},
     "output_type": "execute_result"
    }
   ],
   "source": [
    "# Calcula el volumen del tráfico de Internet usado por cada usuario al mes. Guarda el resultado.\n",
    "\n",
    "#usando la columna 'mb_used' sumo la cantidad de datos gastados por cada usuario por mes (en mb)\n",
    "\n",
    "internet_per_user = df_internet.groupby(['user_id', 'month'])['mb_used'].sum().reset_index()\n",
    "\n",
    "# convierto los mb a gb y redondeo hacia arriba, y guardo la información EN UNA NUEVA COLUMNA LLAMADA 'total_internet_gb'\n",
    "\n",
    "internet_per_user['total_internet_gb'] = np.ceil(internet_per_user['mb_used'] / 1024)\n",
    "\n",
    "# Elimino la columna 'mb_used'\n",
    "internet_per_user.drop(columns=['mb_used'], inplace=True)\n",
    "\n",
    "\n",
    "# Verifico el cambio\n",
    "internet_per_user.head()\n",
    "\n",
    "\n",
    "# Esta redondeo se hace, ya que, según la descripción de las tarifas en la instrucciones del proyecto, \"Para el tráfico web, \n",
    "# las sesiones web individuales no se redondean. En vez de esto, el total del mes se redondea hacia arriba. \n",
    "# Si alguien usa 1025 megabytes este mes, se le cobrarán 2 gigabytes.\n",
    "\n",
    "\n"
   ]
  },
  {
   "cell_type": "markdown",
   "metadata": {},
   "source": [
    "<div class=\"alert alert-block alert-danger\">\n",
    "<b>Comentario del revisor (1ra Iteración)</b> <a class=“tocSkip”></a>\n",
    "\n",
    "Has hecho un buen trabajo con el cálculo del consumo de minutos, pero aún hay un error en el proceso del cálculo de consumo de internet. En general tu idea de cálculo es adecuada, pero debes hacer unos ajustes para que el cálculo final del cobro mensual sea correcto.\n",
    "\n",
    "De acuerdo con el enunciado, el cobro de consumo de internet extra se hacer por cada GB adicional al plan, debes hacer la estimación en esa escala (GB), es decir tomar la columna **total_internet_mb** y convertirla a GB y luego lo redondeas hacia arriba puedes usar la función ``np.ceil``. Asimismo debes considerar que la conversión de MB a GB es dividiendo entre **1024**\n",
    "    \n",
    "Entonces el valor redondeado (en GB) lo debes comparar con los 15GB o 30GB que incluye cada plan, de esta forma la diferencia te dará un número entero, que en el caso de que indique que el usuario consumió más de los GB incluidos en el plan se le haga el cobro respectivo.\n",
    "\n",
    "</div>"
   ]
  },
  {
   "cell_type": "markdown",
   "metadata": {},
   "source": [
    "<div style=\"background-color: lightblue; padding: 10px;\">\n",
    "    Respuesta estudiante: Con el objeto de realizar los ajustes requeridos, se hizo la conversión de mb a gb (dividiendo por 1024) y se redondeó hacia arriba. Esta información se guardó en una nueva columna llamada 'total_internet_gb' , y se elimminó la columna 'mb_used'\n",
    "   </div>"
   ]
  },
  {
   "cell_type": "markdown",
   "metadata": {},
   "source": [
    "<div class=\"alert alert-block alert-success\">\n",
    "<b>Comentario del revisor (2da Iteración)</b> <a class=“tocSkip”></a>\n",
    "\n",
    "Buen trabajo Duver, ahora los datos de llamada e internet se agruparon de forma correcta\n",
    "\n",
    "</div>"
   ]
  },
  {
   "cell_type": "code",
   "execution_count": 39,
   "metadata": {},
   "outputs": [
    {
     "data": {
      "text/html": [
       "<div>\n",
       "<style scoped>\n",
       "    .dataframe tbody tr th:only-of-type {\n",
       "        vertical-align: middle;\n",
       "    }\n",
       "\n",
       "    .dataframe tbody tr th {\n",
       "        vertical-align: top;\n",
       "    }\n",
       "\n",
       "    .dataframe thead th {\n",
       "        text-align: right;\n",
       "    }\n",
       "</style>\n",
       "<table border=\"1\" class=\"dataframe\">\n",
       "  <thead>\n",
       "    <tr style=\"text-align: right;\">\n",
       "      <th></th>\n",
       "      <th>user_id</th>\n",
       "      <th>first_name</th>\n",
       "      <th>last_name</th>\n",
       "      <th>age</th>\n",
       "      <th>city</th>\n",
       "      <th>reg_date</th>\n",
       "      <th>plan</th>\n",
       "      <th>churn_date</th>\n",
       "      <th>month</th>\n",
       "    </tr>\n",
       "  </thead>\n",
       "  <tbody>\n",
       "    <tr>\n",
       "      <th>0</th>\n",
       "      <td>1000</td>\n",
       "      <td>Anamaria</td>\n",
       "      <td>Bauer</td>\n",
       "      <td>45</td>\n",
       "      <td>Atlanta-Sandy Springs-Roswell, GA MSA</td>\n",
       "      <td>2018-12-24</td>\n",
       "      <td>ultimate</td>\n",
       "      <td>NaT</td>\n",
       "      <td>12</td>\n",
       "    </tr>\n",
       "    <tr>\n",
       "      <th>1</th>\n",
       "      <td>1001</td>\n",
       "      <td>Mickey</td>\n",
       "      <td>Wilkerson</td>\n",
       "      <td>28</td>\n",
       "      <td>Seattle-Tacoma-Bellevue, WA MSA</td>\n",
       "      <td>2018-08-13</td>\n",
       "      <td>surf</td>\n",
       "      <td>NaT</td>\n",
       "      <td>8</td>\n",
       "    </tr>\n",
       "    <tr>\n",
       "      <th>2</th>\n",
       "      <td>1002</td>\n",
       "      <td>Carlee</td>\n",
       "      <td>Hoffman</td>\n",
       "      <td>36</td>\n",
       "      <td>Las Vegas-Henderson-Paradise, NV MSA</td>\n",
       "      <td>2018-10-21</td>\n",
       "      <td>surf</td>\n",
       "      <td>NaT</td>\n",
       "      <td>10</td>\n",
       "    </tr>\n",
       "    <tr>\n",
       "      <th>3</th>\n",
       "      <td>1003</td>\n",
       "      <td>Reynaldo</td>\n",
       "      <td>Jenkins</td>\n",
       "      <td>52</td>\n",
       "      <td>Tulsa, OK MSA</td>\n",
       "      <td>2018-01-28</td>\n",
       "      <td>surf</td>\n",
       "      <td>NaT</td>\n",
       "      <td>1</td>\n",
       "    </tr>\n",
       "    <tr>\n",
       "      <th>4</th>\n",
       "      <td>1004</td>\n",
       "      <td>Leonila</td>\n",
       "      <td>Thompson</td>\n",
       "      <td>40</td>\n",
       "      <td>Seattle-Tacoma-Bellevue, WA MSA</td>\n",
       "      <td>2018-05-23</td>\n",
       "      <td>surf</td>\n",
       "      <td>NaT</td>\n",
       "      <td>5</td>\n",
       "    </tr>\n",
       "  </tbody>\n",
       "</table>\n",
       "</div>"
      ],
      "text/plain": [
       "   user_id first_name  last_name  age                                   city  \\\n",
       "0     1000   Anamaria      Bauer   45  Atlanta-Sandy Springs-Roswell, GA MSA   \n",
       "1     1001     Mickey  Wilkerson   28        Seattle-Tacoma-Bellevue, WA MSA   \n",
       "2     1002     Carlee    Hoffman   36   Las Vegas-Henderson-Paradise, NV MSA   \n",
       "3     1003   Reynaldo    Jenkins   52                          Tulsa, OK MSA   \n",
       "4     1004    Leonila   Thompson   40        Seattle-Tacoma-Bellevue, WA MSA   \n",
       "\n",
       "    reg_date      plan churn_date  month  \n",
       "0 2018-12-24  ultimate        NaT     12  \n",
       "1 2018-08-13      surf        NaT      8  \n",
       "2 2018-10-21      surf        NaT     10  \n",
       "3 2018-01-28      surf        NaT      1  \n",
       "4 2018-05-23      surf        NaT      5  "
      ]
     },
     "execution_count": 39,
     "metadata": {},
     "output_type": "execute_result"
    }
   ],
   "source": [
    "# Fusiona los datos de llamadas, minutos, mensajes e Internet con base en user_id y month\n",
    "\n",
    "#Dado que voy a tomar como DataFrame principal a 'df_user' lo visualizo nuevamente.\n",
    "\n",
    "df_users.head()\n"
   ]
  },
  {
   "cell_type": "code",
   "execution_count": 40,
   "metadata": {},
   "outputs": [
    {
     "data": {
      "text/html": [
       "<div>\n",
       "<style scoped>\n",
       "    .dataframe tbody tr th:only-of-type {\n",
       "        vertical-align: middle;\n",
       "    }\n",
       "\n",
       "    .dataframe tbody tr th {\n",
       "        vertical-align: top;\n",
       "    }\n",
       "\n",
       "    .dataframe thead th {\n",
       "        text-align: right;\n",
       "    }\n",
       "</style>\n",
       "<table border=\"1\" class=\"dataframe\">\n",
       "  <thead>\n",
       "    <tr style=\"text-align: right;\">\n",
       "      <th></th>\n",
       "      <th>user_id</th>\n",
       "      <th>plan</th>\n",
       "      <th>city</th>\n",
       "    </tr>\n",
       "  </thead>\n",
       "  <tbody>\n",
       "    <tr>\n",
       "      <th>0</th>\n",
       "      <td>1000</td>\n",
       "      <td>ultimate</td>\n",
       "      <td>Atlanta-Sandy Springs-Roswell, GA MSA</td>\n",
       "    </tr>\n",
       "    <tr>\n",
       "      <th>1</th>\n",
       "      <td>1001</td>\n",
       "      <td>surf</td>\n",
       "      <td>Seattle-Tacoma-Bellevue, WA MSA</td>\n",
       "    </tr>\n",
       "    <tr>\n",
       "      <th>2</th>\n",
       "      <td>1002</td>\n",
       "      <td>surf</td>\n",
       "      <td>Las Vegas-Henderson-Paradise, NV MSA</td>\n",
       "    </tr>\n",
       "    <tr>\n",
       "      <th>3</th>\n",
       "      <td>1003</td>\n",
       "      <td>surf</td>\n",
       "      <td>Tulsa, OK MSA</td>\n",
       "    </tr>\n",
       "    <tr>\n",
       "      <th>4</th>\n",
       "      <td>1004</td>\n",
       "      <td>surf</td>\n",
       "      <td>Seattle-Tacoma-Bellevue, WA MSA</td>\n",
       "    </tr>\n",
       "  </tbody>\n",
       "</table>\n",
       "</div>"
      ],
      "text/plain": [
       "   user_id      plan                                   city\n",
       "0     1000  ultimate  Atlanta-Sandy Springs-Roswell, GA MSA\n",
       "1     1001      surf        Seattle-Tacoma-Bellevue, WA MSA\n",
       "2     1002      surf   Las Vegas-Henderson-Paradise, NV MSA\n",
       "3     1003      surf                          Tulsa, OK MSA\n",
       "4     1004      surf        Seattle-Tacoma-Bellevue, WA MSA"
      ]
     },
     "execution_count": 40,
     "metadata": {},
     "output_type": "execute_result"
    }
   ],
   "source": [
    "#para hacerlos más \"manejable\" extraigo solo las columnas de interés para el análisis: 'user_id', 'plan' y 'city'\n",
    "\n",
    "df_users_plans = df_users[['user_id', 'plan', 'city']]\n",
    "df_users_plans.head()\n",
    "\n"
   ]
  },
  {
   "cell_type": "code",
   "execution_count": 41,
   "metadata": {},
   "outputs": [
    {
     "data": {
      "text/html": [
       "<div>\n",
       "<style scoped>\n",
       "    .dataframe tbody tr th:only-of-type {\n",
       "        vertical-align: middle;\n",
       "    }\n",
       "\n",
       "    .dataframe tbody tr th {\n",
       "        vertical-align: top;\n",
       "    }\n",
       "\n",
       "    .dataframe thead th {\n",
       "        text-align: right;\n",
       "    }\n",
       "</style>\n",
       "<table border=\"1\" class=\"dataframe\">\n",
       "  <thead>\n",
       "    <tr style=\"text-align: right;\">\n",
       "      <th></th>\n",
       "      <th>user_id</th>\n",
       "      <th>month</th>\n",
       "      <th>total_minutes</th>\n",
       "      <th>plan</th>\n",
       "      <th>city</th>\n",
       "    </tr>\n",
       "  </thead>\n",
       "  <tbody>\n",
       "    <tr>\n",
       "      <th>0</th>\n",
       "      <td>1000</td>\n",
       "      <td>12</td>\n",
       "      <td>124.0</td>\n",
       "      <td>ultimate</td>\n",
       "      <td>Atlanta-Sandy Springs-Roswell, GA MSA</td>\n",
       "    </tr>\n",
       "    <tr>\n",
       "      <th>1</th>\n",
       "      <td>1001</td>\n",
       "      <td>8</td>\n",
       "      <td>182.0</td>\n",
       "      <td>surf</td>\n",
       "      <td>Seattle-Tacoma-Bellevue, WA MSA</td>\n",
       "    </tr>\n",
       "    <tr>\n",
       "      <th>2</th>\n",
       "      <td>1001</td>\n",
       "      <td>9</td>\n",
       "      <td>315.0</td>\n",
       "      <td>surf</td>\n",
       "      <td>Seattle-Tacoma-Bellevue, WA MSA</td>\n",
       "    </tr>\n",
       "    <tr>\n",
       "      <th>3</th>\n",
       "      <td>1001</td>\n",
       "      <td>10</td>\n",
       "      <td>393.0</td>\n",
       "      <td>surf</td>\n",
       "      <td>Seattle-Tacoma-Bellevue, WA MSA</td>\n",
       "    </tr>\n",
       "    <tr>\n",
       "      <th>4</th>\n",
       "      <td>1001</td>\n",
       "      <td>11</td>\n",
       "      <td>426.0</td>\n",
       "      <td>surf</td>\n",
       "      <td>Seattle-Tacoma-Bellevue, WA MSA</td>\n",
       "    </tr>\n",
       "  </tbody>\n",
       "</table>\n",
       "</div>"
      ],
      "text/plain": [
       "   user_id  month  total_minutes      plan  \\\n",
       "0     1000     12          124.0  ultimate   \n",
       "1     1001      8          182.0      surf   \n",
       "2     1001      9          315.0      surf   \n",
       "3     1001     10          393.0      surf   \n",
       "4     1001     11          426.0      surf   \n",
       "\n",
       "                                    city  \n",
       "0  Atlanta-Sandy Springs-Roswell, GA MSA  \n",
       "1        Seattle-Tacoma-Bellevue, WA MSA  \n",
       "2        Seattle-Tacoma-Bellevue, WA MSA  \n",
       "3        Seattle-Tacoma-Bellevue, WA MSA  \n",
       "4        Seattle-Tacoma-Bellevue, WA MSA  "
      ]
     },
     "execution_count": 41,
     "metadata": {},
     "output_type": "execute_result"
    }
   ],
   "source": [
    "#Al df de MINUTOS POR USUARIO le uno el nuevo df de usuarios (OJO: No uso el call_per_user porque este me muestra es la cantidad\n",
    "#de llamadas, sin tener en cuenta su duración)\n",
    "\n",
    "minutes_per_user = minutes_per_user.merge(df_users_plans, on='user_id', how='left')\n",
    "minutes_per_user.head()\n",
    "\n"
   ]
  },
  {
   "cell_type": "code",
   "execution_count": 42,
   "metadata": {},
   "outputs": [
    {
     "data": {
      "text/html": [
       "<div>\n",
       "<style scoped>\n",
       "    .dataframe tbody tr th:only-of-type {\n",
       "        vertical-align: middle;\n",
       "    }\n",
       "\n",
       "    .dataframe tbody tr th {\n",
       "        vertical-align: top;\n",
       "    }\n",
       "\n",
       "    .dataframe thead th {\n",
       "        text-align: right;\n",
       "    }\n",
       "</style>\n",
       "<table border=\"1\" class=\"dataframe\">\n",
       "  <thead>\n",
       "    <tr style=\"text-align: right;\">\n",
       "      <th></th>\n",
       "      <th>user_id</th>\n",
       "      <th>month</th>\n",
       "      <th>total_messages</th>\n",
       "      <th>plan</th>\n",
       "      <th>city</th>\n",
       "    </tr>\n",
       "  </thead>\n",
       "  <tbody>\n",
       "    <tr>\n",
       "      <th>0</th>\n",
       "      <td>1000</td>\n",
       "      <td>12</td>\n",
       "      <td>11</td>\n",
       "      <td>ultimate</td>\n",
       "      <td>Atlanta-Sandy Springs-Roswell, GA MSA</td>\n",
       "    </tr>\n",
       "    <tr>\n",
       "      <th>1</th>\n",
       "      <td>1001</td>\n",
       "      <td>8</td>\n",
       "      <td>30</td>\n",
       "      <td>surf</td>\n",
       "      <td>Seattle-Tacoma-Bellevue, WA MSA</td>\n",
       "    </tr>\n",
       "    <tr>\n",
       "      <th>2</th>\n",
       "      <td>1001</td>\n",
       "      <td>9</td>\n",
       "      <td>44</td>\n",
       "      <td>surf</td>\n",
       "      <td>Seattle-Tacoma-Bellevue, WA MSA</td>\n",
       "    </tr>\n",
       "    <tr>\n",
       "      <th>3</th>\n",
       "      <td>1001</td>\n",
       "      <td>10</td>\n",
       "      <td>53</td>\n",
       "      <td>surf</td>\n",
       "      <td>Seattle-Tacoma-Bellevue, WA MSA</td>\n",
       "    </tr>\n",
       "    <tr>\n",
       "      <th>4</th>\n",
       "      <td>1001</td>\n",
       "      <td>11</td>\n",
       "      <td>36</td>\n",
       "      <td>surf</td>\n",
       "      <td>Seattle-Tacoma-Bellevue, WA MSA</td>\n",
       "    </tr>\n",
       "  </tbody>\n",
       "</table>\n",
       "</div>"
      ],
      "text/plain": [
       "   user_id  month  total_messages      plan  \\\n",
       "0     1000     12              11  ultimate   \n",
       "1     1001      8              30      surf   \n",
       "2     1001      9              44      surf   \n",
       "3     1001     10              53      surf   \n",
       "4     1001     11              36      surf   \n",
       "\n",
       "                                    city  \n",
       "0  Atlanta-Sandy Springs-Roswell, GA MSA  \n",
       "1        Seattle-Tacoma-Bellevue, WA MSA  \n",
       "2        Seattle-Tacoma-Bellevue, WA MSA  \n",
       "3        Seattle-Tacoma-Bellevue, WA MSA  \n",
       "4        Seattle-Tacoma-Bellevue, WA MSA  "
      ]
     },
     "execution_count": 42,
     "metadata": {},
     "output_type": "execute_result"
    }
   ],
   "source": [
    "#Al df de mensajes le uno el nuevo df de usuarios\n",
    "\n",
    "messages_per_user = messages_per_user.merge(df_users_plans, on='user_id', how='left')\n",
    "messages_per_user.head()"
   ]
  },
  {
   "cell_type": "code",
   "execution_count": 43,
   "metadata": {},
   "outputs": [
    {
     "data": {
      "text/html": [
       "<div>\n",
       "<style scoped>\n",
       "    .dataframe tbody tr th:only-of-type {\n",
       "        vertical-align: middle;\n",
       "    }\n",
       "\n",
       "    .dataframe tbody tr th {\n",
       "        vertical-align: top;\n",
       "    }\n",
       "\n",
       "    .dataframe thead th {\n",
       "        text-align: right;\n",
       "    }\n",
       "</style>\n",
       "<table border=\"1\" class=\"dataframe\">\n",
       "  <thead>\n",
       "    <tr style=\"text-align: right;\">\n",
       "      <th></th>\n",
       "      <th>user_id</th>\n",
       "      <th>month</th>\n",
       "      <th>total_internet_gb</th>\n",
       "      <th>plan</th>\n",
       "      <th>city</th>\n",
       "    </tr>\n",
       "  </thead>\n",
       "  <tbody>\n",
       "    <tr>\n",
       "      <th>0</th>\n",
       "      <td>1000</td>\n",
       "      <td>12</td>\n",
       "      <td>2.0</td>\n",
       "      <td>ultimate</td>\n",
       "      <td>Atlanta-Sandy Springs-Roswell, GA MSA</td>\n",
       "    </tr>\n",
       "    <tr>\n",
       "      <th>1</th>\n",
       "      <td>1001</td>\n",
       "      <td>8</td>\n",
       "      <td>7.0</td>\n",
       "      <td>surf</td>\n",
       "      <td>Seattle-Tacoma-Bellevue, WA MSA</td>\n",
       "    </tr>\n",
       "    <tr>\n",
       "      <th>2</th>\n",
       "      <td>1001</td>\n",
       "      <td>9</td>\n",
       "      <td>14.0</td>\n",
       "      <td>surf</td>\n",
       "      <td>Seattle-Tacoma-Bellevue, WA MSA</td>\n",
       "    </tr>\n",
       "    <tr>\n",
       "      <th>3</th>\n",
       "      <td>1001</td>\n",
       "      <td>10</td>\n",
       "      <td>22.0</td>\n",
       "      <td>surf</td>\n",
       "      <td>Seattle-Tacoma-Bellevue, WA MSA</td>\n",
       "    </tr>\n",
       "    <tr>\n",
       "      <th>4</th>\n",
       "      <td>1001</td>\n",
       "      <td>11</td>\n",
       "      <td>19.0</td>\n",
       "      <td>surf</td>\n",
       "      <td>Seattle-Tacoma-Bellevue, WA MSA</td>\n",
       "    </tr>\n",
       "  </tbody>\n",
       "</table>\n",
       "</div>"
      ],
      "text/plain": [
       "   user_id  month  total_internet_gb      plan  \\\n",
       "0     1000     12                2.0  ultimate   \n",
       "1     1001      8                7.0      surf   \n",
       "2     1001      9               14.0      surf   \n",
       "3     1001     10               22.0      surf   \n",
       "4     1001     11               19.0      surf   \n",
       "\n",
       "                                    city  \n",
       "0  Atlanta-Sandy Springs-Roswell, GA MSA  \n",
       "1        Seattle-Tacoma-Bellevue, WA MSA  \n",
       "2        Seattle-Tacoma-Bellevue, WA MSA  \n",
       "3        Seattle-Tacoma-Bellevue, WA MSA  \n",
       "4        Seattle-Tacoma-Bellevue, WA MSA  "
      ]
     },
     "execution_count": 43,
     "metadata": {},
     "output_type": "execute_result"
    }
   ],
   "source": [
    "#Al df de internet le uno el nuevo df de usuarios\n",
    "\n",
    "internet_per_user = internet_per_user.merge(df_users_plans, on='user_id', how='left')\n",
    "internet_per_user.head()"
   ]
  },
  {
   "cell_type": "code",
   "execution_count": 44,
   "metadata": {},
   "outputs": [],
   "source": [
    "#Combino las anteriores agrupaciones para crear un DataFrame consolidado, llamado df_usuarios_mensuales, que será nuestro DataFrame a analizar\n",
    "\n",
    "\n",
    "df_usuarios_mensuales = minutes_per_user.merge(messages_per_user, on=['user_id', 'month', 'plan', 'city'], how='outer')\n",
    "\n",
    "df_usuarios_mensuales = df_usuarios_mensuales.merge(internet_per_user, on=['user_id', 'month', 'plan', 'city'], how='outer')\n"
   ]
  },
  {
   "cell_type": "code",
   "execution_count": 45,
   "metadata": {},
   "outputs": [
    {
     "data": {
      "text/html": [
       "<div>\n",
       "<style scoped>\n",
       "    .dataframe tbody tr th:only-of-type {\n",
       "        vertical-align: middle;\n",
       "    }\n",
       "\n",
       "    .dataframe tbody tr th {\n",
       "        vertical-align: top;\n",
       "    }\n",
       "\n",
       "    .dataframe thead th {\n",
       "        text-align: right;\n",
       "    }\n",
       "</style>\n",
       "<table border=\"1\" class=\"dataframe\">\n",
       "  <thead>\n",
       "    <tr style=\"text-align: right;\">\n",
       "      <th></th>\n",
       "      <th>user_id</th>\n",
       "      <th>month</th>\n",
       "      <th>total_minutes</th>\n",
       "      <th>plan</th>\n",
       "      <th>city</th>\n",
       "      <th>total_messages</th>\n",
       "      <th>total_internet_gb</th>\n",
       "    </tr>\n",
       "  </thead>\n",
       "  <tbody>\n",
       "    <tr>\n",
       "      <th>0</th>\n",
       "      <td>1000</td>\n",
       "      <td>12</td>\n",
       "      <td>124.0</td>\n",
       "      <td>ultimate</td>\n",
       "      <td>Atlanta-Sandy Springs-Roswell, GA MSA</td>\n",
       "      <td>11.0</td>\n",
       "      <td>2.0</td>\n",
       "    </tr>\n",
       "    <tr>\n",
       "      <th>1</th>\n",
       "      <td>1001</td>\n",
       "      <td>8</td>\n",
       "      <td>182.0</td>\n",
       "      <td>surf</td>\n",
       "      <td>Seattle-Tacoma-Bellevue, WA MSA</td>\n",
       "      <td>30.0</td>\n",
       "      <td>7.0</td>\n",
       "    </tr>\n",
       "    <tr>\n",
       "      <th>2</th>\n",
       "      <td>1001</td>\n",
       "      <td>9</td>\n",
       "      <td>315.0</td>\n",
       "      <td>surf</td>\n",
       "      <td>Seattle-Tacoma-Bellevue, WA MSA</td>\n",
       "      <td>44.0</td>\n",
       "      <td>14.0</td>\n",
       "    </tr>\n",
       "    <tr>\n",
       "      <th>3</th>\n",
       "      <td>1001</td>\n",
       "      <td>10</td>\n",
       "      <td>393.0</td>\n",
       "      <td>surf</td>\n",
       "      <td>Seattle-Tacoma-Bellevue, WA MSA</td>\n",
       "      <td>53.0</td>\n",
       "      <td>22.0</td>\n",
       "    </tr>\n",
       "    <tr>\n",
       "      <th>4</th>\n",
       "      <td>1001</td>\n",
       "      <td>11</td>\n",
       "      <td>426.0</td>\n",
       "      <td>surf</td>\n",
       "      <td>Seattle-Tacoma-Bellevue, WA MSA</td>\n",
       "      <td>36.0</td>\n",
       "      <td>19.0</td>\n",
       "    </tr>\n",
       "  </tbody>\n",
       "</table>\n",
       "</div>"
      ],
      "text/plain": [
       "   user_id  month  total_minutes      plan  \\\n",
       "0     1000     12          124.0  ultimate   \n",
       "1     1001      8          182.0      surf   \n",
       "2     1001      9          315.0      surf   \n",
       "3     1001     10          393.0      surf   \n",
       "4     1001     11          426.0      surf   \n",
       "\n",
       "                                    city  total_messages  total_internet_gb  \n",
       "0  Atlanta-Sandy Springs-Roswell, GA MSA            11.0                2.0  \n",
       "1        Seattle-Tacoma-Bellevue, WA MSA            30.0                7.0  \n",
       "2        Seattle-Tacoma-Bellevue, WA MSA            44.0               14.0  \n",
       "3        Seattle-Tacoma-Bellevue, WA MSA            53.0               22.0  \n",
       "4        Seattle-Tacoma-Bellevue, WA MSA            36.0               19.0  "
      ]
     },
     "execution_count": 45,
     "metadata": {},
     "output_type": "execute_result"
    }
   ],
   "source": [
    "\n",
    "df_usuarios_mensuales.head()\n",
    "\n"
   ]
  },
  {
   "cell_type": "code",
   "execution_count": 46,
   "metadata": {},
   "outputs": [
    {
     "data": {
      "text/html": [
       "<div>\n",
       "<style scoped>\n",
       "    .dataframe tbody tr th:only-of-type {\n",
       "        vertical-align: middle;\n",
       "    }\n",
       "\n",
       "    .dataframe tbody tr th {\n",
       "        vertical-align: top;\n",
       "    }\n",
       "\n",
       "    .dataframe thead th {\n",
       "        text-align: right;\n",
       "    }\n",
       "</style>\n",
       "<table border=\"1\" class=\"dataframe\">\n",
       "  <thead>\n",
       "    <tr style=\"text-align: right;\">\n",
       "      <th></th>\n",
       "      <th>user_id</th>\n",
       "      <th>month</th>\n",
       "      <th>total_minutes</th>\n",
       "      <th>plan</th>\n",
       "      <th>city</th>\n",
       "      <th>total_messages</th>\n",
       "      <th>total_internet_gb</th>\n",
       "    </tr>\n",
       "  </thead>\n",
       "  <tbody>\n",
       "    <tr>\n",
       "      <th>454</th>\n",
       "      <td>1098</td>\n",
       "      <td>12</td>\n",
       "      <td>445.0</td>\n",
       "      <td>surf</td>\n",
       "      <td>Albany-Schenectady-Troy, NY MSA</td>\n",
       "      <td>98.0</td>\n",
       "      <td>29.0</td>\n",
       "    </tr>\n",
       "    <tr>\n",
       "      <th>541</th>\n",
       "      <td>1117</td>\n",
       "      <td>6</td>\n",
       "      <td>378.0</td>\n",
       "      <td>surf</td>\n",
       "      <td>Dallas-Fort Worth-Arlington, TX MSA</td>\n",
       "      <td>NaN</td>\n",
       "      <td>15.0</td>\n",
       "    </tr>\n",
       "    <tr>\n",
       "      <th>425</th>\n",
       "      <td>1090</td>\n",
       "      <td>10</td>\n",
       "      <td>453.0</td>\n",
       "      <td>surf</td>\n",
       "      <td>Indianapolis-Carmel-Anderson, IN MSA</td>\n",
       "      <td>21.0</td>\n",
       "      <td>13.0</td>\n",
       "    </tr>\n",
       "    <tr>\n",
       "      <th>213</th>\n",
       "      <td>1050</td>\n",
       "      <td>12</td>\n",
       "      <td>299.0</td>\n",
       "      <td>ultimate</td>\n",
       "      <td>Miami-Fort Lauderdale-West Palm Beach, FL MSA</td>\n",
       "      <td>NaN</td>\n",
       "      <td>17.0</td>\n",
       "    </tr>\n",
       "    <tr>\n",
       "      <th>578</th>\n",
       "      <td>1124</td>\n",
       "      <td>12</td>\n",
       "      <td>447.0</td>\n",
       "      <td>ultimate</td>\n",
       "      <td>New Haven-Milford, CT MSA</td>\n",
       "      <td>93.0</td>\n",
       "      <td>7.0</td>\n",
       "    </tr>\n",
       "    <tr>\n",
       "      <th>619</th>\n",
       "      <td>1133</td>\n",
       "      <td>12</td>\n",
       "      <td>259.0</td>\n",
       "      <td>ultimate</td>\n",
       "      <td>Cincinnati, OH-KY-IN MSA</td>\n",
       "      <td>85.0</td>\n",
       "      <td>13.0</td>\n",
       "    </tr>\n",
       "    <tr>\n",
       "      <th>2249</th>\n",
       "      <td>1498</td>\n",
       "      <td>8</td>\n",
       "      <td>266.0</td>\n",
       "      <td>surf</td>\n",
       "      <td>New York-Newark-Jersey City, NY-NJ-PA MSA</td>\n",
       "      <td>NaN</td>\n",
       "      <td>20.0</td>\n",
       "    </tr>\n",
       "    <tr>\n",
       "      <th>349</th>\n",
       "      <td>1074</td>\n",
       "      <td>12</td>\n",
       "      <td>618.0</td>\n",
       "      <td>ultimate</td>\n",
       "      <td>Knoxville, TN MSA</td>\n",
       "      <td>NaN</td>\n",
       "      <td>11.0</td>\n",
       "    </tr>\n",
       "    <tr>\n",
       "      <th>740</th>\n",
       "      <td>1159</td>\n",
       "      <td>8</td>\n",
       "      <td>742.0</td>\n",
       "      <td>ultimate</td>\n",
       "      <td>Miami-Fort Lauderdale-West Palm Beach, FL MSA</td>\n",
       "      <td>73.0</td>\n",
       "      <td>7.0</td>\n",
       "    </tr>\n",
       "    <tr>\n",
       "      <th>172</th>\n",
       "      <td>1043</td>\n",
       "      <td>11</td>\n",
       "      <td>185.0</td>\n",
       "      <td>ultimate</td>\n",
       "      <td>New York-Newark-Jersey City, NY-NJ-PA MSA</td>\n",
       "      <td>107.0</td>\n",
       "      <td>33.0</td>\n",
       "    </tr>\n",
       "    <tr>\n",
       "      <th>325</th>\n",
       "      <td>1071</td>\n",
       "      <td>5</td>\n",
       "      <td>166.0</td>\n",
       "      <td>surf</td>\n",
       "      <td>New York-Newark-Jersey City, NY-NJ-PA MSA</td>\n",
       "      <td>NaN</td>\n",
       "      <td>7.0</td>\n",
       "    </tr>\n",
       "    <tr>\n",
       "      <th>1593</th>\n",
       "      <td>1353</td>\n",
       "      <td>10</td>\n",
       "      <td>497.0</td>\n",
       "      <td>surf</td>\n",
       "      <td>North Port-Sarasota-Bradenton, FL MSA</td>\n",
       "      <td>NaN</td>\n",
       "      <td>18.0</td>\n",
       "    </tr>\n",
       "    <tr>\n",
       "      <th>1891</th>\n",
       "      <td>1410</td>\n",
       "      <td>12</td>\n",
       "      <td>591.0</td>\n",
       "      <td>surf</td>\n",
       "      <td>Los Angeles-Long Beach-Anaheim, CA MSA</td>\n",
       "      <td>16.0</td>\n",
       "      <td>17.0</td>\n",
       "    </tr>\n",
       "    <tr>\n",
       "      <th>470</th>\n",
       "      <td>1100</td>\n",
       "      <td>12</td>\n",
       "      <td>306.0</td>\n",
       "      <td>surf</td>\n",
       "      <td>New York-Newark-Jersey City, NY-NJ-PA MSA</td>\n",
       "      <td>73.0</td>\n",
       "      <td>22.0</td>\n",
       "    </tr>\n",
       "    <tr>\n",
       "      <th>959</th>\n",
       "      <td>1205</td>\n",
       "      <td>12</td>\n",
       "      <td>458.0</td>\n",
       "      <td>surf</td>\n",
       "      <td>New York-Newark-Jersey City, NY-NJ-PA MSA</td>\n",
       "      <td>65.0</td>\n",
       "      <td>19.0</td>\n",
       "    </tr>\n",
       "    <tr>\n",
       "      <th>2082</th>\n",
       "      <td>1460</td>\n",
       "      <td>5</td>\n",
       "      <td>52.0</td>\n",
       "      <td>ultimate</td>\n",
       "      <td>Fresno, CA MSA</td>\n",
       "      <td>5.0</td>\n",
       "      <td>3.0</td>\n",
       "    </tr>\n",
       "    <tr>\n",
       "      <th>2150</th>\n",
       "      <td>1474</td>\n",
       "      <td>12</td>\n",
       "      <td>285.0</td>\n",
       "      <td>surf</td>\n",
       "      <td>Bakersfield, CA MSA</td>\n",
       "      <td>40.0</td>\n",
       "      <td>18.0</td>\n",
       "    </tr>\n",
       "    <tr>\n",
       "      <th>566</th>\n",
       "      <td>1122</td>\n",
       "      <td>10</td>\n",
       "      <td>394.0</td>\n",
       "      <td>surf</td>\n",
       "      <td>Miami-Fort Lauderdale-West Palm Beach, FL MSA</td>\n",
       "      <td>21.0</td>\n",
       "      <td>18.0</td>\n",
       "    </tr>\n",
       "    <tr>\n",
       "      <th>1177</th>\n",
       "      <td>1255</td>\n",
       "      <td>12</td>\n",
       "      <td>727.0</td>\n",
       "      <td>ultimate</td>\n",
       "      <td>Oklahoma City, OK MSA</td>\n",
       "      <td>60.0</td>\n",
       "      <td>10.0</td>\n",
       "    </tr>\n",
       "    <tr>\n",
       "      <th>2159</th>\n",
       "      <td>1476</td>\n",
       "      <td>8</td>\n",
       "      <td>293.0</td>\n",
       "      <td>ultimate</td>\n",
       "      <td>Los Angeles-Long Beach-Anaheim, CA MSA</td>\n",
       "      <td>41.0</td>\n",
       "      <td>10.0</td>\n",
       "    </tr>\n",
       "  </tbody>\n",
       "</table>\n",
       "</div>"
      ],
      "text/plain": [
       "      user_id  month  total_minutes      plan  \\\n",
       "454      1098     12          445.0      surf   \n",
       "541      1117      6          378.0      surf   \n",
       "425      1090     10          453.0      surf   \n",
       "213      1050     12          299.0  ultimate   \n",
       "578      1124     12          447.0  ultimate   \n",
       "619      1133     12          259.0  ultimate   \n",
       "2249     1498      8          266.0      surf   \n",
       "349      1074     12          618.0  ultimate   \n",
       "740      1159      8          742.0  ultimate   \n",
       "172      1043     11          185.0  ultimate   \n",
       "325      1071      5          166.0      surf   \n",
       "1593     1353     10          497.0      surf   \n",
       "1891     1410     12          591.0      surf   \n",
       "470      1100     12          306.0      surf   \n",
       "959      1205     12          458.0      surf   \n",
       "2082     1460      5           52.0  ultimate   \n",
       "2150     1474     12          285.0      surf   \n",
       "566      1122     10          394.0      surf   \n",
       "1177     1255     12          727.0  ultimate   \n",
       "2159     1476      8          293.0  ultimate   \n",
       "\n",
       "                                               city  total_messages  \\\n",
       "454                 Albany-Schenectady-Troy, NY MSA            98.0   \n",
       "541             Dallas-Fort Worth-Arlington, TX MSA             NaN   \n",
       "425            Indianapolis-Carmel-Anderson, IN MSA            21.0   \n",
       "213   Miami-Fort Lauderdale-West Palm Beach, FL MSA             NaN   \n",
       "578                       New Haven-Milford, CT MSA            93.0   \n",
       "619                        Cincinnati, OH-KY-IN MSA            85.0   \n",
       "2249      New York-Newark-Jersey City, NY-NJ-PA MSA             NaN   \n",
       "349                               Knoxville, TN MSA             NaN   \n",
       "740   Miami-Fort Lauderdale-West Palm Beach, FL MSA            73.0   \n",
       "172       New York-Newark-Jersey City, NY-NJ-PA MSA           107.0   \n",
       "325       New York-Newark-Jersey City, NY-NJ-PA MSA             NaN   \n",
       "1593          North Port-Sarasota-Bradenton, FL MSA             NaN   \n",
       "1891         Los Angeles-Long Beach-Anaheim, CA MSA            16.0   \n",
       "470       New York-Newark-Jersey City, NY-NJ-PA MSA            73.0   \n",
       "959       New York-Newark-Jersey City, NY-NJ-PA MSA            65.0   \n",
       "2082                                 Fresno, CA MSA             5.0   \n",
       "2150                            Bakersfield, CA MSA            40.0   \n",
       "566   Miami-Fort Lauderdale-West Palm Beach, FL MSA            21.0   \n",
       "1177                          Oklahoma City, OK MSA            60.0   \n",
       "2159         Los Angeles-Long Beach-Anaheim, CA MSA            41.0   \n",
       "\n",
       "      total_internet_gb  \n",
       "454                29.0  \n",
       "541                15.0  \n",
       "425                13.0  \n",
       "213                17.0  \n",
       "578                 7.0  \n",
       "619                13.0  \n",
       "2249               20.0  \n",
       "349                11.0  \n",
       "740                 7.0  \n",
       "172                33.0  \n",
       "325                 7.0  \n",
       "1593               18.0  \n",
       "1891               17.0  \n",
       "470                22.0  \n",
       "959                19.0  \n",
       "2082                3.0  \n",
       "2150               18.0  \n",
       "566                18.0  \n",
       "1177               10.0  \n",
       "2159               10.0  "
      ]
     },
     "execution_count": 46,
     "metadata": {},
     "output_type": "execute_result"
    }
   ],
   "source": [
    "#Para tener un mejor \"panorama\" del nuevo df, extraigo una muestra de 20 elementos\n",
    "\n",
    "df_usuarios_mensuales.sample(20)"
   ]
  },
  {
   "cell_type": "markdown",
   "metadata": {},
   "source": [
    "En las columnas total_minutes, total_messages, total_internet_mb hay algunos datos ausentes, dado que esto seguramente se deba que un usuario en un determinado mes no hizo uso de todos los servicios, y por ejemplo, hizo llamadas, pero no envió mensajes, y al siguiente no usó internet. Esta es una situación completamente normal, y por tal motivo, estos datos ausentes pueden ser reemplazados por ceros, para facilitar los cálculos aritméticos."
   ]
  },
  {
   "cell_type": "code",
   "execution_count": 47,
   "metadata": {},
   "outputs": [
    {
     "data": {
      "text/html": [
       "<div>\n",
       "<style scoped>\n",
       "    .dataframe tbody tr th:only-of-type {\n",
       "        vertical-align: middle;\n",
       "    }\n",
       "\n",
       "    .dataframe tbody tr th {\n",
       "        vertical-align: top;\n",
       "    }\n",
       "\n",
       "    .dataframe thead th {\n",
       "        text-align: right;\n",
       "    }\n",
       "</style>\n",
       "<table border=\"1\" class=\"dataframe\">\n",
       "  <thead>\n",
       "    <tr style=\"text-align: right;\">\n",
       "      <th></th>\n",
       "      <th>user_id</th>\n",
       "      <th>month</th>\n",
       "      <th>total_minutes</th>\n",
       "      <th>plan_name</th>\n",
       "      <th>city</th>\n",
       "      <th>total_messages</th>\n",
       "      <th>total_internet_gb</th>\n",
       "    </tr>\n",
       "  </thead>\n",
       "  <tbody>\n",
       "    <tr>\n",
       "      <th>1712</th>\n",
       "      <td>1375</td>\n",
       "      <td>12</td>\n",
       "      <td>276.0</td>\n",
       "      <td>surf</td>\n",
       "      <td>Philadelphia-Camden-Wilmington, PA-NJ-DE-MD MSA</td>\n",
       "      <td>81.0</td>\n",
       "      <td>14.0</td>\n",
       "    </tr>\n",
       "    <tr>\n",
       "      <th>1353</th>\n",
       "      <td>1299</td>\n",
       "      <td>4</td>\n",
       "      <td>541.0</td>\n",
       "      <td>surf</td>\n",
       "      <td>New York-Newark-Jersey City, NY-NJ-PA MSA</td>\n",
       "      <td>11.0</td>\n",
       "      <td>17.0</td>\n",
       "    </tr>\n",
       "    <tr>\n",
       "      <th>1351</th>\n",
       "      <td>1298</td>\n",
       "      <td>12</td>\n",
       "      <td>590.0</td>\n",
       "      <td>surf</td>\n",
       "      <td>Nashville-Davidson–Murfreesboro–Franklin, TN MSA</td>\n",
       "      <td>103.0</td>\n",
       "      <td>18.0</td>\n",
       "    </tr>\n",
       "    <tr>\n",
       "      <th>224</th>\n",
       "      <td>1054</td>\n",
       "      <td>5</td>\n",
       "      <td>278.0</td>\n",
       "      <td>surf</td>\n",
       "      <td>Phoenix-Mesa-Chandler, AZ MSA</td>\n",
       "      <td>27.0</td>\n",
       "      <td>18.0</td>\n",
       "    </tr>\n",
       "    <tr>\n",
       "      <th>79</th>\n",
       "      <td>1022</td>\n",
       "      <td>9</td>\n",
       "      <td>510.0</td>\n",
       "      <td>surf</td>\n",
       "      <td>New York-Newark-Jersey City, NY-NJ-PA MSA</td>\n",
       "      <td>0.0</td>\n",
       "      <td>14.0</td>\n",
       "    </tr>\n",
       "    <tr>\n",
       "      <th>2286</th>\n",
       "      <td>1349</td>\n",
       "      <td>10</td>\n",
       "      <td>0.0</td>\n",
       "      <td>surf</td>\n",
       "      <td>Boston-Cambridge-Newton, MA-NH MSA</td>\n",
       "      <td>76.0</td>\n",
       "      <td>13.0</td>\n",
       "    </tr>\n",
       "    <tr>\n",
       "      <th>209</th>\n",
       "      <td>1050</td>\n",
       "      <td>8</td>\n",
       "      <td>358.0</td>\n",
       "      <td>ultimate</td>\n",
       "      <td>Miami-Fort Lauderdale-West Palm Beach, FL MSA</td>\n",
       "      <td>0.0</td>\n",
       "      <td>15.0</td>\n",
       "    </tr>\n",
       "    <tr>\n",
       "      <th>949</th>\n",
       "      <td>1203</td>\n",
       "      <td>4</td>\n",
       "      <td>568.0</td>\n",
       "      <td>surf</td>\n",
       "      <td>Boston-Cambridge-Newton, MA-NH MSA</td>\n",
       "      <td>53.0</td>\n",
       "      <td>18.0</td>\n",
       "    </tr>\n",
       "    <tr>\n",
       "      <th>1997</th>\n",
       "      <td>1437</td>\n",
       "      <td>11</td>\n",
       "      <td>467.0</td>\n",
       "      <td>surf</td>\n",
       "      <td>Dallas-Fort Worth-Arlington, TX MSA</td>\n",
       "      <td>0.0</td>\n",
       "      <td>15.0</td>\n",
       "    </tr>\n",
       "    <tr>\n",
       "      <th>769</th>\n",
       "      <td>1164</td>\n",
       "      <td>9</td>\n",
       "      <td>450.0</td>\n",
       "      <td>ultimate</td>\n",
       "      <td>Chicago-Naperville-Elgin, IL-IN-WI MSA</td>\n",
       "      <td>29.0</td>\n",
       "      <td>14.0</td>\n",
       "    </tr>\n",
       "    <tr>\n",
       "      <th>527</th>\n",
       "      <td>1113</td>\n",
       "      <td>9</td>\n",
       "      <td>496.0</td>\n",
       "      <td>ultimate</td>\n",
       "      <td>New York-Newark-Jersey City, NY-NJ-PA MSA</td>\n",
       "      <td>31.0</td>\n",
       "      <td>12.0</td>\n",
       "    </tr>\n",
       "    <tr>\n",
       "      <th>63</th>\n",
       "      <td>1017</td>\n",
       "      <td>9</td>\n",
       "      <td>362.0</td>\n",
       "      <td>surf</td>\n",
       "      <td>Washington-Arlington-Alexandria, DC-VA-MD-WV MSA</td>\n",
       "      <td>41.0</td>\n",
       "      <td>24.0</td>\n",
       "    </tr>\n",
       "    <tr>\n",
       "      <th>822</th>\n",
       "      <td>1175</td>\n",
       "      <td>10</td>\n",
       "      <td>703.0</td>\n",
       "      <td>surf</td>\n",
       "      <td>New York-Newark-Jersey City, NY-NJ-PA MSA</td>\n",
       "      <td>31.0</td>\n",
       "      <td>23.0</td>\n",
       "    </tr>\n",
       "    <tr>\n",
       "      <th>27</th>\n",
       "      <td>1008</td>\n",
       "      <td>11</td>\n",
       "      <td>446.0</td>\n",
       "      <td>ultimate</td>\n",
       "      <td>Orlando-Kissimmee-Sanford, FL MSA</td>\n",
       "      <td>37.0</td>\n",
       "      <td>24.0</td>\n",
       "    </tr>\n",
       "    <tr>\n",
       "      <th>38</th>\n",
       "      <td>1010</td>\n",
       "      <td>4</td>\n",
       "      <td>656.0</td>\n",
       "      <td>surf</td>\n",
       "      <td>Dallas-Fort Worth-Arlington, TX MSA</td>\n",
       "      <td>0.0</td>\n",
       "      <td>20.0</td>\n",
       "    </tr>\n",
       "    <tr>\n",
       "      <th>858</th>\n",
       "      <td>1183</td>\n",
       "      <td>11</td>\n",
       "      <td>677.0</td>\n",
       "      <td>surf</td>\n",
       "      <td>Chicago-Naperville-Elgin, IL-IN-WI MSA</td>\n",
       "      <td>107.0</td>\n",
       "      <td>18.0</td>\n",
       "    </tr>\n",
       "    <tr>\n",
       "      <th>1222</th>\n",
       "      <td>1263</td>\n",
       "      <td>5</td>\n",
       "      <td>560.0</td>\n",
       "      <td>surf</td>\n",
       "      <td>Boston-Cambridge-Newton, MA-NH MSA</td>\n",
       "      <td>5.0</td>\n",
       "      <td>14.0</td>\n",
       "    </tr>\n",
       "    <tr>\n",
       "      <th>1188</th>\n",
       "      <td>1257</td>\n",
       "      <td>10</td>\n",
       "      <td>611.0</td>\n",
       "      <td>surf</td>\n",
       "      <td>New York-Newark-Jersey City, NY-NJ-PA MSA</td>\n",
       "      <td>30.0</td>\n",
       "      <td>15.0</td>\n",
       "    </tr>\n",
       "    <tr>\n",
       "      <th>2129</th>\n",
       "      <td>1470</td>\n",
       "      <td>5</td>\n",
       "      <td>240.0</td>\n",
       "      <td>surf</td>\n",
       "      <td>Washington-Arlington-Alexandria, DC-VA-MD-WV MSA</td>\n",
       "      <td>51.0</td>\n",
       "      <td>0.0</td>\n",
       "    </tr>\n",
       "    <tr>\n",
       "      <th>2281</th>\n",
       "      <td>1194</td>\n",
       "      <td>11</td>\n",
       "      <td>0.0</td>\n",
       "      <td>surf</td>\n",
       "      <td>San Jose-Sunnyvale-Santa Clara, CA MSA</td>\n",
       "      <td>62.0</td>\n",
       "      <td>42.0</td>\n",
       "    </tr>\n",
       "  </tbody>\n",
       "</table>\n",
       "</div>"
      ],
      "text/plain": [
       "      user_id  month  total_minutes plan_name  \\\n",
       "1712     1375     12          276.0      surf   \n",
       "1353     1299      4          541.0      surf   \n",
       "1351     1298     12          590.0      surf   \n",
       "224      1054      5          278.0      surf   \n",
       "79       1022      9          510.0      surf   \n",
       "2286     1349     10            0.0      surf   \n",
       "209      1050      8          358.0  ultimate   \n",
       "949      1203      4          568.0      surf   \n",
       "1997     1437     11          467.0      surf   \n",
       "769      1164      9          450.0  ultimate   \n",
       "527      1113      9          496.0  ultimate   \n",
       "63       1017      9          362.0      surf   \n",
       "822      1175     10          703.0      surf   \n",
       "27       1008     11          446.0  ultimate   \n",
       "38       1010      4          656.0      surf   \n",
       "858      1183     11          677.0      surf   \n",
       "1222     1263      5          560.0      surf   \n",
       "1188     1257     10          611.0      surf   \n",
       "2129     1470      5          240.0      surf   \n",
       "2281     1194     11            0.0      surf   \n",
       "\n",
       "                                                  city  total_messages  \\\n",
       "1712   Philadelphia-Camden-Wilmington, PA-NJ-DE-MD MSA            81.0   \n",
       "1353         New York-Newark-Jersey City, NY-NJ-PA MSA            11.0   \n",
       "1351  Nashville-Davidson–Murfreesboro–Franklin, TN MSA           103.0   \n",
       "224                      Phoenix-Mesa-Chandler, AZ MSA            27.0   \n",
       "79           New York-Newark-Jersey City, NY-NJ-PA MSA             0.0   \n",
       "2286                Boston-Cambridge-Newton, MA-NH MSA            76.0   \n",
       "209      Miami-Fort Lauderdale-West Palm Beach, FL MSA             0.0   \n",
       "949                 Boston-Cambridge-Newton, MA-NH MSA            53.0   \n",
       "1997               Dallas-Fort Worth-Arlington, TX MSA             0.0   \n",
       "769             Chicago-Naperville-Elgin, IL-IN-WI MSA            29.0   \n",
       "527          New York-Newark-Jersey City, NY-NJ-PA MSA            31.0   \n",
       "63    Washington-Arlington-Alexandria, DC-VA-MD-WV MSA            41.0   \n",
       "822          New York-Newark-Jersey City, NY-NJ-PA MSA            31.0   \n",
       "27                   Orlando-Kissimmee-Sanford, FL MSA            37.0   \n",
       "38                 Dallas-Fort Worth-Arlington, TX MSA             0.0   \n",
       "858             Chicago-Naperville-Elgin, IL-IN-WI MSA           107.0   \n",
       "1222                Boston-Cambridge-Newton, MA-NH MSA             5.0   \n",
       "1188         New York-Newark-Jersey City, NY-NJ-PA MSA            30.0   \n",
       "2129  Washington-Arlington-Alexandria, DC-VA-MD-WV MSA            51.0   \n",
       "2281            San Jose-Sunnyvale-Santa Clara, CA MSA            62.0   \n",
       "\n",
       "      total_internet_gb  \n",
       "1712               14.0  \n",
       "1353               17.0  \n",
       "1351               18.0  \n",
       "224                18.0  \n",
       "79                 14.0  \n",
       "2286               13.0  \n",
       "209                15.0  \n",
       "949                18.0  \n",
       "1997               15.0  \n",
       "769                14.0  \n",
       "527                12.0  \n",
       "63                 24.0  \n",
       "822                23.0  \n",
       "27                 24.0  \n",
       "38                 20.0  \n",
       "858                18.0  \n",
       "1222               14.0  \n",
       "1188               15.0  \n",
       "2129                0.0  \n",
       "2281               42.0  "
      ]
     },
     "execution_count": 47,
     "metadata": {},
     "output_type": "execute_result"
    }
   ],
   "source": [
    "\n",
    "\n",
    "df_usuarios_mensuales = df_usuarios_mensuales.fillna(0)\n",
    "\n",
    "df_usuarios_mensuales.rename(columns={'plan':'plan_name'}, inplace=True) #cambio además el nombre de la columna 'plan' por \n",
    "#'plan_name' para poder hacer un merge con el DataFrame 'plans'\n",
    "\n",
    "df_usuarios_mensuales.sample(20)"
   ]
  },
  {
   "cell_type": "code",
   "execution_count": 48,
   "metadata": {},
   "outputs": [],
   "source": [
    "# Ahora hago un merge con el DataFrame de los planes:\n",
    "\n",
    "df_usuarios_mensuales = df_usuarios_mensuales.merge(df_plans, on=['plan_name'], how='outer')"
   ]
  },
  {
   "cell_type": "code",
   "execution_count": 49,
   "metadata": {},
   "outputs": [
    {
     "data": {
      "text/html": [
       "<div>\n",
       "<style scoped>\n",
       "    .dataframe tbody tr th:only-of-type {\n",
       "        vertical-align: middle;\n",
       "    }\n",
       "\n",
       "    .dataframe tbody tr th {\n",
       "        vertical-align: top;\n",
       "    }\n",
       "\n",
       "    .dataframe thead th {\n",
       "        text-align: right;\n",
       "    }\n",
       "</style>\n",
       "<table border=\"1\" class=\"dataframe\">\n",
       "  <thead>\n",
       "    <tr style=\"text-align: right;\">\n",
       "      <th></th>\n",
       "      <th>user_id</th>\n",
       "      <th>month</th>\n",
       "      <th>total_minutes</th>\n",
       "      <th>plan_name</th>\n",
       "      <th>city</th>\n",
       "      <th>total_messages</th>\n",
       "      <th>total_internet_gb</th>\n",
       "      <th>messages_included</th>\n",
       "      <th>mb_per_month_included</th>\n",
       "      <th>minutes_included</th>\n",
       "      <th>usd_monthly_pay</th>\n",
       "      <th>usd_per_gb</th>\n",
       "      <th>usd_per_message</th>\n",
       "      <th>usd_per_minute</th>\n",
       "    </tr>\n",
       "  </thead>\n",
       "  <tbody>\n",
       "    <tr>\n",
       "      <th>0</th>\n",
       "      <td>1000</td>\n",
       "      <td>12</td>\n",
       "      <td>124.0</td>\n",
       "      <td>ultimate</td>\n",
       "      <td>Atlanta-Sandy Springs-Roswell, GA MSA</td>\n",
       "      <td>11.0</td>\n",
       "      <td>2.0</td>\n",
       "      <td>1000</td>\n",
       "      <td>30720</td>\n",
       "      <td>3000</td>\n",
       "      <td>70</td>\n",
       "      <td>7</td>\n",
       "      <td>0.01</td>\n",
       "      <td>0.01</td>\n",
       "    </tr>\n",
       "    <tr>\n",
       "      <th>1</th>\n",
       "      <td>1006</td>\n",
       "      <td>11</td>\n",
       "      <td>10.0</td>\n",
       "      <td>ultimate</td>\n",
       "      <td>San Francisco-Oakland-Berkeley, CA MSA</td>\n",
       "      <td>15.0</td>\n",
       "      <td>3.0</td>\n",
       "      <td>1000</td>\n",
       "      <td>30720</td>\n",
       "      <td>3000</td>\n",
       "      <td>70</td>\n",
       "      <td>7</td>\n",
       "      <td>0.01</td>\n",
       "      <td>0.01</td>\n",
       "    </tr>\n",
       "    <tr>\n",
       "      <th>2</th>\n",
       "      <td>1006</td>\n",
       "      <td>12</td>\n",
       "      <td>59.0</td>\n",
       "      <td>ultimate</td>\n",
       "      <td>San Francisco-Oakland-Berkeley, CA MSA</td>\n",
       "      <td>139.0</td>\n",
       "      <td>32.0</td>\n",
       "      <td>1000</td>\n",
       "      <td>30720</td>\n",
       "      <td>3000</td>\n",
       "      <td>70</td>\n",
       "      <td>7</td>\n",
       "      <td>0.01</td>\n",
       "      <td>0.01</td>\n",
       "    </tr>\n",
       "    <tr>\n",
       "      <th>3</th>\n",
       "      <td>1008</td>\n",
       "      <td>10</td>\n",
       "      <td>476.0</td>\n",
       "      <td>ultimate</td>\n",
       "      <td>Orlando-Kissimmee-Sanford, FL MSA</td>\n",
       "      <td>21.0</td>\n",
       "      <td>17.0</td>\n",
       "      <td>1000</td>\n",
       "      <td>30720</td>\n",
       "      <td>3000</td>\n",
       "      <td>70</td>\n",
       "      <td>7</td>\n",
       "      <td>0.01</td>\n",
       "      <td>0.01</td>\n",
       "    </tr>\n",
       "    <tr>\n",
       "      <th>4</th>\n",
       "      <td>1008</td>\n",
       "      <td>11</td>\n",
       "      <td>446.0</td>\n",
       "      <td>ultimate</td>\n",
       "      <td>Orlando-Kissimmee-Sanford, FL MSA</td>\n",
       "      <td>37.0</td>\n",
       "      <td>24.0</td>\n",
       "      <td>1000</td>\n",
       "      <td>30720</td>\n",
       "      <td>3000</td>\n",
       "      <td>70</td>\n",
       "      <td>7</td>\n",
       "      <td>0.01</td>\n",
       "      <td>0.01</td>\n",
       "    </tr>\n",
       "  </tbody>\n",
       "</table>\n",
       "</div>"
      ],
      "text/plain": [
       "   user_id  month  total_minutes plan_name  \\\n",
       "0     1000     12          124.0  ultimate   \n",
       "1     1006     11           10.0  ultimate   \n",
       "2     1006     12           59.0  ultimate   \n",
       "3     1008     10          476.0  ultimate   \n",
       "4     1008     11          446.0  ultimate   \n",
       "\n",
       "                                     city  total_messages  total_internet_gb  \\\n",
       "0   Atlanta-Sandy Springs-Roswell, GA MSA            11.0                2.0   \n",
       "1  San Francisco-Oakland-Berkeley, CA MSA            15.0                3.0   \n",
       "2  San Francisco-Oakland-Berkeley, CA MSA           139.0               32.0   \n",
       "3       Orlando-Kissimmee-Sanford, FL MSA            21.0               17.0   \n",
       "4       Orlando-Kissimmee-Sanford, FL MSA            37.0               24.0   \n",
       "\n",
       "   messages_included  mb_per_month_included  minutes_included  \\\n",
       "0               1000                  30720              3000   \n",
       "1               1000                  30720              3000   \n",
       "2               1000                  30720              3000   \n",
       "3               1000                  30720              3000   \n",
       "4               1000                  30720              3000   \n",
       "\n",
       "   usd_monthly_pay  usd_per_gb  usd_per_message  usd_per_minute  \n",
       "0               70           7             0.01            0.01  \n",
       "1               70           7             0.01            0.01  \n",
       "2               70           7             0.01            0.01  \n",
       "3               70           7             0.01            0.01  \n",
       "4               70           7             0.01            0.01  "
      ]
     },
     "execution_count": 49,
     "metadata": {},
     "output_type": "execute_result"
    }
   ],
   "source": [
    "df_usuarios_mensuales.head()"
   ]
  },
  {
   "cell_type": "code",
   "execution_count": 50,
   "metadata": {},
   "outputs": [
    {
     "data": {
      "text/html": [
       "<div>\n",
       "<style scoped>\n",
       "    .dataframe tbody tr th:only-of-type {\n",
       "        vertical-align: middle;\n",
       "    }\n",
       "\n",
       "    .dataframe tbody tr th {\n",
       "        vertical-align: top;\n",
       "    }\n",
       "\n",
       "    .dataframe thead th {\n",
       "        text-align: right;\n",
       "    }\n",
       "</style>\n",
       "<table border=\"1\" class=\"dataframe\">\n",
       "  <thead>\n",
       "    <tr style=\"text-align: right;\">\n",
       "      <th></th>\n",
       "      <th>user_id</th>\n",
       "      <th>month</th>\n",
       "      <th>total_minutes</th>\n",
       "      <th>plan_name</th>\n",
       "      <th>city</th>\n",
       "      <th>total_messages</th>\n",
       "      <th>total_internet_gb</th>\n",
       "      <th>messages_included</th>\n",
       "      <th>mb_per_month_included</th>\n",
       "      <th>minutes_included</th>\n",
       "      <th>usd_monthly_pay</th>\n",
       "      <th>usd_per_gb</th>\n",
       "      <th>usd_per_message</th>\n",
       "      <th>usd_per_minute</th>\n",
       "      <th>gb_per_month_included</th>\n",
       "    </tr>\n",
       "  </thead>\n",
       "  <tbody>\n",
       "    <tr>\n",
       "      <th>0</th>\n",
       "      <td>1000</td>\n",
       "      <td>12</td>\n",
       "      <td>124.0</td>\n",
       "      <td>ultimate</td>\n",
       "      <td>Atlanta-Sandy Springs-Roswell, GA MSA</td>\n",
       "      <td>11.0</td>\n",
       "      <td>2.0</td>\n",
       "      <td>1000</td>\n",
       "      <td>30720</td>\n",
       "      <td>3000</td>\n",
       "      <td>70</td>\n",
       "      <td>7</td>\n",
       "      <td>0.01</td>\n",
       "      <td>0.01</td>\n",
       "      <td>30.0</td>\n",
       "    </tr>\n",
       "    <tr>\n",
       "      <th>1</th>\n",
       "      <td>1006</td>\n",
       "      <td>11</td>\n",
       "      <td>10.0</td>\n",
       "      <td>ultimate</td>\n",
       "      <td>San Francisco-Oakland-Berkeley, CA MSA</td>\n",
       "      <td>15.0</td>\n",
       "      <td>3.0</td>\n",
       "      <td>1000</td>\n",
       "      <td>30720</td>\n",
       "      <td>3000</td>\n",
       "      <td>70</td>\n",
       "      <td>7</td>\n",
       "      <td>0.01</td>\n",
       "      <td>0.01</td>\n",
       "      <td>30.0</td>\n",
       "    </tr>\n",
       "    <tr>\n",
       "      <th>2</th>\n",
       "      <td>1006</td>\n",
       "      <td>12</td>\n",
       "      <td>59.0</td>\n",
       "      <td>ultimate</td>\n",
       "      <td>San Francisco-Oakland-Berkeley, CA MSA</td>\n",
       "      <td>139.0</td>\n",
       "      <td>32.0</td>\n",
       "      <td>1000</td>\n",
       "      <td>30720</td>\n",
       "      <td>3000</td>\n",
       "      <td>70</td>\n",
       "      <td>7</td>\n",
       "      <td>0.01</td>\n",
       "      <td>0.01</td>\n",
       "      <td>30.0</td>\n",
       "    </tr>\n",
       "    <tr>\n",
       "      <th>3</th>\n",
       "      <td>1008</td>\n",
       "      <td>10</td>\n",
       "      <td>476.0</td>\n",
       "      <td>ultimate</td>\n",
       "      <td>Orlando-Kissimmee-Sanford, FL MSA</td>\n",
       "      <td>21.0</td>\n",
       "      <td>17.0</td>\n",
       "      <td>1000</td>\n",
       "      <td>30720</td>\n",
       "      <td>3000</td>\n",
       "      <td>70</td>\n",
       "      <td>7</td>\n",
       "      <td>0.01</td>\n",
       "      <td>0.01</td>\n",
       "      <td>30.0</td>\n",
       "    </tr>\n",
       "    <tr>\n",
       "      <th>4</th>\n",
       "      <td>1008</td>\n",
       "      <td>11</td>\n",
       "      <td>446.0</td>\n",
       "      <td>ultimate</td>\n",
       "      <td>Orlando-Kissimmee-Sanford, FL MSA</td>\n",
       "      <td>37.0</td>\n",
       "      <td>24.0</td>\n",
       "      <td>1000</td>\n",
       "      <td>30720</td>\n",
       "      <td>3000</td>\n",
       "      <td>70</td>\n",
       "      <td>7</td>\n",
       "      <td>0.01</td>\n",
       "      <td>0.01</td>\n",
       "      <td>30.0</td>\n",
       "    </tr>\n",
       "  </tbody>\n",
       "</table>\n",
       "</div>"
      ],
      "text/plain": [
       "   user_id  month  total_minutes plan_name  \\\n",
       "0     1000     12          124.0  ultimate   \n",
       "1     1006     11           10.0  ultimate   \n",
       "2     1006     12           59.0  ultimate   \n",
       "3     1008     10          476.0  ultimate   \n",
       "4     1008     11          446.0  ultimate   \n",
       "\n",
       "                                     city  total_messages  total_internet_gb  \\\n",
       "0   Atlanta-Sandy Springs-Roswell, GA MSA            11.0                2.0   \n",
       "1  San Francisco-Oakland-Berkeley, CA MSA            15.0                3.0   \n",
       "2  San Francisco-Oakland-Berkeley, CA MSA           139.0               32.0   \n",
       "3       Orlando-Kissimmee-Sanford, FL MSA            21.0               17.0   \n",
       "4       Orlando-Kissimmee-Sanford, FL MSA            37.0               24.0   \n",
       "\n",
       "   messages_included  mb_per_month_included  minutes_included  \\\n",
       "0               1000                  30720              3000   \n",
       "1               1000                  30720              3000   \n",
       "2               1000                  30720              3000   \n",
       "3               1000                  30720              3000   \n",
       "4               1000                  30720              3000   \n",
       "\n",
       "   usd_monthly_pay  usd_per_gb  usd_per_message  usd_per_minute  \\\n",
       "0               70           7             0.01            0.01   \n",
       "1               70           7             0.01            0.01   \n",
       "2               70           7             0.01            0.01   \n",
       "3               70           7             0.01            0.01   \n",
       "4               70           7             0.01            0.01   \n",
       "\n",
       "   gb_per_month_included  \n",
       "0                   30.0  \n",
       "1                   30.0  \n",
       "2                   30.0  \n",
       "3                   30.0  \n",
       "4                   30.0  "
      ]
     },
     "execution_count": 50,
     "metadata": {},
     "output_type": "execute_result"
    }
   ],
   "source": [
    "\n",
    "#convierto 'mb_per_month_included' a 'gb_per_month_included' (nueva columna)\n",
    "\n",
    "df_usuarios_mensuales['gb_per_month_included'] = (df_usuarios_mensuales['mb_per_month_included'] / 1024)\n",
    "\n",
    "\n",
    "df_usuarios_mensuales.head()\n"
   ]
  },
  {
   "cell_type": "code",
   "execution_count": 51,
   "metadata": {},
   "outputs": [
    {
     "name": "stdout",
     "output_type": "stream",
     "text": [
      "<class 'pandas.core.frame.DataFrame'>\n",
      "Int64Index: 2293 entries, 0 to 2292\n",
      "Data columns (total 15 columns):\n",
      " #   Column                 Non-Null Count  Dtype  \n",
      "---  ------                 --------------  -----  \n",
      " 0   user_id                2293 non-null   int64  \n",
      " 1   month                  2293 non-null   int64  \n",
      " 2   total_minutes          2293 non-null   float64\n",
      " 3   plan_name              2293 non-null   object \n",
      " 4   city                   2293 non-null   object \n",
      " 5   total_messages         2293 non-null   float64\n",
      " 6   total_internet_gb      2293 non-null   float64\n",
      " 7   messages_included      2293 non-null   int64  \n",
      " 8   mb_per_month_included  2293 non-null   int64  \n",
      " 9   minutes_included       2293 non-null   int64  \n",
      " 10  usd_monthly_pay        2293 non-null   int64  \n",
      " 11  usd_per_gb             2293 non-null   int64  \n",
      " 12  usd_per_message        2293 non-null   float64\n",
      " 13  usd_per_minute         2293 non-null   float64\n",
      " 14  gb_per_month_included  2293 non-null   float64\n",
      "dtypes: float64(6), int64(7), object(2)\n",
      "memory usage: 286.6+ KB\n",
      "None\n"
     ]
    }
   ],
   "source": [
    "#verifico ahora los tipos de datos del df resultante, para revisar que no haya inconsistencias\n",
    "\n",
    "print(df_usuarios_mensuales.info())"
   ]
  },
  {
   "cell_type": "markdown",
   "metadata": {},
   "source": [
    "Como se observa, los tipos de datos del nuevo df son los apropiados, por lo que no se requieren cambios o ajustes."
   ]
  },
  {
   "cell_type": "code",
   "execution_count": 52,
   "metadata": {
    "id": "5FGCf_c60q1I"
   },
   "outputs": [],
   "source": [
    "# Ahora voy a crear 3 columnas que me muestren si el usuario excedió o no el limite del paquete para llamadas, mensajes e internet\n",
    "\n",
    "df_usuarios_mensuales['validacion_llamadas'] = df_usuarios_mensuales['total_minutes'] - df_usuarios_mensuales['minutes_included']\n",
    "df_usuarios_mensuales['validacion_mensajes'] = df_usuarios_mensuales['total_messages'] - df_usuarios_mensuales['messages_included']\n",
    "df_usuarios_mensuales['validacion_internet'] = df_usuarios_mensuales['total_internet_gb'] - df_usuarios_mensuales['gb_per_month_included']\n"
   ]
  },
  {
   "cell_type": "markdown",
   "metadata": {},
   "source": [
    "<div class=\"alert alert-block alert-danger\">\n",
    "<b>Comentario del revisor (1ra Iteración)</b> <a class=“tocSkip”></a>\n",
    "\n",
    "Acá es donde debes asegurate de hacer la diferencia entre el cosumo y el internet del plan, ambos en GB\n",
    "\n",
    "</div>"
   ]
  },
  {
   "cell_type": "markdown",
   "metadata": {},
   "source": [
    "<div style=\"background-color: lightblue; padding: 10px;\">\n",
    "    Respuesta estudiante: Para calcular correctamente la diferencia entre el consumo y el internet del plan se incluyó una nueva columna en el DataFrame llamada gb_per_month_included, para lo cual se divieron los MB en 1024 .\n",
    "   </div>"
   ]
  },
  {
   "cell_type": "markdown",
   "metadata": {},
   "source": [
    "<div class=\"alert alert-block alert-success\">\n",
    "<b>Comentario del revisor (2da Iteración)</b> <a class=“tocSkip”></a>\n",
    "\n",
    "Perfecto Duver\n",
    "\n",
    "</div>"
   ]
  },
  {
   "cell_type": "code",
   "execution_count": 53,
   "metadata": {},
   "outputs": [
    {
     "data": {
      "text/html": [
       "<div>\n",
       "<style scoped>\n",
       "    .dataframe tbody tr th:only-of-type {\n",
       "        vertical-align: middle;\n",
       "    }\n",
       "\n",
       "    .dataframe tbody tr th {\n",
       "        vertical-align: top;\n",
       "    }\n",
       "\n",
       "    .dataframe thead th {\n",
       "        text-align: right;\n",
       "    }\n",
       "</style>\n",
       "<table border=\"1\" class=\"dataframe\">\n",
       "  <thead>\n",
       "    <tr style=\"text-align: right;\">\n",
       "      <th></th>\n",
       "      <th>user_id</th>\n",
       "      <th>month</th>\n",
       "      <th>total_minutes</th>\n",
       "      <th>plan_name</th>\n",
       "      <th>city</th>\n",
       "      <th>total_messages</th>\n",
       "      <th>total_internet_gb</th>\n",
       "      <th>messages_included</th>\n",
       "      <th>mb_per_month_included</th>\n",
       "      <th>minutes_included</th>\n",
       "      <th>usd_monthly_pay</th>\n",
       "      <th>usd_per_gb</th>\n",
       "      <th>usd_per_message</th>\n",
       "      <th>usd_per_minute</th>\n",
       "      <th>gb_per_month_included</th>\n",
       "      <th>validacion_llamadas</th>\n",
       "      <th>validacion_mensajes</th>\n",
       "      <th>validacion_internet</th>\n",
       "    </tr>\n",
       "  </thead>\n",
       "  <tbody>\n",
       "    <tr>\n",
       "      <th>0</th>\n",
       "      <td>1000</td>\n",
       "      <td>12</td>\n",
       "      <td>124.0</td>\n",
       "      <td>ultimate</td>\n",
       "      <td>Atlanta-Sandy Springs-Roswell, GA MSA</td>\n",
       "      <td>11.0</td>\n",
       "      <td>2.0</td>\n",
       "      <td>1000</td>\n",
       "      <td>30720</td>\n",
       "      <td>3000</td>\n",
       "      <td>70</td>\n",
       "      <td>7</td>\n",
       "      <td>0.01</td>\n",
       "      <td>0.01</td>\n",
       "      <td>30.0</td>\n",
       "      <td>-2876.0</td>\n",
       "      <td>-989.0</td>\n",
       "      <td>-28.0</td>\n",
       "    </tr>\n",
       "    <tr>\n",
       "      <th>1</th>\n",
       "      <td>1006</td>\n",
       "      <td>11</td>\n",
       "      <td>10.0</td>\n",
       "      <td>ultimate</td>\n",
       "      <td>San Francisco-Oakland-Berkeley, CA MSA</td>\n",
       "      <td>15.0</td>\n",
       "      <td>3.0</td>\n",
       "      <td>1000</td>\n",
       "      <td>30720</td>\n",
       "      <td>3000</td>\n",
       "      <td>70</td>\n",
       "      <td>7</td>\n",
       "      <td>0.01</td>\n",
       "      <td>0.01</td>\n",
       "      <td>30.0</td>\n",
       "      <td>-2990.0</td>\n",
       "      <td>-985.0</td>\n",
       "      <td>-27.0</td>\n",
       "    </tr>\n",
       "    <tr>\n",
       "      <th>2</th>\n",
       "      <td>1006</td>\n",
       "      <td>12</td>\n",
       "      <td>59.0</td>\n",
       "      <td>ultimate</td>\n",
       "      <td>San Francisco-Oakland-Berkeley, CA MSA</td>\n",
       "      <td>139.0</td>\n",
       "      <td>32.0</td>\n",
       "      <td>1000</td>\n",
       "      <td>30720</td>\n",
       "      <td>3000</td>\n",
       "      <td>70</td>\n",
       "      <td>7</td>\n",
       "      <td>0.01</td>\n",
       "      <td>0.01</td>\n",
       "      <td>30.0</td>\n",
       "      <td>-2941.0</td>\n",
       "      <td>-861.0</td>\n",
       "      <td>2.0</td>\n",
       "    </tr>\n",
       "    <tr>\n",
       "      <th>3</th>\n",
       "      <td>1008</td>\n",
       "      <td>10</td>\n",
       "      <td>476.0</td>\n",
       "      <td>ultimate</td>\n",
       "      <td>Orlando-Kissimmee-Sanford, FL MSA</td>\n",
       "      <td>21.0</td>\n",
       "      <td>17.0</td>\n",
       "      <td>1000</td>\n",
       "      <td>30720</td>\n",
       "      <td>3000</td>\n",
       "      <td>70</td>\n",
       "      <td>7</td>\n",
       "      <td>0.01</td>\n",
       "      <td>0.01</td>\n",
       "      <td>30.0</td>\n",
       "      <td>-2524.0</td>\n",
       "      <td>-979.0</td>\n",
       "      <td>-13.0</td>\n",
       "    </tr>\n",
       "    <tr>\n",
       "      <th>4</th>\n",
       "      <td>1008</td>\n",
       "      <td>11</td>\n",
       "      <td>446.0</td>\n",
       "      <td>ultimate</td>\n",
       "      <td>Orlando-Kissimmee-Sanford, FL MSA</td>\n",
       "      <td>37.0</td>\n",
       "      <td>24.0</td>\n",
       "      <td>1000</td>\n",
       "      <td>30720</td>\n",
       "      <td>3000</td>\n",
       "      <td>70</td>\n",
       "      <td>7</td>\n",
       "      <td>0.01</td>\n",
       "      <td>0.01</td>\n",
       "      <td>30.0</td>\n",
       "      <td>-2554.0</td>\n",
       "      <td>-963.0</td>\n",
       "      <td>-6.0</td>\n",
       "    </tr>\n",
       "  </tbody>\n",
       "</table>\n",
       "</div>"
      ],
      "text/plain": [
       "   user_id  month  total_minutes plan_name  \\\n",
       "0     1000     12          124.0  ultimate   \n",
       "1     1006     11           10.0  ultimate   \n",
       "2     1006     12           59.0  ultimate   \n",
       "3     1008     10          476.0  ultimate   \n",
       "4     1008     11          446.0  ultimate   \n",
       "\n",
       "                                     city  total_messages  total_internet_gb  \\\n",
       "0   Atlanta-Sandy Springs-Roswell, GA MSA            11.0                2.0   \n",
       "1  San Francisco-Oakland-Berkeley, CA MSA            15.0                3.0   \n",
       "2  San Francisco-Oakland-Berkeley, CA MSA           139.0               32.0   \n",
       "3       Orlando-Kissimmee-Sanford, FL MSA            21.0               17.0   \n",
       "4       Orlando-Kissimmee-Sanford, FL MSA            37.0               24.0   \n",
       "\n",
       "   messages_included  mb_per_month_included  minutes_included  \\\n",
       "0               1000                  30720              3000   \n",
       "1               1000                  30720              3000   \n",
       "2               1000                  30720              3000   \n",
       "3               1000                  30720              3000   \n",
       "4               1000                  30720              3000   \n",
       "\n",
       "   usd_monthly_pay  usd_per_gb  usd_per_message  usd_per_minute  \\\n",
       "0               70           7             0.01            0.01   \n",
       "1               70           7             0.01            0.01   \n",
       "2               70           7             0.01            0.01   \n",
       "3               70           7             0.01            0.01   \n",
       "4               70           7             0.01            0.01   \n",
       "\n",
       "   gb_per_month_included  validacion_llamadas  validacion_mensajes  \\\n",
       "0                   30.0              -2876.0               -989.0   \n",
       "1                   30.0              -2990.0               -985.0   \n",
       "2                   30.0              -2941.0               -861.0   \n",
       "3                   30.0              -2524.0               -979.0   \n",
       "4                   30.0              -2554.0               -963.0   \n",
       "\n",
       "   validacion_internet  \n",
       "0                -28.0  \n",
       "1                -27.0  \n",
       "2                  2.0  \n",
       "3                -13.0  \n",
       "4                 -6.0  "
      ]
     },
     "execution_count": 53,
     "metadata": {},
     "output_type": "execute_result"
    }
   ],
   "source": [
    "df_usuarios_mensuales.head()"
   ]
  },
  {
   "cell_type": "markdown",
   "metadata": {},
   "source": [
    "En este DataFrame tenemos una gran cantidad de números negativos en las columnas de validación, indicando estos números negativos que el usuario no excedió los límites del plan. Dado que el valor adicional se cobra es en caso de que el resultado sea positivo, voy a a convertir los números negativos en ceros."
   ]
  },
  {
   "cell_type": "code",
   "execution_count": 54,
   "metadata": {},
   "outputs": [],
   "source": [
    "# Para ello creo una función llamada 'limpiar_calculo'\n",
    "\n",
    "def limpiar_calculo(calculo):\n",
    "    if calculo > 0:\n",
    "        calculo = calculo\n",
    "    else:\n",
    "        calculo = 0\n",
    "    return calculo"
   ]
  },
  {
   "cell_type": "code",
   "execution_count": 55,
   "metadata": {},
   "outputs": [],
   "source": [
    "# Ahora, esta función la aplico a cada una de las columnas de validación:\n",
    "\n",
    "df_usuarios_mensuales['validacion_llamadas'] = df_usuarios_mensuales['validacion_llamadas'].apply(limpiar_calculo)\n",
    "df_usuarios_mensuales['validacion_mensajes'] = df_usuarios_mensuales['validacion_mensajes'].apply(limpiar_calculo)\n",
    "df_usuarios_mensuales['validacion_internet'] = df_usuarios_mensuales['validacion_internet'].apply(limpiar_calculo)"
   ]
  },
  {
   "cell_type": "code",
   "execution_count": 56,
   "metadata": {},
   "outputs": [
    {
     "data": {
      "text/html": [
       "<div>\n",
       "<style scoped>\n",
       "    .dataframe tbody tr th:only-of-type {\n",
       "        vertical-align: middle;\n",
       "    }\n",
       "\n",
       "    .dataframe tbody tr th {\n",
       "        vertical-align: top;\n",
       "    }\n",
       "\n",
       "    .dataframe thead th {\n",
       "        text-align: right;\n",
       "    }\n",
       "</style>\n",
       "<table border=\"1\" class=\"dataframe\">\n",
       "  <thead>\n",
       "    <tr style=\"text-align: right;\">\n",
       "      <th></th>\n",
       "      <th>user_id</th>\n",
       "      <th>month</th>\n",
       "      <th>total_minutes</th>\n",
       "      <th>plan_name</th>\n",
       "      <th>city</th>\n",
       "      <th>total_messages</th>\n",
       "      <th>total_internet_gb</th>\n",
       "      <th>messages_included</th>\n",
       "      <th>mb_per_month_included</th>\n",
       "      <th>minutes_included</th>\n",
       "      <th>usd_monthly_pay</th>\n",
       "      <th>usd_per_gb</th>\n",
       "      <th>usd_per_message</th>\n",
       "      <th>usd_per_minute</th>\n",
       "      <th>gb_per_month_included</th>\n",
       "      <th>validacion_llamadas</th>\n",
       "      <th>validacion_mensajes</th>\n",
       "      <th>validacion_internet</th>\n",
       "    </tr>\n",
       "  </thead>\n",
       "  <tbody>\n",
       "    <tr>\n",
       "      <th>0</th>\n",
       "      <td>1000</td>\n",
       "      <td>12</td>\n",
       "      <td>124.0</td>\n",
       "      <td>ultimate</td>\n",
       "      <td>Atlanta-Sandy Springs-Roswell, GA MSA</td>\n",
       "      <td>11.0</td>\n",
       "      <td>2.0</td>\n",
       "      <td>1000</td>\n",
       "      <td>30720</td>\n",
       "      <td>3000</td>\n",
       "      <td>70</td>\n",
       "      <td>7</td>\n",
       "      <td>0.01</td>\n",
       "      <td>0.01</td>\n",
       "      <td>30.0</td>\n",
       "      <td>0.0</td>\n",
       "      <td>0.0</td>\n",
       "      <td>0.0</td>\n",
       "    </tr>\n",
       "    <tr>\n",
       "      <th>1</th>\n",
       "      <td>1006</td>\n",
       "      <td>11</td>\n",
       "      <td>10.0</td>\n",
       "      <td>ultimate</td>\n",
       "      <td>San Francisco-Oakland-Berkeley, CA MSA</td>\n",
       "      <td>15.0</td>\n",
       "      <td>3.0</td>\n",
       "      <td>1000</td>\n",
       "      <td>30720</td>\n",
       "      <td>3000</td>\n",
       "      <td>70</td>\n",
       "      <td>7</td>\n",
       "      <td>0.01</td>\n",
       "      <td>0.01</td>\n",
       "      <td>30.0</td>\n",
       "      <td>0.0</td>\n",
       "      <td>0.0</td>\n",
       "      <td>0.0</td>\n",
       "    </tr>\n",
       "    <tr>\n",
       "      <th>2</th>\n",
       "      <td>1006</td>\n",
       "      <td>12</td>\n",
       "      <td>59.0</td>\n",
       "      <td>ultimate</td>\n",
       "      <td>San Francisco-Oakland-Berkeley, CA MSA</td>\n",
       "      <td>139.0</td>\n",
       "      <td>32.0</td>\n",
       "      <td>1000</td>\n",
       "      <td>30720</td>\n",
       "      <td>3000</td>\n",
       "      <td>70</td>\n",
       "      <td>7</td>\n",
       "      <td>0.01</td>\n",
       "      <td>0.01</td>\n",
       "      <td>30.0</td>\n",
       "      <td>0.0</td>\n",
       "      <td>0.0</td>\n",
       "      <td>2.0</td>\n",
       "    </tr>\n",
       "    <tr>\n",
       "      <th>3</th>\n",
       "      <td>1008</td>\n",
       "      <td>10</td>\n",
       "      <td>476.0</td>\n",
       "      <td>ultimate</td>\n",
       "      <td>Orlando-Kissimmee-Sanford, FL MSA</td>\n",
       "      <td>21.0</td>\n",
       "      <td>17.0</td>\n",
       "      <td>1000</td>\n",
       "      <td>30720</td>\n",
       "      <td>3000</td>\n",
       "      <td>70</td>\n",
       "      <td>7</td>\n",
       "      <td>0.01</td>\n",
       "      <td>0.01</td>\n",
       "      <td>30.0</td>\n",
       "      <td>0.0</td>\n",
       "      <td>0.0</td>\n",
       "      <td>0.0</td>\n",
       "    </tr>\n",
       "    <tr>\n",
       "      <th>4</th>\n",
       "      <td>1008</td>\n",
       "      <td>11</td>\n",
       "      <td>446.0</td>\n",
       "      <td>ultimate</td>\n",
       "      <td>Orlando-Kissimmee-Sanford, FL MSA</td>\n",
       "      <td>37.0</td>\n",
       "      <td>24.0</td>\n",
       "      <td>1000</td>\n",
       "      <td>30720</td>\n",
       "      <td>3000</td>\n",
       "      <td>70</td>\n",
       "      <td>7</td>\n",
       "      <td>0.01</td>\n",
       "      <td>0.01</td>\n",
       "      <td>30.0</td>\n",
       "      <td>0.0</td>\n",
       "      <td>0.0</td>\n",
       "      <td>0.0</td>\n",
       "    </tr>\n",
       "  </tbody>\n",
       "</table>\n",
       "</div>"
      ],
      "text/plain": [
       "   user_id  month  total_minutes plan_name  \\\n",
       "0     1000     12          124.0  ultimate   \n",
       "1     1006     11           10.0  ultimate   \n",
       "2     1006     12           59.0  ultimate   \n",
       "3     1008     10          476.0  ultimate   \n",
       "4     1008     11          446.0  ultimate   \n",
       "\n",
       "                                     city  total_messages  total_internet_gb  \\\n",
       "0   Atlanta-Sandy Springs-Roswell, GA MSA            11.0                2.0   \n",
       "1  San Francisco-Oakland-Berkeley, CA MSA            15.0                3.0   \n",
       "2  San Francisco-Oakland-Berkeley, CA MSA           139.0               32.0   \n",
       "3       Orlando-Kissimmee-Sanford, FL MSA            21.0               17.0   \n",
       "4       Orlando-Kissimmee-Sanford, FL MSA            37.0               24.0   \n",
       "\n",
       "   messages_included  mb_per_month_included  minutes_included  \\\n",
       "0               1000                  30720              3000   \n",
       "1               1000                  30720              3000   \n",
       "2               1000                  30720              3000   \n",
       "3               1000                  30720              3000   \n",
       "4               1000                  30720              3000   \n",
       "\n",
       "   usd_monthly_pay  usd_per_gb  usd_per_message  usd_per_minute  \\\n",
       "0               70           7             0.01            0.01   \n",
       "1               70           7             0.01            0.01   \n",
       "2               70           7             0.01            0.01   \n",
       "3               70           7             0.01            0.01   \n",
       "4               70           7             0.01            0.01   \n",
       "\n",
       "   gb_per_month_included  validacion_llamadas  validacion_mensajes  \\\n",
       "0                   30.0                  0.0                  0.0   \n",
       "1                   30.0                  0.0                  0.0   \n",
       "2                   30.0                  0.0                  0.0   \n",
       "3                   30.0                  0.0                  0.0   \n",
       "4                   30.0                  0.0                  0.0   \n",
       "\n",
       "   validacion_internet  \n",
       "0                  0.0  \n",
       "1                  0.0  \n",
       "2                  2.0  \n",
       "3                  0.0  \n",
       "4                  0.0  "
      ]
     },
     "execution_count": 56,
     "metadata": {},
     "output_type": "execute_result"
    }
   ],
   "source": [
    "df_usuarios_mensuales.head() #imprimo un head() para verificar"
   ]
  },
  {
   "cell_type": "markdown",
   "metadata": {},
   "source": [
    "Ahora calculo cuanto debe pagar cada usuario:"
   ]
  },
  {
   "cell_type": "code",
   "execution_count": 57,
   "metadata": {},
   "outputs": [],
   "source": [
    "#creo una nueva columna llamada 'revenue' que me muestra la cantidad a pagar por cada usuario\n",
    "\n",
    "df_usuarios_mensuales['revenue'] = df_usuarios_mensuales['usd_monthly_pay'] + (df_usuarios_mensuales['validacion_llamadas']*df_usuarios_mensuales['usd_per_minute']) + (df_usuarios_mensuales['validacion_mensajes']*df_usuarios_mensuales['usd_per_message']) + ((df_usuarios_mensuales['validacion_internet'])*df_usuarios_mensuales['usd_per_gb'])\n",
    "\n"
   ]
  },
  {
   "cell_type": "code",
   "execution_count": 58,
   "metadata": {},
   "outputs": [
    {
     "data": {
      "text/html": [
       "<div>\n",
       "<style scoped>\n",
       "    .dataframe tbody tr th:only-of-type {\n",
       "        vertical-align: middle;\n",
       "    }\n",
       "\n",
       "    .dataframe tbody tr th {\n",
       "        vertical-align: top;\n",
       "    }\n",
       "\n",
       "    .dataframe thead th {\n",
       "        text-align: right;\n",
       "    }\n",
       "</style>\n",
       "<table border=\"1\" class=\"dataframe\">\n",
       "  <thead>\n",
       "    <tr style=\"text-align: right;\">\n",
       "      <th></th>\n",
       "      <th>user_id</th>\n",
       "      <th>month</th>\n",
       "      <th>total_minutes</th>\n",
       "      <th>plan_name</th>\n",
       "      <th>city</th>\n",
       "      <th>total_messages</th>\n",
       "      <th>total_internet_gb</th>\n",
       "      <th>messages_included</th>\n",
       "      <th>mb_per_month_included</th>\n",
       "      <th>minutes_included</th>\n",
       "      <th>usd_monthly_pay</th>\n",
       "      <th>usd_per_gb</th>\n",
       "      <th>usd_per_message</th>\n",
       "      <th>usd_per_minute</th>\n",
       "      <th>gb_per_month_included</th>\n",
       "      <th>validacion_llamadas</th>\n",
       "      <th>validacion_mensajes</th>\n",
       "      <th>validacion_internet</th>\n",
       "      <th>revenue</th>\n",
       "    </tr>\n",
       "  </thead>\n",
       "  <tbody>\n",
       "    <tr>\n",
       "      <th>0</th>\n",
       "      <td>1000</td>\n",
       "      <td>12</td>\n",
       "      <td>124.0</td>\n",
       "      <td>ultimate</td>\n",
       "      <td>Atlanta-Sandy Springs-Roswell, GA MSA</td>\n",
       "      <td>11.0</td>\n",
       "      <td>2.0</td>\n",
       "      <td>1000</td>\n",
       "      <td>30720</td>\n",
       "      <td>3000</td>\n",
       "      <td>70</td>\n",
       "      <td>7</td>\n",
       "      <td>0.01</td>\n",
       "      <td>0.01</td>\n",
       "      <td>30.0</td>\n",
       "      <td>0.0</td>\n",
       "      <td>0.0</td>\n",
       "      <td>0.0</td>\n",
       "      <td>70.0</td>\n",
       "    </tr>\n",
       "    <tr>\n",
       "      <th>1</th>\n",
       "      <td>1006</td>\n",
       "      <td>11</td>\n",
       "      <td>10.0</td>\n",
       "      <td>ultimate</td>\n",
       "      <td>San Francisco-Oakland-Berkeley, CA MSA</td>\n",
       "      <td>15.0</td>\n",
       "      <td>3.0</td>\n",
       "      <td>1000</td>\n",
       "      <td>30720</td>\n",
       "      <td>3000</td>\n",
       "      <td>70</td>\n",
       "      <td>7</td>\n",
       "      <td>0.01</td>\n",
       "      <td>0.01</td>\n",
       "      <td>30.0</td>\n",
       "      <td>0.0</td>\n",
       "      <td>0.0</td>\n",
       "      <td>0.0</td>\n",
       "      <td>70.0</td>\n",
       "    </tr>\n",
       "    <tr>\n",
       "      <th>2</th>\n",
       "      <td>1006</td>\n",
       "      <td>12</td>\n",
       "      <td>59.0</td>\n",
       "      <td>ultimate</td>\n",
       "      <td>San Francisco-Oakland-Berkeley, CA MSA</td>\n",
       "      <td>139.0</td>\n",
       "      <td>32.0</td>\n",
       "      <td>1000</td>\n",
       "      <td>30720</td>\n",
       "      <td>3000</td>\n",
       "      <td>70</td>\n",
       "      <td>7</td>\n",
       "      <td>0.01</td>\n",
       "      <td>0.01</td>\n",
       "      <td>30.0</td>\n",
       "      <td>0.0</td>\n",
       "      <td>0.0</td>\n",
       "      <td>2.0</td>\n",
       "      <td>84.0</td>\n",
       "    </tr>\n",
       "    <tr>\n",
       "      <th>3</th>\n",
       "      <td>1008</td>\n",
       "      <td>10</td>\n",
       "      <td>476.0</td>\n",
       "      <td>ultimate</td>\n",
       "      <td>Orlando-Kissimmee-Sanford, FL MSA</td>\n",
       "      <td>21.0</td>\n",
       "      <td>17.0</td>\n",
       "      <td>1000</td>\n",
       "      <td>30720</td>\n",
       "      <td>3000</td>\n",
       "      <td>70</td>\n",
       "      <td>7</td>\n",
       "      <td>0.01</td>\n",
       "      <td>0.01</td>\n",
       "      <td>30.0</td>\n",
       "      <td>0.0</td>\n",
       "      <td>0.0</td>\n",
       "      <td>0.0</td>\n",
       "      <td>70.0</td>\n",
       "    </tr>\n",
       "    <tr>\n",
       "      <th>4</th>\n",
       "      <td>1008</td>\n",
       "      <td>11</td>\n",
       "      <td>446.0</td>\n",
       "      <td>ultimate</td>\n",
       "      <td>Orlando-Kissimmee-Sanford, FL MSA</td>\n",
       "      <td>37.0</td>\n",
       "      <td>24.0</td>\n",
       "      <td>1000</td>\n",
       "      <td>30720</td>\n",
       "      <td>3000</td>\n",
       "      <td>70</td>\n",
       "      <td>7</td>\n",
       "      <td>0.01</td>\n",
       "      <td>0.01</td>\n",
       "      <td>30.0</td>\n",
       "      <td>0.0</td>\n",
       "      <td>0.0</td>\n",
       "      <td>0.0</td>\n",
       "      <td>70.0</td>\n",
       "    </tr>\n",
       "  </tbody>\n",
       "</table>\n",
       "</div>"
      ],
      "text/plain": [
       "   user_id  month  total_minutes plan_name  \\\n",
       "0     1000     12          124.0  ultimate   \n",
       "1     1006     11           10.0  ultimate   \n",
       "2     1006     12           59.0  ultimate   \n",
       "3     1008     10          476.0  ultimate   \n",
       "4     1008     11          446.0  ultimate   \n",
       "\n",
       "                                     city  total_messages  total_internet_gb  \\\n",
       "0   Atlanta-Sandy Springs-Roswell, GA MSA            11.0                2.0   \n",
       "1  San Francisco-Oakland-Berkeley, CA MSA            15.0                3.0   \n",
       "2  San Francisco-Oakland-Berkeley, CA MSA           139.0               32.0   \n",
       "3       Orlando-Kissimmee-Sanford, FL MSA            21.0               17.0   \n",
       "4       Orlando-Kissimmee-Sanford, FL MSA            37.0               24.0   \n",
       "\n",
       "   messages_included  mb_per_month_included  minutes_included  \\\n",
       "0               1000                  30720              3000   \n",
       "1               1000                  30720              3000   \n",
       "2               1000                  30720              3000   \n",
       "3               1000                  30720              3000   \n",
       "4               1000                  30720              3000   \n",
       "\n",
       "   usd_monthly_pay  usd_per_gb  usd_per_message  usd_per_minute  \\\n",
       "0               70           7             0.01            0.01   \n",
       "1               70           7             0.01            0.01   \n",
       "2               70           7             0.01            0.01   \n",
       "3               70           7             0.01            0.01   \n",
       "4               70           7             0.01            0.01   \n",
       "\n",
       "   gb_per_month_included  validacion_llamadas  validacion_mensajes  \\\n",
       "0                   30.0                  0.0                  0.0   \n",
       "1                   30.0                  0.0                  0.0   \n",
       "2                   30.0                  0.0                  0.0   \n",
       "3                   30.0                  0.0                  0.0   \n",
       "4                   30.0                  0.0                  0.0   \n",
       "\n",
       "   validacion_internet  revenue  \n",
       "0                  0.0     70.0  \n",
       "1                  0.0     70.0  \n",
       "2                  2.0     84.0  \n",
       "3                  0.0     70.0  \n",
       "4                  0.0     70.0  "
      ]
     },
     "execution_count": 58,
     "metadata": {},
     "output_type": "execute_result"
    }
   ],
   "source": [
    "df_usuarios_mensuales.head() #imprimo un head() para verificar"
   ]
  },
  {
   "cell_type": "markdown",
   "metadata": {},
   "source": [
    "<div class=\"alert alert-block alert-warning\">\n",
    "<b>Comentario del revisor (1ra Iteración)</b> <a class=“tocSkip”></a>\n",
    "\n",
    "La lógica de cálculo del cobro mensual es correcta en general, solo necesitas ajustar el redondeo como te mencioné antes. Asegúrate de hacer la estimación del cobro por el consumo de internet comparando los datos en GB, además es importante considerar el plan de cada usuario, el costo del plan base y los cargos por consumos adicionales para calcular correctamente el monto final.\n",
    "\n",
    "</div>"
   ]
  },
  {
   "cell_type": "markdown",
   "metadata": {},
   "source": [
    "<div style=\"background-color: lightblue; padding: 10px;\">\n",
    "    Respuesta estudiante: Se realizó el cambio, eliminando la división por 1024 de la versión anterior, ya que la conversión a GB ya se hizo en líneas anteriores, de acuerdo con lo requerido .\n",
    "   </div>"
   ]
  },
  {
   "cell_type": "markdown",
   "metadata": {},
   "source": [
    "<div class=\"alert alert-block alert-success\">\n",
    "<b>Comentario del revisor (2da Iteración)</b> <a class=“tocSkip”></a>\n",
    "\n",
    "Has calculado correctamente el cobro mensual para cada usuario. Buen trabajo Duver\n",
    "\n",
    "</div>"
   ]
  },
  {
   "cell_type": "code",
   "execution_count": 75,
   "metadata": {},
   "outputs": [
    {
     "data": {
      "text/html": [
       "<div>\n",
       "<style scoped>\n",
       "    .dataframe tbody tr th:only-of-type {\n",
       "        vertical-align: middle;\n",
       "    }\n",
       "\n",
       "    .dataframe tbody tr th {\n",
       "        vertical-align: top;\n",
       "    }\n",
       "\n",
       "    .dataframe thead th {\n",
       "        text-align: right;\n",
       "    }\n",
       "</style>\n",
       "<table border=\"1\" class=\"dataframe\">\n",
       "  <thead>\n",
       "    <tr style=\"text-align: right;\">\n",
       "      <th></th>\n",
       "      <th>user_id</th>\n",
       "      <th>month</th>\n",
       "      <th>total_minutes</th>\n",
       "      <th>plan_name</th>\n",
       "      <th>city</th>\n",
       "      <th>total_messages</th>\n",
       "      <th>total_internet_gb</th>\n",
       "      <th>messages_included</th>\n",
       "      <th>mb_per_month_included</th>\n",
       "      <th>minutes_included</th>\n",
       "      <th>usd_monthly_pay</th>\n",
       "      <th>usd_per_gb</th>\n",
       "      <th>usd_per_message</th>\n",
       "      <th>usd_per_minute</th>\n",
       "      <th>gb_per_month_included</th>\n",
       "      <th>validacion_llamadas</th>\n",
       "      <th>validacion_mensajes</th>\n",
       "      <th>validacion_internet</th>\n",
       "      <th>revenue</th>\n",
       "    </tr>\n",
       "  </thead>\n",
       "  <tbody>\n",
       "    <tr>\n",
       "      <th>720</th>\n",
       "      <td>1001</td>\n",
       "      <td>8</td>\n",
       "      <td>182.0</td>\n",
       "      <td>surf</td>\n",
       "      <td>Seattle-Tacoma-Bellevue, WA MSA</td>\n",
       "      <td>30.0</td>\n",
       "      <td>7.0</td>\n",
       "      <td>50</td>\n",
       "      <td>15360</td>\n",
       "      <td>500</td>\n",
       "      <td>20</td>\n",
       "      <td>10</td>\n",
       "      <td>0.03</td>\n",
       "      <td>0.03</td>\n",
       "      <td>15.0</td>\n",
       "      <td>0.0</td>\n",
       "      <td>0.0</td>\n",
       "      <td>0.0</td>\n",
       "      <td>20.00</td>\n",
       "    </tr>\n",
       "    <tr>\n",
       "      <th>721</th>\n",
       "      <td>1001</td>\n",
       "      <td>9</td>\n",
       "      <td>315.0</td>\n",
       "      <td>surf</td>\n",
       "      <td>Seattle-Tacoma-Bellevue, WA MSA</td>\n",
       "      <td>44.0</td>\n",
       "      <td>14.0</td>\n",
       "      <td>50</td>\n",
       "      <td>15360</td>\n",
       "      <td>500</td>\n",
       "      <td>20</td>\n",
       "      <td>10</td>\n",
       "      <td>0.03</td>\n",
       "      <td>0.03</td>\n",
       "      <td>15.0</td>\n",
       "      <td>0.0</td>\n",
       "      <td>0.0</td>\n",
       "      <td>0.0</td>\n",
       "      <td>20.00</td>\n",
       "    </tr>\n",
       "    <tr>\n",
       "      <th>722</th>\n",
       "      <td>1001</td>\n",
       "      <td>10</td>\n",
       "      <td>393.0</td>\n",
       "      <td>surf</td>\n",
       "      <td>Seattle-Tacoma-Bellevue, WA MSA</td>\n",
       "      <td>53.0</td>\n",
       "      <td>22.0</td>\n",
       "      <td>50</td>\n",
       "      <td>15360</td>\n",
       "      <td>500</td>\n",
       "      <td>20</td>\n",
       "      <td>10</td>\n",
       "      <td>0.03</td>\n",
       "      <td>0.03</td>\n",
       "      <td>15.0</td>\n",
       "      <td>0.0</td>\n",
       "      <td>3.0</td>\n",
       "      <td>7.0</td>\n",
       "      <td>90.09</td>\n",
       "    </tr>\n",
       "    <tr>\n",
       "      <th>723</th>\n",
       "      <td>1001</td>\n",
       "      <td>11</td>\n",
       "      <td>426.0</td>\n",
       "      <td>surf</td>\n",
       "      <td>Seattle-Tacoma-Bellevue, WA MSA</td>\n",
       "      <td>36.0</td>\n",
       "      <td>19.0</td>\n",
       "      <td>50</td>\n",
       "      <td>15360</td>\n",
       "      <td>500</td>\n",
       "      <td>20</td>\n",
       "      <td>10</td>\n",
       "      <td>0.03</td>\n",
       "      <td>0.03</td>\n",
       "      <td>15.0</td>\n",
       "      <td>0.0</td>\n",
       "      <td>0.0</td>\n",
       "      <td>4.0</td>\n",
       "      <td>60.00</td>\n",
       "    </tr>\n",
       "    <tr>\n",
       "      <th>724</th>\n",
       "      <td>1001</td>\n",
       "      <td>12</td>\n",
       "      <td>412.0</td>\n",
       "      <td>surf</td>\n",
       "      <td>Seattle-Tacoma-Bellevue, WA MSA</td>\n",
       "      <td>44.0</td>\n",
       "      <td>19.0</td>\n",
       "      <td>50</td>\n",
       "      <td>15360</td>\n",
       "      <td>500</td>\n",
       "      <td>20</td>\n",
       "      <td>10</td>\n",
       "      <td>0.03</td>\n",
       "      <td>0.03</td>\n",
       "      <td>15.0</td>\n",
       "      <td>0.0</td>\n",
       "      <td>0.0</td>\n",
       "      <td>4.0</td>\n",
       "      <td>60.00</td>\n",
       "    </tr>\n",
       "  </tbody>\n",
       "</table>\n",
       "</div>"
      ],
      "text/plain": [
       "     user_id  month  total_minutes plan_name                             city  \\\n",
       "720     1001      8          182.0      surf  Seattle-Tacoma-Bellevue, WA MSA   \n",
       "721     1001      9          315.0      surf  Seattle-Tacoma-Bellevue, WA MSA   \n",
       "722     1001     10          393.0      surf  Seattle-Tacoma-Bellevue, WA MSA   \n",
       "723     1001     11          426.0      surf  Seattle-Tacoma-Bellevue, WA MSA   \n",
       "724     1001     12          412.0      surf  Seattle-Tacoma-Bellevue, WA MSA   \n",
       "\n",
       "     total_messages  total_internet_gb  messages_included  \\\n",
       "720            30.0                7.0                 50   \n",
       "721            44.0               14.0                 50   \n",
       "722            53.0               22.0                 50   \n",
       "723            36.0               19.0                 50   \n",
       "724            44.0               19.0                 50   \n",
       "\n",
       "     mb_per_month_included  minutes_included  usd_monthly_pay  usd_per_gb  \\\n",
       "720                  15360               500               20          10   \n",
       "721                  15360               500               20          10   \n",
       "722                  15360               500               20          10   \n",
       "723                  15360               500               20          10   \n",
       "724                  15360               500               20          10   \n",
       "\n",
       "     usd_per_message  usd_per_minute  gb_per_month_included  \\\n",
       "720             0.03            0.03                   15.0   \n",
       "721             0.03            0.03                   15.0   \n",
       "722             0.03            0.03                   15.0   \n",
       "723             0.03            0.03                   15.0   \n",
       "724             0.03            0.03                   15.0   \n",
       "\n",
       "     validacion_llamadas  validacion_mensajes  validacion_internet  revenue  \n",
       "720                  0.0                  0.0                  0.0    20.00  \n",
       "721                  0.0                  0.0                  0.0    20.00  \n",
       "722                  0.0                  3.0                  7.0    90.09  \n",
       "723                  0.0                  0.0                  4.0    60.00  \n",
       "724                  0.0                  0.0                  4.0    60.00  "
      ]
     },
     "execution_count": 75,
     "metadata": {},
     "output_type": "execute_result"
    }
   ],
   "source": [
    "df_usuarios_mensuales[df_usuarios_mensuales[\"user_id\"] == 1001]"
   ]
  },
  {
   "cell_type": "markdown",
   "metadata": {
    "id": "-jtyHzJb0q1I"
   },
   "source": [
    "## Estudia el comportamiento de usuario"
   ]
  },
  {
   "cell_type": "markdown",
   "metadata": {
    "id": "vtW4CJEe0q1J"
   },
   "source": [
    "### Llamadas"
   ]
  },
  {
   "cell_type": "code",
   "execution_count": 59,
   "metadata": {
    "id": "Jf5v5--k0q1J"
   },
   "outputs": [
    {
     "data": {
      "image/png": "[encoded data removed]",
      "text/plain": [
       "<Figure size 1200x800 with 1 Axes>"
      ]
     },
     "metadata": {},
     "output_type": "display_data"
    }
   ],
   "source": [
    "# Comparo la duración promedio de llamadas por cada plan y por cada mes. Traza un gráfico de barras para visualizarla.\n",
    "\n",
    "# Calculo la duración promedio de llamadas por cada plan y por cada mes\n",
    "average_duration = df_usuarios_mensuales.groupby(['plan_name', 'month'])['total_minutes'].mean().reset_index()\n",
    "\n",
    "# Creo el gráfico de barras agrupadas\n",
    "plt.figure(figsize=(12, 8))\n",
    "sns.barplot(data=average_duration, x='month', y='total_minutes', hue='plan_name')\n",
    "\n",
    "plt.xlabel('Mes')\n",
    "plt.ylabel('Duración Promedio de Llamadas (minutos)')\n",
    "plt.title('Duración Promedio de Llamadas por Plan y por Mes')\n",
    "plt.legend(title='Plan')\n",
    "plt.show()\n"
   ]
  },
  {
   "cell_type": "markdown",
   "metadata": {},
   "source": [
    "Observaciones:\n",
    "\n",
    "Durante los primeros meses del año (enero a abril), el plan \"surf\" muestra una mayor duración promedio de llamadas en comparación con el plan \"ultimate\" (Excepto en febrero).\n",
    "\n",
    "En los últimos meses del año (octubre a diciembre), las duraciones promedio de llamadas para ambos planes tienden a ser muy similares, con una ligera ventaja para el plan \"surf\" en diciembre.\n",
    "\n",
    "Esto podría sugerir que:\n",
    "\n",
    "El plan \"surf\" podría ser más atractivo para los usuarios durante los primeros meses del año.\n",
    "\n",
    "A medida que avanza el año, los usuarios de ambos planes tienden a tener duraciones de llamadas más similares, lo que podría indicar una estabilización en el uso de los servicios de llamadas.\n",
    "\n"
   ]
  },
  {
   "cell_type": "code",
   "execution_count": 60,
   "metadata": {
    "id": "QoLqW1S_0q1J"
   },
   "outputs": [
    {
     "data": {
      "image/png": "[encoded data removed]",
      "text/plain": [
       "<Figure size 1200x800 with 1 Axes>"
      ]
     },
     "metadata": {},
     "output_type": "display_data"
    }
   ],
   "source": [
    "# Compara el número de minutos mensuales que necesitan los usuarios de cada plan. Traza un histograma.\n",
    "\n",
    "\n",
    "# Agrupo y sumo el número de minutos mensuales por usuario y plan\n",
    "minutes_per_user_plan = df_usuarios_mensuales.groupby(['plan_name'])['total_minutes'].sum().reset_index()\n",
    "\n",
    "# Creo el histograma\n",
    "plt.figure(figsize=(12, 8))\n",
    "\n",
    "# Filtro y trazo el histograma para cada plan\n",
    "for plan in df_usuarios_mensuales['plan_name'].unique():\n",
    "    subset = df_usuarios_mensuales[df_usuarios_mensuales['plan_name'] == plan]['total_minutes']\n",
    "    plt.hist(subset, bins=12, alpha=0.5, label=plan)\n",
    "\n",
    "plt.xlabel('Número de Minutos Mensuales')\n",
    "plt.ylabel('Frecuencia')\n",
    "plt.title('Histograma del Número de Minutos Mensuales por Plan')\n",
    "plt.legend(title='Plan')\n",
    "plt.show()\n"
   ]
  },
  {
   "cell_type": "markdown",
   "metadata": {},
   "source": [
    "A partir de este histograma, se pueden hacer las siguientes observaciones:\n",
    "\n",
    "\n",
    "La mayoría de los usuarios del plan \"surf\" utilizan entre 200 y 600 minutos mensuales, con un pico alrededor de los 400 minutos.\n",
    "\n",
    "Esto sugiere que los usuarios del plan \"surf\" tienden a tener una necesidad moderada de uso de minutos mensuales.\n",
    "\n",
    "Los usuarios del plan \"ultimate\" también muestran una distribución similar, pero con una frecuencia menor en comparación con el plan \"surf\".\n",
    "\n",
    "La distribución de los usuarios del plan \"ultimate\" también tiene un pico alrededor de los 400 minutos, pero con menos usuarios alcanzando ese nivel.\n",
    "\n",
    "El plan \"surf\" tiene una mayor cantidad de usuarios que utilizan más minutos mensuales en comparación con el plan \"ultimate\".\n",
    "\n",
    "Ambos planes tienen una distribución que disminuye a medida que aumenta el número de minutos mensuales, con muy pocos usuarios utilizando más de 1000 minutos mensuales.\n",
    "\n",
    "Los datos indican que la mayoría de los usuarios de ambos planes tienen una necesidad de uso de minutos mensuales similar, aunque el plan \"surf\" parece tener una base de usuarios más grande."
   ]
  },
  {
   "cell_type": "markdown",
   "metadata": {
    "id": "bLS9T8OH0q1K"
   },
   "source": [
    "[Calcula la media y la variable de la duración de las llamadas para averiguar si los usuarios de los distintos planes se comportan de forma diferente al realizar sus llamadas.]"
   ]
  },
  {
   "cell_type": "code",
   "execution_count": 61,
   "metadata": {
    "id": "oSndbAnt0q1K"
   },
   "outputs": [
    {
     "name": "stdout",
     "output_type": "stream",
     "text": [
      "  plan_name  mean_duration  variance_duration\n",
      "0      surf     428.749523       54968.279461\n",
      "1  ultimate     430.450000       57844.464812\n"
     ]
    }
   ],
   "source": [
    "# Calcula la media y la varianza de la duración mensual de llamadas.\n",
    "\n",
    "# Calculo la media y la varianza de la duración de las llamadas para cada plan\n",
    "mean_duration = df_usuarios_mensuales.groupby('plan_name')['total_minutes'].mean().reset_index()\n",
    "variance_duration = df_usuarios_mensuales.groupby('plan_name')['total_minutes'].var().reset_index()\n",
    "\n",
    "# Uno los resultados en un solo DataFrame\n",
    "statistics = mean_duration.merge(variance_duration, on='plan_name', suffixes=('_mean', '_var'))\n",
    "\n",
    "# Renombro las columnas para mayor claridad\n",
    "statistics.rename(columns={'total_minutes_mean': 'mean_duration', 'total_minutes_var': 'variance_duration'}, inplace=True)\n",
    "\n",
    "# Muestro los resultados\n",
    "print(statistics)\n",
    "\n"
   ]
  },
  {
   "cell_type": "code",
   "execution_count": 62,
   "metadata": {
    "id": "nZzoRUKc0q1K"
   },
   "outputs": [
    {
     "data": {
      "image/png": "[encoded data removed]",
      "text/plain": [
       "<Figure size 1200x800 with 1 Axes>"
      ]
     },
     "metadata": {},
     "output_type": "display_data"
    }
   ],
   "source": [
    "# Traza un diagrama de caja para visualizar la distribución de la duración mensual de llamadas\n",
    "\n",
    "plt.figure(figsize=(12, 8))\n",
    "sns.boxplot(data=df_usuarios_mensuales, x='plan_name', y='total_minutes')\n",
    "\n",
    "plt.xlabel('Plan')\n",
    "plt.ylabel('Duración Mensual de Llamadas (minutos)')\n",
    "plt.title('Diagrama de Caja de la Duración Mensual de Llamadas por Plan')\n",
    "plt.show()\n",
    "\n"
   ]
  },
  {
   "cell_type": "markdown",
   "metadata": {},
   "source": [
    "OBSERVACIONES:\n",
    "\n",
    "Media de Duración de Llamadas:\n",
    "\n",
    "La media de la duración de las llamadas es muy similar entre los dos planes:\n",
    "\n",
    "Surf: 428.75 minutos\n",
    "\n",
    "Ultimate: 430.45 minutos\n",
    "\n",
    "Esto sugiere que, en promedio, los usuarios de ambos planes realizan llamadas de duración comparable.\n",
    "\n",
    "Varianza de la Duración de Llamadas:\n",
    "\n",
    "La varianza de la duración de las llamadas es ligeramente mayor para el plan \"ultimate\" en comparación con el plan \"surf\":\n",
    "\n",
    "Surf: 54,968.28\n",
    "\n",
    "Ultimate: 57,844.46\n",
    "\n",
    "Una varianza mayor indica que hay más dispersión en los datos de duración de las llamadas del plan \"ultimate\". En otras palabras, los usuarios del plan \"ultimate\" muestran una mayor variabilidad en la duración de sus llamadas.\n",
    "\n",
    "Distribución General:\n",
    "\n",
    "La similitud en las medias y la diferencia ligera en las varianzas sugieren que, en general, los usuarios de ambos planes tienen comportamientos de llamada similares en términos de duración promedio.\n",
    "\n",
    "Sin embargo, la mayor varianza del plan \"ultimate\" podría indicar que este plan atrae a un grupo más diverso de usuarios en términos de sus necesidades de llamada, con algunos usuarios haciendo llamadas mucho más largas o más cortas que la media.\n",
    "\n",
    "Diagrama de Caja:\n",
    "\n",
    "Basado en el diagrama de caja, podemos observar que ambos planes tienen un rango intercuartílico (IQR) similar, lo que refuerza la idea de que la mayoría de los usuarios de ambos planes tienen comportamientos de llamada comparables.\n",
    "\n",
    "Los valores atípicos en ambos planes indican que hay algunos usuarios que realizan llamadas significativamente más largas en comparación con la mayoría.\n",
    "\n",
    "Conclusión General: El comportamiento de los usuarios con respecto a las llamadas no varía significativamente en función del plan. Tanto la media como la mediana de la duración de las llamadas son bastante similares entre los planes \"surf\" y \"ultimate\". La ligera diferencia en la varianza sugiere que el plan \"ultimate\" tiene una mayor variabilidad en la duración de las llamadas entre sus usuarios, pero esto no indica una diferencia sustancial en el comportamiento general."
   ]
  },
  {
   "cell_type": "markdown",
   "metadata": {},
   "source": [
    "<div class=\"alert alert-block alert-success\">\n",
    "<b>Comentario del revisor (1ra Iteración)</b> <a class=“tocSkip”></a>\n",
    "\n",
    "Duver tu análisis sobre el comportamiento de los usuarios en relación con los planes surf y ultimate es bastante sólido y revela aspectos interesantes. Has logrado identificar que, aunque ambos planes presentan una duración promedio de llamadas muy similar, existen diferencias sutiles en la variabilidad del uso, siendo el plan ultimate el que muestra una mayor dispersión en los datos. Esto sugiere que este plan podría atraer a un grupo más diverso de usuarios, algunos con necesidades de uso más extremas. Además, resaltaste cómo el plan surf parece ser más popular durante los primeros meses del año, lo que podría indicar una preferencia inicial por este plan antes de que los usuarios se estabilicen en su uso hacia finales del año. La observación sobre la distribución de minutos mensuales, con un pico alrededor de los 400 minutos para ambos planes, refuerza la idea de que la mayoría de los usuarios tienen necesidades moderadas y comparables.\n",
    "\n",
    "</div>"
   ]
  },
  {
   "cell_type": "markdown",
   "metadata": {
    "id": "8idKy8Wh0q1L"
   },
   "source": [
    "### Mensajes"
   ]
  },
  {
   "cell_type": "code",
   "execution_count": 63,
   "metadata": {
    "id": "NXLxiTit0q1L"
   },
   "outputs": [
    {
     "data": {
      "image/png": "[encoded data removed]",
      "text/plain": [
       "<Figure size 1200x800 with 1 Axes>"
      ]
     },
     "metadata": {},
     "output_type": "display_data"
    }
   ],
   "source": [
    "# Comprara el número de mensajes que tienden a enviar cada mes los usuarios de cada plan\n",
    "\n",
    "# Calculo el número promedio de mensajes enviados por mes por cada plan\n",
    "average_messages = df_usuarios_mensuales.groupby(['plan_name', 'month'])['total_messages'].mean().reset_index()\n",
    "\n",
    "# Creo el gráfico de barras para visualizar la comparación\n",
    "plt.figure(figsize=(12, 8))\n",
    "sns.barplot(data=average_messages, x='month', y='total_messages', hue='plan_name')\n",
    "\n",
    "plt.xlabel('Mes')\n",
    "plt.ylabel('Número Promedio de Mensajes')\n",
    "plt.title('Número Promedio de Mensajes Enviados por Mes por Plan')\n",
    "plt.legend(title='Plan')\n",
    "plt.show()\n"
   ]
  },
  {
   "cell_type": "markdown",
   "metadata": {},
   "source": [
    "OBSERVACIONES:\n",
    "\n",
    "En todos los meses, los usuarios del plan \"ultimate\" envían más mensajes en promedio que los usuarios del plan \"surf\".\n",
    "\n",
    "Esto sugiere que los usuarios del plan \"ultimate\" tienen una mayor necesidad de comunicación a través de mensajes en comparación con los usuarios del plan \"surf\".\n",
    "\n",
    "A lo largo del año, el número promedio de mensajes enviados por los usuarios de ambos planes tiende a aumentar.\n",
    "\n",
    "Este incremento podría estar relacionado con factores como la estacionalidad, promociones o cambios en las tarifas que incentivan un mayor uso de mensajes.\n",
    "\n",
    "\n",
    "El incremento en el número promedio de mensajes es más pronunciado en los últimos meses del año, especialmente en diciembre.\n",
    "\n",
    "Este pico en diciembre podría estar asociado con eventos festivos, como Navidad y Año Nuevo, donde los usuarios tienden a enviar más mensajes.\n",
    "\n",
    "La diferencia en el número promedio de mensajes enviados entre los dos planes es constante, con el plan \"ultimate\" siempre superando al plan \"surf\".\n",
    "\n",
    "Esto indica que la mayor demanda de mensajes de los usuarios del plan \"ultimate\" es una tendencia persistente a lo largo del año.\n",
    "\n",
    "En general, los usuarios del plan \"ultimate\" muestran un comportamiento más activo en el envío de mensajes en comparación con los usuarios del plan \"surf\", y ambos planes experimentan un aumento en el uso de mensajes hacia el final del año."
   ]
  },
  {
   "cell_type": "code",
   "execution_count": 64,
   "metadata": {
    "id": "GRI_R7xF0q1L"
   },
   "outputs": [
    {
     "name": "stdout",
     "output_type": "stream",
     "text": [
      "  plan_name  mean_messages  variance_messages\n",
      "0      surf      31.159568        1126.724522\n",
      "1  ultimate      37.551389        1208.756744\n"
     ]
    }
   ],
   "source": [
    "\n",
    "# Calcula la media y la varianza de los mensajes\n",
    "\n",
    "# Calculo la media del número de mensajes enviados por cada plan\n",
    "mean_messages = df_usuarios_mensuales.groupby('plan_name')['total_messages'].mean().reset_index()\n",
    "\n",
    "# Calculo la varianza del número de mensajes enviados por cada plan\n",
    "variance_messages = df_usuarios_mensuales.groupby('plan_name')['total_messages'].var().reset_index()\n",
    "\n",
    "# Uno los resultados en un solo DataFrame\n",
    "statistics_messages = mean_messages.merge(variance_messages, on='plan_name', suffixes=('_mean', '_var'))\n",
    "\n",
    "# Renombro las columnas para mayor claridad\n",
    "statistics_messages.rename(columns={'total_messages_mean': 'mean_messages', 'total_messages_var': 'variance_messages'}, inplace=True)\n",
    "\n",
    "# Muestro los resultados\n",
    "print(statistics_messages)\n"
   ]
  },
  {
   "cell_type": "code",
   "execution_count": 65,
   "metadata": {
    "id": "dtFwCGAp0q1M"
   },
   "outputs": [
    {
     "data": {
      "image/png": "[encoded data removed]",
      "text/plain": [
       "<Figure size 1200x800 with 1 Axes>"
      ]
     },
     "metadata": {},
     "output_type": "display_data"
    }
   ],
   "source": [
    "# Traza un diagrama de caja para visualizar la distribución de los mensajes\n",
    "\n",
    "\n",
    "plt.figure(figsize=(12, 8))\n",
    "sns.boxplot(data=df_usuarios_mensuales, x='plan_name', y='total_messages')\n",
    "\n",
    "plt.xlabel('Plan')\n",
    "plt.ylabel('Número de Mensajes Enviados')\n",
    "plt.title('Diagrama de Caja del Número de Mensajes Enviados por Plan')\n",
    "plt.show()\n",
    "\n"
   ]
  },
  {
   "cell_type": "markdown",
   "metadata": {},
   "source": [
    "OBSERVACIONES:\n",
    "\n",
    "Los usuarios del plan \"ultimate\" envían en promedio más mensajes (37.55) que los usuarios del plan \"surf\" (31.16).\n",
    "\n",
    "Esto sugiere que los usuarios del plan \"ultimate\" tienden a ser más activos en el envío de mensajes en comparación con los usuarios del plan \"surf\".\n",
    "\n",
    "La varianza en el número de mensajes enviados es ligeramente mayor para el plan \"ultimate\" (1208.76) en comparación con el plan \"surf\" (1126.72).\n",
    "\n",
    "Una mayor varianza indica una mayor dispersión en los datos, lo que significa que los usuarios del plan \"ultimate\" muestran una mayor variabilidad en el número de mensajes enviados. En otras palabras, hay usuarios que envían muchos más mensajes y otros que envían muchos menos en comparación con la media.\n",
    "\n",
    "El diagrama de caja muestra que los usuarios del plan \"ultimate\" tienen una mediana de mensajes enviados más alta y una mayor dispersión de datos en comparación con los usuarios del plan \"surf\".\n",
    "\n",
    "Los valores atípicos en ambos planes indican que hay algunos usuarios que envían significativamente más mensajes que la mayoría.\n",
    "\n",
    "Conclusión General: El comportamiento de los usuarios varía en función del plan. Los usuarios del plan \"ultimate\" tienden a enviar más mensajes y muestran una mayor variabilidad en el número de mensajes enviados en comparación con los usuarios del plan \"surf\". Esto podría ser debido a factores como las características del plan, las tarifas, o las necesidades de comunicación de los usuarios que eligen cada plan."
   ]
  },
  {
   "cell_type": "markdown",
   "metadata": {},
   "source": [
    "<div class=\"alert alert-block alert-success\">\n",
    "<b>Comentario del revisor (1ra Iteración)</b> <a class=“tocSkip”></a>\n",
    "\n",
    "Buen trabajo, has identificado que los usuarios del plan ultimate son consistentemente más activos en el envío de mensajes, lo que sugiere que este plan atrae a personas con una mayor necesidad de comunicación a través de este medio. Además, resaltaste el aumento gradual en el uso de mensajes a lo largo del año, con un pico notable en diciembre, lo que podría estar relacionado con eventos festivos o cambios en los hábitos de comunicación durante esa época. La mayor varianza en el plan ultimate indica que este plan atrae a un grupo más diverso de usuarios, algunos de los cuales envían una cantidad significativamente mayor de mensajes, lo que podría reflejar diferentes perfiles de uso dentro de este grupo.\n",
    "\n",
    "</div>"
   ]
  },
  {
   "cell_type": "markdown",
   "metadata": {
    "id": "42YSypXz0q1M"
   },
   "source": [
    "### Internet"
   ]
  },
  {
   "cell_type": "code",
   "execution_count": 66,
   "metadata": {
    "id": "lSuKPtjh0q1M"
   },
   "outputs": [
    {
     "data": {
      "image/png": "[encoded data removed]",
      "text/plain": [
       "<Figure size 1200x800 with 1 Axes>"
      ]
     },
     "metadata": {},
     "output_type": "display_data"
    }
   ],
   "source": [
    "# Comprara el consumo de internte cada mes de los usuarios de cada plan\n",
    "\n",
    "# Calculo el consumo promedio de internet por mes por cada plan\n",
    "average_internet_usage = df_usuarios_mensuales.groupby(['plan_name', 'month'])['total_internet_gb'].mean().reset_index()\n",
    "\n",
    "# Creo el gráfico de barras para visualizar la comparación\n",
    "plt.figure(figsize=(12, 8))\n",
    "sns.barplot(data=average_internet_usage, x='month', y='total_internet_gb', hue='plan_name')\n",
    "\n",
    "plt.xlabel('Mes')\n",
    "plt.ylabel('Consumo Promedio de Internet (GB)')\n",
    "plt.title('Consumo Promedio de Internet por Mes por Plan')\n",
    "plt.legend(title='Plan')\n",
    "plt.show()\n"
   ]
  },
  {
   "cell_type": "markdown",
   "metadata": {},
   "source": [
    "OBSERVACIONES:\n",
    "\n",
    "En general, los usuarios del plan \"ultimate\" consumen más internet en comparación con los usuarios del plan \"surf\" en la mayoría de los meses.\n",
    "\n",
    "Esta diferencia en el consumo puede deberse a las características del plan \"ultimate\" que pueden incluir mayores beneficios o incentivos para el uso de internet.\n",
    "\n",
    "Los últimos meses del año muestran un aumento en el consumo de internet, especialmente en diciembre, lo que puede estar relacionado con las festividades y un mayor uso de dispositivos conectados a internet.\n",
    "\n",
    "En la mayoría de los meses, el plan \"ultimate\" muestra un consumo promedio significativamente más alto que el plan \"surf\". Esto sugiere que los usuarios del plan \"ultimate\" tienen una mayor dependencia o necesidad de internet.\n",
    "\n",
    "Picos de Consumo:\n",
    "\n",
    "El plan \"ultimate\" muestra picos de consumo en ciertos meses, alcanzando niveles superiores a 15 GB en algunos casos, lo que indica que algunos usuarios pueden estar utilizando el internet para actividades intensivas en datos, como transmisión de videos en alta definición o juegos en línea.\n",
    "\n",
    "Conclusión General: El comportamiento de los usuarios varía en función del plan en términos de consumo de internet. Los usuarios del plan \"ultimate\" tienden a consumir más datos de internet en comparación con los usuarios del plan \"surf\". Esta diferencia puede ser útil para ajustar las estrategias de marketing y planificación de las tarifas de los planes, así como para comprender mejor las necesidades de los usuarios según el plan que elijan."
   ]
  },
  {
   "cell_type": "code",
   "execution_count": 67,
   "metadata": {
    "id": "wnh8jYXi0q1N"
   },
   "outputs": [
    {
     "name": "stdout",
     "output_type": "stream",
     "text": [
      "  plan_name  total_internet_gb_mean  variance_internet_gb\n",
      "0      surf               16.670693              61.58360\n",
      "1  ultimate               17.306944              58.83055\n"
     ]
    }
   ],
   "source": [
    "# Calcula la media y la varianza del consumo de internet\n",
    "\n",
    "# Calculo la media del consumo de internet por cada plan\n",
    "mean_internet = df_usuarios_mensuales.groupby('plan_name')['total_internet_gb'].mean().reset_index()\n",
    "\n",
    "# Calculo la varianza del consumo de internet por cada plan\n",
    "variance_internet = df_usuarios_mensuales.groupby('plan_name')['total_internet_gb'].var().reset_index()\n",
    "\n",
    "# Uno los resultados en un solo DataFrame\n",
    "statistics_internet = mean_internet.merge(variance_internet, on='plan_name', suffixes=('_mean', '_var'))\n",
    "\n",
    "# Renombro las columnas para mayor claridad\n",
    "statistics_internet.rename(columns={'total_internet_mb_mean': 'mean_internet_gb', 'total_internet_gb_var': 'variance_internet_gb'}, inplace=True)\n",
    "\n",
    "# Muestro los resultados\n",
    "print(statistics_internet)\n"
   ]
  },
  {
   "cell_type": "code",
   "execution_count": 68,
   "metadata": {
    "id": "5VlyJ9ry0q1N"
   },
   "outputs": [
    {
     "data": {
      "image/png": "[encoded data removed]",
      "text/plain": [
       "<Figure size 1200x800 with 1 Axes>"
      ]
     },
     "metadata": {},
     "output_type": "display_data"
    }
   ],
   "source": [
    "# Traza un diagrama de caja para visualizar la distribución del consumo de internet.\n",
    "\n",
    "plt.figure(figsize=(12, 8))\n",
    "sns.boxplot(data=df_usuarios_mensuales, x='plan_name', y='total_internet_gb')\n",
    "\n",
    "plt.xlabel('Plan')\n",
    "plt.ylabel('Consumo de Internet (GB)')\n",
    "plt.title('Diagrama de Caja del Consumo de Internet por Plan')\n",
    "plt.show()\n"
   ]
  },
  {
   "cell_type": "markdown",
   "metadata": {},
   "source": [
    "OBSERVACIONES:\n",
    "\n",
    "Los usuarios del plan \"ultimate\" consumen en promedio más internet (17.3 GB) que los usuarios del plan \"surf\" (16.6 GB).\n",
    "\n",
    "Esto sugiere que los usuarios del plan \"ultimate\" tienden a tener una mayor necesidad de datos de internet en comparación con los usuarios del plan \"surf\".\n",
    "\n",
    "La varianza en el consumo de internet es ligeramente menor para el plan \"ultimate\" (58.83055) en comparación con el plan \"surf\" (61.58360).\n",
    "\n",
    "Una menor varianza indica una menor dispersión en los datos de consumo de internet, lo que significa que los usuarios del plan \"ultimate\" tienen comportamientos de uso más consistentes en comparación con los usuarios del plan \"surf\".\n",
    "\n",
    "Los valores atípicos en ambos planes indican que hay algunos usuarios que consumen significativamente más datos de internet en comparación con la mayoría.\n",
    "\n",
    "Conclusión General: El comportamiento de los usuarios varía ligeramente en función del plan. Los usuarios del plan \"ultimate\" tienden a consumir más datos de internet en promedio y muestran comportamientos de uso más consistentes en comparación con los usuarios del plan \"surf\". La mayor cantidad de valores atípicos en el plan \"surf\" sugiere que algunos usuarios de este plan pueden tener patrones de uso de internet más extremos. En general, ambos planes muestran patrones de consumo de internet similares, pero con algunas diferencias notables en la media y la dispersión del consumo."
   ]
  },
  {
   "cell_type": "markdown",
   "metadata": {},
   "source": [
    "<div class=\"alert alert-block alert-success\">\n",
    "<b>Comentario del revisor (1ra Iteración)</b> <a class=“tocSkip”></a>\n",
    "\n",
    "Buen trabajo observando que los usuarios del plan ultimate tienden a consumir más datos en promedio, lo que sugiere que este plan atrae a personas con una mayor necesidad de conectividad, posiblemente debido a actividades que requieren un uso intensivo de datos, como streaming o gaming. Además, identificaste que el consumo de internet aumenta hacia finales de año, especialmente en diciembre, lo que podría estar relacionado con festividades y un mayor uso de dispositivos conectados. Aunque ambos planes muestran una mediana de consumo similar, la menor varianza en el plan ultimate indica que sus usuarios tienen un comportamiento más consistente, mientras que el plan surf presenta una mayor dispersión, con algunos usuarios mostrando patrones de uso extremos. \n",
    "\n",
    "</div>"
   ]
  },
  {
   "cell_type": "markdown",
   "metadata": {
    "id": "tCijq3260q1N"
   },
   "source": [
    "## Ingreso"
   ]
  },
  {
   "cell_type": "markdown",
   "metadata": {
    "id": "9nq5IAcy0q1O"
   },
   "source": [
    "[Del mismo modo que has estudiado el comportamiento de los usuarios, describe estadísticamente los ingresos de los planes.]"
   ]
  },
  {
   "cell_type": "code",
   "execution_count": 69,
   "metadata": {
    "id": "tz-dq_V00q1O"
   },
   "outputs": [
    {
     "data": {
      "image/png": "[encoded data removed]",
      "text/plain": [
       "<Figure size 1200x800 with 1 Axes>"
      ]
     },
     "metadata": {},
     "output_type": "display_data"
    }
   ],
   "source": [
    "# Comprara los ingresos de cada plan\n",
    "\n",
    "# Calculo el ingreso promedio mensual por cada plan\n",
    "average_revenue = df_usuarios_mensuales.groupby(['plan_name', 'month'])['revenue'].mean().reset_index()\n",
    "\n",
    "# Creo el gráfico de barras para visualizar la comparación de ingresos\n",
    "plt.figure(figsize=(12, 8))\n",
    "sns.barplot(data=average_revenue, x='month', y='revenue', hue='plan_name')\n",
    "\n",
    "plt.xlabel('Mes')\n",
    "plt.ylabel('Ingreso Promedio (USD)')\n",
    "plt.title('Ingreso Promedio Mensual por Plan')\n",
    "plt.legend(title='Plan')\n",
    "plt.show()\n"
   ]
  },
  {
   "cell_type": "markdown",
   "metadata": {},
   "source": [
    "OBSERVACIONES:\n",
    "\n",
    "El plan \"ultimate\" genera consistentemente un ingreso promedio mensual más alto que el plan \"surf\" en todos los meses del año.\n",
    "\n",
    "En cada mes del año, el plan \"ultimate\" se encuentra por encima del plan \"surf\" en términos de ingresos promedio.\n",
    "\n",
    "El ingreso promedio mensual del plan \"ultimate\" se mantiene relativamente constante alrededor de los 70 USD durante todo el año, lo que sugiere una estabilidad en la cantidad de usuarios y el uso de este plan.\n",
    "\n",
    "El ingreso promedio mensual del plan \"surf\" muestra una tendencia ascendente a lo largo del año, comenzando aproximadamente en 20 USD en enero y alcanzando cerca de 70 USD en diciembre. Esto indica un crecimiento en la adopción o uso del plan \"surf\" con el tiempo.\n",
    "\n",
    "La diferencia de ingresos entre los dos planes es más pronunciada en los primeros meses del año y se reduce hacia el final del año. Aunque el plan \"ultimate\" sigue siendo superior en términos de ingresos promedio, el plan \"surf\" se cierra la brecha conforme avanza el año.\n",
    "\n",
    "El plan \"ultimate\" muestra estabilidad en los ingresos, lo que puede reflejar una base de usuarios leales o beneficios consistentes que mantienen a los usuarios satisfechos.\n",
    "\n",
    "El crecimiento en los ingresos del plan \"surf\" puede indicar que este plan está ganando popularidad y atrayendo a más usuarios, posiblemente debido a promociones, ajustes en las tarifas o cambios en las necesidades de los consumidores.\n",
    "\n",
    "Conclusión General: Los ingresos generados por los usuarios varían significativamente entre los dos planes. El plan \"ultimate\" proporciona ingresos más altos y estables, mientras que el plan \"surf\" muestra un crecimiento constante a lo largo del año. Esto puede ofrecer insights valiosos para las estrategias de marketing y la planificación futura de las tarifas y características de cada plan."
   ]
  },
  {
   "cell_type": "code",
   "execution_count": 70,
   "metadata": {
    "id": "0Y1v8ZUz0q1P"
   },
   "outputs": [
    {
     "name": "stdout",
     "output_type": "stream",
     "text": [
      "  plan_name  mean_revenue  variance_revenue\n",
      "0      surf     60.706408       3067.835152\n",
      "1  ultimate     72.313889        129.848486\n"
     ]
    }
   ],
   "source": [
    "# Calcula la media y la varianza de los ingresos\n",
    "\n",
    "# Calculo la media de los ingresos por cada plan\n",
    "mean_revenue = df_usuarios_mensuales.groupby('plan_name')['revenue'].mean().reset_index()\n",
    "# Calcular la varianza de los ingresos por cada plan\n",
    "variance_revenue = df_usuarios_mensuales.groupby('plan_name')['revenue'].var().reset_index()\n",
    "\n",
    "# Uno los resultados en un solo DataFrame\n",
    "statistics_revenue = mean_revenue.merge(variance_revenue, on='plan_name', suffixes=('_mean', '_var'))\n",
    "\n",
    "# Renombro las columnas para mayor claridad\n",
    "statistics_revenue.rename(columns={'revenue_mean': 'mean_revenue', 'revenue_var': 'variance_revenue'}, inplace=True)\n",
    "\n",
    "# Muestro los resultados\n",
    "print(statistics_revenue)\n"
   ]
  },
  {
   "cell_type": "code",
   "execution_count": 71,
   "metadata": {
    "id": "bYmwxyVh0q1P"
   },
   "outputs": [
    {
     "data": {
      "image/png": "[encoded data removed]",
      "text/plain": [
       "<Figure size 1000x600 with 1 Axes>"
      ]
     },
     "metadata": {},
     "output_type": "display_data"
    }
   ],
   "source": [
    "# Trazo un diagrama de caja para visualizar la distribución de los ingresos.\n",
    "\n",
    "plt.figure(figsize=(10, 6))\n",
    "sns.boxplot(x='plan_name', y='revenue', data=df_usuarios_mensuales)\n",
    "plt.title('Distribución de los Ingresos por Plan')\n",
    "plt.xlabel('Nombre del Plan')\n",
    "plt.ylabel('Ingresos')\n",
    "plt.grid(True)\n",
    "\n",
    "# Mostrar el diagrama\n",
    "plt.show()\n"
   ]
  },
  {
   "cell_type": "markdown",
   "metadata": {},
   "source": [
    "Ingreso Promedio:\n",
    "\n",
    "El plan \"ultimate\" genera un ingreso promedio mensual más alto (72.32 USD) en comparación con el plan \"surf\" (60.70 USD).\n",
    "\n",
    "Esta diferencia en el ingreso promedio sugiere que los usuarios del plan \"ultimate\" están dispuestos a pagar más por los beneficios o servicios adicionales que ofrece este plan en comparación con el plan \"surf\".\n",
    "\n",
    "Varianza del Ingreso:\n",
    "\n",
    "La varianza del ingreso es significativamente mayor para el plan \"surf\" (3067.83 USD) en comparación con el plan \"ultimate\" (129.84 USD).\n",
    "\n",
    "Una varianza mayor indica que los ingresos del plan \"surf\" son más variables y menos consistentes, lo que puede reflejar una mayor fluctuación en la cantidad de usuarios o en el uso del plan \"surf\" de un mes a otro.\n",
    "\n",
    "En contraste, la menor varianza en los ingresos del plan \"ultimate\" sugiere una mayor estabilidad en los ingresos, lo que podría indicar una base de usuarios más leal y un comportamiento de uso más consistente.\n",
    "\n",
    "\n",
    "El plan \"ultimate\" no solo genera más ingresos en promedio, sino que también tiene ingresos más consistentes y estables, lo que lo convierte en un plan más rentable y predecible para la empresa.\n",
    "\n",
    "La estabilidad de los ingresos del plan \"ultimate\" podría deberse a características atractivas y valoradas por los usuarios, que los motivan a mantener su suscripción y hacer un uso regular del plan.\n",
    "\n",
    "Conclusión General: El plan \"ultimate\" es más rentable y estable en términos de ingresos en comparación con el plan \"surf\". Mientras que el plan \"surf\" muestra una mayor variabilidad en los ingresos, el plan \"ultimate\" proporciona un flujo de ingresos más constante y mayor, lo que puede ser un indicio de una mejor percepción de valor por parte de los usuarios y una mayor lealtad al plan."
   ]
  },
  {
   "cell_type": "markdown",
   "metadata": {},
   "source": [
    "<div class=\"alert alert-block alert-success\">\n",
    "<b>Comentario del revisor (1ra Iteración)</b> <a class=“tocSkip”></a>\n",
    "\n",
    "Excelente elección para las visualizaciones de datos. Además, calculaste correctamente la información estadística de cada distribución de datos, tanto para el consumo de minutos, mensajes e internet, como para los ingresos asociados a los cobros mensuales en cada plan. Esto permite identificar patrones de comportamiento en los usuarios y extraer información valiosa para la compañía.\n",
    "    \n",
    "<div class=\"alert alert-block alert-warning\">\n",
    "<b>Comentario del revisor (1ra Iteración)</b> <a class=“tocSkip”></a>\n",
    "\n",
    "Respecto a la información sobre **Ingresos**, seguramente las gráficas y datos que obtuviste cambiarán cuando hagas el ajuste en el cálculo de los cobros mensuales por usuario en cada plan, entonces vale la pena revisar si tu análisis deba ser ajustado también.\n",
    "\n",
    "</div>\n",
    "</div>"
   ]
  },
  {
   "cell_type": "markdown",
   "metadata": {},
   "source": [
    "<div style=\"background-color: lightblue; padding: 10px;\">\n",
    "    Respuesta estudiante: Una vez realizados los cambios, se revisó y ajustó la información sobre los ingresos.\n",
    "    </div>"
   ]
  },
  {
   "cell_type": "markdown",
   "metadata": {
    "id": "ajJ7VKeI0q1Q"
   },
   "source": [
    "## Prueba las hipótesis estadísticas"
   ]
  },
  {
   "cell_type": "markdown",
   "metadata": {},
   "source": [
    "\n",
    "La H0 o hipotesis nula siempre establece que no hay un efecto significativo,  no hay diferencia, no hubo cambio, por lo tanto HAY IGUALDAD.\n",
    "\n",
    "Por lo anterior, para probar la hipótesis de que los ingresos promedio procedentes de los usuarios de los planes \"Ultimate\" y \"Surf\" son diferentes, vamos a seguir estos pasos:\n",
    "\n",
    "\n",
    "Hipótesis nula H0: No hay diferencia en los ingresos promedio entre los usuarios de los planes \"Ultimate\" y \"Surf\". Es decir, los ingresos promedio son iguales.\n",
    "\n",
    "\n",
    "Hipótesis alternativa 𝐻𝐴: Hay una diferencia en los ingresos promedio entre los usuarios de los planes \"Ultimate\" y \"Surf\".\n",
    "\n",
    "\n",
    "Utilizo una prueba t de dos muestras independientes (t-test) para comparar los ingresos promedio entre los dos grupos. Esta prueba es adecuada cuando se comparan las medias de dos grupos independientes y se asume que las muestras provienen de distribuciones normales con varianzas similares.\n",
    "\n",
    "Voy a utilizar un nivel de significacia (valor alfa) igual 0.05, lo que significa que estoy dispuestos a aceptar un 5% de probabilidad de cometer un error tipo I (rechazar una hipótesis nula verdadera).\n"
   ]
  },
  {
   "cell_type": "code",
   "execution_count": 72,
   "metadata": {},
   "outputs": [
    {
     "name": "stdout",
     "output_type": "stream",
     "text": [
      "Valor p: 2.862674510698644e-08\n",
      "Conclusión: Rechazamos la hipótesis nula\n"
     ]
    }
   ],
   "source": [
    "# Pruebo las hipótesis\n",
    "\n",
    "# Realizo la prueba t de dos muestras independientes\n",
    "test_results = st.ttest_ind(df_usuarios_mensuales[df_usuarios_mensuales['plan_name'] == 'surf']['revenue'],\n",
    "                            df_usuarios_mensuales[df_usuarios_mensuales['plan_name'] == 'ultimate']['revenue'])\n",
    "\n",
    "# Obtengo el valor p del resultado de la prueba\n",
    "p_value = test_results.pvalue\n",
    "\n",
    "\n",
    "alpha = 0.05\n",
    "\n",
    "# Imprimo los resultados\n",
    "print(f\"Valor p: {p_value}\")\n",
    "print(f\"Conclusión: {'Rechazamos' if p_value < alpha else 'No rechazamos'} la hipótesis nula\")\n"
   ]
  },
  {
   "cell_type": "markdown",
   "metadata": {},
   "source": [
    "<div class=\"alert alert-block alert-danger\">\n",
    "<b>Comentario del revisor (1ra Iteración)</b> <a class=“tocSkip”></a>\n",
    "\n",
    "Debes tener en cuenta que la variable `p_value` no existe, debes relacionarla con `test_results.pvalue`\n",
    "\n",
    "</div>"
   ]
  },
  {
   "cell_type": "markdown",
   "metadata": {},
   "source": [
    "<div style=\"background-color: lightblue; padding: 10px;\">\n",
    "    Respuesta estudiante: Se hizo el ajuste relacionando 'p_value' con 'test_results.pvalue'.\n",
    "   </div>"
   ]
  },
  {
   "cell_type": "markdown",
   "metadata": {},
   "source": [
    "\n",
    "El valor p obtenido es extremadamente bajo (2.862674510698644e-08), mucho menor que el nivel de significancia comúnmente utilizado (0.05). Este resultado indica una probabilidad muy baja de que la diferencia observada en los ingresos promedio entre los planes \"Surf\" y \"Ultimate\" se deba al azar.\n",
    "\n",
    "Rechazo de la Hipótesis Nula:\n",
    "\n",
    "Dado que el valor p es menor que 0.05, rechazamos la hipótesis nula. Esto significa que hay una diferencia significativa en los ingresos promedio entre los usuarios de los planes \"Surf\" y \"Ultimate\".\n",
    "\n",
    "Conclusión General: Los ingresos promedio generados por los usuarios de los planes \"Surf\" y \"Ultimate\" son significativamente diferentes. Esta diferencia puede deberse a factores como las características del plan, las tarifas, y las preferencias de los usuarios que eligen cada plan.\n",
    "\n",
    "Esta información puede ser valiosa para la empresa al momento de diseñar estrategias de marketing, ajustar tarifas, y mejorar la oferta de servicios para maximizar los ingresos."
   ]
  },
  {
   "cell_type": "markdown",
   "metadata": {
    "id": "tCcAruM60q1R"
   },
   "source": [
    "[Prueba la hipótesis de que el ingreso promedio de los usuarios del área NY-NJ es diferente al de los usuarios de otras regiones.]"
   ]
  },
  {
   "cell_type": "markdown",
   "metadata": {
    "id": "LsBgitqj0q1R"
   },
   "source": [
    "[Elabora las hipótesis nula y alternativa, escoge la prueba estadística, determina el valor alfa.]"
   ]
  },
  {
   "cell_type": "markdown",
   "metadata": {},
   "source": [
    "Elaborar las hipótesis:\n",
    "\n",
    "Hipótesis nula H0: No hay diferencia en los ingresos promedio entre los usuarios del área NY-NJ y los usuarios de otras regiones.\n",
    "\n",
    "Hipótesis alternativa HA: Hay una diferencia en los ingresos promedio entre los usuarios del área NY-NJ y los usuarios de otras regiones."
   ]
  },
  {
   "cell_type": "code",
   "execution_count": 73,
   "metadata": {
    "id": "Cqcj7wrZ0q1S"
   },
   "outputs": [
    {
     "name": "stdout",
     "output_type": "stream",
     "text": [
      "Valor p: 0.04355743162134274\n",
      "Conclusión: Rechazamos la hipótesis nula\n"
     ]
    }
   ],
   "source": [
    "# Prueba las hipótesis\n",
    "\n",
    "# Pruebo las hipótesis\n",
    "test_results = st.ttest_ind(df_usuarios_mensuales[df_usuarios_mensuales['city'] == 'New York-Newark-Jersey City, NY-NJ-PA MSA']['revenue'],\n",
    "                            df_usuarios_mensuales[df_usuarios_mensuales['city'] != 'New York-Newark-Jersey City, NY-NJ-PA MSA']['revenue'])\n",
    "\n",
    "# Obtengo el valor p del resultado de la prueba\n",
    "p_value = test_results.pvalue\n",
    "\n",
    "alpha = 0.05\n",
    "\n",
    "\n",
    "print(f\"Valor p: {test_results.pvalue}\")\n",
    "print(f\"Conclusión: {'Rechazamos' if test_results.pvalue < alpha else 'No rechazamos'} la hipótesis nula\")\n"
   ]
  },
  {
   "cell_type": "markdown",
   "metadata": {},
   "source": [
    "<div class=\"alert alert-block alert-danger\">\n",
    "<b>Comentario del revisor (1ra Iteración)</b> <a class=“tocSkip”></a>\n",
    "\n",
    "En este caso no definiste el valor de `alpha`\n",
    "\n",
    "</div>"
   ]
  },
  {
   "cell_type": "markdown",
   "metadata": {},
   "source": [
    "<div style=\"background-color: lightblue; padding: 10px;\">\n",
    "    Respuesta estudiante: Se incluypo el valor de alpha.\n",
    "   </div>"
   ]
  },
  {
   "cell_type": "markdown",
   "metadata": {},
   "source": [
    "\n",
    "Rechazo de la Hipótesis Nula: Dado que el valor p (0.0436) es menor que el nivel de significación alpha (0.05), rechazamos la hipótesis nula.\n",
    "\n",
    "Significa que hay una diferencia significativa en los ingresos entre los usuarios de \"New York-Newark-Jersey City, NY-NJ-PA MSA\" y los usuarios de otras ciudades. Esto sugiere que la ubicación geográfica influye de manera significativa en los ingresos generados por los usuarios.\n",
    "\n",
    "Estos resultados pueden ser valiosos para entender las diferencias regionales en el comportamiento de los usuarios y para tomar decisiones informadas sobre estrategias de marketing y segmentación geográfica."
   ]
  },
  {
   "cell_type": "markdown",
   "metadata": {},
   "source": [
    "<div style=\"background-color: lightblue; padding: 10px;\">\n",
    "    Respuesta estudiante: Se ajustaron las conclusiones de la prueba, ya que con los cambios realizados, varió el valor p.\n",
    "   </div>\n",
    "\n"
   ]
  },
  {
   "cell_type": "markdown",
   "metadata": {},
   "source": [
    "<div class=\"alert alert-block alert-success\">\n",
    "<b>Comentario del revisor (2da Iteración)</b> <a class=“tocSkip”></a>\n",
    "\n",
    "Muy buen trabajo con los ajustes Duver\n",
    "\n",
    "</div>"
   ]
  },
  {
   "cell_type": "markdown",
   "metadata": {
    "id": "bbTR8UQO0q1T"
   },
   "source": [
    "## Conclusión general\n",
    "\n"
   ]
  },
  {
   "cell_type": "markdown",
   "metadata": {},
   "source": [
    "Conclusiones Importantes:\n",
    "\n",
    "Diagrama de Caja para la Duración de Llamadas:\n",
    "\n",
    "Se trazaron diagramas de caja para visualizar la distribución de la duración mensual de llamadas por plan. Este método permite observar la mediana, la dispersión de los datos, y los valores atípicos.\n",
    "\n",
    "Análisis de Duración de Llamadas:\n",
    "\n",
    "Se concluyó que no hay diferencias significativas en la duración promedio de las llamadas entre los planes \"surf\" y \"ultimate\", aunque el plan \"ultimate\" muestra una mayor variabilidad.\n",
    "\n",
    "Comparación del Número de Mensajes:\n",
    "\n",
    "Utilicé un gráfico de barras para comparar el número promedio de mensajes enviados por los usuarios de cada plan por mes. Se observó que los usuarios del plan \"ultimate\" envían más mensajes y muestran una mayor variabilidad en comparación con el plan \"surf\".\n",
    "\n",
    "Diagrama de Caja para la Distribución de Mensajes:\n",
    "\n",
    "Se trazó un diagrama de caja para visualizar la distribución de los mensajes enviados, concluyendo que los usuarios del plan \"ultimate\" son más activos en términos de envío de mensajes.\n",
    "\n",
    "Comparación del Consumo de Internet:\n",
    "\n",
    "A través de un gráfico de barras, se comparó el consumo de internet mensual entre los usuarios de los planes \"surf\" y \"ultimate\". Se observó que el plan \"ultimate\" tiene un mayor consumo promedio de internet.\n",
    "\n",
    "Diagrama de Caja para la Distribución del Consumo de Internet:\n",
    "\n",
    "Se utilizó un diagrama de caja para visualizar la distribución del consumo de internet. Se concluyó que los usuarios del plan \"ultimate\" tienen un uso de internet más consistente y elevado.\n",
    "\n",
    "Análisis de Ingresos:\n",
    "\n",
    "Se calcularon la media y la varianza de los ingresos por plan. Los resultados mostraron que el plan \"ultimate\" genera ingresos más altos y estables en comparación con el plan \"surf\", que tiene una mayor variabilidad.\n",
    "\n",
    "Prueba de Hipótesis para Diferencias en Ingresos entre Planes:\n",
    "\n",
    "Se realizó una prueba t para comparar los ingresos promedio entre los planes \"surf\" y \"ultimate\". El valor p obtenido fue extremadamente bajo, lo que llevó a rechazar la hipótesis nula y concluir que hay una diferencia significativa en los ingresos promedio entre los dos planes.\n",
    "\n",
    "Prueba de Hipótesis para Diferencias Regionales en Ingresos:\n",
    "\n",
    "Se realizó una prueba t para comparar los ingresos promedio entre los usuarios del área NY-NJ y los usuarios de otras regiones. El valor p obtenido fue ligeramente menor que 0.05, por lo que se rechazó la hipótesis nula, indicando que hay diferencias significativas en los ingresos promedio entre esta región y las demás.\n",
    "\n"
   ]
  },
  {
   "cell_type": "markdown",
   "metadata": {},
   "source": [
    "<div class=\"alert alert-block alert-success\">\n",
    "<b>Comentario del revisor (1ra Iteración)</b> <a class=“tocSkip”></a>\n",
    "\n",
    "Duve tu conclusión general demuestra un buen enfoque comparar los planes. Has logrado identificar que, aunque no hay diferencias significativas en la duración promedio de las llamadas entre ambos planes, el plan ultimate presenta una mayor variabilidad, lo que sugiere que atrae a un grupo más diverso de usuarios. En cuanto al envío de mensajes, los usuarios del plan ultimate son claramente más activos y muestran una mayor dispersión en su comportamiento, lo que podría indicar que este plan es más adecuado para usuarios con necesidades de comunicación más intensivas. Respecto al consumo de internet, confirmaste que los usuarios del plan ultimate tienen un uso más consistente y elevado, lo que refuerza la idea de que este plan está diseñado para usuarios con mayores demandas de conectividad. Para futuros análisis, sería interesante explorar si existen factores adicionales, como el perfil demográfico o las preferencias de los usuarios, que puedan explicar las diferencias observadas. También sería interesante investigar si las promociones o cambios en las tarifas influyen en el comportamiento de los usuarios.\n",
    "</div>"
   ]
  }
 ],
 "metadata": {
  "ExecuteTimeLog": [
   {
    "duration": 828,
    "start_time": "2021-11-16T09:21:11.304Z"
   },
   {
    "duration": 893,
    "start_time": "2021-11-16T09:21:17.728Z"
   },
   {
    "duration": 1150,
    "start_time": "2021-11-16T09:21:29.568Z"
   },
   {
    "duration": 3,
    "start_time": "2021-11-16T09:24:14.495Z"
   },
   {
    "duration": 120,
    "start_time": "2021-11-16T09:24:46.630Z"
   },
   {
    "duration": 3,
    "start_time": "2021-11-16T09:28:27.882Z"
   },
   {
    "duration": 4,
    "start_time": "2021-11-16T09:29:54.281Z"
   },
   {
    "duration": 3,
    "start_time": "2021-11-16T09:30:45.936Z"
   },
   {
    "duration": 4,
    "start_time": "2021-11-16T09:31:06.300Z"
   },
   {
    "duration": 113,
    "start_time": "2021-11-16T09:31:37.208Z"
   },
   {
    "duration": 143,
    "start_time": "2021-11-16T09:31:48.656Z"
   },
   {
    "duration": 98,
    "start_time": "2021-11-16T09:31:55.678Z"
   },
   {
    "duration": 3,
    "start_time": "2021-11-16T09:32:08.535Z"
   },
   {
    "duration": 111,
    "start_time": "2021-11-16T09:32:10.120Z"
   },
   {
    "duration": 3,
    "start_time": "2021-11-16T09:32:15.732Z"
   },
   {
    "duration": 4,
    "start_time": "2021-11-16T09:32:29.423Z"
   },
   {
    "duration": 3,
    "start_time": "2021-11-16T10:03:03.074Z"
   },
   {
    "duration": 3,
    "start_time": "2021-11-16T10:10:01.288Z"
   },
   {
    "duration": 3,
    "start_time": "2021-11-16T10:10:46.923Z"
   },
   {
    "duration": 121,
    "start_time": "2021-11-16T10:37:46.494Z"
   },
   {
    "duration": 125,
    "start_time": "2021-11-16T10:38:20.632Z"
   },
   {
    "duration": 112,
    "start_time": "2021-11-16T10:46:53.001Z"
   },
   {
    "duration": 110,
    "start_time": "2021-11-16T10:48:25.775Z"
   },
   {
    "duration": 3,
    "start_time": "2021-11-16T10:50:18.720Z"
   },
   {
    "duration": 4,
    "start_time": "2021-11-16T10:50:37.649Z"
   },
   {
    "duration": 2,
    "start_time": "2021-11-16T10:50:51.884Z"
   },
   {
    "duration": 3,
    "start_time": "2021-11-16T10:51:56.237Z"
   },
   {
    "duration": 101,
    "start_time": "2021-11-16T10:53:13.791Z"
   },
   {
    "duration": 3,
    "start_time": "2021-11-16T10:55:59.186Z"
   },
   {
    "duration": 3,
    "start_time": "2021-11-16T10:56:10.751Z"
   },
   {
    "duration": 3,
    "start_time": "2021-11-16T10:56:49.038Z"
   },
   {
    "duration": 3,
    "start_time": "2021-11-16T10:56:49.174Z"
   },
   {
    "duration": 4,
    "start_time": "2021-11-16T10:56:49.414Z"
   },
   {
    "duration": 3,
    "start_time": "2021-11-16T10:56:49.680Z"
   },
   {
    "duration": 3,
    "start_time": "2021-11-16T10:56:50.370Z"
   },
   {
    "duration": 114,
    "start_time": "2021-11-16T10:59:34.518Z"
   },
   {
    "duration": 3,
    "start_time": "2021-11-16T11:01:41.201Z"
   },
   {
    "duration": 116,
    "start_time": "2021-11-16T11:01:48.754Z"
   },
   {
    "duration": 3,
    "start_time": "2021-11-16T11:02:16.685Z"
   },
   {
    "duration": 3,
    "start_time": "2021-11-16T11:02:19.479Z"
   },
   {
    "duration": 3,
    "start_time": "2021-11-16T11:02:47.067Z"
   },
   {
    "duration": 3,
    "start_time": "2021-11-16T11:02:49.353Z"
   },
   {
    "duration": 3,
    "start_time": "2021-11-16T11:03:07.835Z"
   },
   {
    "duration": 3,
    "start_time": "2021-11-16T11:03:07.953Z"
   },
   {
    "duration": 112,
    "start_time": "2021-11-16T11:07:52.072Z"
   },
   {
    "duration": 187,
    "start_time": "2021-11-16T11:09:23.468Z"
   },
   {
    "duration": 4,
    "start_time": "2021-11-16T11:10:01.455Z"
   },
   {
    "duration": 3,
    "start_time": "2021-11-16T11:10:05.069Z"
   },
   {
    "duration": 4,
    "start_time": "2021-11-16T11:10:13.376Z"
   },
   {
    "duration": 3,
    "start_time": "2021-11-16T11:10:14.434Z"
   },
   {
    "duration": 3,
    "start_time": "2021-11-16T11:10:22.853Z"
   },
   {
    "duration": 4,
    "start_time": "2021-11-16T11:27:29.279Z"
   },
   {
    "duration": 4,
    "start_time": "2021-11-16T11:29:08.919Z"
   },
   {
    "duration": 118,
    "start_time": "2021-11-16T11:29:46.703Z"
   },
   {
    "duration": 437,
    "start_time": "2021-11-16T11:36:02.181Z"
   },
   {
    "duration": 157,
    "start_time": "2021-11-16T11:36:14.388Z"
   },
   {
    "duration": 207,
    "start_time": "2021-11-16T11:47:15.898Z"
   },
   {
    "duration": 3,
    "start_time": "2021-11-16T11:53:52.092Z"
   },
   {
    "duration": 3,
    "start_time": "2021-11-16T11:53:52.236Z"
   },
   {
    "duration": 3,
    "start_time": "2021-11-16T11:59:12.005Z"
   },
   {
    "duration": 112,
    "start_time": "2021-11-16T12:00:33.446Z"
   },
   {
    "duration": 3,
    "start_time": "2021-11-16T12:02:14.453Z"
   },
   {
    "duration": 3,
    "start_time": "2021-11-16T12:02:39.512Z"
   },
   {
    "duration": 106,
    "start_time": "2021-11-16T12:03:03.460Z"
   },
   {
    "duration": 3,
    "start_time": "2021-11-17T20:37:21.139Z"
   },
   {
    "duration": 3,
    "start_time": "2021-11-17T20:37:22.229Z"
   },
   {
    "duration": 3,
    "start_time": "2021-11-17T20:38:38.806Z"
   },
   {
    "duration": 3,
    "start_time": "2021-11-17T20:38:41.958Z"
   },
   {
    "duration": 3,
    "start_time": "2021-11-17T20:43:46.551Z"
   },
   {
    "duration": 4,
    "start_time": "2021-11-17T20:58:21.835Z"
   },
   {
    "duration": 3,
    "start_time": "2021-11-17T20:59:21.872Z"
   },
   {
    "duration": 4,
    "start_time": "2021-11-17T20:59:45.352Z"
   },
   {
    "duration": 4,
    "start_time": "2021-11-17T20:59:49.646Z"
   },
   {
    "duration": 159,
    "start_time": "2021-11-17T21:02:26.949Z"
   },
   {
    "duration": 3,
    "start_time": "2021-11-17T21:03:53.461Z"
   },
   {
    "duration": 3,
    "start_time": "2021-11-17T21:03:53.694Z"
   },
   {
    "duration": 3,
    "start_time": "2021-11-17T21:05:28.145Z"
   },
   {
    "duration": 116,
    "start_time": "2021-11-17T21:05:57.787Z"
   },
   {
    "duration": 3,
    "start_time": "2021-11-17T21:06:37.993Z"
   },
   {
    "duration": 3,
    "start_time": "2021-11-17T21:06:38.261Z"
   },
   {
    "duration": 3,
    "start_time": "2021-11-17T21:11:54.358Z"
   },
   {
    "duration": 3,
    "start_time": "2021-11-17T21:12:43.846Z"
   },
   {
    "duration": 4,
    "start_time": "2021-11-17T21:13:08.773Z"
   },
   {
    "duration": 3,
    "start_time": "2021-11-17T21:14:44.441Z"
   },
   {
    "duration": 3,
    "start_time": "2021-11-17T21:15:42.059Z"
   },
   {
    "duration": 4,
    "start_time": "2021-11-17T21:15:51.995Z"
   },
   {
    "duration": 3,
    "start_time": "2021-11-17T21:15:53.923Z"
   },
   {
    "duration": 3,
    "start_time": "2021-11-17T21:15:55.282Z"
   },
   {
    "duration": 3,
    "start_time": "2021-11-17T21:16:28.492Z"
   },
   {
    "duration": 3,
    "start_time": "2021-11-17T21:16:32.603Z"
   },
   {
    "duration": 3,
    "start_time": "2021-11-17T21:17:06.941Z"
   },
   {
    "duration": 98,
    "start_time": "2021-11-17T21:18:05.733Z"
   },
   {
    "duration": 4,
    "start_time": "2021-11-17T21:21:35.255Z"
   },
   {
    "duration": 3,
    "start_time": "2021-11-17T21:21:37.804Z"
   },
   {
    "duration": 4,
    "start_time": "2021-11-17T21:23:06.071Z"
   },
   {
    "duration": 3,
    "start_time": "2021-11-17T21:23:24.799Z"
   },
   {
    "duration": 3,
    "start_time": "2021-11-17T21:23:32.591Z"
   },
   {
    "duration": 98,
    "start_time": "2021-11-17T21:28:31.559Z"
   },
   {
    "duration": 3,
    "start_time": "2021-11-17T21:28:45.448Z"
   },
   {
    "duration": 3,
    "start_time": "2021-11-17T21:29:17.303Z"
   },
   {
    "duration": 3,
    "start_time": "2021-11-17T21:29:29.617Z"
   },
   {
    "duration": 3,
    "start_time": "2021-11-17T21:29:32.681Z"
   },
   {
    "duration": 3,
    "start_time": "2021-11-17T21:36:11.474Z"
   },
   {
    "duration": 3,
    "start_time": "2021-11-17T21:36:14.791Z"
   },
   {
    "duration": 3,
    "start_time": "2021-11-17T21:36:53.943Z"
   },
   {
    "duration": 3,
    "start_time": "2021-11-17T21:36:56.165Z"
   },
   {
    "duration": 4,
    "start_time": "2021-11-17T21:37:16.590Z"
   },
   {
    "duration": 3,
    "start_time": "2021-11-17T21:37:22.702Z"
   },
   {
    "duration": 4,
    "start_time": "2021-11-17T21:38:03.479Z"
   },
   {
    "duration": 3,
    "start_time": "2021-11-17T21:38:08.601Z"
   },
   {
    "duration": 3,
    "start_time": "2021-11-17T21:38:12.928Z"
   },
   {
    "duration": 3,
    "start_time": "2021-11-17T21:38:48.896Z"
   },
   {
    "duration": 2,
    "start_time": "2021-11-17T21:38:49.171Z"
   },
   {
    "duration": 4,
    "start_time": "2021-11-17T21:39:57.889Z"
   },
   {
    "duration": 3,
    "start_time": "2021-11-17T21:39:58.057Z"
   },
   {
    "duration": 3,
    "start_time": "2021-11-17T21:41:20.108Z"
   },
   {
    "duration": 3,
    "start_time": "2021-11-17T21:41:20.629Z"
   },
   {
    "duration": 3,
    "start_time": "2021-11-17T21:42:49.136Z"
   },
   {
    "duration": 3,
    "start_time": "2021-11-17T21:43:15.137Z"
   },
   {
    "duration": 4,
    "start_time": "2021-11-17T21:43:16.766Z"
   },
   {
    "duration": 4,
    "start_time": "2021-11-17T21:43:31.711Z"
   },
   {
    "duration": 3,
    "start_time": "2021-11-17T21:43:36.312Z"
   },
   {
    "duration": 4,
    "start_time": "2021-11-17T21:45:08.825Z"
   },
   {
    "duration": 4,
    "start_time": "2021-11-17T21:45:10.119Z"
   },
   {
    "duration": 4,
    "start_time": "2021-11-17T21:45:13.748Z"
   },
   {
    "duration": 3,
    "start_time": "2021-11-17T21:45:22.219Z"
   },
   {
    "duration": 3,
    "start_time": "2021-11-17T21:45:33.412Z"
   },
   {
    "duration": 2,
    "start_time": "2021-11-17T21:46:01.885Z"
   },
   {
    "duration": 3,
    "start_time": "2021-11-17T21:46:03.628Z"
   },
   {
    "duration": 107,
    "start_time": "2021-11-17T21:47:32.512Z"
   },
   {
    "duration": 103,
    "start_time": "2021-11-17T21:50:36.243Z"
   },
   {
    "duration": 3,
    "start_time": "2021-11-18T06:28:31.440Z"
   },
   {
    "duration": 3,
    "start_time": "2021-11-18T06:29:00.168Z"
   },
   {
    "duration": 3,
    "start_time": "2021-11-18T06:31:27.008Z"
   },
   {
    "duration": 2,
    "start_time": "2021-11-18T06:35:34.288Z"
   },
   {
    "duration": 2,
    "start_time": "2021-11-18T06:38:04.527Z"
   },
   {
    "duration": 10,
    "start_time": "2025-03-03T19:09:02.140Z"
   },
   {
    "duration": 158,
    "start_time": "2025-03-03T19:09:13.473Z"
   },
   {
    "duration": 2855,
    "start_time": "2025-03-03T19:09:26.141Z"
   },
   {
    "duration": 261,
    "start_time": "2025-03-03T19:09:28.999Z"
   },
   {
    "duration": 2,
    "start_time": "2025-03-03T19:09:29.262Z"
   },
   {
    "duration": 2,
    "start_time": "2025-03-03T19:09:29.267Z"
   },
   {
    "duration": 3,
    "start_time": "2025-03-03T19:09:29.271Z"
   },
   {
    "duration": 4,
    "start_time": "2025-03-03T19:09:29.276Z"
   },
   {
    "duration": 3,
    "start_time": "2025-03-03T19:09:29.282Z"
   },
   {
    "duration": 2,
    "start_time": "2025-03-03T19:09:29.287Z"
   },
   {
    "duration": 3,
    "start_time": "2025-03-03T19:09:29.291Z"
   },
   {
    "duration": 4,
    "start_time": "2025-03-03T19:09:29.298Z"
   },
   {
    "duration": 28,
    "start_time": "2025-03-03T19:09:29.304Z"
   },
   {
    "duration": 3,
    "start_time": "2025-03-03T19:09:29.334Z"
   },
   {
    "duration": 2,
    "start_time": "2025-03-03T19:09:29.339Z"
   },
   {
    "duration": 4,
    "start_time": "2025-03-03T19:09:29.343Z"
   },
   {
    "duration": 3,
    "start_time": "2025-03-03T19:09:29.349Z"
   },
   {
    "duration": 4,
    "start_time": "2025-03-03T19:09:29.353Z"
   },
   {
    "duration": 2,
    "start_time": "2025-03-03T19:09:29.359Z"
   },
   {
    "duration": 3,
    "start_time": "2025-03-03T19:09:29.363Z"
   },
   {
    "duration": 2,
    "start_time": "2025-03-03T19:09:29.368Z"
   },
   {
    "duration": 3,
    "start_time": "2025-03-03T19:09:29.372Z"
   },
   {
    "duration": 3,
    "start_time": "2025-03-03T19:09:29.377Z"
   },
   {
    "duration": 4,
    "start_time": "2025-03-03T19:09:29.382Z"
   },
   {
    "duration": 3,
    "start_time": "2025-03-03T19:09:29.389Z"
   },
   {
    "duration": 3,
    "start_time": "2025-03-03T19:09:29.432Z"
   },
   {
    "duration": 3,
    "start_time": "2025-03-03T19:09:29.437Z"
   },
   {
    "duration": 3,
    "start_time": "2025-03-03T19:09:29.442Z"
   },
   {
    "duration": 3,
    "start_time": "2025-03-03T19:09:29.446Z"
   },
   {
    "duration": 2,
    "start_time": "2025-03-03T19:09:29.453Z"
   },
   {
    "duration": 162,
    "start_time": "2025-03-03T19:09:38.252Z"
   },
   {
    "duration": 3012,
    "start_time": "2025-03-04T03:24:13.404Z"
   },
   {
    "duration": 220,
    "start_time": "2025-03-04T03:24:16.418Z"
   },
   {
    "duration": 2,
    "start_time": "2025-03-04T03:24:16.639Z"
   },
   {
    "duration": 3,
    "start_time": "2025-03-04T03:24:16.643Z"
   },
   {
    "duration": 3,
    "start_time": "2025-03-04T03:24:16.648Z"
   },
   {
    "duration": 4,
    "start_time": "2025-03-04T03:24:16.652Z"
   },
   {
    "duration": 4,
    "start_time": "2025-03-04T03:24:16.657Z"
   },
   {
    "duration": 3,
    "start_time": "2025-03-04T03:24:16.662Z"
   },
   {
    "duration": 3,
    "start_time": "2025-03-04T03:24:16.667Z"
   },
   {
    "duration": 3,
    "start_time": "2025-03-04T03:24:16.671Z"
   },
   {
    "duration": 3,
    "start_time": "2025-03-04T03:24:16.687Z"
   },
   {
    "duration": 4,
    "start_time": "2025-03-04T03:24:16.691Z"
   },
   {
    "duration": 3,
    "start_time": "2025-03-04T03:24:16.696Z"
   },
   {
    "duration": 3,
    "start_time": "2025-03-04T03:24:16.703Z"
   },
   {
    "duration": 2,
    "start_time": "2025-03-04T03:24:16.708Z"
   },
   {
    "duration": 3,
    "start_time": "2025-03-04T03:24:16.711Z"
   },
   {
    "duration": 2,
    "start_time": "2025-03-04T03:24:16.717Z"
   },
   {
    "duration": 3,
    "start_time": "2025-03-04T03:24:16.720Z"
   },
   {
    "duration": 3,
    "start_time": "2025-03-04T03:24:16.725Z"
   },
   {
    "duration": 3,
    "start_time": "2025-03-04T03:24:16.730Z"
   },
   {
    "duration": 3,
    "start_time": "2025-03-04T03:24:16.734Z"
   },
   {
    "duration": 3,
    "start_time": "2025-03-04T03:24:16.739Z"
   },
   {
    "duration": 43,
    "start_time": "2025-03-04T03:24:16.744Z"
   },
   {
    "duration": 4,
    "start_time": "2025-03-04T03:24:16.788Z"
   },
   {
    "duration": 3,
    "start_time": "2025-03-04T03:24:16.793Z"
   },
   {
    "duration": 3,
    "start_time": "2025-03-04T03:24:16.798Z"
   },
   {
    "duration": 4,
    "start_time": "2025-03-04T03:24:16.802Z"
   },
   {
    "duration": 2,
    "start_time": "2025-03-04T03:24:16.808Z"
   },
   {
    "duration": 23,
    "start_time": "2025-03-04T03:27:23.541Z"
   },
   {
    "duration": 20,
    "start_time": "2025-03-04T03:28:29.171Z"
   },
   {
    "duration": 20,
    "start_time": "2025-03-04T03:30:28.070Z"
   },
   {
    "duration": 16,
    "start_time": "2025-03-04T03:32:37.339Z"
   },
   {
    "duration": 14,
    "start_time": "2025-03-04T03:33:17.588Z"
   },
   {
    "duration": 16,
    "start_time": "2025-03-04T03:33:55.033Z"
   },
   {
    "duration": 2591,
    "start_time": "2025-03-04T20:42:22.548Z"
   },
   {
    "duration": 224,
    "start_time": "2025-03-04T20:42:25.141Z"
   },
   {
    "duration": 27,
    "start_time": "2025-03-04T20:42:25.368Z"
   },
   {
    "duration": 24,
    "start_time": "2025-03-04T20:42:25.396Z"
   },
   {
    "duration": 19,
    "start_time": "2025-03-04T20:42:25.425Z"
   },
   {
    "duration": 14,
    "start_time": "2025-03-04T20:42:25.446Z"
   },
   {
    "duration": 18,
    "start_time": "2025-03-04T20:42:25.462Z"
   },
   {
    "duration": 2,
    "start_time": "2025-03-04T20:42:25.481Z"
   },
   {
    "duration": 38,
    "start_time": "2025-03-04T20:42:25.485Z"
   },
   {
    "duration": 3,
    "start_time": "2025-03-04T20:42:25.525Z"
   },
   {
    "duration": 3,
    "start_time": "2025-03-04T20:42:25.530Z"
   },
   {
    "duration": 2,
    "start_time": "2025-03-04T20:42:25.535Z"
   },
   {
    "duration": 4,
    "start_time": "2025-03-04T20:42:25.538Z"
   },
   {
    "duration": 2,
    "start_time": "2025-03-04T20:42:25.546Z"
   },
   {
    "duration": 3,
    "start_time": "2025-03-04T20:42:25.550Z"
   },
   {
    "duration": 3,
    "start_time": "2025-03-04T20:42:25.554Z"
   },
   {
    "duration": 3,
    "start_time": "2025-03-04T20:42:25.558Z"
   },
   {
    "duration": 3,
    "start_time": "2025-03-04T20:42:25.562Z"
   },
   {
    "duration": 4,
    "start_time": "2025-03-04T20:42:25.566Z"
   },
   {
    "duration": 3,
    "start_time": "2025-03-04T20:42:25.571Z"
   },
   {
    "duration": 2,
    "start_time": "2025-03-04T20:42:25.576Z"
   },
   {
    "duration": 2,
    "start_time": "2025-03-04T20:42:25.624Z"
   },
   {
    "duration": 2,
    "start_time": "2025-03-04T20:42:25.628Z"
   },
   {
    "duration": 3,
    "start_time": "2025-03-04T20:42:25.632Z"
   },
   {
    "duration": 2,
    "start_time": "2025-03-04T20:42:25.637Z"
   },
   {
    "duration": 4,
    "start_time": "2025-03-04T20:42:25.641Z"
   },
   {
    "duration": 4,
    "start_time": "2025-03-04T20:42:25.646Z"
   },
   {
    "duration": 2,
    "start_time": "2025-03-04T20:42:25.653Z"
   },
   {
    "duration": 2,
    "start_time": "2025-03-04T20:42:25.657Z"
   },
   {
    "duration": 3,
    "start_time": "2025-03-04T20:42:25.661Z"
   },
   {
    "duration": 2,
    "start_time": "2025-03-04T20:42:25.666Z"
   },
   {
    "duration": 3,
    "start_time": "2025-03-04T20:42:25.670Z"
   },
   {
    "duration": 4,
    "start_time": "2025-03-04T20:42:25.674Z"
   },
   {
    "duration": 296,
    "start_time": "2025-03-04T20:43:56.747Z"
   },
   {
    "duration": 5,
    "start_time": "2025-03-04T20:44:16.884Z"
   },
   {
    "duration": 10,
    "start_time": "2025-03-04T20:44:36.678Z"
   },
   {
    "duration": 9,
    "start_time": "2025-03-04T20:45:50.495Z"
   },
   {
    "duration": 255,
    "start_time": "2025-03-04T20:46:05.083Z"
   },
   {
    "duration": 10,
    "start_time": "2025-03-04T20:46:30.920Z"
   },
   {
    "duration": 23,
    "start_time": "2025-03-04T20:46:42.184Z"
   },
   {
    "duration": 8,
    "start_time": "2025-03-04T20:46:55.189Z"
   },
   {
    "duration": 16,
    "start_time": "2025-03-04T20:52:59.788Z"
   },
   {
    "duration": 9,
    "start_time": "2025-03-04T20:53:57.606Z"
   },
   {
    "duration": 6,
    "start_time": "2025-03-04T20:54:17.257Z"
   },
   {
    "duration": 8,
    "start_time": "2025-03-04T20:54:27.100Z"
   },
   {
    "duration": 8,
    "start_time": "2025-03-04T20:54:39.624Z"
   },
   {
    "duration": 9,
    "start_time": "2025-03-04T20:54:50.618Z"
   },
   {
    "duration": 9,
    "start_time": "2025-03-04T20:55:04.518Z"
   },
   {
    "duration": 89,
    "start_time": "2025-03-04T21:08:31.999Z"
   },
   {
    "duration": 8,
    "start_time": "2025-03-04T21:09:16.894Z"
   },
   {
    "duration": 61,
    "start_time": "2025-03-04T21:09:56.163Z"
   },
   {
    "duration": 71,
    "start_time": "2025-03-04T21:12:48.195Z"
   },
   {
    "duration": 35,
    "start_time": "2025-03-04T21:14:17.203Z"
   },
   {
    "duration": 9,
    "start_time": "2025-03-04T21:17:09.208Z"
   },
   {
    "duration": 10,
    "start_time": "2025-03-04T21:18:25.841Z"
   },
   {
    "duration": 7,
    "start_time": "2025-03-04T21:37:07.772Z"
   },
   {
    "duration": 64,
    "start_time": "2025-03-04T21:44:28.592Z"
   },
   {
    "duration": 2547,
    "start_time": "2025-03-07T12:32:39.055Z"
   },
   {
    "duration": 223,
    "start_time": "2025-03-07T12:32:41.604Z"
   },
   {
    "duration": 12,
    "start_time": "2025-03-07T12:32:41.830Z"
   },
   {
    "duration": 60,
    "start_time": "2025-03-07T12:32:41.845Z"
   },
   {
    "duration": 7,
    "start_time": "2025-03-07T12:32:41.909Z"
   },
   {
    "duration": 18,
    "start_time": "2025-03-07T12:32:41.917Z"
   },
   {
    "duration": 79,
    "start_time": "2025-03-07T12:32:41.937Z"
   },
   {
    "duration": 6,
    "start_time": "2025-03-07T12:32:42.031Z"
   },
   {
    "duration": 32,
    "start_time": "2025-03-07T12:32:42.039Z"
   },
   {
    "duration": 7,
    "start_time": "2025-03-07T12:32:42.075Z"
   },
   {
    "duration": 9,
    "start_time": "2025-03-07T12:32:42.084Z"
   },
   {
    "duration": 37,
    "start_time": "2025-03-07T12:32:42.095Z"
   },
   {
    "duration": 11,
    "start_time": "2025-03-07T12:32:42.134Z"
   },
   {
    "duration": 8,
    "start_time": "2025-03-07T12:32:42.146Z"
   },
   {
    "duration": 7,
    "start_time": "2025-03-07T12:32:42.156Z"
   },
   {
    "duration": 2,
    "start_time": "2025-03-07T12:32:42.165Z"
   },
   {
    "duration": 2,
    "start_time": "2025-03-07T12:32:42.170Z"
   },
   {
    "duration": 2,
    "start_time": "2025-03-07T12:32:42.174Z"
   },
   {
    "duration": 3,
    "start_time": "2025-03-07T12:32:42.179Z"
   },
   {
    "duration": 3,
    "start_time": "2025-03-07T12:32:42.183Z"
   },
   {
    "duration": 44,
    "start_time": "2025-03-07T12:32:42.188Z"
   },
   {
    "duration": 2,
    "start_time": "2025-03-07T12:32:42.234Z"
   },
   {
    "duration": 3,
    "start_time": "2025-03-07T12:32:42.238Z"
   },
   {
    "duration": 3,
    "start_time": "2025-03-07T12:32:42.242Z"
   },
   {
    "duration": 4,
    "start_time": "2025-03-07T12:32:42.247Z"
   },
   {
    "duration": 4,
    "start_time": "2025-03-07T12:32:42.252Z"
   },
   {
    "duration": 2,
    "start_time": "2025-03-07T12:32:42.258Z"
   },
   {
    "duration": 2,
    "start_time": "2025-03-07T12:32:42.265Z"
   },
   {
    "duration": 3,
    "start_time": "2025-03-07T12:32:42.268Z"
   },
   {
    "duration": 3,
    "start_time": "2025-03-07T12:32:42.273Z"
   },
   {
    "duration": 3,
    "start_time": "2025-03-07T12:32:42.277Z"
   },
   {
    "duration": 2,
    "start_time": "2025-03-07T12:32:42.282Z"
   },
   {
    "duration": 3,
    "start_time": "2025-03-07T12:32:42.286Z"
   },
   {
    "duration": 2,
    "start_time": "2025-03-07T12:32:42.331Z"
   },
   {
    "duration": 3,
    "start_time": "2025-03-07T12:32:42.335Z"
   },
   {
    "duration": 3,
    "start_time": "2025-03-07T12:32:42.340Z"
   },
   {
    "duration": 3,
    "start_time": "2025-03-07T12:32:42.345Z"
   },
   {
    "duration": 3,
    "start_time": "2025-03-07T12:32:42.349Z"
   },
   {
    "duration": 3,
    "start_time": "2025-03-07T12:32:42.354Z"
   },
   {
    "duration": 7,
    "start_time": "2025-03-07T12:59:34.575Z"
   },
   {
    "duration": 513,
    "start_time": "2025-03-07T12:59:57.928Z"
   },
   {
    "duration": 8,
    "start_time": "2025-03-07T13:00:06.964Z"
   },
   {
    "duration": 162,
    "start_time": "2025-03-07T13:01:40.736Z"
   },
   {
    "duration": 7,
    "start_time": "2025-03-07T13:01:50.608Z"
   },
   {
    "duration": 65,
    "start_time": "2025-03-07T13:02:53.055Z"
   },
   {
    "duration": 14,
    "start_time": "2025-03-07T13:04:28.916Z"
   },
   {
    "duration": 9,
    "start_time": "2025-03-07T13:04:36.292Z"
   },
   {
    "duration": 7,
    "start_time": "2025-03-07T13:04:52.379Z"
   },
   {
    "duration": 14,
    "start_time": "2025-03-07T13:05:11.460Z"
   },
   {
    "duration": 14,
    "start_time": "2025-03-07T13:05:19.910Z"
   },
   {
    "duration": 73,
    "start_time": "2025-03-07T13:05:31.318Z"
   },
   {
    "duration": 29,
    "start_time": "2025-03-07T13:06:33.339Z"
   },
   {
    "duration": 6,
    "start_time": "2025-03-07T13:11:06.494Z"
   },
   {
    "duration": 27,
    "start_time": "2025-03-07T13:11:13.141Z"
   },
   {
    "duration": 7,
    "start_time": "2025-03-07T13:11:20.425Z"
   },
   {
    "duration": 10,
    "start_time": "2025-03-07T13:11:48.027Z"
   },
   {
    "duration": 11,
    "start_time": "2025-03-07T13:12:18.738Z"
   },
   {
    "duration": 9,
    "start_time": "2025-03-07T13:12:38.081Z"
   },
   {
    "duration": 7,
    "start_time": "2025-03-07T13:12:47.243Z"
   },
   {
    "duration": 2490,
    "start_time": "2025-03-08T03:42:21.744Z"
   },
   {
    "duration": 211,
    "start_time": "2025-03-08T03:42:24.236Z"
   },
   {
    "duration": 9,
    "start_time": "2025-03-08T03:42:24.449Z"
   },
   {
    "duration": 59,
    "start_time": "2025-03-08T03:42:24.461Z"
   },
   {
    "duration": 7,
    "start_time": "2025-03-08T03:42:24.522Z"
   },
   {
    "duration": 6,
    "start_time": "2025-03-08T03:42:24.531Z"
   },
   {
    "duration": 87,
    "start_time": "2025-03-08T03:42:24.542Z"
   },
   {
    "duration": 6,
    "start_time": "2025-03-08T03:42:24.631Z"
   },
   {
    "duration": 44,
    "start_time": "2025-03-08T03:42:24.639Z"
   },
   {
    "duration": 7,
    "start_time": "2025-03-08T03:42:24.686Z"
   },
   {
    "duration": 9,
    "start_time": "2025-03-08T03:42:24.695Z"
   },
   {
    "duration": 8,
    "start_time": "2025-03-08T03:42:24.706Z"
   },
   {
    "duration": 10,
    "start_time": "2025-03-08T03:42:24.716Z"
   },
   {
    "duration": 44,
    "start_time": "2025-03-08T03:42:24.727Z"
   },
   {
    "duration": 8,
    "start_time": "2025-03-08T03:42:24.773Z"
   },
   {
    "duration": 3,
    "start_time": "2025-03-08T03:42:24.782Z"
   },
   {
    "duration": 2,
    "start_time": "2025-03-08T03:42:24.787Z"
   },
   {
    "duration": 3,
    "start_time": "2025-03-08T03:42:24.791Z"
   },
   {
    "duration": 4,
    "start_time": "2025-03-08T03:42:24.795Z"
   },
   {
    "duration": 4,
    "start_time": "2025-03-08T03:42:24.801Z"
   },
   {
    "duration": 3,
    "start_time": "2025-03-08T03:42:24.806Z"
   },
   {
    "duration": 3,
    "start_time": "2025-03-08T03:42:24.811Z"
   },
   {
    "duration": 3,
    "start_time": "2025-03-08T03:42:24.815Z"
   },
   {
    "duration": 3,
    "start_time": "2025-03-08T03:42:24.820Z"
   },
   {
    "duration": 3,
    "start_time": "2025-03-08T03:42:24.825Z"
   },
   {
    "duration": 2,
    "start_time": "2025-03-08T03:42:24.870Z"
   },
   {
    "duration": 3,
    "start_time": "2025-03-08T03:42:24.874Z"
   },
   {
    "duration": 2,
    "start_time": "2025-03-08T03:42:24.880Z"
   },
   {
    "duration": 3,
    "start_time": "2025-03-08T03:42:24.884Z"
   },
   {
    "duration": 3,
    "start_time": "2025-03-08T03:42:24.889Z"
   },
   {
    "duration": 3,
    "start_time": "2025-03-08T03:42:24.893Z"
   },
   {
    "duration": 3,
    "start_time": "2025-03-08T03:42:24.898Z"
   },
   {
    "duration": 3,
    "start_time": "2025-03-08T03:42:24.903Z"
   },
   {
    "duration": 3,
    "start_time": "2025-03-08T03:42:24.907Z"
   },
   {
    "duration": 3,
    "start_time": "2025-03-08T03:42:24.912Z"
   },
   {
    "duration": 3,
    "start_time": "2025-03-08T03:42:24.916Z"
   },
   {
    "duration": 49,
    "start_time": "2025-03-08T03:42:24.921Z"
   },
   {
    "duration": 3,
    "start_time": "2025-03-08T03:42:24.972Z"
   },
   {
    "duration": 2,
    "start_time": "2025-03-08T03:42:24.977Z"
   },
   {
    "duration": 9,
    "start_time": "2025-03-08T03:43:01.258Z"
   },
   {
    "duration": 8,
    "start_time": "2025-03-08T03:43:35.102Z"
   },
   {
    "duration": 3,
    "start_time": "2025-03-08T04:08:44.504Z"
   },
   {
    "duration": 10,
    "start_time": "2025-03-08T04:09:12.612Z"
   },
   {
    "duration": 10,
    "start_time": "2025-03-08T04:10:34.192Z"
   },
   {
    "duration": 12,
    "start_time": "2025-03-08T04:11:05.338Z"
   },
   {
    "duration": 21,
    "start_time": "2025-03-08T04:14:48.108Z"
   },
   {
    "duration": 9,
    "start_time": "2025-03-08T04:15:11.995Z"
   },
   {
    "duration": 11,
    "start_time": "2025-03-08T04:21:15.039Z"
   },
   {
    "duration": 17,
    "start_time": "2025-03-08T04:21:52.287Z"
   },
   {
    "duration": 17,
    "start_time": "2025-03-08T04:22:17.100Z"
   },
   {
    "duration": 17,
    "start_time": "2025-03-08T04:25:44.043Z"
   },
   {
    "duration": 20,
    "start_time": "2025-03-08T04:30:26.679Z"
   },
   {
    "duration": 12,
    "start_time": "2025-03-08T04:30:47.020Z"
   },
   {
    "duration": 20,
    "start_time": "2025-03-08T04:32:32.782Z"
   },
   {
    "duration": 12,
    "start_time": "2025-03-08T04:33:51.190Z"
   },
   {
    "duration": 7,
    "start_time": "2025-03-08T04:34:14.010Z"
   },
   {
    "duration": 13,
    "start_time": "2025-03-08T04:36:42.227Z"
   },
   {
    "duration": 8,
    "start_time": "2025-03-08T04:36:59.771Z"
   },
   {
    "duration": 18,
    "start_time": "2025-03-08T04:41:42.162Z"
   },
   {
    "duration": 21,
    "start_time": "2025-03-08T04:43:07.689Z"
   },
   {
    "duration": 18,
    "start_time": "2025-03-08T04:51:25.922Z"
   },
   {
    "duration": 17,
    "start_time": "2025-03-08T04:51:51.759Z"
   },
   {
    "duration": 21,
    "start_time": "2025-03-08T04:52:16.008Z"
   },
   {
    "duration": 73,
    "start_time": "2025-03-08T04:53:35.347Z"
   },
   {
    "duration": 17,
    "start_time": "2025-03-08T04:53:49.866Z"
   },
   {
    "duration": 11,
    "start_time": "2025-03-08T05:00:52.858Z"
   },
   {
    "duration": 17,
    "start_time": "2025-03-08T05:04:07.410Z"
   },
   {
    "duration": 11,
    "start_time": "2025-03-08T05:05:59.966Z"
   },
   {
    "duration": 15,
    "start_time": "2025-03-08T05:07:51.307Z"
   },
   {
    "duration": 13,
    "start_time": "2025-03-08T05:08:01.617Z"
   },
   {
    "duration": 13,
    "start_time": "2025-03-08T05:08:18.456Z"
   },
   {
    "duration": 7,
    "start_time": "2025-03-08T05:20:09.648Z"
   },
   {
    "duration": 16,
    "start_time": "2025-03-08T05:21:09.341Z"
   },
   {
    "duration": 16,
    "start_time": "2025-03-08T05:24:39.308Z"
   },
   {
    "duration": 15,
    "start_time": "2025-03-08T05:25:22.532Z"
   },
   {
    "duration": 21,
    "start_time": "2025-03-08T05:27:43.950Z"
   },
   {
    "duration": 18,
    "start_time": "2025-03-08T05:31:21.893Z"
   },
   {
    "duration": 13,
    "start_time": "2025-03-08T05:31:57.428Z"
   },
   {
    "duration": 17,
    "start_time": "2025-03-08T05:32:43.520Z"
   },
   {
    "duration": 18,
    "start_time": "2025-03-08T05:33:14.069Z"
   },
   {
    "duration": 17,
    "start_time": "2025-03-08T05:33:29.671Z"
   },
   {
    "duration": 12,
    "start_time": "2025-03-08T05:35:02.827Z"
   },
   {
    "duration": 11,
    "start_time": "2025-03-08T05:35:38.469Z"
   },
   {
    "duration": 226,
    "start_time": "2025-03-08T05:48:16.754Z"
   },
   {
    "duration": 17,
    "start_time": "2025-03-08T05:48:39.204Z"
   },
   {
    "duration": 18,
    "start_time": "2025-03-08T05:49:22.313Z"
   },
   {
    "duration": 19,
    "start_time": "2025-03-08T05:51:25.634Z"
   },
   {
    "duration": 15,
    "start_time": "2025-03-08T05:53:08.664Z"
   },
   {
    "duration": 15,
    "start_time": "2025-03-08T05:53:27.694Z"
   },
   {
    "duration": 15,
    "start_time": "2025-03-08T05:55:00.766Z"
   },
   {
    "duration": 13,
    "start_time": "2025-03-08T05:57:54.654Z"
   },
   {
    "duration": 12,
    "start_time": "2025-03-08T06:02:05.990Z"
   },
   {
    "duration": 8,
    "start_time": "2025-03-08T06:18:29.821Z"
   },
   {
    "duration": 10,
    "start_time": "2025-03-08T06:21:25.321Z"
   },
   {
    "duration": 9,
    "start_time": "2025-03-08T06:22:20.721Z"
   },
   {
    "duration": 9,
    "start_time": "2025-03-08T06:27:17.002Z"
   },
   {
    "duration": 12,
    "start_time": "2025-03-08T06:29:43.451Z"
   },
   {
    "duration": 14,
    "start_time": "2025-03-08T06:30:31.191Z"
   },
   {
    "duration": 51,
    "start_time": "2025-03-08T06:31:24.641Z"
   },
   {
    "duration": 2,
    "start_time": "2025-03-08T06:37:05.052Z"
   },
   {
    "duration": 170,
    "start_time": "2025-03-08T06:37:05.080Z"
   },
   {
    "duration": 6,
    "start_time": "2025-03-08T06:37:05.253Z"
   },
   {
    "duration": 58,
    "start_time": "2025-03-08T06:37:05.261Z"
   },
   {
    "duration": 7,
    "start_time": "2025-03-08T06:37:05.321Z"
   },
   {
    "duration": 7,
    "start_time": "2025-03-08T06:37:05.330Z"
   },
   {
    "duration": 88,
    "start_time": "2025-03-08T06:37:05.338Z"
   },
   {
    "duration": 5,
    "start_time": "2025-03-08T06:37:05.428Z"
   },
   {
    "duration": 44,
    "start_time": "2025-03-08T06:37:05.435Z"
   },
   {
    "duration": 7,
    "start_time": "2025-03-08T06:37:05.481Z"
   },
   {
    "duration": 8,
    "start_time": "2025-03-08T06:37:05.490Z"
   },
   {
    "duration": 8,
    "start_time": "2025-03-08T06:37:05.499Z"
   },
   {
    "duration": 10,
    "start_time": "2025-03-08T06:37:05.508Z"
   },
   {
    "duration": 8,
    "start_time": "2025-03-08T06:37:05.519Z"
   },
   {
    "duration": 45,
    "start_time": "2025-03-08T06:37:05.531Z"
   },
   {
    "duration": 8,
    "start_time": "2025-03-08T06:37:05.578Z"
   },
   {
    "duration": 8,
    "start_time": "2025-03-08T06:37:05.588Z"
   },
   {
    "duration": 16,
    "start_time": "2025-03-08T06:37:05.597Z"
   },
   {
    "duration": 9,
    "start_time": "2025-03-08T06:37:05.615Z"
   },
   {
    "duration": 47,
    "start_time": "2025-03-08T06:37:05.625Z"
   },
   {
    "duration": 8,
    "start_time": "2025-03-08T06:37:05.674Z"
   },
   {
    "duration": 5,
    "start_time": "2025-03-08T06:37:05.684Z"
   },
   {
    "duration": 0,
    "start_time": "2025-03-08T06:37:05.691Z"
   },
   {
    "duration": 0,
    "start_time": "2025-03-08T06:37:05.691Z"
   },
   {
    "duration": 0,
    "start_time": "2025-03-08T06:37:05.693Z"
   },
   {
    "duration": 0,
    "start_time": "2025-03-08T06:37:05.695Z"
   },
   {
    "duration": 0,
    "start_time": "2025-03-08T06:37:05.696Z"
   },
   {
    "duration": 0,
    "start_time": "2025-03-08T06:37:05.698Z"
   },
   {
    "duration": 0,
    "start_time": "2025-03-08T06:37:05.699Z"
   },
   {
    "duration": 0,
    "start_time": "2025-03-08T06:37:05.701Z"
   },
   {
    "duration": 0,
    "start_time": "2025-03-08T06:37:05.702Z"
   },
   {
    "duration": 0,
    "start_time": "2025-03-08T06:37:05.703Z"
   },
   {
    "duration": 0,
    "start_time": "2025-03-08T06:37:05.704Z"
   },
   {
    "duration": 0,
    "start_time": "2025-03-08T06:37:05.706Z"
   },
   {
    "duration": 0,
    "start_time": "2025-03-08T06:37:05.707Z"
   },
   {
    "duration": 0,
    "start_time": "2025-03-08T06:37:05.708Z"
   },
   {
    "duration": 0,
    "start_time": "2025-03-08T06:37:05.709Z"
   },
   {
    "duration": 0,
    "start_time": "2025-03-08T06:37:05.710Z"
   },
   {
    "duration": 0,
    "start_time": "2025-03-08T06:37:05.711Z"
   },
   {
    "duration": 0,
    "start_time": "2025-03-08T06:37:05.712Z"
   },
   {
    "duration": 0,
    "start_time": "2025-03-08T06:37:05.713Z"
   },
   {
    "duration": 0,
    "start_time": "2025-03-08T06:37:05.714Z"
   },
   {
    "duration": 0,
    "start_time": "2025-03-08T06:37:05.716Z"
   },
   {
    "duration": 0,
    "start_time": "2025-03-08T06:37:05.770Z"
   },
   {
    "duration": 0,
    "start_time": "2025-03-08T06:37:05.771Z"
   },
   {
    "duration": 0,
    "start_time": "2025-03-08T06:37:05.772Z"
   },
   {
    "duration": 0,
    "start_time": "2025-03-08T06:37:05.773Z"
   },
   {
    "duration": 0,
    "start_time": "2025-03-08T06:37:05.774Z"
   },
   {
    "duration": 0,
    "start_time": "2025-03-08T06:37:05.775Z"
   },
   {
    "duration": 0,
    "start_time": "2025-03-08T06:37:05.776Z"
   },
   {
    "duration": 0,
    "start_time": "2025-03-08T06:37:05.777Z"
   },
   {
    "duration": 226,
    "start_time": "2025-03-08T06:37:40.569Z"
   },
   {
    "duration": 7,
    "start_time": "2025-03-08T06:40:00.691Z"
   },
   {
    "duration": 826,
    "start_time": "2025-03-08T06:40:17.811Z"
   },
   {
    "duration": 2475,
    "start_time": "2025-03-08T14:01:03.102Z"
   },
   {
    "duration": 254,
    "start_time": "2025-03-08T14:01:05.579Z"
   },
   {
    "duration": 11,
    "start_time": "2025-03-08T14:01:05.834Z"
   },
   {
    "duration": 61,
    "start_time": "2025-03-08T14:01:05.848Z"
   },
   {
    "duration": 21,
    "start_time": "2025-03-08T14:01:05.911Z"
   },
   {
    "duration": 10,
    "start_time": "2025-03-08T14:01:05.933Z"
   },
   {
    "duration": 71,
    "start_time": "2025-03-08T14:01:05.945Z"
   },
   {
    "duration": 7,
    "start_time": "2025-03-08T14:01:06.032Z"
   },
   {
    "duration": 29,
    "start_time": "2025-03-08T14:01:06.041Z"
   },
   {
    "duration": 7,
    "start_time": "2025-03-08T14:01:06.074Z"
   },
   {
    "duration": 9,
    "start_time": "2025-03-08T14:01:06.082Z"
   },
   {
    "duration": 40,
    "start_time": "2025-03-08T14:01:06.092Z"
   },
   {
    "duration": 11,
    "start_time": "2025-03-08T14:01:06.135Z"
   },
   {
    "duration": 9,
    "start_time": "2025-03-08T14:01:06.148Z"
   },
   {
    "duration": 8,
    "start_time": "2025-03-08T14:01:06.159Z"
   },
   {
    "duration": 8,
    "start_time": "2025-03-08T14:01:06.169Z"
   },
   {
    "duration": 8,
    "start_time": "2025-03-08T14:01:06.179Z"
   },
   {
    "duration": 57,
    "start_time": "2025-03-08T14:01:06.189Z"
   },
   {
    "duration": 11,
    "start_time": "2025-03-08T14:01:06.247Z"
   },
   {
    "duration": 15,
    "start_time": "2025-03-08T14:01:06.259Z"
   },
   {
    "duration": 8,
    "start_time": "2025-03-08T14:01:06.276Z"
   },
   {
    "duration": 5,
    "start_time": "2025-03-08T14:01:06.286Z"
   },
   {
    "duration": 0,
    "start_time": "2025-03-08T14:01:06.295Z"
   },
   {
    "duration": 0,
    "start_time": "2025-03-08T14:01:06.296Z"
   },
   {
    "duration": 0,
    "start_time": "2025-03-08T14:01:06.298Z"
   },
   {
    "duration": 0,
    "start_time": "2025-03-08T14:01:06.299Z"
   },
   {
    "duration": 0,
    "start_time": "2025-03-08T14:01:06.300Z"
   },
   {
    "duration": 0,
    "start_time": "2025-03-08T14:01:06.332Z"
   },
   {
    "duration": 0,
    "start_time": "2025-03-08T14:01:06.333Z"
   },
   {
    "duration": 0,
    "start_time": "2025-03-08T14:01:06.334Z"
   },
   {
    "duration": 0,
    "start_time": "2025-03-08T14:01:06.336Z"
   },
   {
    "duration": 0,
    "start_time": "2025-03-08T14:01:06.337Z"
   },
   {
    "duration": 0,
    "start_time": "2025-03-08T14:01:06.338Z"
   },
   {
    "duration": 0,
    "start_time": "2025-03-08T14:01:06.339Z"
   },
   {
    "duration": 0,
    "start_time": "2025-03-08T14:01:06.340Z"
   },
   {
    "duration": 0,
    "start_time": "2025-03-08T14:01:06.341Z"
   },
   {
    "duration": 0,
    "start_time": "2025-03-08T14:01:06.342Z"
   },
   {
    "duration": 0,
    "start_time": "2025-03-08T14:01:06.343Z"
   },
   {
    "duration": 0,
    "start_time": "2025-03-08T14:01:06.344Z"
   },
   {
    "duration": 0,
    "start_time": "2025-03-08T14:01:06.345Z"
   },
   {
    "duration": 0,
    "start_time": "2025-03-08T14:01:06.346Z"
   },
   {
    "duration": 0,
    "start_time": "2025-03-08T14:01:06.347Z"
   },
   {
    "duration": 0,
    "start_time": "2025-03-08T14:01:06.348Z"
   },
   {
    "duration": 0,
    "start_time": "2025-03-08T14:01:06.350Z"
   },
   {
    "duration": 0,
    "start_time": "2025-03-08T14:01:06.351Z"
   },
   {
    "duration": 0,
    "start_time": "2025-03-08T14:01:06.353Z"
   },
   {
    "duration": 0,
    "start_time": "2025-03-08T14:01:06.354Z"
   },
   {
    "duration": 0,
    "start_time": "2025-03-08T14:01:06.355Z"
   },
   {
    "duration": 0,
    "start_time": "2025-03-08T14:01:06.357Z"
   },
   {
    "duration": 0,
    "start_time": "2025-03-08T14:01:06.358Z"
   },
   {
    "duration": 0,
    "start_time": "2025-03-08T14:01:06.359Z"
   },
   {
    "duration": 26,
    "start_time": "2025-03-08T14:04:20.209Z"
   },
   {
    "duration": 17,
    "start_time": "2025-03-08T14:04:34.932Z"
   },
   {
    "duration": 2,
    "start_time": "2025-03-08T14:04:49.669Z"
   },
   {
    "duration": 173,
    "start_time": "2025-03-08T14:04:49.673Z"
   },
   {
    "duration": 6,
    "start_time": "2025-03-08T14:04:49.848Z"
   },
   {
    "duration": 60,
    "start_time": "2025-03-08T14:04:49.856Z"
   },
   {
    "duration": 20,
    "start_time": "2025-03-08T14:04:49.918Z"
   },
   {
    "duration": 7,
    "start_time": "2025-03-08T14:04:49.939Z"
   },
   {
    "duration": 84,
    "start_time": "2025-03-08T14:04:49.947Z"
   },
   {
    "duration": 6,
    "start_time": "2025-03-08T14:04:50.033Z"
   },
   {
    "duration": 28,
    "start_time": "2025-03-08T14:04:50.042Z"
   },
   {
    "duration": 8,
    "start_time": "2025-03-08T14:04:50.072Z"
   },
   {
    "duration": 10,
    "start_time": "2025-03-08T14:04:50.081Z"
   },
   {
    "duration": 40,
    "start_time": "2025-03-08T14:04:50.092Z"
   },
   {
    "duration": 11,
    "start_time": "2025-03-08T14:04:50.134Z"
   },
   {
    "duration": 9,
    "start_time": "2025-03-08T14:04:50.148Z"
   },
   {
    "duration": 10,
    "start_time": "2025-03-08T14:04:50.158Z"
   },
   {
    "duration": 9,
    "start_time": "2025-03-08T14:04:50.170Z"
   },
   {
    "duration": 12,
    "start_time": "2025-03-08T14:04:50.181Z"
   },
   {
    "duration": 47,
    "start_time": "2025-03-08T14:04:50.197Z"
   },
   {
    "duration": 9,
    "start_time": "2025-03-08T14:04:50.246Z"
   },
   {
    "duration": 16,
    "start_time": "2025-03-08T14:04:50.256Z"
   },
   {
    "duration": 8,
    "start_time": "2025-03-08T14:04:50.274Z"
   },
   {
    "duration": 54,
    "start_time": "2025-03-08T14:04:50.283Z"
   },
   {
    "duration": 16,
    "start_time": "2025-03-08T14:04:50.338Z"
   },
   {
    "duration": 12,
    "start_time": "2025-03-08T14:04:50.359Z"
   },
   {
    "duration": 8,
    "start_time": "2025-03-08T14:04:50.372Z"
   },
   {
    "duration": 17,
    "start_time": "2025-03-08T14:04:50.381Z"
   },
   {
    "duration": 38,
    "start_time": "2025-03-08T14:04:50.400Z"
   },
   {
    "duration": 14,
    "start_time": "2025-03-08T14:04:50.440Z"
   },
   {
    "duration": 8,
    "start_time": "2025-03-08T14:04:50.455Z"
   },
   {
    "duration": 20,
    "start_time": "2025-03-08T14:04:50.465Z"
   },
   {
    "duration": 14,
    "start_time": "2025-03-08T14:04:50.487Z"
   },
   {
    "duration": 7,
    "start_time": "2025-03-08T14:04:50.531Z"
   },
   {
    "duration": 18,
    "start_time": "2025-03-08T14:04:50.540Z"
   },
   {
    "duration": 14,
    "start_time": "2025-03-08T14:04:50.560Z"
   },
   {
    "duration": 13,
    "start_time": "2025-03-08T14:04:50.576Z"
   },
   {
    "duration": 41,
    "start_time": "2025-03-08T14:04:50.591Z"
   },
   {
    "duration": 2,
    "start_time": "2025-03-08T14:04:50.634Z"
   },
   {
    "duration": 10,
    "start_time": "2025-03-08T14:04:50.637Z"
   },
   {
    "duration": 8,
    "start_time": "2025-03-08T14:04:50.648Z"
   },
   {
    "duration": 11,
    "start_time": "2025-03-08T14:04:50.658Z"
   },
   {
    "duration": 2,
    "start_time": "2025-03-08T14:04:50.671Z"
   },
   {
    "duration": 3,
    "start_time": "2025-03-08T14:04:50.676Z"
   },
   {
    "duration": 3,
    "start_time": "2025-03-08T14:04:50.680Z"
   },
   {
    "duration": 3,
    "start_time": "2025-03-08T14:04:50.685Z"
   },
   {
    "duration": 42,
    "start_time": "2025-03-08T14:04:50.689Z"
   },
   {
    "duration": 3,
    "start_time": "2025-03-08T14:04:50.733Z"
   },
   {
    "duration": 3,
    "start_time": "2025-03-08T14:04:50.737Z"
   },
   {
    "duration": 4,
    "start_time": "2025-03-08T14:04:50.742Z"
   },
   {
    "duration": 3,
    "start_time": "2025-03-08T14:04:50.747Z"
   },
   {
    "duration": 3,
    "start_time": "2025-03-08T14:04:50.752Z"
   },
   {
    "duration": 10,
    "start_time": "2025-03-08T14:21:02.299Z"
   },
   {
    "duration": 217,
    "start_time": "2025-03-08T14:25:08.039Z"
   },
   {
    "duration": 30,
    "start_time": "2025-03-08T14:25:19.477Z"
   },
   {
    "duration": 26,
    "start_time": "2025-03-08T14:26:51.669Z"
   },
   {
    "duration": 10,
    "start_time": "2025-03-08T14:27:56.819Z"
   },
   {
    "duration": 7,
    "start_time": "2025-03-08T14:33:49.859Z"
   },
   {
    "duration": 7,
    "start_time": "2025-03-08T14:34:03.547Z"
   },
   {
    "duration": 7,
    "start_time": "2025-03-08T14:34:06.357Z"
   },
   {
    "duration": 12,
    "start_time": "2025-03-08T14:34:56.258Z"
   },
   {
    "duration": 8,
    "start_time": "2025-03-08T14:34:59.595Z"
   },
   {
    "duration": 8,
    "start_time": "2025-03-08T14:37:43.844Z"
   },
   {
    "duration": 8,
    "start_time": "2025-03-08T14:37:53.266Z"
   },
   {
    "duration": 11,
    "start_time": "2025-03-08T14:38:04.327Z"
   },
   {
    "duration": 11,
    "start_time": "2025-03-08T14:45:33.932Z"
   },
   {
    "duration": 17,
    "start_time": "2025-03-08T14:45:59.212Z"
   },
   {
    "duration": 16,
    "start_time": "2025-03-08T14:46:02.375Z"
   },
   {
    "duration": 13,
    "start_time": "2025-03-08T14:46:06.831Z"
   },
   {
    "duration": 14,
    "start_time": "2025-03-08T14:46:15.659Z"
   },
   {
    "duration": 9,
    "start_time": "2025-03-08T14:46:23.859Z"
   },
   {
    "duration": 10,
    "start_time": "2025-03-08T14:46:30.827Z"
   },
   {
    "duration": 10,
    "start_time": "2025-03-08T14:46:46.277Z"
   },
   {
    "duration": 11,
    "start_time": "2025-03-08T14:48:33.418Z"
   },
   {
    "duration": 10,
    "start_time": "2025-03-08T14:48:39.695Z"
   },
   {
    "duration": 13,
    "start_time": "2025-03-08T14:49:01.740Z"
   },
   {
    "duration": 8,
    "start_time": "2025-03-08T14:49:05.019Z"
   },
   {
    "duration": 11,
    "start_time": "2025-03-08T14:49:18.737Z"
   },
   {
    "duration": 10,
    "start_time": "2025-03-08T14:53:23.424Z"
   },
   {
    "duration": 17,
    "start_time": "2025-03-08T14:53:43.190Z"
   },
   {
    "duration": 8,
    "start_time": "2025-03-08T14:56:23.762Z"
   },
   {
    "duration": 2499,
    "start_time": "2025-03-09T02:47:24.660Z"
   },
   {
    "duration": 208,
    "start_time": "2025-03-09T02:47:27.161Z"
   },
   {
    "duration": 10,
    "start_time": "2025-03-09T02:47:27.371Z"
   },
   {
    "duration": 61,
    "start_time": "2025-03-09T02:47:27.384Z"
   },
   {
    "duration": 8,
    "start_time": "2025-03-09T02:47:27.447Z"
   },
   {
    "duration": 7,
    "start_time": "2025-03-09T02:47:27.457Z"
   },
   {
    "duration": 86,
    "start_time": "2025-03-09T02:47:27.466Z"
   },
   {
    "duration": 6,
    "start_time": "2025-03-09T02:47:27.553Z"
   },
   {
    "duration": 45,
    "start_time": "2025-03-09T02:47:27.562Z"
   },
   {
    "duration": 6,
    "start_time": "2025-03-09T02:47:27.610Z"
   },
   {
    "duration": 9,
    "start_time": "2025-03-09T02:47:27.618Z"
   },
   {
    "duration": 8,
    "start_time": "2025-03-09T02:47:27.629Z"
   },
   {
    "duration": 9,
    "start_time": "2025-03-09T02:47:27.639Z"
   },
   {
    "duration": 44,
    "start_time": "2025-03-09T02:47:27.650Z"
   },
   {
    "duration": 8,
    "start_time": "2025-03-09T02:47:27.695Z"
   },
   {
    "duration": 8,
    "start_time": "2025-03-09T02:47:27.704Z"
   },
   {
    "duration": 9,
    "start_time": "2025-03-09T02:47:27.713Z"
   },
   {
    "duration": 16,
    "start_time": "2025-03-09T02:47:27.723Z"
   },
   {
    "duration": 9,
    "start_time": "2025-03-09T02:47:27.741Z"
   },
   {
    "duration": 47,
    "start_time": "2025-03-09T02:47:27.752Z"
   },
   {
    "duration": 8,
    "start_time": "2025-03-09T02:47:27.801Z"
   },
   {
    "duration": 24,
    "start_time": "2025-03-09T02:47:27.811Z"
   },
   {
    "duration": 16,
    "start_time": "2025-03-09T02:47:27.837Z"
   },
   {
    "duration": 36,
    "start_time": "2025-03-09T02:47:27.855Z"
   },
   {
    "duration": 8,
    "start_time": "2025-03-09T02:47:27.893Z"
   },
   {
    "duration": 18,
    "start_time": "2025-03-09T02:47:27.902Z"
   },
   {
    "duration": 12,
    "start_time": "2025-03-09T02:47:27.921Z"
   },
   {
    "duration": 13,
    "start_time": "2025-03-09T02:47:27.938Z"
   },
   {
    "duration": 42,
    "start_time": "2025-03-09T02:47:27.952Z"
   },
   {
    "duration": 20,
    "start_time": "2025-03-09T02:47:27.997Z"
   },
   {
    "duration": 14,
    "start_time": "2025-03-09T02:47:28.019Z"
   },
   {
    "duration": 7,
    "start_time": "2025-03-09T02:47:28.035Z"
   },
   {
    "duration": 45,
    "start_time": "2025-03-09T02:47:28.043Z"
   },
   {
    "duration": 14,
    "start_time": "2025-03-09T02:47:28.089Z"
   },
   {
    "duration": 12,
    "start_time": "2025-03-09T02:47:28.105Z"
   },
   {
    "duration": 16,
    "start_time": "2025-03-09T02:47:28.119Z"
   },
   {
    "duration": 6,
    "start_time": "2025-03-09T02:47:28.137Z"
   },
   {
    "duration": 8,
    "start_time": "2025-03-09T02:47:28.144Z"
   },
   {
    "duration": 35,
    "start_time": "2025-03-09T02:47:28.154Z"
   },
   {
    "duration": 10,
    "start_time": "2025-03-09T02:47:28.190Z"
   },
   {
    "duration": 8,
    "start_time": "2025-03-09T02:47:28.202Z"
   },
   {
    "duration": 9,
    "start_time": "2025-03-09T02:47:28.212Z"
   },
   {
    "duration": 12,
    "start_time": "2025-03-09T02:47:28.222Z"
   },
   {
    "duration": 8,
    "start_time": "2025-03-09T02:47:28.236Z"
   },
   {
    "duration": 44,
    "start_time": "2025-03-09T02:47:28.245Z"
   },
   {
    "duration": 11,
    "start_time": "2025-03-09T02:47:28.291Z"
   },
   {
    "duration": 8,
    "start_time": "2025-03-09T02:47:28.304Z"
   },
   {
    "duration": 2,
    "start_time": "2025-03-09T02:47:28.314Z"
   },
   {
    "duration": 3,
    "start_time": "2025-03-09T02:47:28.318Z"
   },
   {
    "duration": 4,
    "start_time": "2025-03-09T02:47:28.322Z"
   },
   {
    "duration": 4,
    "start_time": "2025-03-09T02:47:28.327Z"
   },
   {
    "duration": 2,
    "start_time": "2025-03-09T02:47:28.333Z"
   },
   {
    "duration": 3,
    "start_time": "2025-03-09T02:47:28.337Z"
   },
   {
    "duration": 3,
    "start_time": "2025-03-09T02:47:28.341Z"
   },
   {
    "duration": 41,
    "start_time": "2025-03-09T02:47:28.346Z"
   },
   {
    "duration": 2,
    "start_time": "2025-03-09T02:47:28.389Z"
   },
   {
    "duration": 3,
    "start_time": "2025-03-09T02:47:28.392Z"
   },
   {
    "duration": 13,
    "start_time": "2025-03-09T03:08:01.648Z"
   },
   {
    "duration": 13,
    "start_time": "2025-03-09T03:09:10.756Z"
   },
   {
    "duration": 13,
    "start_time": "2025-03-09T03:10:46.653Z"
   },
   {
    "duration": 5,
    "start_time": "2025-03-09T03:12:42.156Z"
   },
   {
    "duration": 11,
    "start_time": "2025-03-09T03:12:45.170Z"
   },
   {
    "duration": 11,
    "start_time": "2025-03-09T03:13:08.548Z"
   },
   {
    "duration": 10,
    "start_time": "2025-03-09T03:33:44.180Z"
   },
   {
    "duration": 12,
    "start_time": "2025-03-09T03:33:48.339Z"
   },
   {
    "duration": 216,
    "start_time": "2025-03-09T03:43:59.147Z"
   },
   {
    "duration": 2,
    "start_time": "2025-03-09T03:44:08.599Z"
   },
   {
    "duration": 6,
    "start_time": "2025-03-09T03:44:11.507Z"
   },
   {
    "duration": 14,
    "start_time": "2025-03-09T03:44:14.916Z"
   },
   {
    "duration": 2508,
    "start_time": "2025-03-09T11:18:03.846Z"
   },
   {
    "duration": 222,
    "start_time": "2025-03-09T11:18:06.356Z"
   },
   {
    "duration": 10,
    "start_time": "2025-03-09T11:18:06.579Z"
   },
   {
    "duration": 59,
    "start_time": "2025-03-09T11:18:06.591Z"
   },
   {
    "duration": 8,
    "start_time": "2025-03-09T11:18:06.651Z"
   },
   {
    "duration": 8,
    "start_time": "2025-03-09T11:18:06.660Z"
   },
   {
    "duration": 91,
    "start_time": "2025-03-09T11:18:06.669Z"
   },
   {
    "duration": 6,
    "start_time": "2025-03-09T11:18:06.761Z"
   },
   {
    "duration": 33,
    "start_time": "2025-03-09T11:18:06.768Z"
   },
   {
    "duration": 27,
    "start_time": "2025-03-09T11:18:06.805Z"
   },
   {
    "duration": 8,
    "start_time": "2025-03-09T11:18:06.834Z"
   },
   {
    "duration": 8,
    "start_time": "2025-03-09T11:18:06.844Z"
   },
   {
    "duration": 8,
    "start_time": "2025-03-09T11:18:06.854Z"
   },
   {
    "duration": 8,
    "start_time": "2025-03-09T11:18:06.864Z"
   },
   {
    "duration": 7,
    "start_time": "2025-03-09T11:18:06.873Z"
   },
   {
    "duration": 7,
    "start_time": "2025-03-09T11:18:06.882Z"
   },
   {
    "duration": 9,
    "start_time": "2025-03-09T11:18:06.930Z"
   },
   {
    "duration": 17,
    "start_time": "2025-03-09T11:18:06.940Z"
   },
   {
    "duration": 10,
    "start_time": "2025-03-09T11:18:06.959Z"
   },
   {
    "duration": 16,
    "start_time": "2025-03-09T11:18:06.970Z"
   },
   {
    "duration": 8,
    "start_time": "2025-03-09T11:18:06.988Z"
   },
   {
    "duration": 59,
    "start_time": "2025-03-09T11:18:06.997Z"
   },
   {
    "duration": 16,
    "start_time": "2025-03-09T11:18:07.058Z"
   },
   {
    "duration": 12,
    "start_time": "2025-03-09T11:18:07.076Z"
   },
   {
    "duration": 8,
    "start_time": "2025-03-09T11:18:07.089Z"
   },
   {
    "duration": 43,
    "start_time": "2025-03-09T11:18:07.099Z"
   },
   {
    "duration": 11,
    "start_time": "2025-03-09T11:18:07.144Z"
   },
   {
    "duration": 13,
    "start_time": "2025-03-09T11:18:07.160Z"
   },
   {
    "duration": 8,
    "start_time": "2025-03-09T11:18:07.175Z"
   },
   {
    "duration": 20,
    "start_time": "2025-03-09T11:18:07.185Z"
   },
   {
    "duration": 14,
    "start_time": "2025-03-09T11:18:07.231Z"
   },
   {
    "duration": 8,
    "start_time": "2025-03-09T11:18:07.246Z"
   },
   {
    "duration": 17,
    "start_time": "2025-03-09T11:18:07.256Z"
   },
   {
    "duration": 14,
    "start_time": "2025-03-09T11:18:07.275Z"
   },
   {
    "duration": 41,
    "start_time": "2025-03-09T11:18:07.290Z"
   },
   {
    "duration": 12,
    "start_time": "2025-03-09T11:18:07.333Z"
   },
   {
    "duration": 3,
    "start_time": "2025-03-09T11:18:07.346Z"
   },
   {
    "duration": 9,
    "start_time": "2025-03-09T11:18:07.350Z"
   },
   {
    "duration": 7,
    "start_time": "2025-03-09T11:18:07.361Z"
   },
   {
    "duration": 10,
    "start_time": "2025-03-09T11:18:07.369Z"
   },
   {
    "duration": 9,
    "start_time": "2025-03-09T11:18:07.380Z"
   },
   {
    "duration": 45,
    "start_time": "2025-03-09T11:18:07.390Z"
   },
   {
    "duration": 12,
    "start_time": "2025-03-09T11:18:07.437Z"
   },
   {
    "duration": 8,
    "start_time": "2025-03-09T11:18:07.451Z"
   },
   {
    "duration": 11,
    "start_time": "2025-03-09T11:18:07.460Z"
   },
   {
    "duration": 12,
    "start_time": "2025-03-09T11:18:07.473Z"
   },
   {
    "duration": 6,
    "start_time": "2025-03-09T11:18:07.486Z"
   },
   {
    "duration": 42,
    "start_time": "2025-03-09T11:18:07.493Z"
   },
   {
    "duration": 9,
    "start_time": "2025-03-09T11:18:07.537Z"
   },
   {
    "duration": 5,
    "start_time": "2025-03-09T11:18:07.548Z"
   },
   {
    "duration": 11,
    "start_time": "2025-03-09T11:18:07.555Z"
   },
   {
    "duration": 2,
    "start_time": "2025-03-09T11:18:07.569Z"
   },
   {
    "duration": 6,
    "start_time": "2025-03-09T11:18:07.572Z"
   },
   {
    "duration": 12,
    "start_time": "2025-03-09T11:18:07.580Z"
   },
   {
    "duration": 2,
    "start_time": "2025-03-09T11:18:07.594Z"
   },
   {
    "duration": 2,
    "start_time": "2025-03-09T11:18:07.631Z"
   },
   {
    "duration": 3,
    "start_time": "2025-03-09T11:18:07.635Z"
   },
   {
    "duration": 3,
    "start_time": "2025-03-09T11:18:07.639Z"
   },
   {
    "duration": 5,
    "start_time": "2025-03-09T11:18:07.643Z"
   },
   {
    "duration": 5,
    "start_time": "2025-03-09T11:18:07.650Z"
   },
   {
    "duration": 6,
    "start_time": "2025-03-09T11:18:07.657Z"
   },
   {
    "duration": 4,
    "start_time": "2025-03-09T11:18:07.669Z"
   },
   {
    "duration": 3,
    "start_time": "2025-03-09T11:18:07.675Z"
   },
   {
    "duration": 7,
    "start_time": "2025-03-09T11:27:42.404Z"
   },
   {
    "duration": 4,
    "start_time": "2025-03-09T11:28:11.809Z"
   },
   {
    "duration": 15,
    "start_time": "2025-03-09T11:42:28.434Z"
   },
   {
    "duration": 16,
    "start_time": "2025-03-09T11:42:47.847Z"
   },
   {
    "duration": 16,
    "start_time": "2025-03-09T11:43:04.434Z"
   },
   {
    "duration": 3,
    "start_time": "2025-03-09T11:50:41.045Z"
   },
   {
    "duration": 161,
    "start_time": "2025-03-09T11:50:41.050Z"
   },
   {
    "duration": 7,
    "start_time": "2025-03-09T11:50:41.329Z"
   },
   {
    "duration": 51,
    "start_time": "2025-03-09T11:50:41.338Z"
   },
   {
    "duration": 9,
    "start_time": "2025-03-09T11:50:41.842Z"
   },
   {
    "duration": 7,
    "start_time": "2025-03-09T11:50:41.852Z"
   },
   {
    "duration": 58,
    "start_time": "2025-03-09T11:50:41.861Z"
   },
   {
    "duration": 6,
    "start_time": "2025-03-09T11:50:41.931Z"
   },
   {
    "duration": 34,
    "start_time": "2025-03-09T11:50:41.940Z"
   },
   {
    "duration": 7,
    "start_time": "2025-03-09T11:50:41.976Z"
   },
   {
    "duration": 9,
    "start_time": "2025-03-09T11:50:41.984Z"
   },
   {
    "duration": 37,
    "start_time": "2025-03-09T11:50:41.994Z"
   },
   {
    "duration": 10,
    "start_time": "2025-03-09T11:50:42.798Z"
   },
   {
    "duration": 8,
    "start_time": "2025-03-09T11:50:42.810Z"
   },
   {
    "duration": 6,
    "start_time": "2025-03-09T11:50:42.820Z"
   },
   {
    "duration": 7,
    "start_time": "2025-03-09T11:50:42.828Z"
   },
   {
    "duration": 9,
    "start_time": "2025-03-09T11:50:42.837Z"
   },
   {
    "duration": 18,
    "start_time": "2025-03-09T11:50:42.847Z"
   },
   {
    "duration": 11,
    "start_time": "2025-03-09T11:50:43.915Z"
   },
   {
    "duration": 14,
    "start_time": "2025-03-09T11:50:43.930Z"
   },
   {
    "duration": 8,
    "start_time": "2025-03-09T11:50:43.946Z"
   },
   {
    "duration": 24,
    "start_time": "2025-03-09T11:50:43.956Z"
   },
   {
    "duration": 14,
    "start_time": "2025-03-09T11:50:43.983Z"
   },
   {
    "duration": 35,
    "start_time": "2025-03-09T11:50:43.999Z"
   },
   {
    "duration": 7,
    "start_time": "2025-03-09T11:50:44.036Z"
   },
   {
    "duration": 16,
    "start_time": "2025-03-09T11:50:44.045Z"
   },
   {
    "duration": 11,
    "start_time": "2025-03-09T11:50:44.063Z"
   },
   {
    "duration": 13,
    "start_time": "2025-03-09T11:50:44.076Z"
   },
   {
    "duration": 8,
    "start_time": "2025-03-09T11:50:45.242Z"
   },
   {
    "duration": 22,
    "start_time": "2025-03-09T11:50:45.252Z"
   },
   {
    "duration": 12,
    "start_time": "2025-03-09T11:50:45.276Z"
   },
   {
    "duration": 6,
    "start_time": "2025-03-09T11:50:45.290Z"
   },
   {
    "duration": 35,
    "start_time": "2025-03-09T11:50:45.298Z"
   },
   {
    "duration": 16,
    "start_time": "2025-03-09T11:50:45.335Z"
   },
   {
    "duration": 12,
    "start_time": "2025-03-09T11:50:46.292Z"
   },
   {
    "duration": 11,
    "start_time": "2025-03-09T11:50:46.307Z"
   },
   {
    "duration": 3,
    "start_time": "2025-03-09T11:50:46.319Z"
   },
   {
    "duration": 10,
    "start_time": "2025-03-09T11:50:46.323Z"
   },
   {
    "duration": 6,
    "start_time": "2025-03-09T11:50:46.335Z"
   },
   {
    "duration": 9,
    "start_time": "2025-03-09T11:50:46.342Z"
   },
   {
    "duration": 9,
    "start_time": "2025-03-09T11:50:46.352Z"
   },
   {
    "duration": 8,
    "start_time": "2025-03-09T11:50:46.363Z"
   },
   {
    "duration": 12,
    "start_time": "2025-03-09T11:50:47.385Z"
   },
   {
    "duration": 8,
    "start_time": "2025-03-09T11:50:47.399Z"
   },
   {
    "duration": 10,
    "start_time": "2025-03-09T11:50:47.411Z"
   },
   {
    "duration": 12,
    "start_time": "2025-03-09T11:50:47.423Z"
   },
   {
    "duration": 5,
    "start_time": "2025-03-09T11:50:47.437Z"
   },
   {
    "duration": 10,
    "start_time": "2025-03-09T11:50:47.445Z"
   },
   {
    "duration": 8,
    "start_time": "2025-03-09T11:50:47.457Z"
   },
   {
    "duration": 4,
    "start_time": "2025-03-09T11:50:47.467Z"
   },
   {
    "duration": 11,
    "start_time": "2025-03-09T11:50:47.473Z"
   },
   {
    "duration": 3,
    "start_time": "2025-03-09T11:50:47.486Z"
   },
   {
    "duration": 43,
    "start_time": "2025-03-09T11:50:47.490Z"
   },
   {
    "duration": 12,
    "start_time": "2025-03-09T11:50:48.054Z"
   },
   {
    "duration": 5,
    "start_time": "2025-03-09T11:50:48.069Z"
   },
   {
    "duration": 0,
    "start_time": "2025-03-09T11:50:48.075Z"
   },
   {
    "duration": 0,
    "start_time": "2025-03-09T11:50:48.077Z"
   },
   {
    "duration": 0,
    "start_time": "2025-03-09T11:50:48.077Z"
   },
   {
    "duration": 0,
    "start_time": "2025-03-09T11:50:48.078Z"
   },
   {
    "duration": 0,
    "start_time": "2025-03-09T11:50:48.079Z"
   },
   {
    "duration": 0,
    "start_time": "2025-03-09T11:50:48.080Z"
   },
   {
    "duration": 0,
    "start_time": "2025-03-09T11:50:48.081Z"
   },
   {
    "duration": 0,
    "start_time": "2025-03-09T11:50:48.082Z"
   },
   {
    "duration": 12,
    "start_time": "2025-03-09T12:02:26.835Z"
   },
   {
    "duration": 14,
    "start_time": "2025-03-09T12:06:55.381Z"
   },
   {
    "duration": 3,
    "start_time": "2025-03-09T12:10:43.658Z"
   },
   {
    "duration": 170,
    "start_time": "2025-03-09T12:10:43.666Z"
   },
   {
    "duration": 6,
    "start_time": "2025-03-09T12:10:43.838Z"
   },
   {
    "duration": 53,
    "start_time": "2025-03-09T12:10:43.846Z"
   },
   {
    "duration": 6,
    "start_time": "2025-03-09T12:10:43.902Z"
   },
   {
    "duration": 7,
    "start_time": "2025-03-09T12:10:43.932Z"
   },
   {
    "duration": 60,
    "start_time": "2025-03-09T12:10:43.941Z"
   },
   {
    "duration": 30,
    "start_time": "2025-03-09T12:10:44.002Z"
   },
   {
    "duration": 30,
    "start_time": "2025-03-09T12:10:44.034Z"
   },
   {
    "duration": 7,
    "start_time": "2025-03-09T12:10:44.066Z"
   },
   {
    "duration": 7,
    "start_time": "2025-03-09T12:10:44.077Z"
   },
   {
    "duration": 8,
    "start_time": "2025-03-09T12:10:44.086Z"
   },
   {
    "duration": 37,
    "start_time": "2025-03-09T12:10:44.096Z"
   },
   {
    "duration": 7,
    "start_time": "2025-03-09T12:10:44.137Z"
   },
   {
    "duration": 7,
    "start_time": "2025-03-09T12:10:44.146Z"
   },
   {
    "duration": 9,
    "start_time": "2025-03-09T12:10:44.155Z"
   },
   {
    "duration": 9,
    "start_time": "2025-03-09T12:10:44.166Z"
   },
   {
    "duration": 55,
    "start_time": "2025-03-09T12:10:44.177Z"
   },
   {
    "duration": 11,
    "start_time": "2025-03-09T12:10:44.234Z"
   },
   {
    "duration": 15,
    "start_time": "2025-03-09T12:10:44.246Z"
   },
   {
    "duration": 8,
    "start_time": "2025-03-09T12:10:44.263Z"
   },
   {
    "duration": 25,
    "start_time": "2025-03-09T12:10:44.273Z"
   },
   {
    "duration": 43,
    "start_time": "2025-03-09T12:10:44.301Z"
   },
   {
    "duration": 12,
    "start_time": "2025-03-09T12:10:44.346Z"
   },
   {
    "duration": 7,
    "start_time": "2025-03-09T12:10:44.359Z"
   },
   {
    "duration": 18,
    "start_time": "2025-03-09T12:10:44.367Z"
   },
   {
    "duration": 12,
    "start_time": "2025-03-09T12:10:44.386Z"
   },
   {
    "duration": 43,
    "start_time": "2025-03-09T12:10:44.400Z"
   },
   {
    "duration": 9,
    "start_time": "2025-03-09T12:10:44.448Z"
   },
   {
    "duration": 26,
    "start_time": "2025-03-09T12:10:44.459Z"
   },
   {
    "duration": 14,
    "start_time": "2025-03-09T12:10:44.486Z"
   },
   {
    "duration": 34,
    "start_time": "2025-03-09T12:10:44.502Z"
   },
   {
    "duration": 22,
    "start_time": "2025-03-09T12:10:44.537Z"
   },
   {
    "duration": 15,
    "start_time": "2025-03-09T12:10:44.560Z"
   },
   {
    "duration": 13,
    "start_time": "2025-03-09T12:10:44.577Z"
   },
   {
    "duration": 43,
    "start_time": "2025-03-09T12:10:44.592Z"
   },
   {
    "duration": 3,
    "start_time": "2025-03-09T12:10:44.636Z"
   },
   {
    "duration": 9,
    "start_time": "2025-03-09T12:10:44.640Z"
   },
   {
    "duration": 7,
    "start_time": "2025-03-09T12:10:44.651Z"
   },
   {
    "duration": 9,
    "start_time": "2025-03-09T12:10:44.659Z"
   },
   {
    "duration": 9,
    "start_time": "2025-03-09T12:10:44.669Z"
   },
   {
    "duration": 10,
    "start_time": "2025-03-09T12:10:44.680Z"
   },
   {
    "duration": 50,
    "start_time": "2025-03-09T12:10:44.691Z"
   },
   {
    "duration": 8,
    "start_time": "2025-03-09T12:10:44.743Z"
   },
   {
    "duration": 11,
    "start_time": "2025-03-09T12:10:44.752Z"
   },
   {
    "duration": 14,
    "start_time": "2025-03-09T12:10:44.765Z"
   },
   {
    "duration": 6,
    "start_time": "2025-03-09T12:10:44.780Z"
   },
   {
    "duration": 11,
    "start_time": "2025-03-09T12:10:44.787Z"
   },
   {
    "duration": 11,
    "start_time": "2025-03-09T12:10:44.831Z"
   },
   {
    "duration": 4,
    "start_time": "2025-03-09T12:10:44.844Z"
   },
   {
    "duration": 12,
    "start_time": "2025-03-09T12:10:44.850Z"
   },
   {
    "duration": 3,
    "start_time": "2025-03-09T12:10:44.863Z"
   },
   {
    "duration": 6,
    "start_time": "2025-03-09T12:10:44.868Z"
   },
   {
    "duration": 14,
    "start_time": "2025-03-09T12:10:44.875Z"
   },
   {
    "duration": 40,
    "start_time": "2025-03-09T12:10:44.891Z"
   },
   {
    "duration": 0,
    "start_time": "2025-03-09T12:10:44.933Z"
   },
   {
    "duration": 0,
    "start_time": "2025-03-09T12:10:44.934Z"
   },
   {
    "duration": 0,
    "start_time": "2025-03-09T12:10:44.935Z"
   },
   {
    "duration": 0,
    "start_time": "2025-03-09T12:10:44.936Z"
   },
   {
    "duration": 0,
    "start_time": "2025-03-09T12:10:44.937Z"
   },
   {
    "duration": 0,
    "start_time": "2025-03-09T12:10:44.938Z"
   },
   {
    "duration": 0,
    "start_time": "2025-03-09T12:10:44.939Z"
   },
   {
    "duration": 0,
    "start_time": "2025-03-09T12:10:44.940Z"
   },
   {
    "duration": 640,
    "start_time": "2025-03-09T12:15:08.228Z"
   },
   {
    "duration": 5,
    "start_time": "2025-03-09T12:17:39.052Z"
   },
   {
    "duration": 13,
    "start_time": "2025-03-09T12:17:56.482Z"
   },
   {
    "duration": 124,
    "start_time": "2025-03-09T12:38:52.452Z"
   },
   {
    "duration": 189,
    "start_time": "2025-03-09T12:39:15.493Z"
   },
   {
    "duration": 115,
    "start_time": "2025-03-09T12:39:38.376Z"
   },
   {
    "duration": 124,
    "start_time": "2025-03-09T12:39:54.131Z"
   },
   {
    "duration": 158,
    "start_time": "2025-03-09T12:48:23.568Z"
   },
   {
    "duration": 193,
    "start_time": "2025-03-09T12:51:12.481Z"
   },
   {
    "duration": 224,
    "start_time": "2025-03-09T12:55:41.057Z"
   },
   {
    "duration": 283,
    "start_time": "2025-03-09T12:56:19.256Z"
   },
   {
    "duration": 2,
    "start_time": "2025-03-09T12:58:46.328Z"
   },
   {
    "duration": 2,
    "start_time": "2025-03-09T12:59:06.507Z"
   },
   {
    "duration": 313,
    "start_time": "2025-03-09T13:01:11.396Z"
   },
   {
    "duration": 182,
    "start_time": "2025-03-09T13:16:27.191Z"
   },
   {
    "duration": 204,
    "start_time": "2025-03-09T13:19:09.837Z"
   },
   {
    "duration": 12,
    "start_time": "2025-03-09T13:28:53.125Z"
   },
   {
    "duration": 137,
    "start_time": "2025-03-09T13:29:46.860Z"
   },
   {
    "duration": 149,
    "start_time": "2025-03-09T13:37:49.191Z"
   },
   {
    "duration": 223,
    "start_time": "2025-03-09T13:41:56.682Z"
   },
   {
    "duration": 166,
    "start_time": "2025-03-09T15:17:21.393Z"
   },
   {
    "duration": 2791,
    "start_time": "2025-03-09T15:17:40.698Z"
   },
   {
    "duration": 229,
    "start_time": "2025-03-09T15:17:43.492Z"
   },
   {
    "duration": 11,
    "start_time": "2025-03-09T15:17:43.723Z"
   },
   {
    "duration": 60,
    "start_time": "2025-03-09T15:17:43.737Z"
   },
   {
    "duration": 9,
    "start_time": "2025-03-09T15:17:43.799Z"
   },
   {
    "duration": 7,
    "start_time": "2025-03-09T15:17:43.809Z"
   },
   {
    "duration": 70,
    "start_time": "2025-03-09T15:17:43.818Z"
   },
   {
    "duration": 6,
    "start_time": "2025-03-09T15:17:43.906Z"
   },
   {
    "duration": 35,
    "start_time": "2025-03-09T15:17:43.914Z"
   },
   {
    "duration": 6,
    "start_time": "2025-03-09T15:17:43.953Z"
   },
   {
    "duration": 9,
    "start_time": "2025-03-09T15:17:43.961Z"
   },
   {
    "duration": 40,
    "start_time": "2025-03-09T15:17:43.971Z"
   },
   {
    "duration": 13,
    "start_time": "2025-03-09T15:17:44.012Z"
   },
   {
    "duration": 9,
    "start_time": "2025-03-09T15:17:44.027Z"
   },
   {
    "duration": 8,
    "start_time": "2025-03-09T15:17:44.038Z"
   },
   {
    "duration": 10,
    "start_time": "2025-03-09T15:17:44.048Z"
   },
   {
    "duration": 45,
    "start_time": "2025-03-09T15:17:44.060Z"
   },
   {
    "duration": 21,
    "start_time": "2025-03-09T15:17:44.108Z"
   },
   {
    "duration": 22,
    "start_time": "2025-03-09T15:17:44.131Z"
   },
   {
    "duration": 22,
    "start_time": "2025-03-09T15:17:44.155Z"
   },
   {
    "duration": 11,
    "start_time": "2025-03-09T15:17:44.179Z"
   },
   {
    "duration": 43,
    "start_time": "2025-03-09T15:17:44.192Z"
   },
   {
    "duration": 21,
    "start_time": "2025-03-09T15:17:44.237Z"
   },
   {
    "duration": 14,
    "start_time": "2025-03-09T15:17:44.260Z"
   },
   {
    "duration": 30,
    "start_time": "2025-03-09T15:17:44.275Z"
   },
   {
    "duration": 24,
    "start_time": "2025-03-09T15:17:44.307Z"
   },
   {
    "duration": 12,
    "start_time": "2025-03-09T15:17:44.335Z"
   },
   {
    "duration": 14,
    "start_time": "2025-03-09T15:17:44.353Z"
   },
   {
    "duration": 36,
    "start_time": "2025-03-09T15:17:44.369Z"
   },
   {
    "duration": 33,
    "start_time": "2025-03-09T15:17:44.407Z"
   },
   {
    "duration": 15,
    "start_time": "2025-03-09T15:17:44.442Z"
   },
   {
    "duration": 8,
    "start_time": "2025-03-09T15:17:44.459Z"
   },
   {
    "duration": 48,
    "start_time": "2025-03-09T15:17:44.469Z"
   },
   {
    "duration": 16,
    "start_time": "2025-03-09T15:17:44.519Z"
   },
   {
    "duration": 16,
    "start_time": "2025-03-09T15:17:44.537Z"
   },
   {
    "duration": 15,
    "start_time": "2025-03-09T15:17:44.555Z"
   },
   {
    "duration": 2,
    "start_time": "2025-03-09T15:17:44.571Z"
   },
   {
    "duration": 10,
    "start_time": "2025-03-09T15:17:44.604Z"
   },
   {
    "duration": 7,
    "start_time": "2025-03-09T15:17:44.617Z"
   },
   {
    "duration": 12,
    "start_time": "2025-03-09T15:17:44.625Z"
   },
   {
    "duration": 11,
    "start_time": "2025-03-09T15:17:44.639Z"
   },
   {
    "duration": 10,
    "start_time": "2025-03-09T15:17:44.652Z"
   },
   {
    "duration": 44,
    "start_time": "2025-03-09T15:17:44.664Z"
   },
   {
    "duration": 16,
    "start_time": "2025-03-09T15:17:44.711Z"
   },
   {
    "duration": 14,
    "start_time": "2025-03-09T15:17:44.729Z"
   },
   {
    "duration": 17,
    "start_time": "2025-03-09T15:17:44.745Z"
   },
   {
    "duration": 6,
    "start_time": "2025-03-09T15:17:44.763Z"
   },
   {
    "duration": 11,
    "start_time": "2025-03-09T15:17:44.771Z"
   },
   {
    "duration": 13,
    "start_time": "2025-03-09T15:17:44.807Z"
   },
   {
    "duration": 5,
    "start_time": "2025-03-09T15:17:44.822Z"
   },
   {
    "duration": 16,
    "start_time": "2025-03-09T15:17:44.829Z"
   },
   {
    "duration": 3,
    "start_time": "2025-03-09T15:17:44.846Z"
   },
   {
    "duration": 7,
    "start_time": "2025-03-09T15:17:44.851Z"
   },
   {
    "duration": 18,
    "start_time": "2025-03-09T15:17:44.860Z"
   },
   {
    "duration": 5,
    "start_time": "2025-03-09T15:17:44.905Z"
   },
   {
    "duration": 14,
    "start_time": "2025-03-09T15:17:44.912Z"
   },
   {
    "duration": 257,
    "start_time": "2025-03-09T15:17:44.928Z"
   },
   {
    "duration": 199,
    "start_time": "2025-03-09T15:17:45.187Z"
   },
   {
    "duration": 19,
    "start_time": "2025-03-09T15:17:45.388Z"
   },
   {
    "duration": 149,
    "start_time": "2025-03-09T15:17:45.409Z"
   },
   {
    "duration": 261,
    "start_time": "2025-03-09T15:17:45.560Z"
   },
   {
    "duration": 11,
    "start_time": "2025-03-09T15:17:45.823Z"
   },
   {
    "duration": 2,
    "start_time": "2025-03-09T15:17:45.837Z"
   },
   {
    "duration": 3,
    "start_time": "2025-03-09T15:17:45.841Z"
   },
   {
    "duration": 201,
    "start_time": "2025-03-09T15:20:13.025Z"
   },
   {
    "duration": 230,
    "start_time": "2025-03-09T15:26:30.100Z"
   },
   {
    "duration": 236,
    "start_time": "2025-03-09T15:28:22.054Z"
   },
   {
    "duration": 11,
    "start_time": "2025-03-09T15:33:38.694Z"
   },
   {
    "duration": 153,
    "start_time": "2025-03-09T15:34:52.110Z"
   },
   {
    "duration": 258,
    "start_time": "2025-03-09T15:41:05.573Z"
   },
   {
    "duration": 12,
    "start_time": "2025-03-09T15:47:09.617Z"
   },
   {
    "duration": 171,
    "start_time": "2025-03-09T15:48:31.187Z"
   },
   {
    "duration": 11,
    "start_time": "2025-03-09T16:13:21.610Z"
   },
   {
    "duration": 15,
    "start_time": "2025-03-09T16:13:25.569Z"
   },
   {
    "duration": 6,
    "start_time": "2025-03-09T16:23:29.121Z"
   },
   {
    "duration": 5,
    "start_time": "2025-03-09T16:25:28.979Z"
   },
   {
    "duration": 8,
    "start_time": "2025-03-09T16:26:13.010Z"
   },
   {
    "duration": 6,
    "start_time": "2025-03-09T16:26:32.860Z"
   },
   {
    "duration": 7,
    "start_time": "2025-03-09T16:27:14.408Z"
   },
   {
    "duration": 7,
    "start_time": "2025-03-09T16:27:54.213Z"
   },
   {
    "duration": 7,
    "start_time": "2025-03-09T16:29:59.697Z"
   },
   {
    "duration": 522,
    "start_time": "2025-03-09T16:36:36.406Z"
   },
   {
    "duration": 60,
    "start_time": "2025-03-09T16:36:49.163Z"
   },
   {
    "duration": 6,
    "start_time": "2025-03-09T16:37:35.791Z"
   },
   {
    "duration": 4,
    "start_time": "2025-03-09T16:38:15.400Z"
   },
   {
    "duration": 23,
    "start_time": "2025-03-09T16:38:58.769Z"
   },
   {
    "duration": 27,
    "start_time": "2025-03-09T16:39:29.961Z"
   },
   {
    "duration": 6,
    "start_time": "2025-03-09T16:40:12.373Z"
   },
   {
    "duration": 6,
    "start_time": "2025-03-09T16:40:38.183Z"
   },
   {
    "duration": 16,
    "start_time": "2025-03-09T19:32:03.433Z"
   },
   {
    "duration": 15,
    "start_time": "2025-03-09T19:32:18.606Z"
   },
   {
    "duration": 16,
    "start_time": "2025-03-09T19:32:33.981Z"
   },
   {
    "duration": 16,
    "start_time": "2025-03-09T19:34:46.185Z"
   },
   {
    "duration": 13,
    "start_time": "2025-03-09T19:35:16.882Z"
   },
   {
    "duration": 12,
    "start_time": "2025-03-09T19:37:15.593Z"
   },
   {
    "duration": 8,
    "start_time": "2025-03-09T19:41:10.743Z"
   },
   {
    "duration": 9,
    "start_time": "2025-03-09T19:45:36.204Z"
   },
   {
    "duration": 2700,
    "start_time": "2025-03-10T16:39:16.411Z"
   },
   {
    "duration": 241,
    "start_time": "2025-03-10T16:39:19.114Z"
   },
   {
    "duration": 11,
    "start_time": "2025-03-10T16:39:19.358Z"
   },
   {
    "duration": 68,
    "start_time": "2025-03-10T16:39:19.371Z"
   },
   {
    "duration": 14,
    "start_time": "2025-03-10T16:39:19.441Z"
   },
   {
    "duration": 6,
    "start_time": "2025-03-10T16:39:19.457Z"
   },
   {
    "duration": 95,
    "start_time": "2025-03-10T16:39:19.465Z"
   },
   {
    "duration": 13,
    "start_time": "2025-03-10T16:39:19.563Z"
   },
   {
    "duration": 6,
    "start_time": "2025-03-10T16:39:19.578Z"
   },
   {
    "duration": 35,
    "start_time": "2025-03-10T16:39:19.606Z"
   },
   {
    "duration": 10,
    "start_time": "2025-03-10T16:39:19.643Z"
   },
   {
    "duration": 9,
    "start_time": "2025-03-10T16:39:19.655Z"
   },
   {
    "duration": 9,
    "start_time": "2025-03-10T16:39:19.665Z"
   },
   {
    "duration": 10,
    "start_time": "2025-03-10T16:39:19.705Z"
   },
   {
    "duration": 7,
    "start_time": "2025-03-10T16:39:19.718Z"
   },
   {
    "duration": 10,
    "start_time": "2025-03-10T16:39:19.727Z"
   },
   {
    "duration": 8,
    "start_time": "2025-03-10T16:39:19.738Z"
   },
   {
    "duration": 8,
    "start_time": "2025-03-10T16:39:19.748Z"
   },
   {
    "duration": 47,
    "start_time": "2025-03-10T16:39:19.759Z"
   },
   {
    "duration": 19,
    "start_time": "2025-03-10T16:39:19.808Z"
   },
   {
    "duration": 11,
    "start_time": "2025-03-10T16:39:19.829Z"
   },
   {
    "duration": 16,
    "start_time": "2025-03-10T16:39:19.842Z"
   },
   {
    "duration": 8,
    "start_time": "2025-03-10T16:39:19.860Z"
   },
   {
    "duration": 60,
    "start_time": "2025-03-10T16:39:19.870Z"
   },
   {
    "duration": 18,
    "start_time": "2025-03-10T16:39:19.931Z"
   },
   {
    "duration": 12,
    "start_time": "2025-03-10T16:39:19.950Z"
   },
   {
    "duration": 7,
    "start_time": "2025-03-10T16:39:19.963Z"
   },
   {
    "duration": 42,
    "start_time": "2025-03-10T16:39:19.976Z"
   },
   {
    "duration": 12,
    "start_time": "2025-03-10T16:39:20.022Z"
   },
   {
    "duration": 13,
    "start_time": "2025-03-10T16:39:20.036Z"
   },
   {
    "duration": 9,
    "start_time": "2025-03-10T16:39:20.051Z"
   },
   {
    "duration": 51,
    "start_time": "2025-03-10T16:39:20.062Z"
   },
   {
    "duration": 14,
    "start_time": "2025-03-10T16:39:20.115Z"
   },
   {
    "duration": 7,
    "start_time": "2025-03-10T16:39:20.131Z"
   },
   {
    "duration": 18,
    "start_time": "2025-03-10T16:39:20.140Z"
   },
   {
    "duration": 16,
    "start_time": "2025-03-10T16:39:20.160Z"
   },
   {
    "duration": 14,
    "start_time": "2025-03-10T16:39:20.206Z"
   },
   {
    "duration": 14,
    "start_time": "2025-03-10T16:39:20.222Z"
   },
   {
    "duration": 8,
    "start_time": "2025-03-10T16:39:20.238Z"
   },
   {
    "duration": 7,
    "start_time": "2025-03-10T16:39:20.248Z"
   },
   {
    "duration": 11,
    "start_time": "2025-03-10T16:39:20.257Z"
   },
   {
    "duration": 44,
    "start_time": "2025-03-10T16:39:20.269Z"
   },
   {
    "duration": 12,
    "start_time": "2025-03-10T16:39:20.314Z"
   },
   {
    "duration": 12,
    "start_time": "2025-03-10T16:39:20.328Z"
   },
   {
    "duration": 8,
    "start_time": "2025-03-10T16:39:20.342Z"
   },
   {
    "duration": 11,
    "start_time": "2025-03-10T16:39:20.352Z"
   },
   {
    "duration": 47,
    "start_time": "2025-03-10T16:39:20.365Z"
   },
   {
    "duration": 7,
    "start_time": "2025-03-10T16:39:20.415Z"
   },
   {
    "duration": 13,
    "start_time": "2025-03-10T16:39:20.423Z"
   },
   {
    "duration": 12,
    "start_time": "2025-03-10T16:39:20.439Z"
   },
   {
    "duration": 5,
    "start_time": "2025-03-10T16:39:20.455Z"
   },
   {
    "duration": 48,
    "start_time": "2025-03-10T16:39:20.462Z"
   },
   {
    "duration": 3,
    "start_time": "2025-03-10T16:39:20.512Z"
   },
   {
    "duration": 6,
    "start_time": "2025-03-10T16:39:20.516Z"
   },
   {
    "duration": 14,
    "start_time": "2025-03-10T16:39:20.524Z"
   },
   {
    "duration": 4,
    "start_time": "2025-03-10T16:39:20.541Z"
   },
   {
    "duration": 13,
    "start_time": "2025-03-10T16:39:20.547Z"
   },
   {
    "duration": 272,
    "start_time": "2025-03-10T16:39:20.562Z"
   },
   {
    "duration": 199,
    "start_time": "2025-03-10T16:39:20.836Z"
   },
   {
    "duration": 12,
    "start_time": "2025-03-10T16:39:21.038Z"
   },
   {
    "duration": 156,
    "start_time": "2025-03-10T16:39:21.052Z"
   },
   {
    "duration": 306,
    "start_time": "2025-03-10T16:39:21.210Z"
   },
   {
    "duration": 19,
    "start_time": "2025-03-10T16:39:21.518Z"
   },
   {
    "duration": 149,
    "start_time": "2025-03-10T16:39:21.539Z"
   },
   {
    "duration": 241,
    "start_time": "2025-03-10T16:39:21.693Z"
   },
   {
    "duration": 11,
    "start_time": "2025-03-10T16:39:21.936Z"
   },
   {
    "duration": 156,
    "start_time": "2025-03-10T16:39:21.949Z"
   },
   {
    "duration": 276,
    "start_time": "2025-03-10T16:39:22.107Z"
   },
   {
    "duration": 22,
    "start_time": "2025-03-10T16:39:22.385Z"
   },
   {
    "duration": 152,
    "start_time": "2025-03-10T16:39:22.409Z"
   },
   {
    "duration": 324,
    "start_time": "2025-03-10T16:39:22.564Z"
   },
   {
    "duration": 0,
    "start_time": "2025-03-10T16:39:22.890Z"
   },
   {
    "duration": 6,
    "start_time": "2025-03-10T16:42:49.130Z"
   },
   {
    "duration": 18,
    "start_time": "2025-03-10T16:53:20.166Z"
   },
   {
    "duration": 17,
    "start_time": "2025-03-10T16:53:23.757Z"
   },
   {
    "duration": 28,
    "start_time": "2025-03-10T16:53:31.096Z"
   },
   {
    "duration": 7,
    "start_time": "2025-03-10T16:53:43.141Z"
   },
   {
    "duration": 7,
    "start_time": "2025-03-10T16:53:54.402Z"
   },
   {
    "duration": 18,
    "start_time": "2025-03-10T16:53:59.199Z"
   },
   {
    "duration": 5,
    "start_time": "2025-03-10T16:54:40.910Z"
   },
   {
    "duration": 18,
    "start_time": "2025-03-10T16:54:48.231Z"
   },
   {
    "duration": 4,
    "start_time": "2025-03-10T16:55:04.079Z"
   },
   {
    "duration": 2984,
    "start_time": "2025-03-11T02:45:05.433Z"
   },
   {
    "duration": 253,
    "start_time": "2025-03-11T02:45:08.420Z"
   },
   {
    "duration": 11,
    "start_time": "2025-03-11T02:45:08.676Z"
   },
   {
    "duration": 75,
    "start_time": "2025-03-11T02:45:08.691Z"
   },
   {
    "duration": 16,
    "start_time": "2025-03-11T02:45:08.770Z"
   },
   {
    "duration": 19,
    "start_time": "2025-03-11T02:45:08.788Z"
   },
   {
    "duration": 83,
    "start_time": "2025-03-11T02:45:08.809Z"
   },
   {
    "duration": 24,
    "start_time": "2025-03-11T02:45:08.894Z"
   },
   {
    "duration": 6,
    "start_time": "2025-03-11T02:45:08.920Z"
   },
   {
    "duration": 37,
    "start_time": "2025-03-11T02:45:08.928Z"
   },
   {
    "duration": 39,
    "start_time": "2025-03-11T02:45:08.967Z"
   },
   {
    "duration": 14,
    "start_time": "2025-03-11T02:45:09.008Z"
   },
   {
    "duration": 11,
    "start_time": "2025-03-11T02:45:09.024Z"
   },
   {
    "duration": 11,
    "start_time": "2025-03-11T02:45:09.040Z"
   },
   {
    "duration": 9,
    "start_time": "2025-03-11T02:45:09.053Z"
   },
   {
    "duration": 43,
    "start_time": "2025-03-11T02:45:09.064Z"
   },
   {
    "duration": 12,
    "start_time": "2025-03-11T02:45:09.109Z"
   },
   {
    "duration": 10,
    "start_time": "2025-03-11T02:45:09.123Z"
   },
   {
    "duration": 11,
    "start_time": "2025-03-11T02:45:09.135Z"
   },
   {
    "duration": 23,
    "start_time": "2025-03-11T02:45:09.148Z"
   },
   {
    "duration": 42,
    "start_time": "2025-03-11T02:45:09.173Z"
   },
   {
    "duration": 23,
    "start_time": "2025-03-11T02:45:09.217Z"
   },
   {
    "duration": 12,
    "start_time": "2025-03-11T02:45:09.242Z"
   },
   {
    "duration": 62,
    "start_time": "2025-03-11T02:45:09.256Z"
   },
   {
    "duration": 22,
    "start_time": "2025-03-11T02:45:09.320Z"
   },
   {
    "duration": 15,
    "start_time": "2025-03-11T02:45:09.344Z"
   },
   {
    "duration": 10,
    "start_time": "2025-03-11T02:45:09.361Z"
   },
   {
    "duration": 42,
    "start_time": "2025-03-11T02:45:09.374Z"
   },
   {
    "duration": 15,
    "start_time": "2025-03-11T02:45:09.420Z"
   },
   {
    "duration": 19,
    "start_time": "2025-03-11T02:45:09.437Z"
   },
   {
    "duration": 11,
    "start_time": "2025-03-11T02:45:09.458Z"
   },
   {
    "duration": 44,
    "start_time": "2025-03-11T02:45:09.471Z"
   },
   {
    "duration": 19,
    "start_time": "2025-03-11T02:45:09.517Z"
   },
   {
    "duration": 8,
    "start_time": "2025-03-11T02:45:09.538Z"
   },
   {
    "duration": 24,
    "start_time": "2025-03-11T02:45:09.549Z"
   },
   {
    "duration": 47,
    "start_time": "2025-03-11T02:45:09.575Z"
   },
   {
    "duration": 15,
    "start_time": "2025-03-11T02:45:09.624Z"
   },
   {
    "duration": 14,
    "start_time": "2025-03-11T02:45:09.641Z"
   },
   {
    "duration": 8,
    "start_time": "2025-03-11T02:45:09.657Z"
   },
   {
    "duration": 39,
    "start_time": "2025-03-11T02:45:09.667Z"
   },
   {
    "duration": 12,
    "start_time": "2025-03-11T02:45:09.714Z"
   },
   {
    "duration": 12,
    "start_time": "2025-03-11T02:45:09.728Z"
   },
   {
    "duration": 12,
    "start_time": "2025-03-11T02:45:09.742Z"
   },
   {
    "duration": 12,
    "start_time": "2025-03-11T02:45:09.756Z"
   },
   {
    "duration": 44,
    "start_time": "2025-03-11T02:45:09.770Z"
   },
   {
    "duration": 17,
    "start_time": "2025-03-11T02:45:09.816Z"
   },
   {
    "duration": 21,
    "start_time": "2025-03-11T02:45:09.836Z"
   },
   {
    "duration": 7,
    "start_time": "2025-03-11T02:45:09.859Z"
   },
   {
    "duration": 12,
    "start_time": "2025-03-11T02:45:09.868Z"
   },
   {
    "duration": 11,
    "start_time": "2025-03-11T02:45:09.906Z"
   },
   {
    "duration": 5,
    "start_time": "2025-03-11T02:45:09.918Z"
   },
   {
    "duration": 14,
    "start_time": "2025-03-11T02:45:09.925Z"
   },
   {
    "duration": 4,
    "start_time": "2025-03-11T02:45:09.941Z"
   },
   {
    "duration": 7,
    "start_time": "2025-03-11T02:45:09.948Z"
   },
   {
    "duration": 49,
    "start_time": "2025-03-11T02:45:09.957Z"
   },
   {
    "duration": 6,
    "start_time": "2025-03-11T02:45:10.009Z"
   },
   {
    "duration": 17,
    "start_time": "2025-03-11T02:45:10.017Z"
   },
   {
    "duration": 306,
    "start_time": "2025-03-11T02:45:10.037Z"
   },
   {
    "duration": 219,
    "start_time": "2025-03-11T02:45:10.345Z"
   },
   {
    "duration": 13,
    "start_time": "2025-03-11T02:45:10.568Z"
   },
   {
    "duration": 199,
    "start_time": "2025-03-11T02:45:10.583Z"
   },
   {
    "duration": 327,
    "start_time": "2025-03-11T02:45:10.784Z"
   },
   {
    "duration": 16,
    "start_time": "2025-03-11T02:45:11.116Z"
   },
   {
    "duration": 180,
    "start_time": "2025-03-11T02:45:11.134Z"
   },
   {
    "duration": 295,
    "start_time": "2025-03-11T02:45:11.318Z"
   },
   {
    "duration": 14,
    "start_time": "2025-03-11T02:45:11.616Z"
   },
   {
    "duration": 161,
    "start_time": "2025-03-11T02:45:11.633Z"
   },
   {
    "duration": 284,
    "start_time": "2025-03-11T02:45:11.796Z"
   },
   {
    "duration": 11,
    "start_time": "2025-03-11T02:45:12.082Z"
   },
   {
    "duration": 163,
    "start_time": "2025-03-11T02:45:12.094Z"
   },
   {
    "duration": 406,
    "start_time": "2025-03-11T02:45:12.259Z"
   },
   {
    "duration": 0,
    "start_time": "2025-03-11T02:45:12.667Z"
   },
   {
    "duration": 11,
    "start_time": "2025-03-11T02:54:48.319Z"
   },
   {
    "duration": 14,
    "start_time": "2025-03-11T02:55:53.711Z"
   },
   {
    "duration": 15,
    "start_time": "2025-03-11T02:56:27.974Z"
   },
   {
    "duration": 12,
    "start_time": "2025-03-11T03:06:45.597Z"
   },
   {
    "duration": 12,
    "start_time": "2025-03-11T03:13:25.398Z"
   },
   {
    "duration": 12,
    "start_time": "2025-03-11T03:13:51.180Z"
   },
   {
    "duration": 15,
    "start_time": "2025-03-11T03:14:27.673Z"
   },
   {
    "duration": 10,
    "start_time": "2025-03-11T03:14:31.270Z"
   },
   {
    "duration": 13,
    "start_time": "2025-03-11T03:21:37.381Z"
   },
   {
    "duration": 10,
    "start_time": "2025-03-11T03:23:21.064Z"
   },
   {
    "duration": 7,
    "start_time": "2025-03-11T03:23:32.949Z"
   },
   {
    "duration": 13,
    "start_time": "2025-03-11T03:23:39.872Z"
   },
   {
    "duration": 3,
    "start_time": "2025-03-11T03:24:04.796Z"
   },
   {
    "duration": 180,
    "start_time": "2025-03-11T03:24:04.802Z"
   },
   {
    "duration": 8,
    "start_time": "2025-03-11T03:24:04.983Z"
   },
   {
    "duration": 112,
    "start_time": "2025-03-11T03:24:04.994Z"
   },
   {
    "duration": 16,
    "start_time": "2025-03-11T03:24:05.108Z"
   },
   {
    "duration": 9,
    "start_time": "2025-03-11T03:24:05.126Z"
   },
   {
    "duration": 114,
    "start_time": "2025-03-11T03:24:05.137Z"
   },
   {
    "duration": 19,
    "start_time": "2025-03-11T03:24:05.253Z"
   },
   {
    "duration": 6,
    "start_time": "2025-03-11T03:24:05.276Z"
   },
   {
    "duration": 44,
    "start_time": "2025-03-11T03:24:05.287Z"
   },
   {
    "duration": 11,
    "start_time": "2025-03-11T03:24:05.333Z"
   },
   {
    "duration": 10,
    "start_time": "2025-03-11T03:24:05.346Z"
   },
   {
    "duration": 11,
    "start_time": "2025-03-11T03:24:05.358Z"
   },
   {
    "duration": 39,
    "start_time": "2025-03-11T03:24:05.371Z"
   },
   {
    "duration": 10,
    "start_time": "2025-03-11T03:24:05.412Z"
   },
   {
    "duration": 13,
    "start_time": "2025-03-11T03:24:05.425Z"
   },
   {
    "duration": 10,
    "start_time": "2025-03-11T03:24:05.440Z"
   },
   {
    "duration": 10,
    "start_time": "2025-03-11T03:24:05.452Z"
   },
   {
    "duration": 8,
    "start_time": "2025-03-11T03:24:05.464Z"
   },
   {
    "duration": 23,
    "start_time": "2025-03-11T03:24:05.506Z"
   },
   {
    "duration": 13,
    "start_time": "2025-03-11T03:24:05.531Z"
   },
   {
    "duration": 16,
    "start_time": "2025-03-11T03:24:05.545Z"
   },
   {
    "duration": 11,
    "start_time": "2025-03-11T03:24:05.563Z"
   },
   {
    "duration": 38,
    "start_time": "2025-03-11T03:24:05.606Z"
   },
   {
    "duration": 20,
    "start_time": "2025-03-11T03:24:05.646Z"
   },
   {
    "duration": 39,
    "start_time": "2025-03-11T03:24:05.668Z"
   },
   {
    "duration": 11,
    "start_time": "2025-03-11T03:24:05.709Z"
   },
   {
    "duration": 25,
    "start_time": "2025-03-11T03:24:05.728Z"
   },
   {
    "duration": 12,
    "start_time": "2025-03-11T03:24:05.755Z"
   },
   {
    "duration": 41,
    "start_time": "2025-03-11T03:24:05.768Z"
   },
   {
    "duration": 10,
    "start_time": "2025-03-11T03:24:05.812Z"
   },
   {
    "duration": 28,
    "start_time": "2025-03-11T03:24:05.824Z"
   },
   {
    "duration": 26,
    "start_time": "2025-03-11T03:24:05.855Z"
   },
   {
    "duration": 8,
    "start_time": "2025-03-11T03:24:05.904Z"
   },
   {
    "duration": 26,
    "start_time": "2025-03-11T03:24:05.915Z"
   },
   {
    "duration": 18,
    "start_time": "2025-03-11T03:24:05.943Z"
   },
   {
    "duration": 17,
    "start_time": "2025-03-11T03:24:05.963Z"
   },
   {
    "duration": 17,
    "start_time": "2025-03-11T03:24:06.004Z"
   },
   {
    "duration": 9,
    "start_time": "2025-03-11T03:24:06.024Z"
   },
   {
    "duration": 9,
    "start_time": "2025-03-11T03:24:06.035Z"
   },
   {
    "duration": 25,
    "start_time": "2025-03-11T03:24:06.046Z"
   },
   {
    "duration": 11,
    "start_time": "2025-03-11T03:24:06.073Z"
   },
   {
    "duration": 11,
    "start_time": "2025-03-11T03:24:06.106Z"
   },
   {
    "duration": 13,
    "start_time": "2025-03-11T03:24:06.119Z"
   },
   {
    "duration": 8,
    "start_time": "2025-03-11T03:24:06.134Z"
   },
   {
    "duration": 12,
    "start_time": "2025-03-11T03:24:06.143Z"
   },
   {
    "duration": 53,
    "start_time": "2025-03-11T03:24:06.157Z"
   },
   {
    "duration": 8,
    "start_time": "2025-03-11T03:24:06.212Z"
   },
   {
    "duration": 16,
    "start_time": "2025-03-11T03:24:06.222Z"
   },
   {
    "duration": 12,
    "start_time": "2025-03-11T03:24:06.240Z"
   },
   {
    "duration": 514,
    "start_time": "2025-03-11T03:24:06.254Z"
   },
   {
    "duration": 0,
    "start_time": "2025-03-11T03:24:06.770Z"
   },
   {
    "duration": 0,
    "start_time": "2025-03-11T03:24:06.771Z"
   },
   {
    "duration": 0,
    "start_time": "2025-03-11T03:24:06.773Z"
   },
   {
    "duration": 0,
    "start_time": "2025-03-11T03:24:06.775Z"
   },
   {
    "duration": 0,
    "start_time": "2025-03-11T03:24:06.776Z"
   },
   {
    "duration": 0,
    "start_time": "2025-03-11T03:24:06.777Z"
   },
   {
    "duration": 0,
    "start_time": "2025-03-11T03:24:06.779Z"
   },
   {
    "duration": 0,
    "start_time": "2025-03-11T03:24:06.780Z"
   },
   {
    "duration": 0,
    "start_time": "2025-03-11T03:24:06.782Z"
   },
   {
    "duration": 0,
    "start_time": "2025-03-11T03:24:06.805Z"
   },
   {
    "duration": 0,
    "start_time": "2025-03-11T03:24:06.807Z"
   },
   {
    "duration": 0,
    "start_time": "2025-03-11T03:24:06.809Z"
   },
   {
    "duration": 0,
    "start_time": "2025-03-11T03:24:06.810Z"
   },
   {
    "duration": 0,
    "start_time": "2025-03-11T03:24:06.812Z"
   },
   {
    "duration": 0,
    "start_time": "2025-03-11T03:24:06.813Z"
   },
   {
    "duration": 0,
    "start_time": "2025-03-11T03:24:06.815Z"
   },
   {
    "duration": 0,
    "start_time": "2025-03-11T03:24:06.816Z"
   },
   {
    "duration": 0,
    "start_time": "2025-03-11T03:24:06.817Z"
   },
   {
    "duration": 0,
    "start_time": "2025-03-11T03:24:06.819Z"
   },
   {
    "duration": 0,
    "start_time": "2025-03-11T03:24:06.820Z"
   },
   {
    "duration": 0,
    "start_time": "2025-03-11T03:24:06.822Z"
   },
   {
    "duration": 47,
    "start_time": "2025-03-11T03:43:11.592Z"
   },
   {
    "duration": 68,
    "start_time": "2025-03-11T03:43:42.163Z"
   },
   {
    "duration": 5,
    "start_time": "2025-03-11T03:43:58.522Z"
   },
   {
    "duration": 47,
    "start_time": "2025-03-11T03:44:24.001Z"
   },
   {
    "duration": 53,
    "start_time": "2025-03-11T03:46:05.361Z"
   },
   {
    "duration": 45,
    "start_time": "2025-03-11T03:47:38.724Z"
   },
   {
    "duration": 45,
    "start_time": "2025-03-11T03:48:44.541Z"
   },
   {
    "duration": 10,
    "start_time": "2025-03-11T03:48:44.610Z"
   },
   {
    "duration": 4,
    "start_time": "2025-03-11T03:49:49.633Z"
   },
   {
    "duration": 3,
    "start_time": "2025-03-11T03:51:01.414Z"
   },
   {
    "duration": 50,
    "start_time": "2025-03-11T03:52:10.052Z"
   },
   {
    "duration": 16,
    "start_time": "2025-03-11T03:52:19.480Z"
   },
   {
    "duration": 11,
    "start_time": "2025-03-11T03:53:18.391Z"
   },
   {
    "duration": 17,
    "start_time": "2025-03-11T03:53:39.822Z"
   },
   {
    "duration": 19,
    "start_time": "2025-03-11T03:53:45.442Z"
   },
   {
    "duration": 21,
    "start_time": "2025-03-11T03:53:51.769Z"
   },
   {
    "duration": 9,
    "start_time": "2025-03-11T03:54:03.890Z"
   },
   {
    "duration": 7,
    "start_time": "2025-03-11T03:54:13.980Z"
   },
   {
    "duration": 10,
    "start_time": "2025-03-11T03:54:23.117Z"
   },
   {
    "duration": 10,
    "start_time": "2025-03-11T03:54:27.549Z"
   },
   {
    "duration": 11,
    "start_time": "2025-03-11T03:54:32.361Z"
   },
   {
    "duration": 12,
    "start_time": "2025-03-11T03:54:48.289Z"
   },
   {
    "duration": 9,
    "start_time": "2025-03-11T03:54:50.959Z"
   },
   {
    "duration": 14,
    "start_time": "2025-03-11T03:55:03.410Z"
   },
   {
    "duration": 13,
    "start_time": "2025-03-11T03:55:19.332Z"
   },
   {
    "duration": 6,
    "start_time": "2025-03-11T03:55:30.750Z"
   },
   {
    "duration": 14,
    "start_time": "2025-03-11T03:55:35.632Z"
   },
   {
    "duration": 15,
    "start_time": "2025-03-11T03:55:45.634Z"
   },
   {
    "duration": 10,
    "start_time": "2025-03-11T03:56:30.063Z"
   },
   {
    "duration": 6,
    "start_time": "2025-03-11T03:56:45.550Z"
   },
   {
    "duration": 16,
    "start_time": "2025-03-11T03:56:54.333Z"
   },
   {
    "duration": 3,
    "start_time": "2025-03-11T04:01:10.019Z"
   },
   {
    "duration": 6,
    "start_time": "2025-03-11T04:01:11.990Z"
   },
   {
    "duration": 12,
    "start_time": "2025-03-11T04:01:17.151Z"
   },
   {
    "duration": 4,
    "start_time": "2025-03-11T04:03:56.062Z"
   },
   {
    "duration": 13,
    "start_time": "2025-03-11T04:04:00.693Z"
   },
   {
    "duration": 24,
    "start_time": "2025-03-11T04:08:50.205Z"
   },
   {
    "duration": 251,
    "start_time": "2025-03-11T04:10:52.299Z"
   },
   {
    "duration": 196,
    "start_time": "2025-03-11T04:11:01.061Z"
   },
   {
    "duration": 13,
    "start_time": "2025-03-11T04:11:17.850Z"
   },
   {
    "duration": 155,
    "start_time": "2025-03-11T04:11:21.712Z"
   },
   {
    "duration": 251,
    "start_time": "2025-03-11T04:11:50.781Z"
   },
   {
    "duration": 11,
    "start_time": "2025-03-11T04:11:58.422Z"
   },
   {
    "duration": 135,
    "start_time": "2025-03-11T04:12:06.956Z"
   },
   {
    "duration": 174,
    "start_time": "2025-03-11T04:12:58.181Z"
   },
   {
    "duration": 237,
    "start_time": "2025-03-11T04:13:36.060Z"
   },
   {
    "duration": 12,
    "start_time": "2025-03-11T04:16:24.818Z"
   },
   {
    "duration": 254,
    "start_time": "2025-03-11T04:16:52.972Z"
   },
   {
    "duration": 300,
    "start_time": "2025-03-11T04:23:50.889Z"
   },
   {
    "duration": 9,
    "start_time": "2025-03-11T04:25:40.287Z"
   },
   {
    "duration": 203,
    "start_time": "2025-03-11T04:25:48.752Z"
   },
   {
    "duration": 170,
    "start_time": "2025-03-11T04:26:07.292Z"
   },
   {
    "duration": 133,
    "start_time": "2025-03-11T04:31:16.862Z"
   },
   {
    "duration": 117,
    "start_time": "2025-03-11T04:33:36.283Z"
   },
   {
    "duration": 11,
    "start_time": "2025-03-11T04:34:36.643Z"
   },
   {
    "duration": 3,
    "start_time": "2025-03-11T04:42:14.560Z"
   },
   {
    "duration": 3,
    "start_time": "2025-03-11T04:42:23.641Z"
   },
   {
    "duration": 3,
    "start_time": "2025-03-11T04:42:41.731Z"
   },
   {
    "duration": 5,
    "start_time": "2025-03-11T04:42:49.404Z"
   },
   {
    "duration": 16,
    "start_time": "2025-03-11T04:46:32.873Z"
   },
   {
    "duration": 18,
    "start_time": "2025-03-11T04:47:05.030Z"
   },
   {
    "duration": 17,
    "start_time": "2025-03-11T04:47:28.614Z"
   },
   {
    "duration": 9,
    "start_time": "2025-03-11T04:49:01.681Z"
   },
   {
    "duration": 7,
    "start_time": "2025-03-11T04:50:12.817Z"
   },
   {
    "duration": 6,
    "start_time": "2025-03-11T04:55:47.061Z"
   },
   {
    "duration": 7,
    "start_time": "2025-03-11T04:57:46.482Z"
   },
   {
    "duration": 6,
    "start_time": "2025-03-11T04:59:20.142Z"
   },
   {
    "duration": 8,
    "start_time": "2025-03-11T13:34:20.621Z"
   },
   {
    "duration": 872,
    "start_time": "2025-03-11T13:34:32.905Z"
   },
   {
    "duration": 179,
    "start_time": "2025-03-11T13:34:33.779Z"
   },
   {
    "duration": 9,
    "start_time": "2025-03-11T13:34:33.960Z"
   },
   {
    "duration": 69,
    "start_time": "2025-03-11T13:34:33.970Z"
   },
   {
    "duration": 14,
    "start_time": "2025-03-11T13:34:34.042Z"
   },
   {
    "duration": 7,
    "start_time": "2025-03-11T13:34:34.058Z"
   },
   {
    "duration": 90,
    "start_time": "2025-03-11T13:34:34.067Z"
   },
   {
    "duration": 12,
    "start_time": "2025-03-11T13:34:34.159Z"
   },
   {
    "duration": 6,
    "start_time": "2025-03-11T13:34:34.187Z"
   },
   {
    "duration": 31,
    "start_time": "2025-03-11T13:34:34.195Z"
   },
   {
    "duration": 11,
    "start_time": "2025-03-11T13:34:34.228Z"
   },
   {
    "duration": 7,
    "start_time": "2025-03-11T13:34:34.240Z"
   },
   {
    "duration": 39,
    "start_time": "2025-03-11T13:34:34.249Z"
   },
   {
    "duration": 11,
    "start_time": "2025-03-11T13:34:34.291Z"
   },
   {
    "duration": 7,
    "start_time": "2025-03-11T13:34:34.303Z"
   },
   {
    "duration": 8,
    "start_time": "2025-03-11T13:34:34.312Z"
   },
   {
    "duration": 7,
    "start_time": "2025-03-11T13:34:34.322Z"
   },
   {
    "duration": 7,
    "start_time": "2025-03-11T13:34:34.331Z"
   },
   {
    "duration": 45,
    "start_time": "2025-03-11T13:34:34.341Z"
   },
   {
    "duration": 17,
    "start_time": "2025-03-11T13:34:34.388Z"
   },
   {
    "duration": 9,
    "start_time": "2025-03-11T13:34:34.407Z"
   },
   {
    "duration": 15,
    "start_time": "2025-03-11T13:34:34.418Z"
   },
   {
    "duration": 8,
    "start_time": "2025-03-11T13:34:34.434Z"
   },
   {
    "duration": 59,
    "start_time": "2025-03-11T13:34:34.444Z"
   },
   {
    "duration": 18,
    "start_time": "2025-03-11T13:34:34.506Z"
   },
   {
    "duration": 11,
    "start_time": "2025-03-11T13:34:34.525Z"
   },
   {
    "duration": 7,
    "start_time": "2025-03-11T13:34:34.538Z"
   },
   {
    "duration": 17,
    "start_time": "2025-03-11T13:34:34.546Z"
   },
   {
    "duration": 29,
    "start_time": "2025-03-11T13:34:34.565Z"
   },
   {
    "duration": 13,
    "start_time": "2025-03-11T13:34:34.595Z"
   },
   {
    "duration": 8,
    "start_time": "2025-03-11T13:34:34.610Z"
   },
   {
    "duration": 20,
    "start_time": "2025-03-11T13:34:34.620Z"
   },
   {
    "duration": 47,
    "start_time": "2025-03-11T13:34:34.642Z"
   },
   {
    "duration": 9,
    "start_time": "2025-03-11T13:34:34.690Z"
   },
   {
    "duration": 18,
    "start_time": "2025-03-11T13:34:34.701Z"
   },
   {
    "duration": 16,
    "start_time": "2025-03-11T13:34:34.721Z"
   },
   {
    "duration": 12,
    "start_time": "2025-03-11T13:34:34.738Z"
   },
   {
    "duration": 41,
    "start_time": "2025-03-11T13:34:34.751Z"
   },
   {
    "duration": 8,
    "start_time": "2025-03-11T13:34:34.794Z"
   },
   {
    "duration": 6,
    "start_time": "2025-03-11T13:34:34.803Z"
   },
   {
    "duration": 9,
    "start_time": "2025-03-11T13:34:34.816Z"
   },
   {
    "duration": 8,
    "start_time": "2025-03-11T13:34:34.827Z"
   },
   {
    "duration": 9,
    "start_time": "2025-03-11T13:34:34.836Z"
   },
   {
    "duration": 50,
    "start_time": "2025-03-11T13:34:34.847Z"
   },
   {
    "duration": 9,
    "start_time": "2025-03-11T13:34:34.898Z"
   },
   {
    "duration": 10,
    "start_time": "2025-03-11T13:34:34.909Z"
   },
   {
    "duration": 12,
    "start_time": "2025-03-11T13:34:34.921Z"
   },
   {
    "duration": 5,
    "start_time": "2025-03-11T13:34:34.935Z"
   },
   {
    "duration": 10,
    "start_time": "2025-03-11T13:34:34.942Z"
   },
   {
    "duration": 42,
    "start_time": "2025-03-11T13:34:34.954Z"
   },
   {
    "duration": 9,
    "start_time": "2025-03-11T13:34:34.997Z"
   },
   {
    "duration": 4,
    "start_time": "2025-03-11T13:34:35.008Z"
   },
   {
    "duration": 13,
    "start_time": "2025-03-11T13:34:35.013Z"
   },
   {
    "duration": 4,
    "start_time": "2025-03-11T13:34:35.027Z"
   },
   {
    "duration": 7,
    "start_time": "2025-03-11T13:34:35.032Z"
   },
   {
    "duration": 15,
    "start_time": "2025-03-11T13:34:35.040Z"
   },
   {
    "duration": 5,
    "start_time": "2025-03-11T13:34:35.087Z"
   },
   {
    "duration": 15,
    "start_time": "2025-03-11T13:34:35.093Z"
   },
   {
    "duration": 255,
    "start_time": "2025-03-11T13:34:35.109Z"
   },
   {
    "duration": 242,
    "start_time": "2025-03-11T13:34:35.366Z"
   },
   {
    "duration": 11,
    "start_time": "2025-03-11T13:34:35.610Z"
   },
   {
    "duration": 158,
    "start_time": "2025-03-11T13:34:35.622Z"
   },
   {
    "duration": 274,
    "start_time": "2025-03-11T13:34:35.782Z"
   },
   {
    "duration": 15,
    "start_time": "2025-03-11T13:34:36.058Z"
   },
   {
    "duration": 193,
    "start_time": "2025-03-11T13:34:36.086Z"
   },
   {
    "duration": 264,
    "start_time": "2025-03-11T13:34:36.281Z"
   },
   {
    "duration": 17,
    "start_time": "2025-03-11T13:34:36.547Z"
   },
   {
    "duration": 150,
    "start_time": "2025-03-11T13:34:36.567Z"
   },
   {
    "duration": 326,
    "start_time": "2025-03-11T13:34:36.719Z"
   },
   {
    "duration": 11,
    "start_time": "2025-03-11T13:34:37.047Z"
   },
   {
    "duration": 136,
    "start_time": "2025-03-11T13:34:37.059Z"
   },
   {
    "duration": 8,
    "start_time": "2025-03-11T13:34:37.197Z"
   },
   {
    "duration": 11,
    "start_time": "2025-03-11T13:34:37.207Z"
   },
   {
    "duration": 4,
    "start_time": "2025-03-11T13:34:58.006Z"
   },
   {
    "duration": 14,
    "start_time": "2025-03-11T13:35:00.860Z"
   }
  ],
  "colab": {
   "provenance": []
  },
  "kernelspec": {
   "display_name": "Python 3 (ipykernel)",
   "language": "python",
   "name": "python3"
  },
  "language_info": {
   "codemirror_mode": {
    "name": "ipython",
    "version": 3
   },
   "file_extension": ".py",
   "mimetype": "text/x-python",
   "name": "python",
   "nbconvert_exporter": "python",
   "pygments_lexer": "ipython3",
   "version": "3.9.19"
  },
  "toc": {
   "base_numbering": 1,
   "nav_menu": {},
   "number_sections": true,
   "sideBar": true,
   "skip_h1_title": false,
   "title_cell": "Table of Contents",
   "title_sidebar": "Contents",
   "toc_cell": false,
   "toc_position": {
    "height": "calc(100% - 180px)",
    "left": "10px",
    "top": "150px",
    "width": "336.017px"
   },
   "toc_section_display": true,
   "toc_window_display": false
  }
 },
 "nbformat": 4,
 "nbformat_minor": 1
}
